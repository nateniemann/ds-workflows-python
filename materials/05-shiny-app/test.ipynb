{
 "cells": [
  {
   "cell_type": "code",
   "execution_count": null,
   "metadata": {},
   "outputs": [],
   "source": [
    "import os\n",
    "import ibis\n",
    "import polars as pl\n",
    "\n",
    "from ibis import _\n",
    "from dotenv import load_dotenv"
   ]
  },
  {
   "cell_type": "code",
   "execution_count": null,
   "metadata": {
    "tags": []
   },
   "outputs": [],
   "source": [
    "load_dotenv(override=True)"
   ]
  },
  {
   "cell_type": "code",
   "execution_count": null,
   "metadata": {},
   "outputs": [],
   "source": [
    "username = os.environ[\"USER\"]"
   ]
  },
  {
   "cell_type": "code",
   "execution_count": null,
   "metadata": {},
   "outputs": [],
   "source": [
    "con = ibis.postgres.connect(\n",
    "    database=os.environ[\"DATABASE_NAME_PYTHON\"],\n",
    "    host=os.environ[\"DATABASE_HOST\"],\n",
    "    user=os.environ[\"DATABASE_USER_PYTHON\"],\n",
    "    password=os.environ[\"DATABASE_PASSWORD_PYTHON\"],\n",
    "    schema=os.environ[\"DATABASE_SCHEMA\"],\n",
    ")\n",
    "\n",
    "con.list_tables()"
   ]
  },
  {
   "cell_type": "code",
   "execution_count": null,
   "metadata": {},
   "outputs": [],
   "source": [
    "(\n",
    "    con\n",
    "    .table(\"samedwardes_terminal_weather_clean\")\n",
    "    .head(20)\n",
    "    .to_polars()\n",
    ")"
   ]
  },
  {
   "cell_type": "code",
   "execution_count": null,
   "metadata": {},
   "outputs": [],
   "source": [
    "(\n",
    "    con\n",
    "    .table(\"vessel_history_clean\")\n",
    "    .mutate(\n",
    "        DelayMinutes=_.ActualDepart.delta(_.ScheduledDepart, \"second\") / 60\n",
    "    )\n",
    "    .head(20)\n",
    "    .to_polars()\n",
    ")"
   ]
  },
  {
   "cell_type": "code",
   "execution_count": null,
   "metadata": {},
   "outputs": [],
   "source": [
    "from great_tables import GT, loc, style\n",
    "import polars.selectors as cs"
   ]
  },
  {
   "cell_type": "code",
   "execution_count": null,
   "metadata": {},
   "outputs": [],
   "source": [
    "df = (\n",
    "    con\n",
    "    .table(\"vessel_history_clean\")\n",
    "    .mutate(\n",
    "        DelayMinutes=_.ActualDepart.delta(_.ScheduledDepart, \"second\") / 60\n",
    "    )\n",
    "    .group_by([\"Departing\", \"Arriving\"])\n",
    "    .agg(\n",
    "        NumTrips=_.Departing.count(),\n",
    "        AverageDelay=_.DelayMinutes.mean(),\n",
    "        StandardDeviationDelay=_.DelayMinutes.std(),\n",
    "    )\n",
    "    .order_by(ibis.desc(\"AverageDelay\"))\n",
    "    .to_polars()\n",
    ")\n",
    "\n",
    "display(df)\n",
    "\n",
    "(\n",
    "    GT(df)\n",
    "    .tab_header(\"Delay Stats by Route\")\n",
    "    .tab_spanner(label=\"Delay in Minutes\", columns=cs.ends_with(\"Delay\"))\n",
    "    .cols_label(\n",
    "        NumTrips=\"Number of Trips\",\n",
    "        AverageDelay=\"Average\",\n",
    "        StandardDeviationDelay=\"Standard\"\n",
    "    )\n",
    "    .fmt_number(\n",
    "        columns=cs.ends_with(\"Delay\"),\n",
    "        compact=True,\n",
    "        decimals=2,\n",
    "    )\n",
    "    .fmt_number(\n",
    "        columns=cs.ends_with(\"Trips\"),\n",
    "        compact=True,\n",
    "    )\n",
    ")"
   ]
  },
  {
   "cell_type": "code",
   "execution_count": null,
   "metadata": {},
   "outputs": [],
   "source": [
    "options_list = (\n",
    "    con\n",
    "    .table(f\"{username}_vessel_history_clean\")\n",
    "    .group_by([\"Departing\", \"Arriving\"])\n",
    "    .aggregate(n = _.Departing.count())\n",
    "    .order_by(_.n.desc())\n",
    "    .to_polars()\n",
    "    .to_dicts()\n",
    ")\n",
    "\n",
    "options_dict = {}\n",
    "\n",
    "for i in options_list:\n",
    "    arriving = i[\"Arriving\"]\n",
    "    departing = i[\"Departing\"]\n",
    "    n_trips = i[\"n\"]\n",
    "    value = f\"{arriving} | {departing}\"\n",
    "    label = f\"{arriving.title()} to {departing.title()} ({n_trips:,} trips)\"\n",
    "    options_dict[value] = label\n",
    "\n",
    "options_dict"
   ]
  },
  {
   "cell_type": "code",
   "execution_count": null,
   "metadata": {},
   "outputs": [],
   "source": [
    "(\n",
    "    con\n",
    "    .table(f\"{username}_vessel_verbose_clean\")\n",
    "    .select(\"VesselName\")\n",
    "    .to_polars()\n",
    "    .get_column(\"VesselName\")\n",
    "    .to_list()\n",
    ")"
   ]
  },
  {
   "cell_type": "code",
   "execution_count": null,
   "metadata": {
    "tags": []
   },
   "outputs": [],
   "source": [
    "pl.DataFrame(con.table(f\"{username}_vessel_verbose_clean\").to_pandas())"
   ]
  },
  {
   "cell_type": "code",
   "execution_count": null,
   "metadata": {
    "tags": []
   },
   "outputs": [],
   "source": [
    "con.table(f\"{username}_terminal_locations_clean\").to_polars()"
   ]
  },
  {
   "cell_type": "code",
   "execution_count": null,
   "metadata": {
    "tags": []
   },
   "outputs": [],
   "source": [
    "con.table(f\"{username}_vessel_verbose_raw\").to_pandas().head()"
   ]
  },
  {
   "cell_type": "code",
   "execution_count": null,
   "metadata": {
    "tags": []
   },
   "outputs": [],
   "source": [
    "con.table(f\"{username}_vessel_verbose_clean\").to_pandas().head()"
   ]
  }
 ],
 "metadata": {
  "kernelspec": {
   "display_name": ".venv",
   "language": "python",
   "name": "python3"
  },
  "language_info": {
   "codemirror_mode": {
    "name": "ipython",
    "version": 3
   },
   "file_extension": ".py",
   "mimetype": "text/x-python",
   "name": "python",
   "nbconvert_exporter": "python",
   "pygments_lexer": "ipython3",
   "version": "3.12.1"
  }
 },
 "nbformat": 4,
 "nbformat_minor": 4
}
