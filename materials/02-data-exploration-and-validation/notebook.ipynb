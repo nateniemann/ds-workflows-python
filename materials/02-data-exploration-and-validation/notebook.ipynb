{
 "cells": [
  {
   "cell_type": "raw",
   "metadata": {
    "vscode": {
     "languageId": "raw"
    }
   },
   "source": [
    "---\n",
    "date: today\n",
    "format:\n",
    "    email:\n",
    "        toc: true\n",
    "---"
   ]
  },
  {
   "cell_type": "markdown",
   "metadata": {},
   "source": [
    "# Data exploration and validation\n",
    "\n",
    "In this exercise we will cover how to use Polars and Pandera to explore, tidy, and validate the data."
   ]
  },
  {
   "cell_type": "markdown",
   "metadata": {},
   "source": [
    "## Task 0 - Create a virtual environment"
   ]
  },
  {
   "cell_type": "markdown",
   "metadata": {},
   "source": [
    "### 🔄 Task"
   ]
  },
  {
   "cell_type": "markdown",
   "metadata": {},
   "source": [
    "Create a new virtual environment using uv."
   ]
  },
  {
   "cell_type": "markdown",
   "metadata": {},
   "source": [
    "### 🧑‍💻 Code"
   ]
  },
  {
   "cell_type": "markdown",
   "metadata": {},
   "source": [
    "Run the following in the terminal:\n",
    "\n",
    "```bash\n",
    "uv venv\n",
    "source .venv/bin/activate\n",
    "which python\n",
    "uv pip sync requirements.txt\n",
    "```"
   ]
  },
  {
   "cell_type": "markdown",
   "metadata": {},
   "source": [
    "## Task 1 - load data from database"
   ]
  },
  {
   "cell_type": "markdown",
   "metadata": {},
   "source": [
    "### 🔄 Task"
   ]
  },
  {
   "cell_type": "markdown",
   "metadata": {},
   "source": [
    "- Use `polars` to read the data from the database into a Polars dataframe."
   ]
  },
  {
   "cell_type": "markdown",
   "metadata": {},
   "source": [
    "### 🧑‍💻 Code"
   ]
  },
  {
   "cell_type": "code",
   "execution_count": 1,
   "metadata": {
    "tags": []
   },
   "outputs": [],
   "source": [
    "import os\n",
    "from pathlib import Path\n",
    "\n",
    "import polars as pl\n",
    "from posit.connect import Client\n",
    "from dotenv import load_dotenv"
   ]
  },
  {
   "cell_type": "code",
   "execution_count": 2,
   "metadata": {
    "tags": []
   },
   "outputs": [
    {
     "name": "stdout",
     "output_type": "stream",
     "text": [
      "loading .env\n"
     ]
    }
   ],
   "source": [
    "# Get the database credentials\n",
    "if Path(\".env\").exists():\n",
    "    print(\"loading .env\")\n",
    "    load_dotenv(override=True)\n",
    "\n",
    "uri = os.environ[\"DATABASE_URI_PYTHON\"]"
   ]
  },
  {
   "cell_type": "code",
   "execution_count": 4,
   "metadata": {
    "tags": []
   },
   "outputs": [],
   "source": [
    "# Get your username\n",
    "with Client() as client:\n",
    "    username = client.me.username\n",
    "\n",
    "username = \"nateniemann\""
   ]
  },
  {
   "cell_type": "markdown",
   "metadata": {},
   "source": [
    "Get the vessel verbose data set."
   ]
  },
  {
   "cell_type": "code",
   "execution_count": 5,
   "metadata": {
    "tags": []
   },
   "outputs": [
    {
     "data": {
      "text/html": [
       "<div><style>\n",
       ".dataframe > thead > tr,\n",
       ".dataframe > tbody > tr {\n",
       "  text-align: right;\n",
       "  white-space: pre-wrap;\n",
       "}\n",
       "</style>\n",
       "<small>shape: (21, 44)</small><table border=\"1\" class=\"dataframe\"><thead><tr><th>VesselID</th><th>VesselSubjectID</th><th>VesselName</th><th>VesselAbbrev</th><th>ClassID</th><th>ClassSubjectID</th><th>ClassName</th><th>SortSeq</th><th>DrawingImg</th><th>SilhouetteImg</th><th>PublicDisplayName</th><th>Status</th><th>OwnedByWSF</th><th>CarDeckRestroom</th><th>CarDeckShelter</th><th>Elevator</th><th>ADAAccessible</th><th>MainCabinGalley</th><th>MainCabinRestroom</th><th>PublicWifi</th><th>ADAInfo</th><th>AdditionalInfo</th><th>VesselNameDesc</th><th>VesselHistory</th><th>Beam</th><th>CityBuilt</th><th>SpeedInKnots</th><th>Draft</th><th>EngineCount</th><th>Horsepower</th><th>Length</th><th>MaxPassengerCount</th><th>PassengerOnly</th><th>FastFerry</th><th>PropulsionInfo</th><th>TallDeckClearance</th><th>RegDeckSpace</th><th>TallDeckSpace</th><th>Tonnage</th><th>Displacement</th><th>YearBuilt</th><th>YearRebuilt</th><th>SolasCertified</th><th>MaxPassengerCountForInternational</th></tr><tr><td>i64</td><td>i64</td><td>str</td><td>str</td><td>i64</td><td>i64</td><td>str</td><td>i64</td><td>str</td><td>str</td><td>str</td><td>i64</td><td>bool</td><td>bool</td><td>bool</td><td>bool</td><td>bool</td><td>bool</td><td>bool</td><td>bool</td><td>str</td><td>str</td><td>str</td><td>str</td><td>str</td><td>str</td><td>i64</td><td>str</td><td>i64</td><td>i64</td><td>str</td><td>i64</td><td>bool</td><td>bool</td><td>str</td><td>i64</td><td>i64</td><td>i64</td><td>i64</td><td>i64</td><td>i64</td><td>i64</td><td>bool</td><td>i64</td></tr></thead><tbody><tr><td>1</td><td>1</td><td>&quot;Cathlamet&quot;</td><td>&quot;CAT&quot;</td><td>10</td><td>310</td><td>&quot;Issaquah 130&quot;</td><td>40</td><td>&quot;https://www.wsdot.wa.gov/ferri…</td><td>&quot;https://www.wsdot.wa.gov/ferri…</td><td>&quot;Issaquah&quot;</td><td>1</td><td>true</td><td>true</td><td>false</td><td>true</td><td>true</td><td>true</td><td>true</td><td>false</td><td>&quot;The MV Cathlamet has elevator …</td><td>&quot; &quot;</td><td>&quot;From the Kathlamet tribe, the …</td><td>&quot; &quot;</td><td>&quot;78&#x27; 8&quot;&quot;</td><td>&quot;Seattle, WA&quot;</td><td>16</td><td>&quot;16&#x27; 6&quot;&quot;</td><td>2</td><td>5000</td><td>&quot;328&#x27;&quot;</td><td>1200</td><td>false</td><td>false</td><td>&quot;DIESEL&quot;</td><td>186</td><td>124</td><td>26</td><td>2477</td><td>3310</td><td>1981</td><td>1993</td><td>false</td><td>null</td></tr><tr><td>2</td><td>2</td><td>&quot;Chelan&quot;</td><td>&quot;CHE&quot;</td><td>10</td><td>310</td><td>&quot;Issaquah 130&quot;</td><td>40</td><td>&quot;https://www.wsdot.wa.gov/ferri…</td><td>&quot;https://www.wsdot.wa.gov/ferri…</td><td>&quot;Issaquah&quot;</td><td>1</td><td>true</td><td>true</td><td>false</td><td>true</td><td>true</td><td>true</td><td>true</td><td>false</td><td>&quot;The MV Chelan has elevator acc…</td><td>&quot; &quot;</td><td>&quot;From the Chelan  language: Tsi…</td><td>&quot; &quot;</td><td>&quot;78&#x27; 8&quot;&quot;</td><td>&quot;Seattle, WA&quot;</td><td>16</td><td>&quot;16&#x27; 9&quot;&quot;</td><td>2</td><td>5000</td><td>&quot;328&#x27;&quot;</td><td>1200</td><td>false</td><td>false</td><td>&quot;DIESEL&quot;</td><td>188</td><td>124</td><td>30</td><td>2477</td><td>3405</td><td>1981</td><td>2005</td><td>true</td><td>1090</td></tr><tr><td>65</td><td>428</td><td>&quot;Chetzemoka&quot;</td><td>&quot;CHZ&quot;</td><td>162</td><td>427</td><td>&quot;Kwa-di Tabil&quot;</td><td>75</td><td>&quot;https://www.wsdot.wa.gov/ferri…</td><td>&quot;https://www.wsdot.wa.gov/ferri…</td><td>&quot;Kwa-di Tabil&quot;</td><td>1</td><td>true</td><td>false</td><td>false</td><td>true</td><td>true</td><td>true</td><td>true</td><td>false</td><td>&quot;MV Chetzemoka has elevator acc…</td><td>null</td><td>&quot;The name honors a friendly Nat…</td><td>null</td><td>&quot;64&#x27;&quot;</td><td>&quot;Seattle&quot;</td><td>15</td><td>&quot;11&#x27;&quot;</td><td>2</td><td>6000</td><td>&quot;273&#x27; 8&quot;&quot;</td><td>748</td><td>false</td><td>false</td><td>&quot;DIESEL&quot;</td><td>192</td><td>64</td><td>9</td><td>4623</td><td>2415</td><td>2010</td><td>null</td><td>false</td><td>null</td></tr><tr><td>74</td><td>487</td><td>&quot;Chimacum&quot;</td><td>&quot;CHM&quot;</td><td>100</td><td>319</td><td>&quot;Olympic&quot;</td><td>35</td><td>&quot;https://www.wsdot.wa.gov/ferri…</td><td>&quot;https://www.wsdot.wa.gov/ferri…</td><td>&quot;Olympic&quot;</td><td>1</td><td>true</td><td>true</td><td>true</td><td>true</td><td>true</td><td>true</td><td>true</td><td>false</td><td>&quot;The vessel has two ADA complia…</td><td>null</td><td>&quot;“The Chimacum People who spoke…</td><td>&quot;Chimacum is the third of the 1…</td><td>&quot;83&#x27; 2&quot;&quot;</td><td>&quot;Seattle, WA&quot;</td><td>17</td><td>&quot;18&#x27;&quot;</td><td>2</td><td>6000</td><td>&quot;362&#x27; 3&quot;&quot;</td><td>1500</td><td>false</td><td>false</td><td>&quot;DIESEL&quot;</td><td>192</td><td>144</td><td>34</td><td>3525</td><td>4384</td><td>2017</td><td>null</td><td>false</td><td>null</td></tr><tr><td>15</td><td>15</td><td>&quot;Issaquah&quot;</td><td>&quot;ISS&quot;</td><td>10</td><td>310</td><td>&quot;Issaquah 130&quot;</td><td>40</td><td>&quot;https://www.wsdot.wa.gov/ferri…</td><td>&quot;https://www.wsdot.wa.gov/ferri…</td><td>&quot;Issaquah&quot;</td><td>1</td><td>true</td><td>true</td><td>false</td><td>true</td><td>true</td><td>true</td><td>true</td><td>false</td><td>&quot;The MV Issaquah has elevator a…</td><td>&quot; &quot;</td><td>&quot;&quot;Snake.&quot; Native Americans who …</td><td>&quot; &quot;</td><td>&quot;78&#x27; 8&quot;&quot;</td><td>&quot;Seattle, WA&quot;</td><td>16</td><td>&quot;16&#x27; 6&quot;&quot;</td><td>2</td><td>5000</td><td>&quot;328&#x27;&quot;</td><td>1200</td><td>false</td><td>false</td><td>&quot;DIESEL&quot;</td><td>188</td><td>124</td><td>26</td><td>2475</td><td>3310</td><td>1979</td><td>1989</td><td>false</td><td>null</td></tr><tr><td>&hellip;</td><td>&hellip;</td><td>&hellip;</td><td>&hellip;</td><td>&hellip;</td><td>&hellip;</td><td>&hellip;</td><td>&hellip;</td><td>&hellip;</td><td>&hellip;</td><td>&hellip;</td><td>&hellip;</td><td>&hellip;</td><td>&hellip;</td><td>&hellip;</td><td>&hellip;</td><td>&hellip;</td><td>&hellip;</td><td>&hellip;</td><td>&hellip;</td><td>&hellip;</td><td>&hellip;</td><td>&hellip;</td><td>&hellip;</td><td>&hellip;</td><td>&hellip;</td><td>&hellip;</td><td>&hellip;</td><td>&hellip;</td><td>&hellip;</td><td>&hellip;</td><td>&hellip;</td><td>&hellip;</td><td>&hellip;</td><td>&hellip;</td><td>&hellip;</td><td>&hellip;</td><td>&hellip;</td><td>&hellip;</td><td>&hellip;</td><td>&hellip;</td><td>&hellip;</td><td>&hellip;</td><td>&hellip;</td></tr><tr><td>33</td><td>33</td><td>&quot;Tillikum&quot;</td><td>&quot;TIL&quot;</td><td>20</td><td>311</td><td>&quot;Evergreen State&quot;</td><td>60</td><td>&quot;https://www.wsdot.wa.gov/ferri…</td><td>&quot;https://www.wsdot.wa.gov/ferri…</td><td>&quot;Evergreen State&quot;</td><td>1</td><td>true</td><td>false</td><td>false</td><td>true</td><td>true</td><td>true</td><td>true</td><td>false</td><td>&quot;The MV Tillikum has an elevato…</td><td>&quot; &quot;</td><td>&quot;Chinook Jargon: &quot;friends; rela…</td><td>&quot; &quot;</td><td>&quot;73&#x27; 2&quot;&quot;</td><td>&quot;Seattle, WA&quot;</td><td>13</td><td>&quot;15 6&quot;&quot;</td><td>2</td><td>2500</td><td>&quot;310&#x27; 2&quot;&quot;</td><td>1061</td><td>false</td><td>false</td><td>&quot;DIESEL-ELECTRIC (AC)&quot;</td><td>162</td><td>87</td><td>30</td><td>2070</td><td>2413</td><td>1959</td><td>1994</td><td>false</td><td>null</td></tr><tr><td>68</td><td>462</td><td>&quot;Tokitae&quot;</td><td>&quot;TOK&quot;</td><td>100</td><td>319</td><td>&quot;Olympic&quot;</td><td>35</td><td>&quot;https://www.wsdot.wa.gov/ferri…</td><td>&quot;https://www.wsdot.wa.gov/ferri…</td><td>&quot;Olympic&quot;</td><td>1</td><td>true</td><td>false</td><td>true</td><td>true</td><td>true</td><td>true</td><td>true</td><td>false</td><td>&quot;The vessel has two ADA complia…</td><td>null</td><td>&quot;Tokitae means &quot;nice day, prett…</td><td>&quot;Tokitae is the first of the 14…</td><td>&quot;83&#x27; 2&quot;&quot;</td><td>&quot;Seattle, WA&quot;</td><td>17</td><td>&quot;18&#x27;&quot;</td><td>2</td><td>6000</td><td>&quot;362&#x27; 3&quot;&quot;</td><td>1500</td><td>false</td><td>false</td><td>&quot;DIESEL&quot;</td><td>192</td><td>144</td><td>34</td><td>3525</td><td>4384</td><td>2014</td><td>null</td><td>false</td><td>null</td></tr><tr><td>36</td><td>36</td><td>&quot;Walla Walla&quot;</td><td>&quot;WAL&quot;</td><td>70</td><td>316</td><td>&quot;Jumbo&quot;</td><td>20</td><td>&quot;https://www.wsdot.wa.gov/ferri…</td><td>&quot;https://www.wsdot.wa.gov/ferri…</td><td>&quot;Jumbo&quot;</td><td>1</td><td>true</td><td>false</td><td>false</td><td>true</td><td>true</td><td>true</td><td>true</td><td>false</td><td>&quot;The MV Walla Walla has elevato…</td><td>&quot; &quot;</td><td>&quot;Nez Perce for &quot;place of many w…</td><td>&quot; &quot;</td><td>&quot;87&#x27;&quot;</td><td>&quot;Seattle&quot;</td><td>18</td><td>&quot;18&#x27;&quot;</td><td>4</td><td>11500</td><td>&quot;440&#x27;&quot;</td><td>2000</td><td>false</td><td>false</td><td>&quot;DIESEL-ELECTRIC (DC)&quot;</td><td>186</td><td>188</td><td>60</td><td>3246</td><td>4860</td><td>1973</td><td>2003</td><td>false</td><td>null</td></tr><tr><td>37</td><td>37</td><td>&quot;Wenatchee&quot;</td><td>&quot;WEN&quot;</td><td>90</td><td>318</td><td>&quot;Jumbo Mark II&quot;</td><td>10</td><td>&quot;https://www.wsdot.wa.gov/ferri…</td><td>&quot;https://www.wsdot.wa.gov/ferri…</td><td>&quot;Jumbo Mark II&quot;</td><td>1</td><td>true</td><td>false</td><td>false</td><td>true</td><td>true</td><td>true</td><td>true</td><td>false</td><td>&quot;The MV Wenatchee has elevator …</td><td>&quot;27 May 1998\r\n",
       "Todd Pacific Ship…</td><td>&quot;From the Yakama language comes…</td><td>&quot;Todd Shipyard Delivery Date: 2…</td><td>&quot;90&#x27;&quot;</td><td>&quot;Seattle, WA&quot;</td><td>18</td><td>&quot;17&#x27; 3&quot;&quot;</td><td>4</td><td>16000</td><td>&quot;460&#x27; 2&quot;&quot;</td><td>2499</td><td>false</td><td>false</td><td>&quot;DIESEL-ELECTRIC (AC)&quot;</td><td>184</td><td>202</td><td>60</td><td>4938</td><td>6184</td><td>1998</td><td>null</td><td>false</td><td>null</td></tr><tr><td>38</td><td>38</td><td>&quot;Yakima&quot;</td><td>&quot;YAK&quot;</td><td>50</td><td>314</td><td>&quot;Super&quot;</td><td>30</td><td>&quot;https://www.wsdot.wa.gov/ferri…</td><td>&quot;https://www.wsdot.wa.gov/ferri…</td><td>&quot;Super&quot;</td><td>1</td><td>true</td><td>true</td><td>true</td><td>true</td><td>true</td><td>false</td><td>true</td><td>false</td><td>&quot;The MV Yakima has elevator acc…</td><td>&quot; &quot;</td><td>&quot;From the Yakama language, &quot;Yak…</td><td>&quot; &quot;</td><td>&quot;73&#x27; 2&quot;&quot;</td><td>&quot;San Diego, CA&quot;</td><td>17</td><td>&quot;18&#x27; 6&quot;&quot;</td><td>4</td><td>8000</td><td>&quot;382&#x27; 2&quot;&quot;</td><td>2000</td><td>false</td><td>false</td><td>&quot;DIESEL-ELECTRIC (DC)&quot;</td><td>186</td><td>144</td><td>30</td><td>2704</td><td>3634</td><td>1967</td><td>2000</td><td>false</td><td>null</td></tr></tbody></table></div>"
      ],
      "text/plain": [
       "shape: (21, 44)\n",
       "┌──────────┬───────────┬───────────┬───────────┬───┬───────────┬───────────┬───────────┬───────────┐\n",
       "│ VesselID ┆ VesselSub ┆ VesselNam ┆ VesselAbb ┆ … ┆ YearBuilt ┆ YearRebui ┆ SolasCert ┆ MaxPassen │\n",
       "│ ---      ┆ jectID    ┆ e         ┆ rev       ┆   ┆ ---       ┆ lt        ┆ ified     ┆ gerCountF │\n",
       "│ i64      ┆ ---       ┆ ---       ┆ ---       ┆   ┆ i64       ┆ ---       ┆ ---       ┆ orInterna │\n",
       "│          ┆ i64       ┆ str       ┆ str       ┆   ┆           ┆ i64       ┆ bool      ┆ tio…      │\n",
       "│          ┆           ┆           ┆           ┆   ┆           ┆           ┆           ┆ ---       │\n",
       "│          ┆           ┆           ┆           ┆   ┆           ┆           ┆           ┆ i64       │\n",
       "╞══════════╪═══════════╪═══════════╪═══════════╪═══╪═══════════╪═══════════╪═══════════╪═══════════╡\n",
       "│ 1        ┆ 1         ┆ Cathlamet ┆ CAT       ┆ … ┆ 1981      ┆ 1993      ┆ false     ┆ null      │\n",
       "│ 2        ┆ 2         ┆ Chelan    ┆ CHE       ┆ … ┆ 1981      ┆ 2005      ┆ true      ┆ 1090      │\n",
       "│ 65       ┆ 428       ┆ Chetzemok ┆ CHZ       ┆ … ┆ 2010      ┆ null      ┆ false     ┆ null      │\n",
       "│          ┆           ┆ a         ┆           ┆   ┆           ┆           ┆           ┆           │\n",
       "│ 74       ┆ 487       ┆ Chimacum  ┆ CHM       ┆ … ┆ 2017      ┆ null      ┆ false     ┆ null      │\n",
       "│ 15       ┆ 15        ┆ Issaquah  ┆ ISS       ┆ … ┆ 1979      ┆ 1989      ┆ false     ┆ null      │\n",
       "│ …        ┆ …         ┆ …         ┆ …         ┆ … ┆ …         ┆ …         ┆ …         ┆ …         │\n",
       "│ 33       ┆ 33        ┆ Tillikum  ┆ TIL       ┆ … ┆ 1959      ┆ 1994      ┆ false     ┆ null      │\n",
       "│ 68       ┆ 462       ┆ Tokitae   ┆ TOK       ┆ … ┆ 2014      ┆ null      ┆ false     ┆ null      │\n",
       "│ 36       ┆ 36        ┆ Walla     ┆ WAL       ┆ … ┆ 1973      ┆ 2003      ┆ false     ┆ null      │\n",
       "│          ┆           ┆ Walla     ┆           ┆   ┆           ┆           ┆           ┆           │\n",
       "│ 37       ┆ 37        ┆ Wenatchee ┆ WEN       ┆ … ┆ 1998      ┆ null      ┆ false     ┆ null      │\n",
       "│ 38       ┆ 38        ┆ Yakima    ┆ YAK       ┆ … ┆ 1967      ┆ 2000      ┆ false     ┆ null      │\n",
       "└──────────┴───────────┴───────────┴───────────┴───┴───────────┴───────────┴───────────┴───────────┘"
      ]
     },
     "execution_count": 5,
     "metadata": {},
     "output_type": "execute_result"
    }
   ],
   "source": [
    "vessel_verbose = pl.read_database_uri(\n",
    "    query=f\"SELECT * FROM {username}_vessel_verbose_raw;\",\n",
    "    uri=uri,\n",
    "    engine=\"adbc\"\n",
    ")\n",
    "\n",
    "vessel_verbose"
   ]
  },
  {
   "cell_type": "markdown",
   "metadata": {},
   "source": [
    "Get the vessel history data set."
   ]
  },
  {
   "cell_type": "code",
   "execution_count": 7,
   "metadata": {
    "tags": []
   },
   "outputs": [
    {
     "data": {
      "text/html": [
       "<div><style>\n",
       ".dataframe > thead > tr,\n",
       ".dataframe > tbody > tr {\n",
       "  text-align: right;\n",
       "  white-space: pre-wrap;\n",
       "}\n",
       "</style>\n",
       "<small>shape: (57_561, 8)</small><table border=\"1\" class=\"dataframe\"><thead><tr><th>VesselId</th><th>Vessel</th><th>Departing</th><th>Arriving</th><th>ScheduledDepart</th><th>ActualDepart</th><th>EstArrival</th><th>Date</th></tr><tr><td>i64</td><td>str</td><td>str</td><td>str</td><td>str</td><td>str</td><td>str</td><td>str</td></tr></thead><tbody><tr><td>31</td><td>&quot;Cathlamet&quot;</td><td>&quot;Vashon&quot;</td><td>&quot;Southworth&quot;</td><td>&quot;/Date(1709280900000-0800)/&quot;</td><td>&quot;/Date(1709280969000-0800)/&quot;</td><td>&quot;/Date(1709281999000-0800)/&quot;</td><td>&quot;/Date(1709280900000-0800)/&quot;</td></tr><tr><td>31</td><td>&quot;Cathlamet&quot;</td><td>&quot;Southworth&quot;</td><td>&quot;Fauntleroy&quot;</td><td>&quot;/Date(1709282100000-0800)/&quot;</td><td>&quot;/Date(1709282171000-0800)/&quot;</td><td>&quot;/Date(1709283349000-0800)/&quot;</td><td>&quot;/Date(1709282100000-0800)/&quot;</td></tr><tr><td>31</td><td>&quot;Cathlamet&quot;</td><td>&quot;Fauntleroy&quot;</td><td>&quot;Vashon&quot;</td><td>&quot;/Date(1709283900000-0800)/&quot;</td><td>&quot;/Date(1709284050000-0800)/&quot;</td><td>&quot;/Date(1709284950000-0800)/&quot;</td><td>&quot;/Date(1709283900000-0800)/&quot;</td></tr><tr><td>31</td><td>&quot;Cathlamet&quot;</td><td>&quot;Vashon&quot;</td><td>&quot;Southworth&quot;</td><td>&quot;/Date(1709285400000-0800)/&quot;</td><td>&quot;/Date(1709285430000-0800)/&quot;</td><td>&quot;/Date(1709286180000-0800)/&quot;</td><td>&quot;/Date(1709285400000-0800)/&quot;</td></tr><tr><td>32</td><td>&quot;Cathlamet&quot;</td><td>&quot;Vashon&quot;</td><td>&quot;Fauntleroy&quot;</td><td>&quot;/Date(1709294700000-0800)/&quot;</td><td>&quot;/Date(1709294795000-0800)/&quot;</td><td>&quot;/Date(1709295629000-0800)/&quot;</td><td>&quot;/Date(1709294700000-0800)/&quot;</td></tr><tr><td>&hellip;</td><td>&hellip;</td><td>&hellip;</td><td>&hellip;</td><td>&hellip;</td><td>&hellip;</td><td>&hellip;</td><td>&hellip;</td></tr><tr><td>25</td><td>&quot;Yakima&quot;</td><td>&quot;Lopez&quot;</td><td>&quot;Anacortes&quot;</td><td>&quot;/Date(1722907200000-0700)/&quot;</td><td>&quot;/Date(1722913410000-0700)/&quot;</td><td>&quot;/Date(1722916143000-0700)/&quot;</td><td>&quot;/Date(1722907200000-0700)/&quot;</td></tr><tr><td>27</td><td>&quot;Yakima&quot;</td><td>&quot;Anacortes&quot;</td><td>&quot;Lopez&quot;</td><td>&quot;/Date(1722908700000-0700)/&quot;</td><td>&quot;/Date(1722909353000-0700)/&quot;</td><td>&quot;/Date(1722911966000-0700)/&quot;</td><td>&quot;/Date(1722908700000-0700)/&quot;</td></tr><tr><td>25</td><td>&quot;Yakima&quot;</td><td>&quot;Anacortes&quot;</td><td>&quot;Shaw&quot;</td><td>&quot;/Date(1722911100000-0700)/&quot;</td><td>&quot;/Date(1722916920000-0700)/&quot;</td><td>&quot;/Date(1722919911000-0700)/&quot;</td><td>&quot;/Date(1722911100000-0700)/&quot;</td></tr><tr><td>25</td><td>&quot;Yakima&quot;</td><td>&quot;Shaw&quot;</td><td>&quot;Orcas&quot;</td><td>&quot;/Date(1722914400000-0700)/&quot;</td><td>&quot;/Date(1722920125000-0700)/&quot;</td><td>&quot;/Date(1722920695000-0700)/&quot;</td><td>&quot;/Date(1722914400000-0700)/&quot;</td></tr><tr><td>25</td><td>&quot;Yakima&quot;</td><td>&quot;Orcas&quot;</td><td>&quot;Anacortes&quot;</td><td>&quot;/Date(1722916200000-0700)/&quot;</td><td>&quot;/Date(1722921283000-0700)/&quot;</td><td>&quot;/Date(1722924625000-0700)/&quot;</td><td>&quot;/Date(1722916200000-0700)/&quot;</td></tr></tbody></table></div>"
      ],
      "text/plain": [
       "shape: (57_561, 8)\n",
       "┌──────────┬───────────┬────────────┬────────────┬────────────┬────────────┬───────────┬───────────┐\n",
       "│ VesselId ┆ Vessel    ┆ Departing  ┆ Arriving   ┆ ScheduledD ┆ ActualDepa ┆ EstArriva ┆ Date      │\n",
       "│ ---      ┆ ---       ┆ ---        ┆ ---        ┆ epart      ┆ rt         ┆ l         ┆ ---       │\n",
       "│ i64      ┆ str       ┆ str        ┆ str        ┆ ---        ┆ ---        ┆ ---       ┆ str       │\n",
       "│          ┆           ┆            ┆            ┆ str        ┆ str        ┆ str       ┆           │\n",
       "╞══════════╪═══════════╪════════════╪════════════╪════════════╪════════════╪═══════════╪═══════════╡\n",
       "│ 31       ┆ Cathlamet ┆ Vashon     ┆ Southworth ┆ /Date(1709 ┆ /Date(1709 ┆ /Date(170 ┆ /Date(170 │\n",
       "│          ┆           ┆            ┆            ┆ 280900000- ┆ 280969000- ┆ 928199900 ┆ 928090000 │\n",
       "│          ┆           ┆            ┆            ┆ 0800)/     ┆ 0800)/     ┆ 0-0800)/  ┆ 0-0800)/  │\n",
       "│ 31       ┆ Cathlamet ┆ Southworth ┆ Fauntleroy ┆ /Date(1709 ┆ /Date(1709 ┆ /Date(170 ┆ /Date(170 │\n",
       "│          ┆           ┆            ┆            ┆ 282100000- ┆ 282171000- ┆ 928334900 ┆ 928210000 │\n",
       "│          ┆           ┆            ┆            ┆ 0800)/     ┆ 0800)/     ┆ 0-0800)/  ┆ 0-0800)/  │\n",
       "│ 31       ┆ Cathlamet ┆ Fauntleroy ┆ Vashon     ┆ /Date(1709 ┆ /Date(1709 ┆ /Date(170 ┆ /Date(170 │\n",
       "│          ┆           ┆            ┆            ┆ 283900000- ┆ 284050000- ┆ 928495000 ┆ 928390000 │\n",
       "│          ┆           ┆            ┆            ┆ 0800)/     ┆ 0800)/     ┆ 0-0800)/  ┆ 0-0800)/  │\n",
       "│ 31       ┆ Cathlamet ┆ Vashon     ┆ Southworth ┆ /Date(1709 ┆ /Date(1709 ┆ /Date(170 ┆ /Date(170 │\n",
       "│          ┆           ┆            ┆            ┆ 285400000- ┆ 285430000- ┆ 928618000 ┆ 928540000 │\n",
       "│          ┆           ┆            ┆            ┆ 0800)/     ┆ 0800)/     ┆ 0-0800)/  ┆ 0-0800)/  │\n",
       "│ 32       ┆ Cathlamet ┆ Vashon     ┆ Fauntleroy ┆ /Date(1709 ┆ /Date(1709 ┆ /Date(170 ┆ /Date(170 │\n",
       "│          ┆           ┆            ┆            ┆ 294700000- ┆ 294795000- ┆ 929562900 ┆ 929470000 │\n",
       "│          ┆           ┆            ┆            ┆ 0800)/     ┆ 0800)/     ┆ 0-0800)/  ┆ 0-0800)/  │\n",
       "│ …        ┆ …         ┆ …          ┆ …          ┆ …          ┆ …          ┆ …         ┆ …         │\n",
       "│ 25       ┆ Yakima    ┆ Lopez      ┆ Anacortes  ┆ /Date(1722 ┆ /Date(1722 ┆ /Date(172 ┆ /Date(172 │\n",
       "│          ┆           ┆            ┆            ┆ 907200000- ┆ 913410000- ┆ 291614300 ┆ 290720000 │\n",
       "│          ┆           ┆            ┆            ┆ 0700)/     ┆ 0700)/     ┆ 0-0700)/  ┆ 0-0700)/  │\n",
       "│ 27       ┆ Yakima    ┆ Anacortes  ┆ Lopez      ┆ /Date(1722 ┆ /Date(1722 ┆ /Date(172 ┆ /Date(172 │\n",
       "│          ┆           ┆            ┆            ┆ 908700000- ┆ 909353000- ┆ 291196600 ┆ 290870000 │\n",
       "│          ┆           ┆            ┆            ┆ 0700)/     ┆ 0700)/     ┆ 0-0700)/  ┆ 0-0700)/  │\n",
       "│ 25       ┆ Yakima    ┆ Anacortes  ┆ Shaw       ┆ /Date(1722 ┆ /Date(1722 ┆ /Date(172 ┆ /Date(172 │\n",
       "│          ┆           ┆            ┆            ┆ 911100000- ┆ 916920000- ┆ 291991100 ┆ 291110000 │\n",
       "│          ┆           ┆            ┆            ┆ 0700)/     ┆ 0700)/     ┆ 0-0700)/  ┆ 0-0700)/  │\n",
       "│ 25       ┆ Yakima    ┆ Shaw       ┆ Orcas      ┆ /Date(1722 ┆ /Date(1722 ┆ /Date(172 ┆ /Date(172 │\n",
       "│          ┆           ┆            ┆            ┆ 914400000- ┆ 920125000- ┆ 292069500 ┆ 291440000 │\n",
       "│          ┆           ┆            ┆            ┆ 0700)/     ┆ 0700)/     ┆ 0-0700)/  ┆ 0-0700)/  │\n",
       "│ 25       ┆ Yakima    ┆ Orcas      ┆ Anacortes  ┆ /Date(1722 ┆ /Date(1722 ┆ /Date(172 ┆ /Date(172 │\n",
       "│          ┆           ┆            ┆            ┆ 916200000- ┆ 921283000- ┆ 292462500 ┆ 291620000 │\n",
       "│          ┆           ┆            ┆            ┆ 0700)/     ┆ 0700)/     ┆ 0-0700)/  ┆ 0-0700)/  │\n",
       "└──────────┴───────────┴────────────┴────────────┴────────────┴────────────┴───────────┴───────────┘"
      ]
     },
     "execution_count": 7,
     "metadata": {},
     "output_type": "execute_result"
    }
   ],
   "source": [
    "vessel_history = pl.read_database_uri(\n",
    "    query=f\"SELECT * FROM {username}_vessel_history_raw;\",\n",
    "    uri=uri,\n",
    "    engine=\"adbc\"\n",
    ")\n",
    "\n",
    "vessel_history"
   ]
  },
  {
   "cell_type": "markdown",
   "metadata": {},
   "source": [
    "Get the terminal locations data set."
   ]
  },
  {
   "cell_type": "code",
   "execution_count": 8,
   "metadata": {
    "tags": []
   },
   "outputs": [
    {
     "data": {
      "text/html": [
       "<div><style>\n",
       ".dataframe > thead > tr,\n",
       ".dataframe > tbody > tr {\n",
       "  text-align: right;\n",
       "  white-space: pre-wrap;\n",
       "}\n",
       "</style>\n",
       "<small>shape: (20, 16)</small><table border=\"1\" class=\"dataframe\"><thead><tr><th>TerminalID</th><th>TerminalSubjectID</th><th>RegionID</th><th>TerminalName</th><th>TerminalAbbrev</th><th>SortSeq</th><th>Latitude</th><th>Longitude</th><th>AddressLineOne</th><th>AddressLineTwo</th><th>City</th><th>State</th><th>ZipCode</th><th>Country</th><th>MapLink</th><th>Directions</th></tr><tr><td>i64</td><td>i64</td><td>i64</td><td>str</td><td>str</td><td>i64</td><td>f64</td><td>f64</td><td>str</td><td>str</td><td>str</td><td>str</td><td>str</td><td>str</td><td>str</td><td>str</td></tr></thead><tbody><tr><td>1</td><td>111</td><td>1</td><td>&quot;Anacortes&quot;</td><td>&quot;ANA&quot;</td><td>10</td><td>48.507351</td><td>-122.677</td><td>&quot;2100 Ferry Terminal Road&quot;</td><td>null</td><td>&quot;Anacortes&quot;</td><td>&quot;WA&quot;</td><td>&quot;98221&quot;</td><td>&quot;USA&quot;</td><td>&quot;https://www.google.com/maps/pl…</td><td>&quot;From Interstate 5 take exit 23…</td></tr><tr><td>3</td><td>103</td><td>4</td><td>&quot;Bainbridge Island&quot;</td><td>&quot;BBI&quot;</td><td>40</td><td>47.622339</td><td>-122.509617</td><td>&quot;270 Olympic Drive SE&quot;</td><td>null</td><td>&quot;Bainbridge Island&quot;</td><td>&quot;WA&quot;</td><td>&quot;98110&quot;</td><td>&quot;USA&quot;</td><td>&quot;http://maps.google.com/maps?f=…</td><td>&quot;Northbound on Highway 3: Take …</td></tr><tr><td>4</td><td>102</td><td>4</td><td>&quot;Bremerton&quot;</td><td>&quot;BRE&quot;</td><td>30</td><td>47.561847</td><td>-122.624089</td><td>&quot;211 1st Street&quot;</td><td>null</td><td>&quot;Bremerton&quot;</td><td>&quot;WA&quot;</td><td>&quot;98337&quot;</td><td>&quot;USA&quot;</td><td>&quot;https://www.google.com/maps/pl…</td><td>&quot;Northbound on Highway 3:  Exit…</td></tr><tr><td>5</td><td>112</td><td>2</td><td>&quot;Clinton&quot;</td><td>&quot;CLI&quot;</td><td>20</td><td>47.9754</td><td>-122.349581</td><td>&quot;64 South Ferrydock Road&quot;</td><td>null</td><td>&quot;Clinton&quot;</td><td>&quot;WA&quot;</td><td>&quot;98236&quot;</td><td>&quot;USA&quot;</td><td>&quot;http://maps.yahoo.com/#mvt=m&amp;l…</td><td>&quot;Highway 20 on Whidbey Island t…</td></tr><tr><td>11</td><td>116</td><td>2</td><td>&quot;Coupeville &quot;</td><td>&quot;COU&quot;</td><td>40</td><td>48.159008</td><td>-122.672603</td><td>&quot;1400 South State Route 20&quot;</td><td>null</td><td>&quot;Coupeville&quot;</td><td>&quot;WA&quot;</td><td>&quot;98239&quot;</td><td>&quot;USA&quot;</td><td>&quot;https://maps.google.com/maps?q…</td><td>&quot;Northbound/from Clinton ferry …</td></tr><tr><td>&hellip;</td><td>&hellip;</td><td>&hellip;</td><td>&hellip;</td><td>&hellip;</td><td>&hellip;</td><td>&hellip;</td><td>&hellip;</td><td>&hellip;</td><td>&hellip;</td><td>&hellip;</td><td>&hellip;</td><td>&hellip;</td><td>&hellip;</td><td>&hellip;</td><td>&hellip;</td></tr><tr><td>18</td><td>118</td><td>1</td><td>&quot;Shaw Island&quot;</td><td>&quot;SHI&quot;</td><td>30</td><td>48.584792</td><td>-122.92965</td><td>&quot;PO Box 455 (Mailing)&quot;</td><td>&quot;12 Blind Bay Rd.&quot;</td><td>&quot;Shaw Island&quot;</td><td>&quot;WA&quot;</td><td>&quot;98286&quot;</td><td>&quot;USA&quot;</td><td>&quot;http://maps.yahoo.com/py/maps.…</td><td>&quot;From Shaw Island County Park o…</td></tr><tr><td>19</td><td>120</td><td>1</td><td>&quot;Sidney B.C.&quot;</td><td>&quot;SID&quot;</td><td>60</td><td>48.643114</td><td>-123.396739</td><td>&quot;PO Box 2248 Mailing&quot;</td><td>&quot;2499 Ocean Avenue (Physical)&quot;</td><td>&quot;Sidney&quot;</td><td>&quot;BC&quot;</td><td>&quot;V8L1T3&quot;</td><td>&quot;Canada&quot;</td><td>&quot;\r\n",
       "http://maps.google.com/maps?…</td><td>&quot;&lt;b&gt;Sidney/Anacortes ferry Term…</td></tr><tr><td>20</td><td>105</td><td>5</td><td>&quot;Southworth&quot;</td><td>&quot;SOU&quot;</td><td>35</td><td>47.513064</td><td>-122.495742</td><td>&quot;11700 SE SEDGWICK RD&quot;</td><td>null</td><td>&quot;Southworth&quot;</td><td>&quot;WA&quot;</td><td>&quot;98386&quot;</td><td>&quot;USA&quot;</td><td>&quot;http://maps.google.com/maps?q=…</td><td>&quot;From I-5: Take exit 132 and pr…</td></tr><tr><td>21</td><td>121</td><td>5</td><td>&quot;Tahlequah&quot;</td><td>&quot;TAH&quot;</td><td>55</td><td>47.331961</td><td>-122.507786</td><td>&quot;Vashon Hwy SW and SW Tahlequah…</td><td>null</td><td>&quot;Vashon&quot;</td><td>&quot;WA&quot;</td><td>&quot;98070&quot;</td><td>&quot;USA&quot;</td><td>&quot;http://maps.google.com/maps?q=…</td><td>&quot;The Tahlequah terminal is loca…</td></tr><tr><td>22</td><td>106</td><td>5</td><td>&quot;Vashon Island&quot;</td><td>&quot;VAI&quot;</td><td>20</td><td>47.51095</td><td>-122.463639</td><td>&quot;10800 North Vashon Highway&quot;</td><td>null</td><td>&quot;Vashon&quot;</td><td>&quot;WA&quot;</td><td>&quot;98070&quot;</td><td>&quot;USA&quot;</td><td>&quot;http://maps.google.com/maps?q=…</td><td>&quot;Head north on Vashon Highway S…</td></tr></tbody></table></div>"
      ],
      "text/plain": [
       "shape: (20, 16)\n",
       "┌────────────┬────────────┬──────────┬────────────┬───┬─────────┬─────────┬────────────┬───────────┐\n",
       "│ TerminalID ┆ TerminalSu ┆ RegionID ┆ TerminalNa ┆ … ┆ ZipCode ┆ Country ┆ MapLink    ┆ Direction │\n",
       "│ ---        ┆ bjectID    ┆ ---      ┆ me         ┆   ┆ ---     ┆ ---     ┆ ---        ┆ s         │\n",
       "│ i64        ┆ ---        ┆ i64      ┆ ---        ┆   ┆ str     ┆ str     ┆ str        ┆ ---       │\n",
       "│            ┆ i64        ┆          ┆ str        ┆   ┆         ┆         ┆            ┆ str       │\n",
       "╞════════════╪════════════╪══════════╪════════════╪═══╪═════════╪═════════╪════════════╪═══════════╡\n",
       "│ 1          ┆ 111        ┆ 1        ┆ Anacortes  ┆ … ┆ 98221   ┆ USA     ┆ https://ww ┆ From Inte │\n",
       "│            ┆            ┆          ┆            ┆   ┆         ┆         ┆ w.google.c ┆ rstate 5  │\n",
       "│            ┆            ┆          ┆            ┆   ┆         ┆         ┆ om/maps/pl ┆ take exit │\n",
       "│            ┆            ┆          ┆            ┆   ┆         ┆         ┆ …          ┆ 23…       │\n",
       "│ 3          ┆ 103        ┆ 4        ┆ Bainbridge ┆ … ┆ 98110   ┆ USA     ┆ http://map ┆ Northboun │\n",
       "│            ┆            ┆          ┆ Island     ┆   ┆         ┆         ┆ s.google.c ┆ d on      │\n",
       "│            ┆            ┆          ┆            ┆   ┆         ┆         ┆ om/maps?f= ┆ Highway   │\n",
       "│            ┆            ┆          ┆            ┆   ┆         ┆         ┆ …          ┆ 3: Take … │\n",
       "│ 4          ┆ 102        ┆ 4        ┆ Bremerton  ┆ … ┆ 98337   ┆ USA     ┆ https://ww ┆ Northboun │\n",
       "│            ┆            ┆          ┆            ┆   ┆         ┆         ┆ w.google.c ┆ d on      │\n",
       "│            ┆            ┆          ┆            ┆   ┆         ┆         ┆ om/maps/pl ┆ Highway   │\n",
       "│            ┆            ┆          ┆            ┆   ┆         ┆         ┆ …          ┆ 3:  Exit… │\n",
       "│ 5          ┆ 112        ┆ 2        ┆ Clinton    ┆ … ┆ 98236   ┆ USA     ┆ http://map ┆ Highway   │\n",
       "│            ┆            ┆          ┆            ┆   ┆         ┆         ┆ s.yahoo.co ┆ 20 on     │\n",
       "│            ┆            ┆          ┆            ┆   ┆         ┆         ┆ m/#mvt=m&l ┆ Whidbey   │\n",
       "│            ┆            ┆          ┆            ┆   ┆         ┆         ┆ …          ┆ Island t… │\n",
       "│ 11         ┆ 116        ┆ 2        ┆ Coupeville ┆ … ┆ 98239   ┆ USA     ┆ https://ma ┆ Northboun │\n",
       "│            ┆            ┆          ┆            ┆   ┆         ┆         ┆ ps.google. ┆ d/from    │\n",
       "│            ┆            ┆          ┆            ┆   ┆         ┆         ┆ com/maps?q ┆ Clinton   │\n",
       "│            ┆            ┆          ┆            ┆   ┆         ┆         ┆ …          ┆ ferry …   │\n",
       "│ …          ┆ …          ┆ …        ┆ …          ┆ … ┆ …       ┆ …       ┆ …          ┆ …         │\n",
       "│ 18         ┆ 118        ┆ 1        ┆ Shaw       ┆ … ┆ 98286   ┆ USA     ┆ http://map ┆ From Shaw │\n",
       "│            ┆            ┆          ┆ Island     ┆   ┆         ┆         ┆ s.yahoo.co ┆ Island    │\n",
       "│            ┆            ┆          ┆            ┆   ┆         ┆         ┆ m/py/maps. ┆ County    │\n",
       "│            ┆            ┆          ┆            ┆   ┆         ┆         ┆ …          ┆ Park o…   │\n",
       "│ 19         ┆ 120        ┆ 1        ┆ Sidney     ┆ … ┆ V8L1T3  ┆ Canada  ┆ \n",
       "          ┆ <b>Sidney │\n",
       "│            ┆            ┆          ┆ B.C.       ┆   ┆         ┆         ┆ http://map ┆ /Anacorte │\n",
       "│            ┆            ┆          ┆            ┆   ┆         ┆         ┆ s.google.c ┆ s ferry   │\n",
       "│            ┆            ┆          ┆            ┆   ┆         ┆         ┆ om/maps?…  ┆ Term…     │\n",
       "│ 20         ┆ 105        ┆ 5        ┆ Southworth ┆ … ┆ 98386   ┆ USA     ┆ http://map ┆ From I-5: │\n",
       "│            ┆            ┆          ┆            ┆   ┆         ┆         ┆ s.google.c ┆ Take exit │\n",
       "│            ┆            ┆          ┆            ┆   ┆         ┆         ┆ om/maps?q= ┆ 132 and   │\n",
       "│            ┆            ┆          ┆            ┆   ┆         ┆         ┆ …          ┆ pr…       │\n",
       "│ 21         ┆ 121        ┆ 5        ┆ Tahlequah  ┆ … ┆ 98070   ┆ USA     ┆ http://map ┆ The       │\n",
       "│            ┆            ┆          ┆            ┆   ┆         ┆         ┆ s.google.c ┆ Tahlequah │\n",
       "│            ┆            ┆          ┆            ┆   ┆         ┆         ┆ om/maps?q= ┆ terminal  │\n",
       "│            ┆            ┆          ┆            ┆   ┆         ┆         ┆ …          ┆ is loca…  │\n",
       "│ 22         ┆ 106        ┆ 5        ┆ Vashon     ┆ … ┆ 98070   ┆ USA     ┆ http://map ┆ Head      │\n",
       "│            ┆            ┆          ┆ Island     ┆   ┆         ┆         ┆ s.google.c ┆ north on  │\n",
       "│            ┆            ┆          ┆            ┆   ┆         ┆         ┆ om/maps?q= ┆ Vashon    │\n",
       "│            ┆            ┆          ┆            ┆   ┆         ┆         ┆ …          ┆ Highway   │\n",
       "│            ┆            ┆          ┆            ┆   ┆         ┆         ┆            ┆ S…        │\n",
       "└────────────┴────────────┴──────────┴────────────┴───┴─────────┴─────────┴────────────┴───────────┘"
      ]
     },
     "execution_count": 8,
     "metadata": {},
     "output_type": "execute_result"
    }
   ],
   "source": [
    "terminal_locations = pl.read_database_uri(\n",
    "    query=f\"SELECT * FROM {username}_terminal_locations_raw;\",\n",
    "    uri=uri,\n",
    "    engine=\"adbc\"\n",
    ")\n",
    "\n",
    "terminal_locations"
   ]
  },
  {
   "cell_type": "markdown",
   "metadata": {},
   "source": [
    "Get the terminal weather data set."
   ]
  },
  {
   "cell_type": "code",
   "execution_count": 9,
   "metadata": {
    "tags": []
   },
   "outputs": [
    {
     "data": {
      "text/html": [
       "<div><style>\n",
       ".dataframe > thead > tr,\n",
       ".dataframe > tbody > tr {\n",
       "  text-align: right;\n",
       "  white-space: pre-wrap;\n",
       "}\n",
       "</style>\n",
       "<small>shape: (75_840, 16)</small><table border=\"1\" class=\"dataframe\"><thead><tr><th>latitude</th><th>longitude</th><th>generationtime_ms</th><th>utc_offset_seconds</th><th>timezone</th><th>timezone_abbreviation</th><th>elevation</th><th>time</th><th>weather_code</th><th>temperature_2m</th><th>precipitation</th><th>cloud_cover</th><th>wind_speed_10m</th><th>wind_direction_10m</th><th>wind_gusts_10m</th><th>terminal_name</th></tr><tr><td>f64</td><td>f64</td><td>f64</td><td>i64</td><td>str</td><td>str</td><td>f64</td><td>str</td><td>i64</td><td>f64</td><td>f64</td><td>i64</td><td>f64</td><td>i64</td><td>f64</td><td>str</td></tr></thead><tbody><tr><td>48.541298</td><td>-122.727264</td><td>0.238061</td><td>0</td><td>&quot;GMT&quot;</td><td>&quot;GMT&quot;</td><td>0.0</td><td>&quot;2024-03-01T00:00&quot;</td><td>3</td><td>6.2</td><td>0.0</td><td>80</td><td>37.4</td><td>154</td><td>47.9</td><td>&quot;Anacortes&quot;</td></tr><tr><td>48.541298</td><td>-122.727264</td><td>0.238061</td><td>0</td><td>&quot;GMT&quot;</td><td>&quot;GMT&quot;</td><td>0.0</td><td>&quot;2024-03-01T01:00&quot;</td><td>51</td><td>5.9</td><td>0.1</td><td>94</td><td>36.7</td><td>159</td><td>48.6</td><td>&quot;Anacortes&quot;</td></tr><tr><td>48.541298</td><td>-122.727264</td><td>0.238061</td><td>0</td><td>&quot;GMT&quot;</td><td>&quot;GMT&quot;</td><td>0.0</td><td>&quot;2024-03-01T02:00&quot;</td><td>3</td><td>5.7</td><td>0.0</td><td>83</td><td>36.6</td><td>156</td><td>49.0</td><td>&quot;Anacortes&quot;</td></tr><tr><td>48.541298</td><td>-122.727264</td><td>0.238061</td><td>0</td><td>&quot;GMT&quot;</td><td>&quot;GMT&quot;</td><td>0.0</td><td>&quot;2024-03-01T03:00&quot;</td><td>1</td><td>5.1</td><td>0.0</td><td>40</td><td>40.9</td><td>152</td><td>54.7</td><td>&quot;Anacortes&quot;</td></tr><tr><td>48.541298</td><td>-122.727264</td><td>0.238061</td><td>0</td><td>&quot;GMT&quot;</td><td>&quot;GMT&quot;</td><td>0.0</td><td>&quot;2024-03-01T04:00&quot;</td><td>2</td><td>4.6</td><td>0.0</td><td>66</td><td>40.7</td><td>144</td><td>54.7</td><td>&quot;Anacortes&quot;</td></tr><tr><td>&hellip;</td><td>&hellip;</td><td>&hellip;</td><td>&hellip;</td><td>&hellip;</td><td>&hellip;</td><td>&hellip;</td><td>&hellip;</td><td>&hellip;</td><td>&hellip;</td><td>&hellip;</td><td>&hellip;</td><td>&hellip;</td><td>&hellip;</td><td>&hellip;</td><td>&hellip;</td></tr><tr><td>47.486816</td><td>-122.512314</td><td>0.198007</td><td>0</td><td>&quot;GMT&quot;</td><td>&quot;GMT&quot;</td><td>0.0</td><td>&quot;2024-08-05T19:00&quot;</td><td>0</td><td>24.5</td><td>0.0</td><td>0</td><td>8.0</td><td>190</td><td>25.9</td><td>&quot;Vashon Island&quot;</td></tr><tr><td>47.486816</td><td>-122.512314</td><td>0.198007</td><td>0</td><td>&quot;GMT&quot;</td><td>&quot;GMT&quot;</td><td>0.0</td><td>&quot;2024-08-05T20:00&quot;</td><td>0</td><td>26.7</td><td>0.0</td><td>0</td><td>7.2</td><td>198</td><td>25.9</td><td>&quot;Vashon Island&quot;</td></tr><tr><td>47.486816</td><td>-122.512314</td><td>0.198007</td><td>0</td><td>&quot;GMT&quot;</td><td>&quot;GMT&quot;</td><td>0.0</td><td>&quot;2024-08-05T21:00&quot;</td><td>0</td><td>28.6</td><td>0.0</td><td>0</td><td>6.6</td><td>193</td><td>25.2</td><td>&quot;Vashon Island&quot;</td></tr><tr><td>47.486816</td><td>-122.512314</td><td>0.198007</td><td>0</td><td>&quot;GMT&quot;</td><td>&quot;GMT&quot;</td><td>0.0</td><td>&quot;2024-08-05T22:00&quot;</td><td>0</td><td>29.7</td><td>0.0</td><td>0</td><td>5.4</td><td>188</td><td>24.5</td><td>&quot;Vashon Island&quot;</td></tr><tr><td>47.486816</td><td>-122.512314</td><td>0.198007</td><td>0</td><td>&quot;GMT&quot;</td><td>&quot;GMT&quot;</td><td>0.0</td><td>&quot;2024-08-05T23:00&quot;</td><td>0</td><td>30.1</td><td>0.0</td><td>0</td><td>5.9</td><td>191</td><td>22.0</td><td>&quot;Vashon Island&quot;</td></tr></tbody></table></div>"
      ],
      "text/plain": [
       "shape: (75_840, 16)\n",
       "┌───────────┬───────────┬───────────┬───────────┬───┬───────────┬───────────┬───────────┬──────────┐\n",
       "│ latitude  ┆ longitude ┆ generatio ┆ utc_offse ┆ … ┆ wind_spee ┆ wind_dire ┆ wind_gust ┆ terminal │\n",
       "│ ---       ┆ ---       ┆ ntime_ms  ┆ t_seconds ┆   ┆ d_10m     ┆ ction_10m ┆ s_10m     ┆ _name    │\n",
       "│ f64       ┆ f64       ┆ ---       ┆ ---       ┆   ┆ ---       ┆ ---       ┆ ---       ┆ ---      │\n",
       "│           ┆           ┆ f64       ┆ i64       ┆   ┆ f64       ┆ i64       ┆ f64       ┆ str      │\n",
       "╞═══════════╪═══════════╪═══════════╪═══════════╪═══╪═══════════╪═══════════╪═══════════╪══════════╡\n",
       "│ 48.541298 ┆ -122.7272 ┆ 0.238061  ┆ 0         ┆ … ┆ 37.4      ┆ 154       ┆ 47.9      ┆ Anacorte │\n",
       "│           ┆ 64        ┆           ┆           ┆   ┆           ┆           ┆           ┆ s        │\n",
       "│ 48.541298 ┆ -122.7272 ┆ 0.238061  ┆ 0         ┆ … ┆ 36.7      ┆ 159       ┆ 48.6      ┆ Anacorte │\n",
       "│           ┆ 64        ┆           ┆           ┆   ┆           ┆           ┆           ┆ s        │\n",
       "│ 48.541298 ┆ -122.7272 ┆ 0.238061  ┆ 0         ┆ … ┆ 36.6      ┆ 156       ┆ 49.0      ┆ Anacorte │\n",
       "│           ┆ 64        ┆           ┆           ┆   ┆           ┆           ┆           ┆ s        │\n",
       "│ 48.541298 ┆ -122.7272 ┆ 0.238061  ┆ 0         ┆ … ┆ 40.9      ┆ 152       ┆ 54.7      ┆ Anacorte │\n",
       "│           ┆ 64        ┆           ┆           ┆   ┆           ┆           ┆           ┆ s        │\n",
       "│ 48.541298 ┆ -122.7272 ┆ 0.238061  ┆ 0         ┆ … ┆ 40.7      ┆ 144       ┆ 54.7      ┆ Anacorte │\n",
       "│           ┆ 64        ┆           ┆           ┆   ┆           ┆           ┆           ┆ s        │\n",
       "│ …         ┆ …         ┆ …         ┆ …         ┆ … ┆ …         ┆ …         ┆ …         ┆ …        │\n",
       "│ 47.486816 ┆ -122.5123 ┆ 0.198007  ┆ 0         ┆ … ┆ 8.0       ┆ 190       ┆ 25.9      ┆ Vashon   │\n",
       "│           ┆ 14        ┆           ┆           ┆   ┆           ┆           ┆           ┆ Island   │\n",
       "│ 47.486816 ┆ -122.5123 ┆ 0.198007  ┆ 0         ┆ … ┆ 7.2       ┆ 198       ┆ 25.9      ┆ Vashon   │\n",
       "│           ┆ 14        ┆           ┆           ┆   ┆           ┆           ┆           ┆ Island   │\n",
       "│ 47.486816 ┆ -122.5123 ┆ 0.198007  ┆ 0         ┆ … ┆ 6.6       ┆ 193       ┆ 25.2      ┆ Vashon   │\n",
       "│           ┆ 14        ┆           ┆           ┆   ┆           ┆           ┆           ┆ Island   │\n",
       "│ 47.486816 ┆ -122.5123 ┆ 0.198007  ┆ 0         ┆ … ┆ 5.4       ┆ 188       ┆ 24.5      ┆ Vashon   │\n",
       "│           ┆ 14        ┆           ┆           ┆   ┆           ┆           ┆           ┆ Island   │\n",
       "│ 47.486816 ┆ -122.5123 ┆ 0.198007  ┆ 0         ┆ … ┆ 5.9       ┆ 191       ┆ 22.0      ┆ Vashon   │\n",
       "│           ┆ 14        ┆           ┆           ┆   ┆           ┆           ┆           ┆ Island   │\n",
       "└───────────┴───────────┴───────────┴───────────┴───┴───────────┴───────────┴───────────┴──────────┘"
      ]
     },
     "execution_count": 9,
     "metadata": {},
     "output_type": "execute_result"
    }
   ],
   "source": [
    "terminal_weather = pl.read_database_uri(\n",
    "    query=f\"SELECT * FROM {username}_terminal_weather_raw;\",\n",
    "    uri=uri,\n",
    "    engine=\"adbc\"\n",
    ")\n",
    "\n",
    "terminal_weather"
   ]
  },
  {
   "cell_type": "markdown",
   "metadata": {},
   "source": [
    "## Task 2 - explore the data"
   ]
  },
  {
   "cell_type": "markdown",
   "metadata": {},
   "source": [
    "### 🔄 Task"
   ]
  },
  {
   "cell_type": "markdown",
   "metadata": {},
   "source": [
    "Begin exploring the data. You will want to understand:\n",
    "\n",
    "- What columns exist in the data?\n",
    "- How do the two data sets relate to one another?\n",
    "- What is the type of each column (e.g. string, number, category, date)?\n",
    "- Which columns could be useful for the model?\n",
    "- What steps will I need to perform to clean the data?\n",
    "\n",
    "**Tips**\n",
    "\n",
    "- Use VS Codes built in data viewer to explore the data.\n",
    "- If you are more comfortable with Pandas, you can convert the polars dataframe into a pandas dataframe (e.g. `df.to_pandas()`).\n",
    "- The polars user guide has great docs on how to use polars: https://docs.pola.rs.\n",
    "\n",
    "🚨 We are not performing feature engineering at this stage. But it is a good time to start thinking about what features you can create from the data."
   ]
  },
  {
   "cell_type": "markdown",
   "metadata": {},
   "source": [
    "### 🧑‍💻 Code"
   ]
  },
  {
   "cell_type": "markdown",
   "metadata": {},
   "source": [
    "#### vessel_history"
   ]
  },
  {
   "cell_type": "code",
   "execution_count": 10,
   "metadata": {},
   "outputs": [
    {
     "data": {
      "text/html": [
       "<div><style>\n",
       ".dataframe > thead > tr,\n",
       ".dataframe > tbody > tr {\n",
       "  text-align: right;\n",
       "  white-space: pre-wrap;\n",
       "}\n",
       "</style>\n",
       "<small>shape: (3, 8)</small><table border=\"1\" class=\"dataframe\"><thead><tr><th>VesselId</th><th>Vessel</th><th>Departing</th><th>Arriving</th><th>ScheduledDepart</th><th>ActualDepart</th><th>EstArrival</th><th>Date</th></tr><tr><td>i64</td><td>str</td><td>str</td><td>str</td><td>str</td><td>str</td><td>str</td><td>str</td></tr></thead><tbody><tr><td>31</td><td>&quot;Cathlamet&quot;</td><td>&quot;Vashon&quot;</td><td>&quot;Southworth&quot;</td><td>&quot;/Date(1709280900000-0800)/&quot;</td><td>&quot;/Date(1709280969000-0800)/&quot;</td><td>&quot;/Date(1709281999000-0800)/&quot;</td><td>&quot;/Date(1709280900000-0800)/&quot;</td></tr><tr><td>31</td><td>&quot;Cathlamet&quot;</td><td>&quot;Southworth&quot;</td><td>&quot;Fauntleroy&quot;</td><td>&quot;/Date(1709282100000-0800)/&quot;</td><td>&quot;/Date(1709282171000-0800)/&quot;</td><td>&quot;/Date(1709283349000-0800)/&quot;</td><td>&quot;/Date(1709282100000-0800)/&quot;</td></tr><tr><td>31</td><td>&quot;Cathlamet&quot;</td><td>&quot;Fauntleroy&quot;</td><td>&quot;Vashon&quot;</td><td>&quot;/Date(1709283900000-0800)/&quot;</td><td>&quot;/Date(1709284050000-0800)/&quot;</td><td>&quot;/Date(1709284950000-0800)/&quot;</td><td>&quot;/Date(1709283900000-0800)/&quot;</td></tr></tbody></table></div>"
      ],
      "text/plain": [
       "shape: (3, 8)\n",
       "┌──────────┬───────────┬────────────┬────────────┬────────────┬────────────┬───────────┬───────────┐\n",
       "│ VesselId ┆ Vessel    ┆ Departing  ┆ Arriving   ┆ ScheduledD ┆ ActualDepa ┆ EstArriva ┆ Date      │\n",
       "│ ---      ┆ ---       ┆ ---        ┆ ---        ┆ epart      ┆ rt         ┆ l         ┆ ---       │\n",
       "│ i64      ┆ str       ┆ str        ┆ str        ┆ ---        ┆ ---        ┆ ---       ┆ str       │\n",
       "│          ┆           ┆            ┆            ┆ str        ┆ str        ┆ str       ┆           │\n",
       "╞══════════╪═══════════╪════════════╪════════════╪════════════╪════════════╪═══════════╪═══════════╡\n",
       "│ 31       ┆ Cathlamet ┆ Vashon     ┆ Southworth ┆ /Date(1709 ┆ /Date(1709 ┆ /Date(170 ┆ /Date(170 │\n",
       "│          ┆           ┆            ┆            ┆ 280900000- ┆ 280969000- ┆ 928199900 ┆ 928090000 │\n",
       "│          ┆           ┆            ┆            ┆ 0800)/     ┆ 0800)/     ┆ 0-0800)/  ┆ 0-0800)/  │\n",
       "│ 31       ┆ Cathlamet ┆ Southworth ┆ Fauntleroy ┆ /Date(1709 ┆ /Date(1709 ┆ /Date(170 ┆ /Date(170 │\n",
       "│          ┆           ┆            ┆            ┆ 282100000- ┆ 282171000- ┆ 928334900 ┆ 928210000 │\n",
       "│          ┆           ┆            ┆            ┆ 0800)/     ┆ 0800)/     ┆ 0-0800)/  ┆ 0-0800)/  │\n",
       "│ 31       ┆ Cathlamet ┆ Fauntleroy ┆ Vashon     ┆ /Date(1709 ┆ /Date(1709 ┆ /Date(170 ┆ /Date(170 │\n",
       "│          ┆           ┆            ┆            ┆ 283900000- ┆ 284050000- ┆ 928495000 ┆ 928390000 │\n",
       "│          ┆           ┆            ┆            ┆ 0800)/     ┆ 0800)/     ┆ 0-0800)/  ┆ 0-0800)/  │\n",
       "└──────────┴───────────┴────────────┴────────────┴────────────┴────────────┴───────────┴───────────┘"
      ]
     },
     "execution_count": 10,
     "metadata": {},
     "output_type": "execute_result"
    }
   ],
   "source": [
    "vessel_history.head(3)"
   ]
  },
  {
   "cell_type": "markdown",
   "metadata": {},
   "source": [
    "The dates and times are not formatted correctly. We can fix this when we tidy the data."
   ]
  },
  {
   "cell_type": "markdown",
   "metadata": {},
   "source": [
    "#### vessel_verbose"
   ]
  },
  {
   "cell_type": "code",
   "execution_count": 11,
   "metadata": {},
   "outputs": [
    {
     "data": {
      "text/html": [
       "<div><style>\n",
       ".dataframe > thead > tr,\n",
       ".dataframe > tbody > tr {\n",
       "  text-align: right;\n",
       "  white-space: pre-wrap;\n",
       "}\n",
       "</style>\n",
       "<small>shape: (2, 44)</small><table border=\"1\" class=\"dataframe\"><thead><tr><th>VesselID</th><th>VesselSubjectID</th><th>VesselName</th><th>VesselAbbrev</th><th>ClassID</th><th>ClassSubjectID</th><th>ClassName</th><th>SortSeq</th><th>DrawingImg</th><th>SilhouetteImg</th><th>PublicDisplayName</th><th>Status</th><th>OwnedByWSF</th><th>CarDeckRestroom</th><th>CarDeckShelter</th><th>Elevator</th><th>ADAAccessible</th><th>MainCabinGalley</th><th>MainCabinRestroom</th><th>PublicWifi</th><th>ADAInfo</th><th>AdditionalInfo</th><th>VesselNameDesc</th><th>VesselHistory</th><th>Beam</th><th>CityBuilt</th><th>SpeedInKnots</th><th>Draft</th><th>EngineCount</th><th>Horsepower</th><th>Length</th><th>MaxPassengerCount</th><th>PassengerOnly</th><th>FastFerry</th><th>PropulsionInfo</th><th>TallDeckClearance</th><th>RegDeckSpace</th><th>TallDeckSpace</th><th>Tonnage</th><th>Displacement</th><th>YearBuilt</th><th>YearRebuilt</th><th>SolasCertified</th><th>MaxPassengerCountForInternational</th></tr><tr><td>i64</td><td>i64</td><td>str</td><td>str</td><td>i64</td><td>i64</td><td>str</td><td>i64</td><td>str</td><td>str</td><td>str</td><td>i64</td><td>bool</td><td>bool</td><td>bool</td><td>bool</td><td>bool</td><td>bool</td><td>bool</td><td>bool</td><td>str</td><td>str</td><td>str</td><td>str</td><td>str</td><td>str</td><td>i64</td><td>str</td><td>i64</td><td>i64</td><td>str</td><td>i64</td><td>bool</td><td>bool</td><td>str</td><td>i64</td><td>i64</td><td>i64</td><td>i64</td><td>i64</td><td>i64</td><td>i64</td><td>bool</td><td>i64</td></tr></thead><tbody><tr><td>1</td><td>1</td><td>&quot;Cathlamet&quot;</td><td>&quot;CAT&quot;</td><td>10</td><td>310</td><td>&quot;Issaquah 130&quot;</td><td>40</td><td>&quot;https://www.wsdot.wa.gov/ferri…</td><td>&quot;https://www.wsdot.wa.gov/ferri…</td><td>&quot;Issaquah&quot;</td><td>1</td><td>true</td><td>true</td><td>false</td><td>true</td><td>true</td><td>true</td><td>true</td><td>false</td><td>&quot;The MV Cathlamet has elevator …</td><td>&quot; &quot;</td><td>&quot;From the Kathlamet tribe, the …</td><td>&quot; &quot;</td><td>&quot;78&#x27; 8&quot;&quot;</td><td>&quot;Seattle, WA&quot;</td><td>16</td><td>&quot;16&#x27; 6&quot;&quot;</td><td>2</td><td>5000</td><td>&quot;328&#x27;&quot;</td><td>1200</td><td>false</td><td>false</td><td>&quot;DIESEL&quot;</td><td>186</td><td>124</td><td>26</td><td>2477</td><td>3310</td><td>1981</td><td>1993</td><td>false</td><td>null</td></tr><tr><td>2</td><td>2</td><td>&quot;Chelan&quot;</td><td>&quot;CHE&quot;</td><td>10</td><td>310</td><td>&quot;Issaquah 130&quot;</td><td>40</td><td>&quot;https://www.wsdot.wa.gov/ferri…</td><td>&quot;https://www.wsdot.wa.gov/ferri…</td><td>&quot;Issaquah&quot;</td><td>1</td><td>true</td><td>true</td><td>false</td><td>true</td><td>true</td><td>true</td><td>true</td><td>false</td><td>&quot;The MV Chelan has elevator acc…</td><td>&quot; &quot;</td><td>&quot;From the Chelan  language: Tsi…</td><td>&quot; &quot;</td><td>&quot;78&#x27; 8&quot;&quot;</td><td>&quot;Seattle, WA&quot;</td><td>16</td><td>&quot;16&#x27; 9&quot;&quot;</td><td>2</td><td>5000</td><td>&quot;328&#x27;&quot;</td><td>1200</td><td>false</td><td>false</td><td>&quot;DIESEL&quot;</td><td>188</td><td>124</td><td>30</td><td>2477</td><td>3405</td><td>1981</td><td>2005</td><td>true</td><td>1090</td></tr></tbody></table></div>"
      ],
      "text/plain": [
       "shape: (2, 44)\n",
       "┌──────────┬───────────┬───────────┬───────────┬───┬───────────┬───────────┬───────────┬───────────┐\n",
       "│ VesselID ┆ VesselSub ┆ VesselNam ┆ VesselAbb ┆ … ┆ YearBuilt ┆ YearRebui ┆ SolasCert ┆ MaxPassen │\n",
       "│ ---      ┆ jectID    ┆ e         ┆ rev       ┆   ┆ ---       ┆ lt        ┆ ified     ┆ gerCountF │\n",
       "│ i64      ┆ ---       ┆ ---       ┆ ---       ┆   ┆ i64       ┆ ---       ┆ ---       ┆ orInterna │\n",
       "│          ┆ i64       ┆ str       ┆ str       ┆   ┆           ┆ i64       ┆ bool      ┆ tio…      │\n",
       "│          ┆           ┆           ┆           ┆   ┆           ┆           ┆           ┆ ---       │\n",
       "│          ┆           ┆           ┆           ┆   ┆           ┆           ┆           ┆ i64       │\n",
       "╞══════════╪═══════════╪═══════════╪═══════════╪═══╪═══════════╪═══════════╪═══════════╪═══════════╡\n",
       "│ 1        ┆ 1         ┆ Cathlamet ┆ CAT       ┆ … ┆ 1981      ┆ 1993      ┆ false     ┆ null      │\n",
       "│ 2        ┆ 2         ┆ Chelan    ┆ CHE       ┆ … ┆ 1981      ┆ 2005      ┆ true      ┆ 1090      │\n",
       "└──────────┴───────────┴───────────┴───────────┴───┴───────────┴───────────┴───────────┴───────────┘"
      ]
     },
     "execution_count": 11,
     "metadata": {},
     "output_type": "execute_result"
    }
   ],
   "source": [
    "vessel_verbose.head(2)"
   ]
  },
  {
   "cell_type": "markdown",
   "metadata": {},
   "source": [
    "How many different vessels are in the data?"
   ]
  },
  {
   "cell_type": "code",
   "execution_count": 12,
   "metadata": {},
   "outputs": [
    {
     "data": {
      "text/html": [
       "<div><style>\n",
       ".dataframe > thead > tr,\n",
       ".dataframe > tbody > tr {\n",
       "  text-align: right;\n",
       "  white-space: pre-wrap;\n",
       "}\n",
       "</style>\n",
       "<small>shape: (21, 2)</small><table border=\"1\" class=\"dataframe\"><thead><tr><th>VesselID</th><th>VesselName</th></tr><tr><td>i64</td><td>str</td></tr></thead><tbody><tr><td>1</td><td>&quot;Cathlamet&quot;</td></tr><tr><td>2</td><td>&quot;Chelan&quot;</td></tr><tr><td>65</td><td>&quot;Chetzemoka&quot;</td></tr><tr><td>74</td><td>&quot;Chimacum&quot;</td></tr><tr><td>15</td><td>&quot;Issaquah&quot;</td></tr><tr><td>&hellip;</td><td>&hellip;</td></tr><tr><td>33</td><td>&quot;Tillikum&quot;</td></tr><tr><td>68</td><td>&quot;Tokitae&quot;</td></tr><tr><td>36</td><td>&quot;Walla Walla&quot;</td></tr><tr><td>37</td><td>&quot;Wenatchee&quot;</td></tr><tr><td>38</td><td>&quot;Yakima&quot;</td></tr></tbody></table></div>"
      ],
      "text/plain": [
       "shape: (21, 2)\n",
       "┌──────────┬─────────────┐\n",
       "│ VesselID ┆ VesselName  │\n",
       "│ ---      ┆ ---         │\n",
       "│ i64      ┆ str         │\n",
       "╞══════════╪═════════════╡\n",
       "│ 1        ┆ Cathlamet   │\n",
       "│ 2        ┆ Chelan      │\n",
       "│ 65       ┆ Chetzemoka  │\n",
       "│ 74       ┆ Chimacum    │\n",
       "│ 15       ┆ Issaquah    │\n",
       "│ …        ┆ …           │\n",
       "│ 33       ┆ Tillikum    │\n",
       "│ 68       ┆ Tokitae     │\n",
       "│ 36       ┆ Walla Walla │\n",
       "│ 37       ┆ Wenatchee   │\n",
       "│ 38       ┆ Yakima      │\n",
       "└──────────┴─────────────┘"
      ]
     },
     "execution_count": 12,
     "metadata": {},
     "output_type": "execute_result"
    }
   ],
   "source": [
    "vessel_verbose.select(pl.col(\"VesselID\"), pl.col(\"VesselName\"))"
   ]
  },
  {
   "cell_type": "code",
   "execution_count": 13,
   "metadata": {},
   "outputs": [
    {
     "data": {
      "text/plain": [
       "21"
      ]
     },
     "execution_count": 13,
     "metadata": {},
     "output_type": "execute_result"
    }
   ],
   "source": [
    "# Verify that each VesselID is unique.\n",
    "vessel_verbose.get_column(\"VesselID\").n_unique()"
   ]
  },
  {
   "cell_type": "code",
   "execution_count": 14,
   "metadata": {
    "tags": []
   },
   "outputs": [
    {
     "data": {
      "text/plain": [
       "True"
      ]
     },
     "execution_count": 14,
     "metadata": {},
     "output_type": "execute_result"
    }
   ],
   "source": [
    "vessel_verbose.get_column(\"VesselID\").n_unique() == vessel_verbose.shape[0]"
   ]
  },
  {
   "cell_type": "markdown",
   "metadata": {},
   "source": [
    "What are all of the numerical columns?"
   ]
  },
  {
   "cell_type": "code",
   "execution_count": 15,
   "metadata": {},
   "outputs": [
    {
     "data": {
      "text/html": [
       "<div><style>\n",
       ".dataframe > thead > tr,\n",
       ".dataframe > tbody > tr {\n",
       "  text-align: right;\n",
       "  white-space: pre-wrap;\n",
       "}\n",
       "</style>\n",
       "<small>shape: (5, 18)</small><table border=\"1\" class=\"dataframe\"><thead><tr><th>VesselID</th><th>VesselSubjectID</th><th>ClassID</th><th>ClassSubjectID</th><th>SortSeq</th><th>Status</th><th>SpeedInKnots</th><th>EngineCount</th><th>Horsepower</th><th>MaxPassengerCount</th><th>TallDeckClearance</th><th>RegDeckSpace</th><th>TallDeckSpace</th><th>Tonnage</th><th>Displacement</th><th>YearBuilt</th><th>YearRebuilt</th><th>MaxPassengerCountForInternational</th></tr><tr><td>i64</td><td>i64</td><td>i64</td><td>i64</td><td>i64</td><td>i64</td><td>i64</td><td>i64</td><td>i64</td><td>i64</td><td>i64</td><td>i64</td><td>i64</td><td>i64</td><td>i64</td><td>i64</td><td>i64</td><td>i64</td></tr></thead><tbody><tr><td>1</td><td>1</td><td>10</td><td>310</td><td>40</td><td>1</td><td>16</td><td>2</td><td>5000</td><td>1200</td><td>186</td><td>124</td><td>26</td><td>2477</td><td>3310</td><td>1981</td><td>1993</td><td>null</td></tr><tr><td>2</td><td>2</td><td>10</td><td>310</td><td>40</td><td>1</td><td>16</td><td>2</td><td>5000</td><td>1200</td><td>188</td><td>124</td><td>30</td><td>2477</td><td>3405</td><td>1981</td><td>2005</td><td>1090</td></tr><tr><td>65</td><td>428</td><td>162</td><td>427</td><td>75</td><td>1</td><td>15</td><td>2</td><td>6000</td><td>748</td><td>192</td><td>64</td><td>9</td><td>4623</td><td>2415</td><td>2010</td><td>null</td><td>null</td></tr><tr><td>74</td><td>487</td><td>100</td><td>319</td><td>35</td><td>1</td><td>17</td><td>2</td><td>6000</td><td>1500</td><td>192</td><td>144</td><td>34</td><td>3525</td><td>4384</td><td>2017</td><td>null</td><td>null</td></tr><tr><td>15</td><td>15</td><td>10</td><td>310</td><td>40</td><td>1</td><td>16</td><td>2</td><td>5000</td><td>1200</td><td>188</td><td>124</td><td>26</td><td>2475</td><td>3310</td><td>1979</td><td>1989</td><td>null</td></tr></tbody></table></div>"
      ],
      "text/plain": [
       "shape: (5, 18)\n",
       "┌──────────┬────────────┬─────────┬────────────┬───┬───────────┬───────────┬───────────┬───────────┐\n",
       "│ VesselID ┆ VesselSubj ┆ ClassID ┆ ClassSubje ┆ … ┆ Displacem ┆ YearBuilt ┆ YearRebui ┆ MaxPassen │\n",
       "│ ---      ┆ ectID      ┆ ---     ┆ ctID       ┆   ┆ ent       ┆ ---       ┆ lt        ┆ gerCountF │\n",
       "│ i64      ┆ ---        ┆ i64     ┆ ---        ┆   ┆ ---       ┆ i64       ┆ ---       ┆ orInterna │\n",
       "│          ┆ i64        ┆         ┆ i64        ┆   ┆ i64       ┆           ┆ i64       ┆ tio…      │\n",
       "│          ┆            ┆         ┆            ┆   ┆           ┆           ┆           ┆ ---       │\n",
       "│          ┆            ┆         ┆            ┆   ┆           ┆           ┆           ┆ i64       │\n",
       "╞══════════╪════════════╪═════════╪════════════╪═══╪═══════════╪═══════════╪═══════════╪═══════════╡\n",
       "│ 1        ┆ 1          ┆ 10      ┆ 310        ┆ … ┆ 3310      ┆ 1981      ┆ 1993      ┆ null      │\n",
       "│ 2        ┆ 2          ┆ 10      ┆ 310        ┆ … ┆ 3405      ┆ 1981      ┆ 2005      ┆ 1090      │\n",
       "│ 65       ┆ 428        ┆ 162     ┆ 427        ┆ … ┆ 2415      ┆ 2010      ┆ null      ┆ null      │\n",
       "│ 74       ┆ 487        ┆ 100     ┆ 319        ┆ … ┆ 4384      ┆ 2017      ┆ null      ┆ null      │\n",
       "│ 15       ┆ 15         ┆ 10      ┆ 310        ┆ … ┆ 3310      ┆ 1979      ┆ 1989      ┆ null      │\n",
       "└──────────┴────────────┴─────────┴────────────┴───┴───────────┴───────────┴───────────┴───────────┘"
      ]
     },
     "execution_count": 15,
     "metadata": {},
     "output_type": "execute_result"
    }
   ],
   "source": [
    "vessel_verbose.select(pl.selectors.numeric()).head()"
   ]
  },
  {
   "cell_type": "markdown",
   "metadata": {},
   "source": [
    "Some of the date based columns are integers or floats (e.g. `YearBuilt`). During data tidying we could convert them into a proper date type.\n"
   ]
  },
  {
   "cell_type": "markdown",
   "metadata": {},
   "source": [
    "What are all of the string columns?"
   ]
  },
  {
   "cell_type": "code",
   "execution_count": 16,
   "metadata": {},
   "outputs": [
    {
     "data": {
      "text/html": [
       "<div><style>\n",
       ".dataframe > thead > tr,\n",
       ".dataframe > tbody > tr {\n",
       "  text-align: right;\n",
       "  white-space: pre-wrap;\n",
       "}\n",
       "</style>\n",
       "<small>shape: (5, 15)</small><table border=\"1\" class=\"dataframe\"><thead><tr><th>VesselName</th><th>VesselAbbrev</th><th>ClassName</th><th>DrawingImg</th><th>SilhouetteImg</th><th>PublicDisplayName</th><th>ADAInfo</th><th>AdditionalInfo</th><th>VesselNameDesc</th><th>VesselHistory</th><th>Beam</th><th>CityBuilt</th><th>Draft</th><th>Length</th><th>PropulsionInfo</th></tr><tr><td>str</td><td>str</td><td>str</td><td>str</td><td>str</td><td>str</td><td>str</td><td>str</td><td>str</td><td>str</td><td>str</td><td>str</td><td>str</td><td>str</td><td>str</td></tr></thead><tbody><tr><td>&quot;Cathlamet&quot;</td><td>&quot;CAT&quot;</td><td>&quot;Issaquah 130&quot;</td><td>&quot;https://www.wsdot.wa.gov/ferri…</td><td>&quot;https://www.wsdot.wa.gov/ferri…</td><td>&quot;Issaquah&quot;</td><td>&quot;The MV Cathlamet has elevator …</td><td>&quot; &quot;</td><td>&quot;From the Kathlamet tribe, the …</td><td>&quot; &quot;</td><td>&quot;78&#x27; 8&quot;&quot;</td><td>&quot;Seattle, WA&quot;</td><td>&quot;16&#x27; 6&quot;&quot;</td><td>&quot;328&#x27;&quot;</td><td>&quot;DIESEL&quot;</td></tr><tr><td>&quot;Chelan&quot;</td><td>&quot;CHE&quot;</td><td>&quot;Issaquah 130&quot;</td><td>&quot;https://www.wsdot.wa.gov/ferri…</td><td>&quot;https://www.wsdot.wa.gov/ferri…</td><td>&quot;Issaquah&quot;</td><td>&quot;The MV Chelan has elevator acc…</td><td>&quot; &quot;</td><td>&quot;From the Chelan  language: Tsi…</td><td>&quot; &quot;</td><td>&quot;78&#x27; 8&quot;&quot;</td><td>&quot;Seattle, WA&quot;</td><td>&quot;16&#x27; 9&quot;&quot;</td><td>&quot;328&#x27;&quot;</td><td>&quot;DIESEL&quot;</td></tr><tr><td>&quot;Chetzemoka&quot;</td><td>&quot;CHZ&quot;</td><td>&quot;Kwa-di Tabil&quot;</td><td>&quot;https://www.wsdot.wa.gov/ferri…</td><td>&quot;https://www.wsdot.wa.gov/ferri…</td><td>&quot;Kwa-di Tabil&quot;</td><td>&quot;MV Chetzemoka has elevator acc…</td><td>null</td><td>&quot;The name honors a friendly Nat…</td><td>null</td><td>&quot;64&#x27;&quot;</td><td>&quot;Seattle&quot;</td><td>&quot;11&#x27;&quot;</td><td>&quot;273&#x27; 8&quot;&quot;</td><td>&quot;DIESEL&quot;</td></tr><tr><td>&quot;Chimacum&quot;</td><td>&quot;CHM&quot;</td><td>&quot;Olympic&quot;</td><td>&quot;https://www.wsdot.wa.gov/ferri…</td><td>&quot;https://www.wsdot.wa.gov/ferri…</td><td>&quot;Olympic&quot;</td><td>&quot;The vessel has two ADA complia…</td><td>null</td><td>&quot;“The Chimacum People who spoke…</td><td>&quot;Chimacum is the third of the 1…</td><td>&quot;83&#x27; 2&quot;&quot;</td><td>&quot;Seattle, WA&quot;</td><td>&quot;18&#x27;&quot;</td><td>&quot;362&#x27; 3&quot;&quot;</td><td>&quot;DIESEL&quot;</td></tr><tr><td>&quot;Issaquah&quot;</td><td>&quot;ISS&quot;</td><td>&quot;Issaquah 130&quot;</td><td>&quot;https://www.wsdot.wa.gov/ferri…</td><td>&quot;https://www.wsdot.wa.gov/ferri…</td><td>&quot;Issaquah&quot;</td><td>&quot;The MV Issaquah has elevator a…</td><td>&quot; &quot;</td><td>&quot;&quot;Snake.&quot; Native Americans who …</td><td>&quot; &quot;</td><td>&quot;78&#x27; 8&quot;&quot;</td><td>&quot;Seattle, WA&quot;</td><td>&quot;16&#x27; 6&quot;&quot;</td><td>&quot;328&#x27;&quot;</td><td>&quot;DIESEL&quot;</td></tr></tbody></table></div>"
      ],
      "text/plain": [
       "shape: (5, 15)\n",
       "┌────────────┬────────────┬────────────┬────────────┬───┬───────────┬────────┬─────────┬───────────┐\n",
       "│ VesselName ┆ VesselAbbr ┆ ClassName  ┆ DrawingImg ┆ … ┆ CityBuilt ┆ Draft  ┆ Length  ┆ Propulsio │\n",
       "│ ---        ┆ ev         ┆ ---        ┆ ---        ┆   ┆ ---       ┆ ---    ┆ ---     ┆ nInfo     │\n",
       "│ str        ┆ ---        ┆ str        ┆ str        ┆   ┆ str       ┆ str    ┆ str     ┆ ---       │\n",
       "│            ┆ str        ┆            ┆            ┆   ┆           ┆        ┆         ┆ str       │\n",
       "╞════════════╪════════════╪════════════╪════════════╪═══╪═══════════╪════════╪═════════╪═══════════╡\n",
       "│ Cathlamet  ┆ CAT        ┆ Issaquah   ┆ https://ww ┆ … ┆ Seattle,  ┆ 16' 6\" ┆ 328'    ┆ DIESEL    │\n",
       "│            ┆            ┆ 130        ┆ w.wsdot.wa ┆   ┆ WA        ┆        ┆         ┆           │\n",
       "│            ┆            ┆            ┆ .gov/ferri ┆   ┆           ┆        ┆         ┆           │\n",
       "│            ┆            ┆            ┆ …          ┆   ┆           ┆        ┆         ┆           │\n",
       "│ Chelan     ┆ CHE        ┆ Issaquah   ┆ https://ww ┆ … ┆ Seattle,  ┆ 16' 9\" ┆ 328'    ┆ DIESEL    │\n",
       "│            ┆            ┆ 130        ┆ w.wsdot.wa ┆   ┆ WA        ┆        ┆         ┆           │\n",
       "│            ┆            ┆            ┆ .gov/ferri ┆   ┆           ┆        ┆         ┆           │\n",
       "│            ┆            ┆            ┆ …          ┆   ┆           ┆        ┆         ┆           │\n",
       "│ Chetzemoka ┆ CHZ        ┆ Kwa-di     ┆ https://ww ┆ … ┆ Seattle   ┆ 11'    ┆ 273' 8\" ┆ DIESEL    │\n",
       "│            ┆            ┆ Tabil      ┆ w.wsdot.wa ┆   ┆           ┆        ┆         ┆           │\n",
       "│            ┆            ┆            ┆ .gov/ferri ┆   ┆           ┆        ┆         ┆           │\n",
       "│            ┆            ┆            ┆ …          ┆   ┆           ┆        ┆         ┆           │\n",
       "│ Chimacum   ┆ CHM        ┆ Olympic    ┆ https://ww ┆ … ┆ Seattle,  ┆ 18'    ┆ 362' 3\" ┆ DIESEL    │\n",
       "│            ┆            ┆            ┆ w.wsdot.wa ┆   ┆ WA        ┆        ┆         ┆           │\n",
       "│            ┆            ┆            ┆ .gov/ferri ┆   ┆           ┆        ┆         ┆           │\n",
       "│            ┆            ┆            ┆ …          ┆   ┆           ┆        ┆         ┆           │\n",
       "│ Issaquah   ┆ ISS        ┆ Issaquah   ┆ https://ww ┆ … ┆ Seattle,  ┆ 16' 6\" ┆ 328'    ┆ DIESEL    │\n",
       "│            ┆            ┆ 130        ┆ w.wsdot.wa ┆   ┆ WA        ┆        ┆         ┆           │\n",
       "│            ┆            ┆            ┆ .gov/ferri ┆   ┆           ┆        ┆         ┆           │\n",
       "│            ┆            ┆            ┆ …          ┆   ┆           ┆        ┆         ┆           │\n",
       "└────────────┴────────────┴────────────┴────────────┴───┴───────────┴────────┴─────────┴───────────┘"
      ]
     },
     "execution_count": 16,
     "metadata": {},
     "output_type": "execute_result"
    }
   ],
   "source": [
    "vessel_verbose.select(pl.selectors.string()).head()"
   ]
  },
  {
   "cell_type": "markdown",
   "metadata": {},
   "source": [
    "- It looks like some missing values are represented with an empty string `\"\"` while others have a `null` value. We may want to make this consistent when we tidy the data.\n",
    "- Some string columns are measurements that should be converted into numeric types."
   ]
  },
  {
   "cell_type": "markdown",
   "metadata": {},
   "source": [
    "How much data is missing?"
   ]
  },
  {
   "cell_type": "code",
   "execution_count": 17,
   "metadata": {},
   "outputs": [
    {
     "data": {
      "text/html": [
       "<div><style>\n",
       ".dataframe > thead > tr,\n",
       ".dataframe > tbody > tr {\n",
       "  text-align: right;\n",
       "  white-space: pre-wrap;\n",
       "}\n",
       "</style>\n",
       "<small>shape: (44, 3)</small><table border=\"1\" class=\"dataframe\"><thead><tr><th>Column Name</th><th>Missing Rows</th><th>% Missing</th></tr><tr><td>str</td><td>u32</td><td>f64</td></tr></thead><tbody><tr><td>&quot;MaxPassengerCountForInternatio…</td><td>20</td><td>95.2</td></tr><tr><td>&quot;YearRebuilt&quot;</td><td>11</td><td>52.4</td></tr><tr><td>&quot;AdditionalInfo&quot;</td><td>7</td><td>33.3</td></tr><tr><td>&quot;VesselHistory&quot;</td><td>3</td><td>14.3</td></tr><tr><td>&quot;VesselID&quot;</td><td>0</td><td>0.0</td></tr><tr><td>&hellip;</td><td>&hellip;</td><td>&hellip;</td></tr><tr><td>&quot;TallDeckSpace&quot;</td><td>0</td><td>0.0</td></tr><tr><td>&quot;Tonnage&quot;</td><td>0</td><td>0.0</td></tr><tr><td>&quot;Displacement&quot;</td><td>0</td><td>0.0</td></tr><tr><td>&quot;YearBuilt&quot;</td><td>0</td><td>0.0</td></tr><tr><td>&quot;SolasCertified&quot;</td><td>0</td><td>0.0</td></tr></tbody></table></div>"
      ],
      "text/plain": [
       "shape: (44, 3)\n",
       "┌─────────────────────────────────┬──────────────┬───────────┐\n",
       "│ Column Name                     ┆ Missing Rows ┆ % Missing │\n",
       "│ ---                             ┆ ---          ┆ ---       │\n",
       "│ str                             ┆ u32          ┆ f64       │\n",
       "╞═════════════════════════════════╪══════════════╪═══════════╡\n",
       "│ MaxPassengerCountForInternatio… ┆ 20           ┆ 95.2      │\n",
       "│ YearRebuilt                     ┆ 11           ┆ 52.4      │\n",
       "│ AdditionalInfo                  ┆ 7            ┆ 33.3      │\n",
       "│ VesselHistory                   ┆ 3            ┆ 14.3      │\n",
       "│ VesselID                        ┆ 0            ┆ 0.0       │\n",
       "│ …                               ┆ …            ┆ …         │\n",
       "│ TallDeckSpace                   ┆ 0            ┆ 0.0       │\n",
       "│ Tonnage                         ┆ 0            ┆ 0.0       │\n",
       "│ Displacement                    ┆ 0            ┆ 0.0       │\n",
       "│ YearBuilt                       ┆ 0            ┆ 0.0       │\n",
       "│ SolasCertified                  ┆ 0            ┆ 0.0       │\n",
       "└─────────────────────────────────┴──────────────┴───────────┘"
      ]
     },
     "execution_count": 17,
     "metadata": {},
     "output_type": "execute_result"
    }
   ],
   "source": [
    "(\n",
    "    vessel_verbose.null_count()\n",
    "    .transpose(include_header=True)\n",
    "    .rename({\"column\": \"Column Name\", \"column_0\": \"Missing Rows\"})\n",
    "    .with_columns(\n",
    "        ((pl.col(\"Missing Rows\") / vessel_verbose.shape[0]) * 100)\n",
    "        .round(1)\n",
    "        .alias(\"% Missing\")\n",
    "    )\n",
    "    .sort(\"Missing Rows\", descending=True)\n",
    ")"
   ]
  },
  {
   "cell_type": "markdown",
   "metadata": {},
   "source": [
    "#### terminal_locations\n",
    "\n",
    "In the interest of time, we will not explore the `terminal_locations` data set. But you should explore it in the same way as the other data sets."
   ]
  },
  {
   "cell_type": "code",
   "execution_count": 18,
   "metadata": {},
   "outputs": [
    {
     "data": {
      "text/html": [
       "<div><style>\n",
       ".dataframe > thead > tr,\n",
       ".dataframe > tbody > tr {\n",
       "  text-align: right;\n",
       "  white-space: pre-wrap;\n",
       "}\n",
       "</style>\n",
       "<small>shape: (5, 16)</small><table border=\"1\" class=\"dataframe\"><thead><tr><th>TerminalID</th><th>TerminalSubjectID</th><th>RegionID</th><th>TerminalName</th><th>TerminalAbbrev</th><th>SortSeq</th><th>Latitude</th><th>Longitude</th><th>AddressLineOne</th><th>AddressLineTwo</th><th>City</th><th>State</th><th>ZipCode</th><th>Country</th><th>MapLink</th><th>Directions</th></tr><tr><td>i64</td><td>i64</td><td>i64</td><td>str</td><td>str</td><td>i64</td><td>f64</td><td>f64</td><td>str</td><td>str</td><td>str</td><td>str</td><td>str</td><td>str</td><td>str</td><td>str</td></tr></thead><tbody><tr><td>1</td><td>111</td><td>1</td><td>&quot;Anacortes&quot;</td><td>&quot;ANA&quot;</td><td>10</td><td>48.507351</td><td>-122.677</td><td>&quot;2100 Ferry Terminal Road&quot;</td><td>null</td><td>&quot;Anacortes&quot;</td><td>&quot;WA&quot;</td><td>&quot;98221&quot;</td><td>&quot;USA&quot;</td><td>&quot;https://www.google.com/maps/pl…</td><td>&quot;From Interstate 5 take exit 23…</td></tr><tr><td>3</td><td>103</td><td>4</td><td>&quot;Bainbridge Island&quot;</td><td>&quot;BBI&quot;</td><td>40</td><td>47.622339</td><td>-122.509617</td><td>&quot;270 Olympic Drive SE&quot;</td><td>null</td><td>&quot;Bainbridge Island&quot;</td><td>&quot;WA&quot;</td><td>&quot;98110&quot;</td><td>&quot;USA&quot;</td><td>&quot;http://maps.google.com/maps?f=…</td><td>&quot;Northbound on Highway 3: Take …</td></tr><tr><td>4</td><td>102</td><td>4</td><td>&quot;Bremerton&quot;</td><td>&quot;BRE&quot;</td><td>30</td><td>47.561847</td><td>-122.624089</td><td>&quot;211 1st Street&quot;</td><td>null</td><td>&quot;Bremerton&quot;</td><td>&quot;WA&quot;</td><td>&quot;98337&quot;</td><td>&quot;USA&quot;</td><td>&quot;https://www.google.com/maps/pl…</td><td>&quot;Northbound on Highway 3:  Exit…</td></tr><tr><td>5</td><td>112</td><td>2</td><td>&quot;Clinton&quot;</td><td>&quot;CLI&quot;</td><td>20</td><td>47.9754</td><td>-122.349581</td><td>&quot;64 South Ferrydock Road&quot;</td><td>null</td><td>&quot;Clinton&quot;</td><td>&quot;WA&quot;</td><td>&quot;98236&quot;</td><td>&quot;USA&quot;</td><td>&quot;http://maps.yahoo.com/#mvt=m&amp;l…</td><td>&quot;Highway 20 on Whidbey Island t…</td></tr><tr><td>11</td><td>116</td><td>2</td><td>&quot;Coupeville &quot;</td><td>&quot;COU&quot;</td><td>40</td><td>48.159008</td><td>-122.672603</td><td>&quot;1400 South State Route 20&quot;</td><td>null</td><td>&quot;Coupeville&quot;</td><td>&quot;WA&quot;</td><td>&quot;98239&quot;</td><td>&quot;USA&quot;</td><td>&quot;https://maps.google.com/maps?q…</td><td>&quot;Northbound/from Clinton ferry …</td></tr></tbody></table></div>"
      ],
      "text/plain": [
       "shape: (5, 16)\n",
       "┌────────────┬────────────┬──────────┬────────────┬───┬─────────┬─────────┬────────────┬───────────┐\n",
       "│ TerminalID ┆ TerminalSu ┆ RegionID ┆ TerminalNa ┆ … ┆ ZipCode ┆ Country ┆ MapLink    ┆ Direction │\n",
       "│ ---        ┆ bjectID    ┆ ---      ┆ me         ┆   ┆ ---     ┆ ---     ┆ ---        ┆ s         │\n",
       "│ i64        ┆ ---        ┆ i64      ┆ ---        ┆   ┆ str     ┆ str     ┆ str        ┆ ---       │\n",
       "│            ┆ i64        ┆          ┆ str        ┆   ┆         ┆         ┆            ┆ str       │\n",
       "╞════════════╪════════════╪══════════╪════════════╪═══╪═════════╪═════════╪════════════╪═══════════╡\n",
       "│ 1          ┆ 111        ┆ 1        ┆ Anacortes  ┆ … ┆ 98221   ┆ USA     ┆ https://ww ┆ From Inte │\n",
       "│            ┆            ┆          ┆            ┆   ┆         ┆         ┆ w.google.c ┆ rstate 5  │\n",
       "│            ┆            ┆          ┆            ┆   ┆         ┆         ┆ om/maps/pl ┆ take exit │\n",
       "│            ┆            ┆          ┆            ┆   ┆         ┆         ┆ …          ┆ 23…       │\n",
       "│ 3          ┆ 103        ┆ 4        ┆ Bainbridge ┆ … ┆ 98110   ┆ USA     ┆ http://map ┆ Northboun │\n",
       "│            ┆            ┆          ┆ Island     ┆   ┆         ┆         ┆ s.google.c ┆ d on      │\n",
       "│            ┆            ┆          ┆            ┆   ┆         ┆         ┆ om/maps?f= ┆ Highway   │\n",
       "│            ┆            ┆          ┆            ┆   ┆         ┆         ┆ …          ┆ 3: Take … │\n",
       "│ 4          ┆ 102        ┆ 4        ┆ Bremerton  ┆ … ┆ 98337   ┆ USA     ┆ https://ww ┆ Northboun │\n",
       "│            ┆            ┆          ┆            ┆   ┆         ┆         ┆ w.google.c ┆ d on      │\n",
       "│            ┆            ┆          ┆            ┆   ┆         ┆         ┆ om/maps/pl ┆ Highway   │\n",
       "│            ┆            ┆          ┆            ┆   ┆         ┆         ┆ …          ┆ 3:  Exit… │\n",
       "│ 5          ┆ 112        ┆ 2        ┆ Clinton    ┆ … ┆ 98236   ┆ USA     ┆ http://map ┆ Highway   │\n",
       "│            ┆            ┆          ┆            ┆   ┆         ┆         ┆ s.yahoo.co ┆ 20 on     │\n",
       "│            ┆            ┆          ┆            ┆   ┆         ┆         ┆ m/#mvt=m&l ┆ Whidbey   │\n",
       "│            ┆            ┆          ┆            ┆   ┆         ┆         ┆ …          ┆ Island t… │\n",
       "│ 11         ┆ 116        ┆ 2        ┆ Coupeville ┆ … ┆ 98239   ┆ USA     ┆ https://ma ┆ Northboun │\n",
       "│            ┆            ┆          ┆            ┆   ┆         ┆         ┆ ps.google. ┆ d/from    │\n",
       "│            ┆            ┆          ┆            ┆   ┆         ┆         ┆ com/maps?q ┆ Clinton   │\n",
       "│            ┆            ┆          ┆            ┆   ┆         ┆         ┆ …          ┆ ferry …   │\n",
       "└────────────┴────────────┴──────────┴────────────┴───┴─────────┴─────────┴────────────┴───────────┘"
      ]
     },
     "execution_count": 18,
     "metadata": {},
     "output_type": "execute_result"
    }
   ],
   "source": [
    "terminal_locations.head()"
   ]
  },
  {
   "cell_type": "markdown",
   "metadata": {},
   "source": [
    "#### terminal_weather\n",
    "\n",
    "In the interest of time, we will not explore the `terminal_weather` data set. But you should explore it in the same way as the other data sets."
   ]
  },
  {
   "cell_type": "code",
   "execution_count": 19,
   "metadata": {},
   "outputs": [
    {
     "data": {
      "text/html": [
       "<div><style>\n",
       ".dataframe > thead > tr,\n",
       ".dataframe > tbody > tr {\n",
       "  text-align: right;\n",
       "  white-space: pre-wrap;\n",
       "}\n",
       "</style>\n",
       "<small>shape: (5, 16)</small><table border=\"1\" class=\"dataframe\"><thead><tr><th>latitude</th><th>longitude</th><th>generationtime_ms</th><th>utc_offset_seconds</th><th>timezone</th><th>timezone_abbreviation</th><th>elevation</th><th>time</th><th>weather_code</th><th>temperature_2m</th><th>precipitation</th><th>cloud_cover</th><th>wind_speed_10m</th><th>wind_direction_10m</th><th>wind_gusts_10m</th><th>terminal_name</th></tr><tr><td>f64</td><td>f64</td><td>f64</td><td>i64</td><td>str</td><td>str</td><td>f64</td><td>str</td><td>i64</td><td>f64</td><td>f64</td><td>i64</td><td>f64</td><td>i64</td><td>f64</td><td>str</td></tr></thead><tbody><tr><td>48.541298</td><td>-122.727264</td><td>0.238061</td><td>0</td><td>&quot;GMT&quot;</td><td>&quot;GMT&quot;</td><td>0.0</td><td>&quot;2024-03-01T00:00&quot;</td><td>3</td><td>6.2</td><td>0.0</td><td>80</td><td>37.4</td><td>154</td><td>47.9</td><td>&quot;Anacortes&quot;</td></tr><tr><td>48.541298</td><td>-122.727264</td><td>0.238061</td><td>0</td><td>&quot;GMT&quot;</td><td>&quot;GMT&quot;</td><td>0.0</td><td>&quot;2024-03-01T01:00&quot;</td><td>51</td><td>5.9</td><td>0.1</td><td>94</td><td>36.7</td><td>159</td><td>48.6</td><td>&quot;Anacortes&quot;</td></tr><tr><td>48.541298</td><td>-122.727264</td><td>0.238061</td><td>0</td><td>&quot;GMT&quot;</td><td>&quot;GMT&quot;</td><td>0.0</td><td>&quot;2024-03-01T02:00&quot;</td><td>3</td><td>5.7</td><td>0.0</td><td>83</td><td>36.6</td><td>156</td><td>49.0</td><td>&quot;Anacortes&quot;</td></tr><tr><td>48.541298</td><td>-122.727264</td><td>0.238061</td><td>0</td><td>&quot;GMT&quot;</td><td>&quot;GMT&quot;</td><td>0.0</td><td>&quot;2024-03-01T03:00&quot;</td><td>1</td><td>5.1</td><td>0.0</td><td>40</td><td>40.9</td><td>152</td><td>54.7</td><td>&quot;Anacortes&quot;</td></tr><tr><td>48.541298</td><td>-122.727264</td><td>0.238061</td><td>0</td><td>&quot;GMT&quot;</td><td>&quot;GMT&quot;</td><td>0.0</td><td>&quot;2024-03-01T04:00&quot;</td><td>2</td><td>4.6</td><td>0.0</td><td>66</td><td>40.7</td><td>144</td><td>54.7</td><td>&quot;Anacortes&quot;</td></tr></tbody></table></div>"
      ],
      "text/plain": [
       "shape: (5, 16)\n",
       "┌───────────┬───────────┬───────────┬───────────┬───┬───────────┬───────────┬───────────┬──────────┐\n",
       "│ latitude  ┆ longitude ┆ generatio ┆ utc_offse ┆ … ┆ wind_spee ┆ wind_dire ┆ wind_gust ┆ terminal │\n",
       "│ ---       ┆ ---       ┆ ntime_ms  ┆ t_seconds ┆   ┆ d_10m     ┆ ction_10m ┆ s_10m     ┆ _name    │\n",
       "│ f64       ┆ f64       ┆ ---       ┆ ---       ┆   ┆ ---       ┆ ---       ┆ ---       ┆ ---      │\n",
       "│           ┆           ┆ f64       ┆ i64       ┆   ┆ f64       ┆ i64       ┆ f64       ┆ str      │\n",
       "╞═══════════╪═══════════╪═══════════╪═══════════╪═══╪═══════════╪═══════════╪═══════════╪══════════╡\n",
       "│ 48.541298 ┆ -122.7272 ┆ 0.238061  ┆ 0         ┆ … ┆ 37.4      ┆ 154       ┆ 47.9      ┆ Anacorte │\n",
       "│           ┆ 64        ┆           ┆           ┆   ┆           ┆           ┆           ┆ s        │\n",
       "│ 48.541298 ┆ -122.7272 ┆ 0.238061  ┆ 0         ┆ … ┆ 36.7      ┆ 159       ┆ 48.6      ┆ Anacorte │\n",
       "│           ┆ 64        ┆           ┆           ┆   ┆           ┆           ┆           ┆ s        │\n",
       "│ 48.541298 ┆ -122.7272 ┆ 0.238061  ┆ 0         ┆ … ┆ 36.6      ┆ 156       ┆ 49.0      ┆ Anacorte │\n",
       "│           ┆ 64        ┆           ┆           ┆   ┆           ┆           ┆           ┆ s        │\n",
       "│ 48.541298 ┆ -122.7272 ┆ 0.238061  ┆ 0         ┆ … ┆ 40.9      ┆ 152       ┆ 54.7      ┆ Anacorte │\n",
       "│           ┆ 64        ┆           ┆           ┆   ┆           ┆           ┆           ┆ s        │\n",
       "│ 48.541298 ┆ -122.7272 ┆ 0.238061  ┆ 0         ┆ … ┆ 40.7      ┆ 144       ┆ 54.7      ┆ Anacorte │\n",
       "│           ┆ 64        ┆           ┆           ┆   ┆           ┆           ┆           ┆ s        │\n",
       "└───────────┴───────────┴───────────┴───────────┴───┴───────────┴───────────┴───────────┴──────────┘"
      ]
     },
     "execution_count": 19,
     "metadata": {},
     "output_type": "execute_result"
    }
   ],
   "source": [
    "terminal_weather.head()"
   ]
  },
  {
   "cell_type": "markdown",
   "metadata": {},
   "source": [
    "## Task 3 - Tidy the Data"
   ]
  },
  {
   "cell_type": "markdown",
   "metadata": {},
   "source": [
    "### 🔄 Task"
   ]
  },
  {
   "cell_type": "markdown",
   "metadata": {},
   "source": [
    "Now that you have a basic understanding of the data, the next step is to tidy the data."
   ]
  },
  {
   "cell_type": "markdown",
   "metadata": {},
   "source": [
    "### 🧑‍💻 Code"
   ]
  },
  {
   "cell_type": "markdown",
   "metadata": {},
   "source": [
    "#### terminal_locations"
   ]
  },
  {
   "cell_type": "code",
   "execution_count": 20,
   "metadata": {},
   "outputs": [
    {
     "data": {
      "text/html": [
       "<div><style>\n",
       ".dataframe > thead > tr,\n",
       ".dataframe > tbody > tr {\n",
       "  text-align: right;\n",
       "  white-space: pre-wrap;\n",
       "}\n",
       "</style>\n",
       "<small>shape: (5, 16)</small><table border=\"1\" class=\"dataframe\"><thead><tr><th>TerminalID</th><th>TerminalSubjectID</th><th>RegionID</th><th>TerminalName</th><th>TerminalAbbrev</th><th>SortSeq</th><th>Latitude</th><th>Longitude</th><th>AddressLineOne</th><th>AddressLineTwo</th><th>City</th><th>State</th><th>ZipCode</th><th>Country</th><th>MapLink</th><th>Directions</th></tr><tr><td>i64</td><td>i64</td><td>i64</td><td>str</td><td>str</td><td>i64</td><td>f64</td><td>f64</td><td>str</td><td>str</td><td>str</td><td>str</td><td>str</td><td>str</td><td>str</td><td>str</td></tr></thead><tbody><tr><td>1</td><td>111</td><td>1</td><td>&quot;Anacortes&quot;</td><td>&quot;ANA&quot;</td><td>10</td><td>48.507351</td><td>-122.677</td><td>&quot;2100 Ferry Terminal Road&quot;</td><td>null</td><td>&quot;Anacortes&quot;</td><td>&quot;WA&quot;</td><td>&quot;98221&quot;</td><td>&quot;USA&quot;</td><td>&quot;https://www.google.com/maps/pl…</td><td>&quot;From Interstate 5 take exit 23…</td></tr><tr><td>3</td><td>103</td><td>4</td><td>&quot;Bainbridge Island&quot;</td><td>&quot;BBI&quot;</td><td>40</td><td>47.622339</td><td>-122.509617</td><td>&quot;270 Olympic Drive SE&quot;</td><td>null</td><td>&quot;Bainbridge Island&quot;</td><td>&quot;WA&quot;</td><td>&quot;98110&quot;</td><td>&quot;USA&quot;</td><td>&quot;http://maps.google.com/maps?f=…</td><td>&quot;Northbound on Highway 3: Take …</td></tr><tr><td>4</td><td>102</td><td>4</td><td>&quot;Bremerton&quot;</td><td>&quot;BRE&quot;</td><td>30</td><td>47.561847</td><td>-122.624089</td><td>&quot;211 1st Street&quot;</td><td>null</td><td>&quot;Bremerton&quot;</td><td>&quot;WA&quot;</td><td>&quot;98337&quot;</td><td>&quot;USA&quot;</td><td>&quot;https://www.google.com/maps/pl…</td><td>&quot;Northbound on Highway 3:  Exit…</td></tr><tr><td>5</td><td>112</td><td>2</td><td>&quot;Clinton&quot;</td><td>&quot;CLI&quot;</td><td>20</td><td>47.9754</td><td>-122.349581</td><td>&quot;64 South Ferrydock Road&quot;</td><td>null</td><td>&quot;Clinton&quot;</td><td>&quot;WA&quot;</td><td>&quot;98236&quot;</td><td>&quot;USA&quot;</td><td>&quot;http://maps.yahoo.com/#mvt=m&amp;l…</td><td>&quot;Highway 20 on Whidbey Island t…</td></tr><tr><td>11</td><td>116</td><td>2</td><td>&quot;Coupeville &quot;</td><td>&quot;COU&quot;</td><td>40</td><td>48.159008</td><td>-122.672603</td><td>&quot;1400 South State Route 20&quot;</td><td>null</td><td>&quot;Coupeville&quot;</td><td>&quot;WA&quot;</td><td>&quot;98239&quot;</td><td>&quot;USA&quot;</td><td>&quot;https://maps.google.com/maps?q…</td><td>&quot;Northbound/from Clinton ferry …</td></tr></tbody></table></div>"
      ],
      "text/plain": [
       "shape: (5, 16)\n",
       "┌────────────┬────────────┬──────────┬────────────┬───┬─────────┬─────────┬────────────┬───────────┐\n",
       "│ TerminalID ┆ TerminalSu ┆ RegionID ┆ TerminalNa ┆ … ┆ ZipCode ┆ Country ┆ MapLink    ┆ Direction │\n",
       "│ ---        ┆ bjectID    ┆ ---      ┆ me         ┆   ┆ ---     ┆ ---     ┆ ---        ┆ s         │\n",
       "│ i64        ┆ ---        ┆ i64      ┆ ---        ┆   ┆ str     ┆ str     ┆ str        ┆ ---       │\n",
       "│            ┆ i64        ┆          ┆ str        ┆   ┆         ┆         ┆            ┆ str       │\n",
       "╞════════════╪════════════╪══════════╪════════════╪═══╪═════════╪═════════╪════════════╪═══════════╡\n",
       "│ 1          ┆ 111        ┆ 1        ┆ Anacortes  ┆ … ┆ 98221   ┆ USA     ┆ https://ww ┆ From Inte │\n",
       "│            ┆            ┆          ┆            ┆   ┆         ┆         ┆ w.google.c ┆ rstate 5  │\n",
       "│            ┆            ┆          ┆            ┆   ┆         ┆         ┆ om/maps/pl ┆ take exit │\n",
       "│            ┆            ┆          ┆            ┆   ┆         ┆         ┆ …          ┆ 23…       │\n",
       "│ 3          ┆ 103        ┆ 4        ┆ Bainbridge ┆ … ┆ 98110   ┆ USA     ┆ http://map ┆ Northboun │\n",
       "│            ┆            ┆          ┆ Island     ┆   ┆         ┆         ┆ s.google.c ┆ d on      │\n",
       "│            ┆            ┆          ┆            ┆   ┆         ┆         ┆ om/maps?f= ┆ Highway   │\n",
       "│            ┆            ┆          ┆            ┆   ┆         ┆         ┆ …          ┆ 3: Take … │\n",
       "│ 4          ┆ 102        ┆ 4        ┆ Bremerton  ┆ … ┆ 98337   ┆ USA     ┆ https://ww ┆ Northboun │\n",
       "│            ┆            ┆          ┆            ┆   ┆         ┆         ┆ w.google.c ┆ d on      │\n",
       "│            ┆            ┆          ┆            ┆   ┆         ┆         ┆ om/maps/pl ┆ Highway   │\n",
       "│            ┆            ┆          ┆            ┆   ┆         ┆         ┆ …          ┆ 3:  Exit… │\n",
       "│ 5          ┆ 112        ┆ 2        ┆ Clinton    ┆ … ┆ 98236   ┆ USA     ┆ http://map ┆ Highway   │\n",
       "│            ┆            ┆          ┆            ┆   ┆         ┆         ┆ s.yahoo.co ┆ 20 on     │\n",
       "│            ┆            ┆          ┆            ┆   ┆         ┆         ┆ m/#mvt=m&l ┆ Whidbey   │\n",
       "│            ┆            ┆          ┆            ┆   ┆         ┆         ┆ …          ┆ Island t… │\n",
       "│ 11         ┆ 116        ┆ 2        ┆ Coupeville ┆ … ┆ 98239   ┆ USA     ┆ https://ma ┆ Northboun │\n",
       "│            ┆            ┆          ┆            ┆   ┆         ┆         ┆ ps.google. ┆ d/from    │\n",
       "│            ┆            ┆          ┆            ┆   ┆         ┆         ┆ com/maps?q ┆ Clinton   │\n",
       "│            ┆            ┆          ┆            ┆   ┆         ┆         ┆ …          ┆ ferry …   │\n",
       "└────────────┴────────────┴──────────┴────────────┴───┴─────────┴─────────┴────────────┴───────────┘"
      ]
     },
     "execution_count": 20,
     "metadata": {},
     "output_type": "execute_result"
    }
   ],
   "source": [
    "terminal_locations.head()"
   ]
  },
  {
   "cell_type": "markdown",
   "metadata": {},
   "source": [
    "Clean the string values and keep only the desired columns."
   ]
  },
  {
   "cell_type": "code",
   "execution_count": 21,
   "metadata": {},
   "outputs": [
    {
     "data": {
      "text/html": [
       "<div><style>\n",
       ".dataframe > thead > tr,\n",
       ".dataframe > tbody > tr {\n",
       "  text-align: right;\n",
       "  white-space: pre-wrap;\n",
       "}\n",
       "</style>\n",
       "<small>shape: (20, 4)</small><table border=\"1\" class=\"dataframe\"><thead><tr><th>TerminalName</th><th>TerminalAbbrev</th><th>Latitude</th><th>Longitude</th></tr><tr><td>str</td><td>str</td><td>f64</td><td>f64</td></tr></thead><tbody><tr><td>&quot;anacortes&quot;</td><td>&quot;ANA&quot;</td><td>48.507351</td><td>-122.677</td></tr><tr><td>&quot;bainbridge island&quot;</td><td>&quot;BBI&quot;</td><td>47.622339</td><td>-122.509617</td></tr><tr><td>&quot;bremerton&quot;</td><td>&quot;BRE&quot;</td><td>47.561847</td><td>-122.624089</td></tr><tr><td>&quot;clinton&quot;</td><td>&quot;CLI&quot;</td><td>47.9754</td><td>-122.349581</td></tr><tr><td>&quot;coupeville&quot;</td><td>&quot;COU&quot;</td><td>48.159008</td><td>-122.672603</td></tr><tr><td>&hellip;</td><td>&hellip;</td><td>&hellip;</td><td>&hellip;</td></tr><tr><td>&quot;shaw island&quot;</td><td>&quot;SHI&quot;</td><td>48.584792</td><td>-122.92965</td></tr><tr><td>&quot;sidney b.c.&quot;</td><td>&quot;SID&quot;</td><td>48.643114</td><td>-123.396739</td></tr><tr><td>&quot;southworth&quot;</td><td>&quot;SOU&quot;</td><td>47.513064</td><td>-122.495742</td></tr><tr><td>&quot;tahlequah&quot;</td><td>&quot;TAH&quot;</td><td>47.331961</td><td>-122.507786</td></tr><tr><td>&quot;vashon island&quot;</td><td>&quot;VAI&quot;</td><td>47.51095</td><td>-122.463639</td></tr></tbody></table></div>"
      ],
      "text/plain": [
       "shape: (20, 4)\n",
       "┌───────────────────┬────────────────┬───────────┬─────────────┐\n",
       "│ TerminalName      ┆ TerminalAbbrev ┆ Latitude  ┆ Longitude   │\n",
       "│ ---               ┆ ---            ┆ ---       ┆ ---         │\n",
       "│ str               ┆ str            ┆ f64       ┆ f64         │\n",
       "╞═══════════════════╪════════════════╪═══════════╪═════════════╡\n",
       "│ anacortes         ┆ ANA            ┆ 48.507351 ┆ -122.677    │\n",
       "│ bainbridge island ┆ BBI            ┆ 47.622339 ┆ -122.509617 │\n",
       "│ bremerton         ┆ BRE            ┆ 47.561847 ┆ -122.624089 │\n",
       "│ clinton           ┆ CLI            ┆ 47.9754   ┆ -122.349581 │\n",
       "│ coupeville        ┆ COU            ┆ 48.159008 ┆ -122.672603 │\n",
       "│ …                 ┆ …              ┆ …         ┆ …           │\n",
       "│ shaw island       ┆ SHI            ┆ 48.584792 ┆ -122.92965  │\n",
       "│ sidney b.c.       ┆ SID            ┆ 48.643114 ┆ -123.396739 │\n",
       "│ southworth        ┆ SOU            ┆ 47.513064 ┆ -122.495742 │\n",
       "│ tahlequah         ┆ TAH            ┆ 47.331961 ┆ -122.507786 │\n",
       "│ vashon island     ┆ VAI            ┆ 47.51095  ┆ -122.463639 │\n",
       "└───────────────────┴────────────────┴───────────┴─────────────┘"
      ]
     },
     "execution_count": 21,
     "metadata": {},
     "output_type": "execute_result"
    }
   ],
   "source": [
    "terminal_locations_clean = terminal_locations.select(\n",
    "    pl.col(\"TerminalName\").str.to_lowercase().str.strip_chars(),\n",
    "    pl.col(\"TerminalAbbrev\").str.to_uppercase().str.strip_chars(),\n",
    "    pl.col(\"Latitude\"),\n",
    "    pl.col(\"Longitude\"),\n",
    ")\n",
    "\n",
    "terminal_locations_clean"
   ]
  },
  {
   "cell_type": "markdown",
   "metadata": {},
   "source": [
    "#### terminal_weather"
   ]
  },
  {
   "cell_type": "code",
   "execution_count": 22,
   "metadata": {
    "tags": []
   },
   "outputs": [
    {
     "data": {
      "text/html": [
       "<div><style>\n",
       ".dataframe > thead > tr,\n",
       ".dataframe > tbody > tr {\n",
       "  text-align: right;\n",
       "  white-space: pre-wrap;\n",
       "}\n",
       "</style>\n",
       "<small>shape: (5, 16)</small><table border=\"1\" class=\"dataframe\"><thead><tr><th>latitude</th><th>longitude</th><th>generationtime_ms</th><th>utc_offset_seconds</th><th>timezone</th><th>timezone_abbreviation</th><th>elevation</th><th>time</th><th>weather_code</th><th>temperature_2m</th><th>precipitation</th><th>cloud_cover</th><th>wind_speed_10m</th><th>wind_direction_10m</th><th>wind_gusts_10m</th><th>terminal_name</th></tr><tr><td>f64</td><td>f64</td><td>f64</td><td>i64</td><td>str</td><td>str</td><td>f64</td><td>str</td><td>i64</td><td>f64</td><td>f64</td><td>i64</td><td>f64</td><td>i64</td><td>f64</td><td>str</td></tr></thead><tbody><tr><td>48.541298</td><td>-122.727264</td><td>0.238061</td><td>0</td><td>&quot;GMT&quot;</td><td>&quot;GMT&quot;</td><td>0.0</td><td>&quot;2024-03-01T00:00&quot;</td><td>3</td><td>6.2</td><td>0.0</td><td>80</td><td>37.4</td><td>154</td><td>47.9</td><td>&quot;Anacortes&quot;</td></tr><tr><td>48.541298</td><td>-122.727264</td><td>0.238061</td><td>0</td><td>&quot;GMT&quot;</td><td>&quot;GMT&quot;</td><td>0.0</td><td>&quot;2024-03-01T01:00&quot;</td><td>51</td><td>5.9</td><td>0.1</td><td>94</td><td>36.7</td><td>159</td><td>48.6</td><td>&quot;Anacortes&quot;</td></tr><tr><td>48.541298</td><td>-122.727264</td><td>0.238061</td><td>0</td><td>&quot;GMT&quot;</td><td>&quot;GMT&quot;</td><td>0.0</td><td>&quot;2024-03-01T02:00&quot;</td><td>3</td><td>5.7</td><td>0.0</td><td>83</td><td>36.6</td><td>156</td><td>49.0</td><td>&quot;Anacortes&quot;</td></tr><tr><td>48.541298</td><td>-122.727264</td><td>0.238061</td><td>0</td><td>&quot;GMT&quot;</td><td>&quot;GMT&quot;</td><td>0.0</td><td>&quot;2024-03-01T03:00&quot;</td><td>1</td><td>5.1</td><td>0.0</td><td>40</td><td>40.9</td><td>152</td><td>54.7</td><td>&quot;Anacortes&quot;</td></tr><tr><td>48.541298</td><td>-122.727264</td><td>0.238061</td><td>0</td><td>&quot;GMT&quot;</td><td>&quot;GMT&quot;</td><td>0.0</td><td>&quot;2024-03-01T04:00&quot;</td><td>2</td><td>4.6</td><td>0.0</td><td>66</td><td>40.7</td><td>144</td><td>54.7</td><td>&quot;Anacortes&quot;</td></tr></tbody></table></div>"
      ],
      "text/plain": [
       "shape: (5, 16)\n",
       "┌───────────┬───────────┬───────────┬───────────┬───┬───────────┬───────────┬───────────┬──────────┐\n",
       "│ latitude  ┆ longitude ┆ generatio ┆ utc_offse ┆ … ┆ wind_spee ┆ wind_dire ┆ wind_gust ┆ terminal │\n",
       "│ ---       ┆ ---       ┆ ntime_ms  ┆ t_seconds ┆   ┆ d_10m     ┆ ction_10m ┆ s_10m     ┆ _name    │\n",
       "│ f64       ┆ f64       ┆ ---       ┆ ---       ┆   ┆ ---       ┆ ---       ┆ ---       ┆ ---      │\n",
       "│           ┆           ┆ f64       ┆ i64       ┆   ┆ f64       ┆ i64       ┆ f64       ┆ str      │\n",
       "╞═══════════╪═══════════╪═══════════╪═══════════╪═══╪═══════════╪═══════════╪═══════════╪══════════╡\n",
       "│ 48.541298 ┆ -122.7272 ┆ 0.238061  ┆ 0         ┆ … ┆ 37.4      ┆ 154       ┆ 47.9      ┆ Anacorte │\n",
       "│           ┆ 64        ┆           ┆           ┆   ┆           ┆           ┆           ┆ s        │\n",
       "│ 48.541298 ┆ -122.7272 ┆ 0.238061  ┆ 0         ┆ … ┆ 36.7      ┆ 159       ┆ 48.6      ┆ Anacorte │\n",
       "│           ┆ 64        ┆           ┆           ┆   ┆           ┆           ┆           ┆ s        │\n",
       "│ 48.541298 ┆ -122.7272 ┆ 0.238061  ┆ 0         ┆ … ┆ 36.6      ┆ 156       ┆ 49.0      ┆ Anacorte │\n",
       "│           ┆ 64        ┆           ┆           ┆   ┆           ┆           ┆           ┆ s        │\n",
       "│ 48.541298 ┆ -122.7272 ┆ 0.238061  ┆ 0         ┆ … ┆ 40.9      ┆ 152       ┆ 54.7      ┆ Anacorte │\n",
       "│           ┆ 64        ┆           ┆           ┆   ┆           ┆           ┆           ┆ s        │\n",
       "│ 48.541298 ┆ -122.7272 ┆ 0.238061  ┆ 0         ┆ … ┆ 40.7      ┆ 144       ┆ 54.7      ┆ Anacorte │\n",
       "│           ┆ 64        ┆           ┆           ┆   ┆           ┆           ┆           ┆ s        │\n",
       "└───────────┴───────────┴───────────┴───────────┴───┴───────────┴───────────┴───────────┴──────────┘"
      ]
     },
     "execution_count": 22,
     "metadata": {},
     "output_type": "execute_result"
    }
   ],
   "source": [
    "terminal_weather.head()"
   ]
  },
  {
   "cell_type": "markdown",
   "metadata": {
    "tags": []
   },
   "source": [
    "Tidy strings."
   ]
  },
  {
   "cell_type": "code",
   "execution_count": 23,
   "metadata": {
    "tags": []
   },
   "outputs": [
    {
     "data": {
      "text/html": [
       "<div><style>\n",
       ".dataframe > thead > tr,\n",
       ".dataframe > tbody > tr {\n",
       "  text-align: right;\n",
       "  white-space: pre-wrap;\n",
       "}\n",
       "</style>\n",
       "<small>shape: (5, 16)</small><table border=\"1\" class=\"dataframe\"><thead><tr><th>latitude</th><th>longitude</th><th>generationtime_ms</th><th>utc_offset_seconds</th><th>timezone</th><th>timezone_abbreviation</th><th>elevation</th><th>time</th><th>weather_code</th><th>temperature_2m</th><th>precipitation</th><th>cloud_cover</th><th>wind_speed_10m</th><th>wind_direction_10m</th><th>wind_gusts_10m</th><th>terminal_name</th></tr><tr><td>f64</td><td>f64</td><td>f64</td><td>i64</td><td>str</td><td>str</td><td>f64</td><td>str</td><td>i64</td><td>f64</td><td>f64</td><td>i64</td><td>f64</td><td>i64</td><td>f64</td><td>str</td></tr></thead><tbody><tr><td>48.541298</td><td>-122.727264</td><td>0.238061</td><td>0</td><td>&quot;gmt&quot;</td><td>&quot;gmt&quot;</td><td>0.0</td><td>&quot;2024-03-01T00:00&quot;</td><td>3</td><td>6.2</td><td>0.0</td><td>80</td><td>37.4</td><td>154</td><td>47.9</td><td>&quot;anacortes&quot;</td></tr><tr><td>48.541298</td><td>-122.727264</td><td>0.238061</td><td>0</td><td>&quot;gmt&quot;</td><td>&quot;gmt&quot;</td><td>0.0</td><td>&quot;2024-03-01T01:00&quot;</td><td>51</td><td>5.9</td><td>0.1</td><td>94</td><td>36.7</td><td>159</td><td>48.6</td><td>&quot;anacortes&quot;</td></tr><tr><td>48.541298</td><td>-122.727264</td><td>0.238061</td><td>0</td><td>&quot;gmt&quot;</td><td>&quot;gmt&quot;</td><td>0.0</td><td>&quot;2024-03-01T02:00&quot;</td><td>3</td><td>5.7</td><td>0.0</td><td>83</td><td>36.6</td><td>156</td><td>49.0</td><td>&quot;anacortes&quot;</td></tr><tr><td>48.541298</td><td>-122.727264</td><td>0.238061</td><td>0</td><td>&quot;gmt&quot;</td><td>&quot;gmt&quot;</td><td>0.0</td><td>&quot;2024-03-01T03:00&quot;</td><td>1</td><td>5.1</td><td>0.0</td><td>40</td><td>40.9</td><td>152</td><td>54.7</td><td>&quot;anacortes&quot;</td></tr><tr><td>48.541298</td><td>-122.727264</td><td>0.238061</td><td>0</td><td>&quot;gmt&quot;</td><td>&quot;gmt&quot;</td><td>0.0</td><td>&quot;2024-03-01T04:00&quot;</td><td>2</td><td>4.6</td><td>0.0</td><td>66</td><td>40.7</td><td>144</td><td>54.7</td><td>&quot;anacortes&quot;</td></tr></tbody></table></div>"
      ],
      "text/plain": [
       "shape: (5, 16)\n",
       "┌───────────┬───────────┬───────────┬───────────┬───┬───────────┬───────────┬───────────┬──────────┐\n",
       "│ latitude  ┆ longitude ┆ generatio ┆ utc_offse ┆ … ┆ wind_spee ┆ wind_dire ┆ wind_gust ┆ terminal │\n",
       "│ ---       ┆ ---       ┆ ntime_ms  ┆ t_seconds ┆   ┆ d_10m     ┆ ction_10m ┆ s_10m     ┆ _name    │\n",
       "│ f64       ┆ f64       ┆ ---       ┆ ---       ┆   ┆ ---       ┆ ---       ┆ ---       ┆ ---      │\n",
       "│           ┆           ┆ f64       ┆ i64       ┆   ┆ f64       ┆ i64       ┆ f64       ┆ str      │\n",
       "╞═══════════╪═══════════╪═══════════╪═══════════╪═══╪═══════════╪═══════════╪═══════════╪══════════╡\n",
       "│ 48.541298 ┆ -122.7272 ┆ 0.238061  ┆ 0         ┆ … ┆ 37.4      ┆ 154       ┆ 47.9      ┆ anacorte │\n",
       "│           ┆ 64        ┆           ┆           ┆   ┆           ┆           ┆           ┆ s        │\n",
       "│ 48.541298 ┆ -122.7272 ┆ 0.238061  ┆ 0         ┆ … ┆ 36.7      ┆ 159       ┆ 48.6      ┆ anacorte │\n",
       "│           ┆ 64        ┆           ┆           ┆   ┆           ┆           ┆           ┆ s        │\n",
       "│ 48.541298 ┆ -122.7272 ┆ 0.238061  ┆ 0         ┆ … ┆ 36.6      ┆ 156       ┆ 49.0      ┆ anacorte │\n",
       "│           ┆ 64        ┆           ┆           ┆   ┆           ┆           ┆           ┆ s        │\n",
       "│ 48.541298 ┆ -122.7272 ┆ 0.238061  ┆ 0         ┆ … ┆ 40.9      ┆ 152       ┆ 54.7      ┆ anacorte │\n",
       "│           ┆ 64        ┆           ┆           ┆   ┆           ┆           ┆           ┆ s        │\n",
       "│ 48.541298 ┆ -122.7272 ┆ 0.238061  ┆ 0         ┆ … ┆ 40.7      ┆ 144       ┆ 54.7      ┆ anacorte │\n",
       "│           ┆ 64        ┆           ┆           ┆   ┆           ┆           ┆           ┆ s        │\n",
       "└───────────┴───────────┴───────────┴───────────┴───┴───────────┴───────────┴───────────┴──────────┘"
      ]
     },
     "execution_count": 23,
     "metadata": {},
     "output_type": "execute_result"
    }
   ],
   "source": [
    "terminal_weather_clean = terminal_weather.with_columns(\n",
    "    pl.col(\"timezone\").str.to_lowercase().str.strip_chars(),\n",
    "    pl.col(\"timezone_abbreviation\").str.to_lowercase().str.strip_chars(),\n",
    "    pl.col(\"terminal_name\").str.to_lowercase().str.strip_chars(),\n",
    ")\n",
    "\n",
    "terminal_weather_clean.head()"
   ]
  },
  {
   "cell_type": "markdown",
   "metadata": {
    "tags": []
   },
   "source": [
    "Tidy datetime."
   ]
  },
  {
   "cell_type": "code",
   "execution_count": 24,
   "metadata": {},
   "outputs": [
    {
     "data": {
      "text/html": [
       "<div><style>\n",
       ".dataframe > thead > tr,\n",
       ".dataframe > tbody > tr {\n",
       "  text-align: right;\n",
       "  white-space: pre-wrap;\n",
       "}\n",
       "</style>\n",
       "<small>shape: (1, 2)</small><table border=\"1\" class=\"dataframe\"><thead><tr><th>timezone</th><th>count</th></tr><tr><td>str</td><td>u32</td></tr></thead><tbody><tr><td>&quot;gmt&quot;</td><td>75840</td></tr></tbody></table></div>"
      ],
      "text/plain": [
       "shape: (1, 2)\n",
       "┌──────────┬───────┐\n",
       "│ timezone ┆ count │\n",
       "│ ---      ┆ ---   │\n",
       "│ str      ┆ u32   │\n",
       "╞══════════╪═══════╡\n",
       "│ gmt      ┆ 75840 │\n",
       "└──────────┴───────┘"
      ]
     },
     "execution_count": 24,
     "metadata": {},
     "output_type": "execute_result"
    }
   ],
   "source": [
    "# Is all of the data GMT?\n",
    "terminal_weather_clean.get_column(\"timezone\").value_counts()"
   ]
  },
  {
   "cell_type": "code",
   "execution_count": 25,
   "metadata": {
    "tags": []
   },
   "outputs": [
    {
     "data": {
      "text/html": [
       "<div><style>\n",
       ".dataframe > thead > tr,\n",
       ".dataframe > tbody > tr {\n",
       "  text-align: right;\n",
       "  white-space: pre-wrap;\n",
       "}\n",
       "</style>\n",
       "<small>shape: (5, 16)</small><table border=\"1\" class=\"dataframe\"><thead><tr><th>latitude</th><th>longitude</th><th>generationtime_ms</th><th>utc_offset_seconds</th><th>timezone</th><th>timezone_abbreviation</th><th>elevation</th><th>time</th><th>weather_code</th><th>temperature_2m</th><th>precipitation</th><th>cloud_cover</th><th>wind_speed_10m</th><th>wind_direction_10m</th><th>wind_gusts_10m</th><th>terminal_name</th></tr><tr><td>f64</td><td>f64</td><td>f64</td><td>i64</td><td>str</td><td>str</td><td>f64</td><td>datetime[μs, GMT]</td><td>i64</td><td>f64</td><td>f64</td><td>i64</td><td>f64</td><td>i64</td><td>f64</td><td>str</td></tr></thead><tbody><tr><td>48.541298</td><td>-122.727264</td><td>0.238061</td><td>0</td><td>&quot;gmt&quot;</td><td>&quot;gmt&quot;</td><td>0.0</td><td>2024-03-01 00:00:00 GMT</td><td>3</td><td>6.2</td><td>0.0</td><td>80</td><td>37.4</td><td>154</td><td>47.9</td><td>&quot;anacortes&quot;</td></tr><tr><td>48.541298</td><td>-122.727264</td><td>0.238061</td><td>0</td><td>&quot;gmt&quot;</td><td>&quot;gmt&quot;</td><td>0.0</td><td>2024-03-01 01:00:00 GMT</td><td>51</td><td>5.9</td><td>0.1</td><td>94</td><td>36.7</td><td>159</td><td>48.6</td><td>&quot;anacortes&quot;</td></tr><tr><td>48.541298</td><td>-122.727264</td><td>0.238061</td><td>0</td><td>&quot;gmt&quot;</td><td>&quot;gmt&quot;</td><td>0.0</td><td>2024-03-01 02:00:00 GMT</td><td>3</td><td>5.7</td><td>0.0</td><td>83</td><td>36.6</td><td>156</td><td>49.0</td><td>&quot;anacortes&quot;</td></tr><tr><td>48.541298</td><td>-122.727264</td><td>0.238061</td><td>0</td><td>&quot;gmt&quot;</td><td>&quot;gmt&quot;</td><td>0.0</td><td>2024-03-01 03:00:00 GMT</td><td>1</td><td>5.1</td><td>0.0</td><td>40</td><td>40.9</td><td>152</td><td>54.7</td><td>&quot;anacortes&quot;</td></tr><tr><td>48.541298</td><td>-122.727264</td><td>0.238061</td><td>0</td><td>&quot;gmt&quot;</td><td>&quot;gmt&quot;</td><td>0.0</td><td>2024-03-01 04:00:00 GMT</td><td>2</td><td>4.6</td><td>0.0</td><td>66</td><td>40.7</td><td>144</td><td>54.7</td><td>&quot;anacortes&quot;</td></tr></tbody></table></div>"
      ],
      "text/plain": [
       "shape: (5, 16)\n",
       "┌───────────┬───────────┬───────────┬───────────┬───┬───────────┬───────────┬───────────┬──────────┐\n",
       "│ latitude  ┆ longitude ┆ generatio ┆ utc_offse ┆ … ┆ wind_spee ┆ wind_dire ┆ wind_gust ┆ terminal │\n",
       "│ ---       ┆ ---       ┆ ntime_ms  ┆ t_seconds ┆   ┆ d_10m     ┆ ction_10m ┆ s_10m     ┆ _name    │\n",
       "│ f64       ┆ f64       ┆ ---       ┆ ---       ┆   ┆ ---       ┆ ---       ┆ ---       ┆ ---      │\n",
       "│           ┆           ┆ f64       ┆ i64       ┆   ┆ f64       ┆ i64       ┆ f64       ┆ str      │\n",
       "╞═══════════╪═══════════╪═══════════╪═══════════╪═══╪═══════════╪═══════════╪═══════════╪══════════╡\n",
       "│ 48.541298 ┆ -122.7272 ┆ 0.238061  ┆ 0         ┆ … ┆ 37.4      ┆ 154       ┆ 47.9      ┆ anacorte │\n",
       "│           ┆ 64        ┆           ┆           ┆   ┆           ┆           ┆           ┆ s        │\n",
       "│ 48.541298 ┆ -122.7272 ┆ 0.238061  ┆ 0         ┆ … ┆ 36.7      ┆ 159       ┆ 48.6      ┆ anacorte │\n",
       "│           ┆ 64        ┆           ┆           ┆   ┆           ┆           ┆           ┆ s        │\n",
       "│ 48.541298 ┆ -122.7272 ┆ 0.238061  ┆ 0         ┆ … ┆ 36.6      ┆ 156       ┆ 49.0      ┆ anacorte │\n",
       "│           ┆ 64        ┆           ┆           ┆   ┆           ┆           ┆           ┆ s        │\n",
       "│ 48.541298 ┆ -122.7272 ┆ 0.238061  ┆ 0         ┆ … ┆ 40.9      ┆ 152       ┆ 54.7      ┆ anacorte │\n",
       "│           ┆ 64        ┆           ┆           ┆   ┆           ┆           ┆           ┆ s        │\n",
       "│ 48.541298 ┆ -122.7272 ┆ 0.238061  ┆ 0         ┆ … ┆ 40.7      ┆ 144       ┆ 54.7      ┆ anacorte │\n",
       "│           ┆ 64        ┆           ┆           ┆   ┆           ┆           ┆           ┆ s        │\n",
       "└───────────┴───────────┴───────────┴───────────┴───┴───────────┴───────────┴───────────┴──────────┘"
      ]
     },
     "execution_count": 25,
     "metadata": {},
     "output_type": "execute_result"
    }
   ],
   "source": [
    "terminal_weather_clean = terminal_weather_clean.with_columns(\n",
    "    pl.col(\"time\").str.to_datetime(time_zone=\"GMT\")\n",
    ")\n",
    "\n",
    "terminal_weather_clean.head()"
   ]
  },
  {
   "cell_type": "markdown",
   "metadata": {},
   "source": [
    "#### vessel_verbose"
   ]
  },
  {
   "cell_type": "code",
   "execution_count": 26,
   "metadata": {},
   "outputs": [
    {
     "data": {
      "text/html": [
       "<div><style>\n",
       ".dataframe > thead > tr,\n",
       ".dataframe > tbody > tr {\n",
       "  text-align: right;\n",
       "  white-space: pre-wrap;\n",
       "}\n",
       "</style>\n",
       "<small>shape: (3, 44)</small><table border=\"1\" class=\"dataframe\"><thead><tr><th>VesselID</th><th>VesselSubjectID</th><th>VesselName</th><th>VesselAbbrev</th><th>ClassID</th><th>ClassSubjectID</th><th>ClassName</th><th>SortSeq</th><th>DrawingImg</th><th>SilhouetteImg</th><th>PublicDisplayName</th><th>Status</th><th>OwnedByWSF</th><th>CarDeckRestroom</th><th>CarDeckShelter</th><th>Elevator</th><th>ADAAccessible</th><th>MainCabinGalley</th><th>MainCabinRestroom</th><th>PublicWifi</th><th>ADAInfo</th><th>AdditionalInfo</th><th>VesselNameDesc</th><th>VesselHistory</th><th>Beam</th><th>CityBuilt</th><th>SpeedInKnots</th><th>Draft</th><th>EngineCount</th><th>Horsepower</th><th>Length</th><th>MaxPassengerCount</th><th>PassengerOnly</th><th>FastFerry</th><th>PropulsionInfo</th><th>TallDeckClearance</th><th>RegDeckSpace</th><th>TallDeckSpace</th><th>Tonnage</th><th>Displacement</th><th>YearBuilt</th><th>YearRebuilt</th><th>SolasCertified</th><th>MaxPassengerCountForInternational</th></tr><tr><td>i64</td><td>i64</td><td>str</td><td>str</td><td>i64</td><td>i64</td><td>str</td><td>i64</td><td>str</td><td>str</td><td>str</td><td>i64</td><td>bool</td><td>bool</td><td>bool</td><td>bool</td><td>bool</td><td>bool</td><td>bool</td><td>bool</td><td>str</td><td>str</td><td>str</td><td>str</td><td>str</td><td>str</td><td>i64</td><td>str</td><td>i64</td><td>i64</td><td>str</td><td>i64</td><td>bool</td><td>bool</td><td>str</td><td>i64</td><td>i64</td><td>i64</td><td>i64</td><td>i64</td><td>i64</td><td>i64</td><td>bool</td><td>i64</td></tr></thead><tbody><tr><td>1</td><td>1</td><td>&quot;Cathlamet&quot;</td><td>&quot;CAT&quot;</td><td>10</td><td>310</td><td>&quot;Issaquah 130&quot;</td><td>40</td><td>&quot;https://www.wsdot.wa.gov/ferri…</td><td>&quot;https://www.wsdot.wa.gov/ferri…</td><td>&quot;Issaquah&quot;</td><td>1</td><td>true</td><td>true</td><td>false</td><td>true</td><td>true</td><td>true</td><td>true</td><td>false</td><td>&quot;The MV Cathlamet has elevator …</td><td>&quot; &quot;</td><td>&quot;From the Kathlamet tribe, the …</td><td>&quot; &quot;</td><td>&quot;78&#x27; 8&quot;&quot;</td><td>&quot;Seattle, WA&quot;</td><td>16</td><td>&quot;16&#x27; 6&quot;&quot;</td><td>2</td><td>5000</td><td>&quot;328&#x27;&quot;</td><td>1200</td><td>false</td><td>false</td><td>&quot;DIESEL&quot;</td><td>186</td><td>124</td><td>26</td><td>2477</td><td>3310</td><td>1981</td><td>1993</td><td>false</td><td>null</td></tr><tr><td>2</td><td>2</td><td>&quot;Chelan&quot;</td><td>&quot;CHE&quot;</td><td>10</td><td>310</td><td>&quot;Issaquah 130&quot;</td><td>40</td><td>&quot;https://www.wsdot.wa.gov/ferri…</td><td>&quot;https://www.wsdot.wa.gov/ferri…</td><td>&quot;Issaquah&quot;</td><td>1</td><td>true</td><td>true</td><td>false</td><td>true</td><td>true</td><td>true</td><td>true</td><td>false</td><td>&quot;The MV Chelan has elevator acc…</td><td>&quot; &quot;</td><td>&quot;From the Chelan  language: Tsi…</td><td>&quot; &quot;</td><td>&quot;78&#x27; 8&quot;&quot;</td><td>&quot;Seattle, WA&quot;</td><td>16</td><td>&quot;16&#x27; 9&quot;&quot;</td><td>2</td><td>5000</td><td>&quot;328&#x27;&quot;</td><td>1200</td><td>false</td><td>false</td><td>&quot;DIESEL&quot;</td><td>188</td><td>124</td><td>30</td><td>2477</td><td>3405</td><td>1981</td><td>2005</td><td>true</td><td>1090</td></tr><tr><td>65</td><td>428</td><td>&quot;Chetzemoka&quot;</td><td>&quot;CHZ&quot;</td><td>162</td><td>427</td><td>&quot;Kwa-di Tabil&quot;</td><td>75</td><td>&quot;https://www.wsdot.wa.gov/ferri…</td><td>&quot;https://www.wsdot.wa.gov/ferri…</td><td>&quot;Kwa-di Tabil&quot;</td><td>1</td><td>true</td><td>false</td><td>false</td><td>true</td><td>true</td><td>true</td><td>true</td><td>false</td><td>&quot;MV Chetzemoka has elevator acc…</td><td>null</td><td>&quot;The name honors a friendly Nat…</td><td>null</td><td>&quot;64&#x27;&quot;</td><td>&quot;Seattle&quot;</td><td>15</td><td>&quot;11&#x27;&quot;</td><td>2</td><td>6000</td><td>&quot;273&#x27; 8&quot;&quot;</td><td>748</td><td>false</td><td>false</td><td>&quot;DIESEL&quot;</td><td>192</td><td>64</td><td>9</td><td>4623</td><td>2415</td><td>2010</td><td>null</td><td>false</td><td>null</td></tr></tbody></table></div>"
      ],
      "text/plain": [
       "shape: (3, 44)\n",
       "┌──────────┬───────────┬───────────┬───────────┬───┬───────────┬───────────┬───────────┬───────────┐\n",
       "│ VesselID ┆ VesselSub ┆ VesselNam ┆ VesselAbb ┆ … ┆ YearBuilt ┆ YearRebui ┆ SolasCert ┆ MaxPassen │\n",
       "│ ---      ┆ jectID    ┆ e         ┆ rev       ┆   ┆ ---       ┆ lt        ┆ ified     ┆ gerCountF │\n",
       "│ i64      ┆ ---       ┆ ---       ┆ ---       ┆   ┆ i64       ┆ ---       ┆ ---       ┆ orInterna │\n",
       "│          ┆ i64       ┆ str       ┆ str       ┆   ┆           ┆ i64       ┆ bool      ┆ tio…      │\n",
       "│          ┆           ┆           ┆           ┆   ┆           ┆           ┆           ┆ ---       │\n",
       "│          ┆           ┆           ┆           ┆   ┆           ┆           ┆           ┆ i64       │\n",
       "╞══════════╪═══════════╪═══════════╪═══════════╪═══╪═══════════╪═══════════╪═══════════╪═══════════╡\n",
       "│ 1        ┆ 1         ┆ Cathlamet ┆ CAT       ┆ … ┆ 1981      ┆ 1993      ┆ false     ┆ null      │\n",
       "│ 2        ┆ 2         ┆ Chelan    ┆ CHE       ┆ … ┆ 1981      ┆ 2005      ┆ true      ┆ 1090      │\n",
       "│ 65       ┆ 428       ┆ Chetzemok ┆ CHZ       ┆ … ┆ 2010      ┆ null      ┆ false     ┆ null      │\n",
       "│          ┆           ┆ a         ┆           ┆   ┆           ┆           ┆           ┆           │\n",
       "└──────────┴───────────┴───────────┴───────────┴───┴───────────┴───────────┴───────────┴───────────┘"
      ]
     },
     "execution_count": 26,
     "metadata": {},
     "output_type": "execute_result"
    }
   ],
   "source": [
    "vessel_verbose.head(3)"
   ]
  },
  {
   "cell_type": "markdown",
   "metadata": {},
   "source": [
    "Convert the length measurements into a numeric value. Again we will use a function to capture this complex logic."
   ]
  },
  {
   "cell_type": "code",
   "execution_count": 27,
   "metadata": {},
   "outputs": [],
   "source": [
    "def convert_measurement_string_to_inches(series: pl.Series) -> pl.Series:\n",
    "    \"\"\"\n",
    "    Convert the measurement string into a float.\n",
    "    \"\"\"\n",
    "    feet = series.str.extract(r\"(\\d+)'\").cast(pl.Int64)\n",
    "    inches = series.str.extract(r'(\\d+)\"').cast(pl.Int64).fill_null(0)\n",
    "    total_inches = feet * 12 + inches\n",
    "    return total_inches"
   ]
  },
  {
   "cell_type": "code",
   "execution_count": 28,
   "metadata": {},
   "outputs": [
    {
     "data": {
      "text/html": [
       "<div><style>\n",
       ".dataframe > thead > tr,\n",
       ".dataframe > tbody > tr {\n",
       "  text-align: right;\n",
       "  white-space: pre-wrap;\n",
       "}\n",
       "</style>\n",
       "<small>shape: (1,)</small><table border=\"1\" class=\"dataframe\"><thead><tr><th></th></tr><tr><td>i64</td></tr></thead><tbody><tr><td>944</td></tr></tbody></table></div>"
      ],
      "text/plain": [
       "shape: (1,)\n",
       "Series: '' [i64]\n",
       "[\n",
       "\t944\n",
       "]"
      ]
     },
     "execution_count": 28,
     "metadata": {},
     "output_type": "execute_result"
    }
   ],
   "source": [
    "convert_measurement_string_to_inches(pl.Series(['''78' 8\"''']))"
   ]
  },
  {
   "cell_type": "code",
   "execution_count": 29,
   "metadata": {},
   "outputs": [
    {
     "data": {
      "text/html": [
       "<div><style>\n",
       ".dataframe > thead > tr,\n",
       ".dataframe > tbody > tr {\n",
       "  text-align: right;\n",
       "  white-space: pre-wrap;\n",
       "}\n",
       "</style>\n",
       "<small>shape: (2,)</small><table border=\"1\" class=\"dataframe\"><thead><tr><th></th></tr><tr><td>i64</td></tr></thead><tbody><tr><td>768</td></tr><tr><td>1211</td></tr></tbody></table></div>"
      ],
      "text/plain": [
       "shape: (2,)\n",
       "Series: '' [i64]\n",
       "[\n",
       "\t768\n",
       "\t1211\n",
       "]"
      ]
     },
     "execution_count": 29,
     "metadata": {},
     "output_type": "execute_result"
    }
   ],
   "source": [
    "convert_measurement_string_to_inches(pl.Series([\"\"\"64'\"\"\", '''100' 11\"''']))"
   ]
  },
  {
   "cell_type": "code",
   "execution_count": 30,
   "metadata": {},
   "outputs": [],
   "source": [
    "vessel_verbose_clean = vessel_verbose.with_columns(\n",
    "    pl.col(\"Beam\", \"Length\", \"Draft\")\n",
    "    .map_batches(convert_measurement_string_to_inches)\n",
    "    .name.suffix(\"Inches\"),\n",
    ").select(pl.col(\"*\").exclude([\"Beam\", \"Length\", \"Draft\"]))"
   ]
  },
  {
   "cell_type": "code",
   "execution_count": 31,
   "metadata": {},
   "outputs": [
    {
     "data": {
      "text/html": [
       "<div><style>\n",
       ".dataframe > thead > tr,\n",
       ".dataframe > tbody > tr {\n",
       "  text-align: right;\n",
       "  white-space: pre-wrap;\n",
       "}\n",
       "</style>\n",
       "<small>shape: (5, 44)</small><table border=\"1\" class=\"dataframe\"><thead><tr><th>VesselID</th><th>VesselSubjectID</th><th>VesselName</th><th>VesselAbbrev</th><th>ClassID</th><th>ClassSubjectID</th><th>ClassName</th><th>SortSeq</th><th>DrawingImg</th><th>SilhouetteImg</th><th>PublicDisplayName</th><th>Status</th><th>OwnedByWSF</th><th>CarDeckRestroom</th><th>CarDeckShelter</th><th>Elevator</th><th>ADAAccessible</th><th>MainCabinGalley</th><th>MainCabinRestroom</th><th>PublicWifi</th><th>ADAInfo</th><th>AdditionalInfo</th><th>VesselNameDesc</th><th>VesselHistory</th><th>CityBuilt</th><th>SpeedInKnots</th><th>EngineCount</th><th>Horsepower</th><th>MaxPassengerCount</th><th>PassengerOnly</th><th>FastFerry</th><th>PropulsionInfo</th><th>TallDeckClearance</th><th>RegDeckSpace</th><th>TallDeckSpace</th><th>Tonnage</th><th>Displacement</th><th>YearBuilt</th><th>YearRebuilt</th><th>SolasCertified</th><th>MaxPassengerCountForInternational</th><th>BeamInches</th><th>LengthInches</th><th>DraftInches</th></tr><tr><td>i64</td><td>i64</td><td>str</td><td>str</td><td>i64</td><td>i64</td><td>str</td><td>i64</td><td>str</td><td>str</td><td>str</td><td>i64</td><td>bool</td><td>bool</td><td>bool</td><td>bool</td><td>bool</td><td>bool</td><td>bool</td><td>bool</td><td>str</td><td>str</td><td>str</td><td>str</td><td>str</td><td>i64</td><td>i64</td><td>i64</td><td>i64</td><td>bool</td><td>bool</td><td>str</td><td>i64</td><td>i64</td><td>i64</td><td>i64</td><td>i64</td><td>i64</td><td>i64</td><td>bool</td><td>i64</td><td>i64</td><td>i64</td><td>i64</td></tr></thead><tbody><tr><td>1</td><td>1</td><td>&quot;Cathlamet&quot;</td><td>&quot;CAT&quot;</td><td>10</td><td>310</td><td>&quot;Issaquah 130&quot;</td><td>40</td><td>&quot;https://www.wsdot.wa.gov/ferri…</td><td>&quot;https://www.wsdot.wa.gov/ferri…</td><td>&quot;Issaquah&quot;</td><td>1</td><td>true</td><td>true</td><td>false</td><td>true</td><td>true</td><td>true</td><td>true</td><td>false</td><td>&quot;The MV Cathlamet has elevator …</td><td>&quot; &quot;</td><td>&quot;From the Kathlamet tribe, the …</td><td>&quot; &quot;</td><td>&quot;Seattle, WA&quot;</td><td>16</td><td>2</td><td>5000</td><td>1200</td><td>false</td><td>false</td><td>&quot;DIESEL&quot;</td><td>186</td><td>124</td><td>26</td><td>2477</td><td>3310</td><td>1981</td><td>1993</td><td>false</td><td>null</td><td>944</td><td>3936</td><td>198</td></tr><tr><td>2</td><td>2</td><td>&quot;Chelan&quot;</td><td>&quot;CHE&quot;</td><td>10</td><td>310</td><td>&quot;Issaquah 130&quot;</td><td>40</td><td>&quot;https://www.wsdot.wa.gov/ferri…</td><td>&quot;https://www.wsdot.wa.gov/ferri…</td><td>&quot;Issaquah&quot;</td><td>1</td><td>true</td><td>true</td><td>false</td><td>true</td><td>true</td><td>true</td><td>true</td><td>false</td><td>&quot;The MV Chelan has elevator acc…</td><td>&quot; &quot;</td><td>&quot;From the Chelan  language: Tsi…</td><td>&quot; &quot;</td><td>&quot;Seattle, WA&quot;</td><td>16</td><td>2</td><td>5000</td><td>1200</td><td>false</td><td>false</td><td>&quot;DIESEL&quot;</td><td>188</td><td>124</td><td>30</td><td>2477</td><td>3405</td><td>1981</td><td>2005</td><td>true</td><td>1090</td><td>944</td><td>3936</td><td>201</td></tr><tr><td>65</td><td>428</td><td>&quot;Chetzemoka&quot;</td><td>&quot;CHZ&quot;</td><td>162</td><td>427</td><td>&quot;Kwa-di Tabil&quot;</td><td>75</td><td>&quot;https://www.wsdot.wa.gov/ferri…</td><td>&quot;https://www.wsdot.wa.gov/ferri…</td><td>&quot;Kwa-di Tabil&quot;</td><td>1</td><td>true</td><td>false</td><td>false</td><td>true</td><td>true</td><td>true</td><td>true</td><td>false</td><td>&quot;MV Chetzemoka has elevator acc…</td><td>null</td><td>&quot;The name honors a friendly Nat…</td><td>null</td><td>&quot;Seattle&quot;</td><td>15</td><td>2</td><td>6000</td><td>748</td><td>false</td><td>false</td><td>&quot;DIESEL&quot;</td><td>192</td><td>64</td><td>9</td><td>4623</td><td>2415</td><td>2010</td><td>null</td><td>false</td><td>null</td><td>768</td><td>3284</td><td>132</td></tr><tr><td>74</td><td>487</td><td>&quot;Chimacum&quot;</td><td>&quot;CHM&quot;</td><td>100</td><td>319</td><td>&quot;Olympic&quot;</td><td>35</td><td>&quot;https://www.wsdot.wa.gov/ferri…</td><td>&quot;https://www.wsdot.wa.gov/ferri…</td><td>&quot;Olympic&quot;</td><td>1</td><td>true</td><td>true</td><td>true</td><td>true</td><td>true</td><td>true</td><td>true</td><td>false</td><td>&quot;The vessel has two ADA complia…</td><td>null</td><td>&quot;“The Chimacum People who spoke…</td><td>&quot;Chimacum is the third of the 1…</td><td>&quot;Seattle, WA&quot;</td><td>17</td><td>2</td><td>6000</td><td>1500</td><td>false</td><td>false</td><td>&quot;DIESEL&quot;</td><td>192</td><td>144</td><td>34</td><td>3525</td><td>4384</td><td>2017</td><td>null</td><td>false</td><td>null</td><td>998</td><td>4347</td><td>216</td></tr><tr><td>15</td><td>15</td><td>&quot;Issaquah&quot;</td><td>&quot;ISS&quot;</td><td>10</td><td>310</td><td>&quot;Issaquah 130&quot;</td><td>40</td><td>&quot;https://www.wsdot.wa.gov/ferri…</td><td>&quot;https://www.wsdot.wa.gov/ferri…</td><td>&quot;Issaquah&quot;</td><td>1</td><td>true</td><td>true</td><td>false</td><td>true</td><td>true</td><td>true</td><td>true</td><td>false</td><td>&quot;The MV Issaquah has elevator a…</td><td>&quot; &quot;</td><td>&quot;&quot;Snake.&quot; Native Americans who …</td><td>&quot; &quot;</td><td>&quot;Seattle, WA&quot;</td><td>16</td><td>2</td><td>5000</td><td>1200</td><td>false</td><td>false</td><td>&quot;DIESEL&quot;</td><td>188</td><td>124</td><td>26</td><td>2475</td><td>3310</td><td>1979</td><td>1989</td><td>false</td><td>null</td><td>944</td><td>3936</td><td>198</td></tr></tbody></table></div>"
      ],
      "text/plain": [
       "shape: (5, 44)\n",
       "┌──────────┬───────────┬───────────┬───────────┬───┬───────────┬───────────┬───────────┬───────────┐\n",
       "│ VesselID ┆ VesselSub ┆ VesselNam ┆ VesselAbb ┆ … ┆ MaxPassen ┆ BeamInche ┆ LengthInc ┆ DraftInch │\n",
       "│ ---      ┆ jectID    ┆ e         ┆ rev       ┆   ┆ gerCountF ┆ s         ┆ hes       ┆ es        │\n",
       "│ i64      ┆ ---       ┆ ---       ┆ ---       ┆   ┆ orInterna ┆ ---       ┆ ---       ┆ ---       │\n",
       "│          ┆ i64       ┆ str       ┆ str       ┆   ┆ tio…      ┆ i64       ┆ i64       ┆ i64       │\n",
       "│          ┆           ┆           ┆           ┆   ┆ ---       ┆           ┆           ┆           │\n",
       "│          ┆           ┆           ┆           ┆   ┆ i64       ┆           ┆           ┆           │\n",
       "╞══════════╪═══════════╪═══════════╪═══════════╪═══╪═══════════╪═══════════╪═══════════╪═══════════╡\n",
       "│ 1        ┆ 1         ┆ Cathlamet ┆ CAT       ┆ … ┆ null      ┆ 944       ┆ 3936      ┆ 198       │\n",
       "│ 2        ┆ 2         ┆ Chelan    ┆ CHE       ┆ … ┆ 1090      ┆ 944       ┆ 3936      ┆ 201       │\n",
       "│ 65       ┆ 428       ┆ Chetzemok ┆ CHZ       ┆ … ┆ null      ┆ 768       ┆ 3284      ┆ 132       │\n",
       "│          ┆           ┆ a         ┆           ┆   ┆           ┆           ┆           ┆           │\n",
       "│ 74       ┆ 487       ┆ Chimacum  ┆ CHM       ┆ … ┆ null      ┆ 998       ┆ 4347      ┆ 216       │\n",
       "│ 15       ┆ 15        ┆ Issaquah  ┆ ISS       ┆ … ┆ null      ┆ 944       ┆ 3936      ┆ 198       │\n",
       "└──────────┴───────────┴───────────┴───────────┴───┴───────────┴───────────┴───────────┴───────────┘"
      ]
     },
     "execution_count": 31,
     "metadata": {},
     "output_type": "execute_result"
    }
   ],
   "source": [
    "vessel_verbose_clean.head()"
   ]
  },
  {
   "cell_type": "markdown",
   "metadata": {},
   "source": [
    "Fix the year columns."
   ]
  },
  {
   "cell_type": "code",
   "execution_count": 32,
   "metadata": {},
   "outputs": [],
   "source": [
    "vessel_verbose_clean = vessel_verbose_clean.with_columns(\n",
    "    pl.col(\"YearBuilt\").cast(pl.String).str.to_date(\"%Y\"),\n",
    "    pl.col(\"YearRebuilt\").cast(pl.Int64).cast(pl.String).str.to_date(\"%Y\"),\n",
    ")"
   ]
  },
  {
   "cell_type": "code",
   "execution_count": 33,
   "metadata": {},
   "outputs": [
    {
     "data": {
      "text/html": [
       "<div><style>\n",
       ".dataframe > thead > tr,\n",
       ".dataframe > tbody > tr {\n",
       "  text-align: right;\n",
       "  white-space: pre-wrap;\n",
       "}\n",
       "</style>\n",
       "<small>shape: (21, 2)</small><table border=\"1\" class=\"dataframe\"><thead><tr><th>YearBuilt</th><th>YearRebuilt</th></tr><tr><td>date</td><td>date</td></tr></thead><tbody><tr><td>1981-01-01</td><td>1993-01-01</td></tr><tr><td>1981-01-01</td><td>2005-01-01</td></tr><tr><td>2010-01-01</td><td>null</td></tr><tr><td>2017-01-01</td><td>null</td></tr><tr><td>1979-01-01</td><td>1989-01-01</td></tr><tr><td>&hellip;</td><td>&hellip;</td></tr><tr><td>1959-01-01</td><td>1994-01-01</td></tr><tr><td>2014-01-01</td><td>null</td></tr><tr><td>1973-01-01</td><td>2003-01-01</td></tr><tr><td>1998-01-01</td><td>null</td></tr><tr><td>1967-01-01</td><td>2000-01-01</td></tr></tbody></table></div>"
      ],
      "text/plain": [
       "shape: (21, 2)\n",
       "┌────────────┬─────────────┐\n",
       "│ YearBuilt  ┆ YearRebuilt │\n",
       "│ ---        ┆ ---         │\n",
       "│ date       ┆ date        │\n",
       "╞════════════╪═════════════╡\n",
       "│ 1981-01-01 ┆ 1993-01-01  │\n",
       "│ 1981-01-01 ┆ 2005-01-01  │\n",
       "│ 2010-01-01 ┆ null        │\n",
       "│ 2017-01-01 ┆ null        │\n",
       "│ 1979-01-01 ┆ 1989-01-01  │\n",
       "│ …          ┆ …           │\n",
       "│ 1959-01-01 ┆ 1994-01-01  │\n",
       "│ 2014-01-01 ┆ null        │\n",
       "│ 1973-01-01 ┆ 2003-01-01  │\n",
       "│ 1998-01-01 ┆ null        │\n",
       "│ 1967-01-01 ┆ 2000-01-01  │\n",
       "└────────────┴─────────────┘"
      ]
     },
     "execution_count": 33,
     "metadata": {},
     "output_type": "execute_result"
    }
   ],
   "source": [
    "vessel_verbose_clean.select(\"YearBuilt\", \"YearRebuilt\")"
   ]
  },
  {
   "cell_type": "markdown",
   "metadata": {},
   "source": [
    "Handle missing values for strings."
   ]
  },
  {
   "cell_type": "code",
   "execution_count": 34,
   "metadata": {},
   "outputs": [],
   "source": [
    "vessel_verbose_clean = vessel_verbose_clean.with_columns(\n",
    "    pl.col(pl.String).replace(\" \", None),\n",
    ")"
   ]
  },
  {
   "cell_type": "code",
   "execution_count": 35,
   "metadata": {},
   "outputs": [
    {
     "data": {
      "text/html": [
       "<div><style>\n",
       ".dataframe > thead > tr,\n",
       ".dataframe > tbody > tr {\n",
       "  text-align: right;\n",
       "  white-space: pre-wrap;\n",
       "}\n",
       "</style>\n",
       "<small>shape: (2, 44)</small><table border=\"1\" class=\"dataframe\"><thead><tr><th>VesselID</th><th>VesselSubjectID</th><th>VesselName</th><th>VesselAbbrev</th><th>ClassID</th><th>ClassSubjectID</th><th>ClassName</th><th>SortSeq</th><th>DrawingImg</th><th>SilhouetteImg</th><th>PublicDisplayName</th><th>Status</th><th>OwnedByWSF</th><th>CarDeckRestroom</th><th>CarDeckShelter</th><th>Elevator</th><th>ADAAccessible</th><th>MainCabinGalley</th><th>MainCabinRestroom</th><th>PublicWifi</th><th>ADAInfo</th><th>AdditionalInfo</th><th>VesselNameDesc</th><th>VesselHistory</th><th>CityBuilt</th><th>SpeedInKnots</th><th>EngineCount</th><th>Horsepower</th><th>MaxPassengerCount</th><th>PassengerOnly</th><th>FastFerry</th><th>PropulsionInfo</th><th>TallDeckClearance</th><th>RegDeckSpace</th><th>TallDeckSpace</th><th>Tonnage</th><th>Displacement</th><th>YearBuilt</th><th>YearRebuilt</th><th>SolasCertified</th><th>MaxPassengerCountForInternational</th><th>BeamInches</th><th>LengthInches</th><th>DraftInches</th></tr><tr><td>i64</td><td>i64</td><td>str</td><td>str</td><td>i64</td><td>i64</td><td>str</td><td>i64</td><td>str</td><td>str</td><td>str</td><td>i64</td><td>bool</td><td>bool</td><td>bool</td><td>bool</td><td>bool</td><td>bool</td><td>bool</td><td>bool</td><td>str</td><td>str</td><td>str</td><td>str</td><td>str</td><td>i64</td><td>i64</td><td>i64</td><td>i64</td><td>bool</td><td>bool</td><td>str</td><td>i64</td><td>i64</td><td>i64</td><td>i64</td><td>i64</td><td>date</td><td>date</td><td>bool</td><td>i64</td><td>i64</td><td>i64</td><td>i64</td></tr></thead><tbody><tr><td>1</td><td>1</td><td>&quot;Cathlamet&quot;</td><td>&quot;CAT&quot;</td><td>10</td><td>310</td><td>&quot;Issaquah 130&quot;</td><td>40</td><td>&quot;https://www.wsdot.wa.gov/ferri…</td><td>&quot;https://www.wsdot.wa.gov/ferri…</td><td>&quot;Issaquah&quot;</td><td>1</td><td>true</td><td>true</td><td>false</td><td>true</td><td>true</td><td>true</td><td>true</td><td>false</td><td>&quot;The MV Cathlamet has elevator …</td><td>null</td><td>&quot;From the Kathlamet tribe, the …</td><td>null</td><td>&quot;Seattle, WA&quot;</td><td>16</td><td>2</td><td>5000</td><td>1200</td><td>false</td><td>false</td><td>&quot;DIESEL&quot;</td><td>186</td><td>124</td><td>26</td><td>2477</td><td>3310</td><td>1981-01-01</td><td>1993-01-01</td><td>false</td><td>null</td><td>944</td><td>3936</td><td>198</td></tr><tr><td>2</td><td>2</td><td>&quot;Chelan&quot;</td><td>&quot;CHE&quot;</td><td>10</td><td>310</td><td>&quot;Issaquah 130&quot;</td><td>40</td><td>&quot;https://www.wsdot.wa.gov/ferri…</td><td>&quot;https://www.wsdot.wa.gov/ferri…</td><td>&quot;Issaquah&quot;</td><td>1</td><td>true</td><td>true</td><td>false</td><td>true</td><td>true</td><td>true</td><td>true</td><td>false</td><td>&quot;The MV Chelan has elevator acc…</td><td>null</td><td>&quot;From the Chelan  language: Tsi…</td><td>null</td><td>&quot;Seattle, WA&quot;</td><td>16</td><td>2</td><td>5000</td><td>1200</td><td>false</td><td>false</td><td>&quot;DIESEL&quot;</td><td>188</td><td>124</td><td>30</td><td>2477</td><td>3405</td><td>1981-01-01</td><td>2005-01-01</td><td>true</td><td>1090</td><td>944</td><td>3936</td><td>201</td></tr></tbody></table></div>"
      ],
      "text/plain": [
       "shape: (2, 44)\n",
       "┌──────────┬───────────┬───────────┬───────────┬───┬───────────┬───────────┬───────────┬───────────┐\n",
       "│ VesselID ┆ VesselSub ┆ VesselNam ┆ VesselAbb ┆ … ┆ MaxPassen ┆ BeamInche ┆ LengthInc ┆ DraftInch │\n",
       "│ ---      ┆ jectID    ┆ e         ┆ rev       ┆   ┆ gerCountF ┆ s         ┆ hes       ┆ es        │\n",
       "│ i64      ┆ ---       ┆ ---       ┆ ---       ┆   ┆ orInterna ┆ ---       ┆ ---       ┆ ---       │\n",
       "│          ┆ i64       ┆ str       ┆ str       ┆   ┆ tio…      ┆ i64       ┆ i64       ┆ i64       │\n",
       "│          ┆           ┆           ┆           ┆   ┆ ---       ┆           ┆           ┆           │\n",
       "│          ┆           ┆           ┆           ┆   ┆ i64       ┆           ┆           ┆           │\n",
       "╞══════════╪═══════════╪═══════════╪═══════════╪═══╪═══════════╪═══════════╪═══════════╪═══════════╡\n",
       "│ 1        ┆ 1         ┆ Cathlamet ┆ CAT       ┆ … ┆ null      ┆ 944       ┆ 3936      ┆ 198       │\n",
       "│ 2        ┆ 2         ┆ Chelan    ┆ CHE       ┆ … ┆ 1090      ┆ 944       ┆ 3936      ┆ 201       │\n",
       "└──────────┴───────────┴───────────┴───────────┴───┴───────────┴───────────┴───────────┴───────────┘"
      ]
     },
     "execution_count": 35,
     "metadata": {},
     "output_type": "execute_result"
    }
   ],
   "source": [
    "vessel_verbose_clean.head(2)"
   ]
  },
  {
   "cell_type": "markdown",
   "metadata": {},
   "source": [
    "Normalize all of the string columns so that they are consistent."
   ]
  },
  {
   "cell_type": "code",
   "execution_count": 36,
   "metadata": {},
   "outputs": [],
   "source": [
    "vessel_verbose_clean = vessel_verbose_clean.with_columns(\n",
    "    (\n",
    "        pl.col(\"VesselName\", \"VesselAbbrev\", \"ClassName\", \"CityBuilt\", \"PropulsionInfo\")\n",
    "        .str.to_lowercase()\n",
    "        .str.strip_chars()\n",
    "    )\n",
    ")"
   ]
  },
  {
   "cell_type": "code",
   "execution_count": 37,
   "metadata": {},
   "outputs": [
    {
     "data": {
      "text/html": [
       "<div><style>\n",
       ".dataframe > thead > tr,\n",
       ".dataframe > tbody > tr {\n",
       "  text-align: right;\n",
       "  white-space: pre-wrap;\n",
       "}\n",
       "</style>\n",
       "<small>shape: (5, 5)</small><table border=\"1\" class=\"dataframe\"><thead><tr><th>VesselName</th><th>VesselAbbrev</th><th>ClassName</th><th>CityBuilt</th><th>PropulsionInfo</th></tr><tr><td>str</td><td>str</td><td>str</td><td>str</td><td>str</td></tr></thead><tbody><tr><td>&quot;cathlamet&quot;</td><td>&quot;cat&quot;</td><td>&quot;issaquah 130&quot;</td><td>&quot;seattle, wa&quot;</td><td>&quot;diesel&quot;</td></tr><tr><td>&quot;chelan&quot;</td><td>&quot;che&quot;</td><td>&quot;issaquah 130&quot;</td><td>&quot;seattle, wa&quot;</td><td>&quot;diesel&quot;</td></tr><tr><td>&quot;chetzemoka&quot;</td><td>&quot;chz&quot;</td><td>&quot;kwa-di tabil&quot;</td><td>&quot;seattle&quot;</td><td>&quot;diesel&quot;</td></tr><tr><td>&quot;chimacum&quot;</td><td>&quot;chm&quot;</td><td>&quot;olympic&quot;</td><td>&quot;seattle, wa&quot;</td><td>&quot;diesel&quot;</td></tr><tr><td>&quot;issaquah&quot;</td><td>&quot;iss&quot;</td><td>&quot;issaquah 130&quot;</td><td>&quot;seattle, wa&quot;</td><td>&quot;diesel&quot;</td></tr></tbody></table></div>"
      ],
      "text/plain": [
       "shape: (5, 5)\n",
       "┌────────────┬──────────────┬──────────────┬─────────────┬────────────────┐\n",
       "│ VesselName ┆ VesselAbbrev ┆ ClassName    ┆ CityBuilt   ┆ PropulsionInfo │\n",
       "│ ---        ┆ ---          ┆ ---          ┆ ---         ┆ ---            │\n",
       "│ str        ┆ str          ┆ str          ┆ str         ┆ str            │\n",
       "╞════════════╪══════════════╪══════════════╪═════════════╪════════════════╡\n",
       "│ cathlamet  ┆ cat          ┆ issaquah 130 ┆ seattle, wa ┆ diesel         │\n",
       "│ chelan     ┆ che          ┆ issaquah 130 ┆ seattle, wa ┆ diesel         │\n",
       "│ chetzemoka ┆ chz          ┆ kwa-di tabil ┆ seattle     ┆ diesel         │\n",
       "│ chimacum   ┆ chm          ┆ olympic      ┆ seattle, wa ┆ diesel         │\n",
       "│ issaquah   ┆ iss          ┆ issaquah 130 ┆ seattle, wa ┆ diesel         │\n",
       "└────────────┴──────────────┴──────────────┴─────────────┴────────────────┘"
      ]
     },
     "execution_count": 37,
     "metadata": {},
     "output_type": "execute_result"
    }
   ],
   "source": [
    "(\n",
    "    vessel_verbose_clean\n",
    "    .select(\"VesselName\", \"VesselAbbrev\", \"ClassName\", \"CityBuilt\", \"PropulsionInfo\")\n",
    "    .head()\n",
    ")"
   ]
  },
  {
   "cell_type": "markdown",
   "metadata": {},
   "source": [
    "#### vessel_history"
   ]
  },
  {
   "cell_type": "code",
   "execution_count": 38,
   "metadata": {},
   "outputs": [
    {
     "data": {
      "text/html": [
       "<div><style>\n",
       ".dataframe > thead > tr,\n",
       ".dataframe > tbody > tr {\n",
       "  text-align: right;\n",
       "  white-space: pre-wrap;\n",
       "}\n",
       "</style>\n",
       "<small>shape: (2, 8)</small><table border=\"1\" class=\"dataframe\"><thead><tr><th>VesselId</th><th>Vessel</th><th>Departing</th><th>Arriving</th><th>ScheduledDepart</th><th>ActualDepart</th><th>EstArrival</th><th>Date</th></tr><tr><td>i64</td><td>str</td><td>str</td><td>str</td><td>str</td><td>str</td><td>str</td><td>str</td></tr></thead><tbody><tr><td>31</td><td>&quot;Cathlamet&quot;</td><td>&quot;Vashon&quot;</td><td>&quot;Southworth&quot;</td><td>&quot;/Date(1709280900000-0800)/&quot;</td><td>&quot;/Date(1709280969000-0800)/&quot;</td><td>&quot;/Date(1709281999000-0800)/&quot;</td><td>&quot;/Date(1709280900000-0800)/&quot;</td></tr><tr><td>31</td><td>&quot;Cathlamet&quot;</td><td>&quot;Southworth&quot;</td><td>&quot;Fauntleroy&quot;</td><td>&quot;/Date(1709282100000-0800)/&quot;</td><td>&quot;/Date(1709282171000-0800)/&quot;</td><td>&quot;/Date(1709283349000-0800)/&quot;</td><td>&quot;/Date(1709282100000-0800)/&quot;</td></tr></tbody></table></div>"
      ],
      "text/plain": [
       "shape: (2, 8)\n",
       "┌──────────┬───────────┬────────────┬────────────┬────────────┬────────────┬───────────┬───────────┐\n",
       "│ VesselId ┆ Vessel    ┆ Departing  ┆ Arriving   ┆ ScheduledD ┆ ActualDepa ┆ EstArriva ┆ Date      │\n",
       "│ ---      ┆ ---       ┆ ---        ┆ ---        ┆ epart      ┆ rt         ┆ l         ┆ ---       │\n",
       "│ i64      ┆ str       ┆ str        ┆ str        ┆ ---        ┆ ---        ┆ ---       ┆ str       │\n",
       "│          ┆           ┆            ┆            ┆ str        ┆ str        ┆ str       ┆           │\n",
       "╞══════════╪═══════════╪════════════╪════════════╪════════════╪════════════╪═══════════╪═══════════╡\n",
       "│ 31       ┆ Cathlamet ┆ Vashon     ┆ Southworth ┆ /Date(1709 ┆ /Date(1709 ┆ /Date(170 ┆ /Date(170 │\n",
       "│          ┆           ┆            ┆            ┆ 280900000- ┆ 280969000- ┆ 928199900 ┆ 928090000 │\n",
       "│          ┆           ┆            ┆            ┆ 0800)/     ┆ 0800)/     ┆ 0-0800)/  ┆ 0-0800)/  │\n",
       "│ 31       ┆ Cathlamet ┆ Southworth ┆ Fauntleroy ┆ /Date(1709 ┆ /Date(1709 ┆ /Date(170 ┆ /Date(170 │\n",
       "│          ┆           ┆            ┆            ┆ 282100000- ┆ 282171000- ┆ 928334900 ┆ 928210000 │\n",
       "│          ┆           ┆            ┆            ┆ 0800)/     ┆ 0800)/     ┆ 0-0800)/  ┆ 0-0800)/  │\n",
       "└──────────┴───────────┴────────────┴────────────┴────────────┴────────────┴───────────┴───────────┘"
      ]
     },
     "execution_count": 38,
     "metadata": {},
     "output_type": "execute_result"
    }
   ],
   "source": [
    "vessel_history.head(2)"
   ]
  },
  {
   "cell_type": "markdown",
   "metadata": {},
   "source": [
    "Convert the datetimes from strings to polars datetime objects. The logic is pretty complex. So we will abstract it into a function that we can apply to all of the required columns."
   ]
  },
  {
   "cell_type": "code",
   "execution_count": 39,
   "metadata": {},
   "outputs": [],
   "source": [
    "def convert_string_to_datetime(series: pl.Series) -> pl.Series:\n",
    "    \"\"\"\n",
    "    Convert the datetime format from wadot into a datetime format that polars\n",
    "    can understand.\n",
    "\n",
    "    >>> convert_string_to_datetime(pl.Series(['/Date(1714547700000-0700)/']))\n",
    "    shape: (1,)\n",
    "    Series: '' [datetime[μs, UTC]]\n",
    "    [\n",
    "        2024-05-01 07:15:00 UTC\n",
    "    ]\n",
    "    \"\"\"\n",
    "    # Extract the unix time stamp. To work with polars we need the time\n",
    "    # the number of seconds since 1970-01-01 00:00 UTC, so divide by\n",
    "    # 1_000.\n",
    "    unix_timestamp = (\n",
    "        (series.str.extract(r\"/Date\\((\\d{13})[-+]\").cast(pl.Int64) / 1_000)\n",
    "        .cast(pl.Int64)\n",
    "        .cast(pl.String)\n",
    "    )\n",
    "    # Extract the timezone.\n",
    "    timezone = series.str.extract(r\"([-+]\\d{4})\")\n",
    "    # Create a new series that has the timestamp and timezone.\n",
    "    clean_timestamp = unix_timestamp + timezone\n",
    "    # Convert into a datetime.\n",
    "    datetime_series = clean_timestamp.str.to_datetime(\"%s%z\")\n",
    "    return datetime_series"
   ]
  },
  {
   "cell_type": "code",
   "execution_count": 40,
   "metadata": {},
   "outputs": [
    {
     "data": {
      "text/html": [
       "<div><style>\n",
       ".dataframe > thead > tr,\n",
       ".dataframe > tbody > tr {\n",
       "  text-align: right;\n",
       "  white-space: pre-wrap;\n",
       "}\n",
       "</style>\n",
       "<small>shape: (1,)</small><table border=\"1\" class=\"dataframe\"><thead><tr><th></th></tr><tr><td>datetime[μs, UTC]</td></tr></thead><tbody><tr><td>2024-05-01 07:15:00 UTC</td></tr></tbody></table></div>"
      ],
      "text/plain": [
       "shape: (1,)\n",
       "Series: '' [datetime[μs, UTC]]\n",
       "[\n",
       "\t2024-05-01 07:15:00 UTC\n",
       "]"
      ]
     },
     "execution_count": 40,
     "metadata": {},
     "output_type": "execute_result"
    }
   ],
   "source": [
    "convert_string_to_datetime(pl.Series([\"/Date(1714547700000-0700)/\"]))"
   ]
  },
  {
   "cell_type": "code",
   "execution_count": 41,
   "metadata": {},
   "outputs": [],
   "source": [
    "vessel_history_clean = vessel_history.with_columns(\n",
    "    (\n",
    "        pl.col(\"ScheduledDepart\", \"ActualDepart\", \"EstArrival\", \"Date\").map_batches(\n",
    "            convert_string_to_datetime\n",
    "        )\n",
    "    )\n",
    ")"
   ]
  },
  {
   "cell_type": "code",
   "execution_count": 42,
   "metadata": {},
   "outputs": [
    {
     "data": {
      "text/html": [
       "<div><style>\n",
       ".dataframe > thead > tr,\n",
       ".dataframe > tbody > tr {\n",
       "  text-align: right;\n",
       "  white-space: pre-wrap;\n",
       "}\n",
       "</style>\n",
       "<small>shape: (5, 8)</small><table border=\"1\" class=\"dataframe\"><thead><tr><th>VesselId</th><th>Vessel</th><th>Departing</th><th>Arriving</th><th>ScheduledDepart</th><th>ActualDepart</th><th>EstArrival</th><th>Date</th></tr><tr><td>i64</td><td>str</td><td>str</td><td>str</td><td>datetime[μs, UTC]</td><td>datetime[μs, UTC]</td><td>datetime[μs, UTC]</td><td>datetime[μs, UTC]</td></tr></thead><tbody><tr><td>31</td><td>&quot;Cathlamet&quot;</td><td>&quot;Vashon&quot;</td><td>&quot;Southworth&quot;</td><td>2024-03-01 08:15:00 UTC</td><td>2024-03-01 08:16:09 UTC</td><td>2024-03-01 08:33:19 UTC</td><td>2024-03-01 08:15:00 UTC</td></tr><tr><td>31</td><td>&quot;Cathlamet&quot;</td><td>&quot;Southworth&quot;</td><td>&quot;Fauntleroy&quot;</td><td>2024-03-01 08:35:00 UTC</td><td>2024-03-01 08:36:11 UTC</td><td>2024-03-01 08:55:49 UTC</td><td>2024-03-01 08:35:00 UTC</td></tr><tr><td>31</td><td>&quot;Cathlamet&quot;</td><td>&quot;Fauntleroy&quot;</td><td>&quot;Vashon&quot;</td><td>2024-03-01 09:05:00 UTC</td><td>2024-03-01 09:07:30 UTC</td><td>2024-03-01 09:22:30 UTC</td><td>2024-03-01 09:05:00 UTC</td></tr><tr><td>31</td><td>&quot;Cathlamet&quot;</td><td>&quot;Vashon&quot;</td><td>&quot;Southworth&quot;</td><td>2024-03-01 09:30:00 UTC</td><td>2024-03-01 09:30:30 UTC</td><td>2024-03-01 09:43:00 UTC</td><td>2024-03-01 09:30:00 UTC</td></tr><tr><td>32</td><td>&quot;Cathlamet&quot;</td><td>&quot;Vashon&quot;</td><td>&quot;Fauntleroy&quot;</td><td>2024-03-01 12:05:00 UTC</td><td>2024-03-01 12:06:35 UTC</td><td>2024-03-01 12:20:29 UTC</td><td>2024-03-01 12:05:00 UTC</td></tr></tbody></table></div>"
      ],
      "text/plain": [
       "shape: (5, 8)\n",
       "┌──────────┬───────────┬────────────┬────────────┬────────────┬────────────┬───────────┬───────────┐\n",
       "│ VesselId ┆ Vessel    ┆ Departing  ┆ Arriving   ┆ ScheduledD ┆ ActualDepa ┆ EstArriva ┆ Date      │\n",
       "│ ---      ┆ ---       ┆ ---        ┆ ---        ┆ epart      ┆ rt         ┆ l         ┆ ---       │\n",
       "│ i64      ┆ str       ┆ str        ┆ str        ┆ ---        ┆ ---        ┆ ---       ┆ datetime[ │\n",
       "│          ┆           ┆            ┆            ┆ datetime[μ ┆ datetime[μ ┆ datetime[ ┆ μs, UTC]  │\n",
       "│          ┆           ┆            ┆            ┆ s, UTC]    ┆ s, UTC]    ┆ μs, UTC]  ┆           │\n",
       "╞══════════╪═══════════╪════════════╪════════════╪════════════╪════════════╪═══════════╪═══════════╡\n",
       "│ 31       ┆ Cathlamet ┆ Vashon     ┆ Southworth ┆ 2024-03-01 ┆ 2024-03-01 ┆ 2024-03-0 ┆ 2024-03-0 │\n",
       "│          ┆           ┆            ┆            ┆ 08:15:00   ┆ 08:16:09   ┆ 1         ┆ 1         │\n",
       "│          ┆           ┆            ┆            ┆ UTC        ┆ UTC        ┆ 08:33:19  ┆ 08:15:00  │\n",
       "│          ┆           ┆            ┆            ┆            ┆            ┆ UTC       ┆ UTC       │\n",
       "│ 31       ┆ Cathlamet ┆ Southworth ┆ Fauntleroy ┆ 2024-03-01 ┆ 2024-03-01 ┆ 2024-03-0 ┆ 2024-03-0 │\n",
       "│          ┆           ┆            ┆            ┆ 08:35:00   ┆ 08:36:11   ┆ 1         ┆ 1         │\n",
       "│          ┆           ┆            ┆            ┆ UTC        ┆ UTC        ┆ 08:55:49  ┆ 08:35:00  │\n",
       "│          ┆           ┆            ┆            ┆            ┆            ┆ UTC       ┆ UTC       │\n",
       "│ 31       ┆ Cathlamet ┆ Fauntleroy ┆ Vashon     ┆ 2024-03-01 ┆ 2024-03-01 ┆ 2024-03-0 ┆ 2024-03-0 │\n",
       "│          ┆           ┆            ┆            ┆ 09:05:00   ┆ 09:07:30   ┆ 1         ┆ 1         │\n",
       "│          ┆           ┆            ┆            ┆ UTC        ┆ UTC        ┆ 09:22:30  ┆ 09:05:00  │\n",
       "│          ┆           ┆            ┆            ┆            ┆            ┆ UTC       ┆ UTC       │\n",
       "│ 31       ┆ Cathlamet ┆ Vashon     ┆ Southworth ┆ 2024-03-01 ┆ 2024-03-01 ┆ 2024-03-0 ┆ 2024-03-0 │\n",
       "│          ┆           ┆            ┆            ┆ 09:30:00   ┆ 09:30:30   ┆ 1         ┆ 1         │\n",
       "│          ┆           ┆            ┆            ┆ UTC        ┆ UTC        ┆ 09:43:00  ┆ 09:30:00  │\n",
       "│          ┆           ┆            ┆            ┆            ┆            ┆ UTC       ┆ UTC       │\n",
       "│ 32       ┆ Cathlamet ┆ Vashon     ┆ Fauntleroy ┆ 2024-03-01 ┆ 2024-03-01 ┆ 2024-03-0 ┆ 2024-03-0 │\n",
       "│          ┆           ┆            ┆            ┆ 12:05:00   ┆ 12:06:35   ┆ 1         ┆ 1         │\n",
       "│          ┆           ┆            ┆            ┆ UTC        ┆ UTC        ┆ 12:20:29  ┆ 12:05:00  │\n",
       "│          ┆           ┆            ┆            ┆            ┆            ┆ UTC       ┆ UTC       │\n",
       "└──────────┴───────────┴────────────┴────────────┴────────────┴────────────┴───────────┴───────────┘"
      ]
     },
     "execution_count": 42,
     "metadata": {},
     "output_type": "execute_result"
    }
   ],
   "source": [
    "vessel_history_clean.head()"
   ]
  },
  {
   "cell_type": "markdown",
   "metadata": {},
   "source": [
    "Normalize all of the string columns so that they are consistent."
   ]
  },
  {
   "cell_type": "code",
   "execution_count": 43,
   "metadata": {},
   "outputs": [],
   "source": [
    "vessel_history_clean = vessel_history_clean.with_columns(\n",
    "    pl.col(\"Vessel\", \"Departing\", \"Arriving\").str.to_lowercase().str.strip_chars()\n",
    ")"
   ]
  },
  {
   "cell_type": "code",
   "execution_count": 44,
   "metadata": {},
   "outputs": [
    {
     "data": {
      "text/html": [
       "<div><style>\n",
       ".dataframe > thead > tr,\n",
       ".dataframe > tbody > tr {\n",
       "  text-align: right;\n",
       "  white-space: pre-wrap;\n",
       "}\n",
       "</style>\n",
       "<small>shape: (5, 3)</small><table border=\"1\" class=\"dataframe\"><thead><tr><th>Vessel</th><th>Departing</th><th>Arriving</th></tr><tr><td>str</td><td>str</td><td>str</td></tr></thead><tbody><tr><td>&quot;cathlamet&quot;</td><td>&quot;vashon&quot;</td><td>&quot;southworth&quot;</td></tr><tr><td>&quot;cathlamet&quot;</td><td>&quot;southworth&quot;</td><td>&quot;fauntleroy&quot;</td></tr><tr><td>&quot;cathlamet&quot;</td><td>&quot;fauntleroy&quot;</td><td>&quot;vashon&quot;</td></tr><tr><td>&quot;cathlamet&quot;</td><td>&quot;vashon&quot;</td><td>&quot;southworth&quot;</td></tr><tr><td>&quot;cathlamet&quot;</td><td>&quot;vashon&quot;</td><td>&quot;fauntleroy&quot;</td></tr></tbody></table></div>"
      ],
      "text/plain": [
       "shape: (5, 3)\n",
       "┌───────────┬────────────┬────────────┐\n",
       "│ Vessel    ┆ Departing  ┆ Arriving   │\n",
       "│ ---       ┆ ---        ┆ ---        │\n",
       "│ str       ┆ str        ┆ str        │\n",
       "╞═══════════╪════════════╪════════════╡\n",
       "│ cathlamet ┆ vashon     ┆ southworth │\n",
       "│ cathlamet ┆ southworth ┆ fauntleroy │\n",
       "│ cathlamet ┆ fauntleroy ┆ vashon     │\n",
       "│ cathlamet ┆ vashon     ┆ southworth │\n",
       "│ cathlamet ┆ vashon     ┆ fauntleroy │\n",
       "└───────────┴────────────┴────────────┘"
      ]
     },
     "execution_count": 44,
     "metadata": {},
     "output_type": "execute_result"
    }
   ],
   "source": [
    "vessel_history_clean.select(\"Vessel\", \"Departing\", \"Arriving\").head()"
   ]
  },
  {
   "cell_type": "markdown",
   "metadata": {},
   "source": [
    "It was identified that many rows have no \"Arriving\" terminal, or \"EstArrival\" date."
   ]
  },
  {
   "cell_type": "code",
   "execution_count": 45,
   "metadata": {},
   "outputs": [
    {
     "data": {
      "text/html": [
       "<div><style>\n",
       ".dataframe > thead > tr,\n",
       ".dataframe > tbody > tr {\n",
       "  text-align: right;\n",
       "  white-space: pre-wrap;\n",
       "}\n",
       "</style>\n",
       "<small>shape: (1_767, 8)</small><table border=\"1\" class=\"dataframe\"><thead><tr><th>VesselId</th><th>Vessel</th><th>Departing</th><th>Arriving</th><th>ScheduledDepart</th><th>ActualDepart</th><th>EstArrival</th><th>Date</th></tr><tr><td>i64</td><td>str</td><td>str</td><td>str</td><td>datetime[μs, UTC]</td><td>datetime[μs, UTC]</td><td>datetime[μs, UTC]</td><td>datetime[μs, UTC]</td></tr></thead><tbody><tr><td>32</td><td>&quot;cathlamet&quot;</td><td>&quot;vashon&quot;</td><td>null</td><td>2024-03-10 13:30:00 UTC</td><td>2024-03-10 13:31:19 UTC</td><td>null</td><td>2024-03-10 13:30:00 UTC</td></tr><tr><td>31</td><td>&quot;cathlamet&quot;</td><td>&quot;fauntleroy&quot;</td><td>null</td><td>2024-03-13 17:40:00 UTC</td><td>2024-03-13 18:02:23 UTC</td><td>null</td><td>2024-03-13 17:40:00 UTC</td></tr><tr><td>31</td><td>&quot;cathlamet&quot;</td><td>&quot;fauntleroy&quot;</td><td>null</td><td>2024-03-14 14:40:00 UTC</td><td>2024-03-14 14:33:16 UTC</td><td>null</td><td>2024-03-14 14:40:00 UTC</td></tr><tr><td>31</td><td>&quot;cathlamet&quot;</td><td>&quot;fauntleroy&quot;</td><td>null</td><td>2024-03-14 17:40:00 UTC</td><td>2024-03-14 17:37:25 UTC</td><td>null</td><td>2024-03-14 17:40:00 UTC</td></tr><tr><td>31</td><td>&quot;cathlamet&quot;</td><td>&quot;fauntleroy&quot;</td><td>null</td><td>2024-03-15 17:40:00 UTC</td><td>2024-03-15 18:09:47 UTC</td><td>null</td><td>2024-03-15 17:40:00 UTC</td></tr><tr><td>&hellip;</td><td>&hellip;</td><td>&hellip;</td><td>&hellip;</td><td>&hellip;</td><td>&hellip;</td><td>&hellip;</td><td>&hellip;</td></tr><tr><td>28</td><td>&quot;tokitae&quot;</td><td>&quot;mukilteo&quot;</td><td>null</td><td>2024-06-05 21:05:00 UTC</td><td>2024-06-05 21:03:02 UTC</td><td>null</td><td>2024-06-05 21:05:00 UTC</td></tr><tr><td>25</td><td>&quot;yakima&quot;</td><td>&quot;anacortes&quot;</td><td>null</td><td>2024-06-09 03:25:00 UTC</td><td>2024-06-09 04:03:42 UTC</td><td>null</td><td>2024-06-09 03:25:00 UTC</td></tr><tr><td>35</td><td>&quot;yakima&quot;</td><td>&quot;orcas&quot;</td><td>null</td><td>2024-08-01 16:15:00 UTC</td><td>2024-08-01 16:20:10 UTC</td><td>null</td><td>2024-08-01 16:15:00 UTC</td></tr><tr><td>35</td><td>&quot;yakima&quot;</td><td>&quot;shaw&quot;</td><td>null</td><td>2024-08-01 16:30:00 UTC</td><td>2024-08-01 16:35:40 UTC</td><td>null</td><td>2024-08-01 16:30:00 UTC</td></tr><tr><td>2522</td><td>&quot;yakima&quot;</td><td>&quot;friday harbor&quot;</td><td>null</td><td>2024-08-02 01:30:00 UTC</td><td>2024-08-02 01:02:15 UTC</td><td>null</td><td>2024-08-02 01:30:00 UTC</td></tr></tbody></table></div>"
      ],
      "text/plain": [
       "shape: (1_767, 8)\n",
       "┌──────────┬───────────┬────────────┬──────────┬────────────┬────────────┬────────────┬────────────┐\n",
       "│ VesselId ┆ Vessel    ┆ Departing  ┆ Arriving ┆ ScheduledD ┆ ActualDepa ┆ EstArrival ┆ Date       │\n",
       "│ ---      ┆ ---       ┆ ---        ┆ ---      ┆ epart      ┆ rt         ┆ ---        ┆ ---        │\n",
       "│ i64      ┆ str       ┆ str        ┆ str      ┆ ---        ┆ ---        ┆ datetime[μ ┆ datetime[μ │\n",
       "│          ┆           ┆            ┆          ┆ datetime[μ ┆ datetime[μ ┆ s, UTC]    ┆ s, UTC]    │\n",
       "│          ┆           ┆            ┆          ┆ s, UTC]    ┆ s, UTC]    ┆            ┆            │\n",
       "╞══════════╪═══════════╪════════════╪══════════╪════════════╪════════════╪════════════╪════════════╡\n",
       "│ 32       ┆ cathlamet ┆ vashon     ┆ null     ┆ 2024-03-10 ┆ 2024-03-10 ┆ null       ┆ 2024-03-10 │\n",
       "│          ┆           ┆            ┆          ┆ 13:30:00   ┆ 13:31:19   ┆            ┆ 13:30:00   │\n",
       "│          ┆           ┆            ┆          ┆ UTC        ┆ UTC        ┆            ┆ UTC        │\n",
       "│ 31       ┆ cathlamet ┆ fauntleroy ┆ null     ┆ 2024-03-13 ┆ 2024-03-13 ┆ null       ┆ 2024-03-13 │\n",
       "│          ┆           ┆            ┆          ┆ 17:40:00   ┆ 18:02:23   ┆            ┆ 17:40:00   │\n",
       "│          ┆           ┆            ┆          ┆ UTC        ┆ UTC        ┆            ┆ UTC        │\n",
       "│ 31       ┆ cathlamet ┆ fauntleroy ┆ null     ┆ 2024-03-14 ┆ 2024-03-14 ┆ null       ┆ 2024-03-14 │\n",
       "│          ┆           ┆            ┆          ┆ 14:40:00   ┆ 14:33:16   ┆            ┆ 14:40:00   │\n",
       "│          ┆           ┆            ┆          ┆ UTC        ┆ UTC        ┆            ┆ UTC        │\n",
       "│ 31       ┆ cathlamet ┆ fauntleroy ┆ null     ┆ 2024-03-14 ┆ 2024-03-14 ┆ null       ┆ 2024-03-14 │\n",
       "│          ┆           ┆            ┆          ┆ 17:40:00   ┆ 17:37:25   ┆            ┆ 17:40:00   │\n",
       "│          ┆           ┆            ┆          ┆ UTC        ┆ UTC        ┆            ┆ UTC        │\n",
       "│ 31       ┆ cathlamet ┆ fauntleroy ┆ null     ┆ 2024-03-15 ┆ 2024-03-15 ┆ null       ┆ 2024-03-15 │\n",
       "│          ┆           ┆            ┆          ┆ 17:40:00   ┆ 18:09:47   ┆            ┆ 17:40:00   │\n",
       "│          ┆           ┆            ┆          ┆ UTC        ┆ UTC        ┆            ┆ UTC        │\n",
       "│ …        ┆ …         ┆ …          ┆ …        ┆ …          ┆ …          ┆ …          ┆ …          │\n",
       "│ 28       ┆ tokitae   ┆ mukilteo   ┆ null     ┆ 2024-06-05 ┆ 2024-06-05 ┆ null       ┆ 2024-06-05 │\n",
       "│          ┆           ┆            ┆          ┆ 21:05:00   ┆ 21:03:02   ┆            ┆ 21:05:00   │\n",
       "│          ┆           ┆            ┆          ┆ UTC        ┆ UTC        ┆            ┆ UTC        │\n",
       "│ 25       ┆ yakima    ┆ anacortes  ┆ null     ┆ 2024-06-09 ┆ 2024-06-09 ┆ null       ┆ 2024-06-09 │\n",
       "│          ┆           ┆            ┆          ┆ 03:25:00   ┆ 04:03:42   ┆            ┆ 03:25:00   │\n",
       "│          ┆           ┆            ┆          ┆ UTC        ┆ UTC        ┆            ┆ UTC        │\n",
       "│ 35       ┆ yakima    ┆ orcas      ┆ null     ┆ 2024-08-01 ┆ 2024-08-01 ┆ null       ┆ 2024-08-01 │\n",
       "│          ┆           ┆            ┆          ┆ 16:15:00   ┆ 16:20:10   ┆            ┆ 16:15:00   │\n",
       "│          ┆           ┆            ┆          ┆ UTC        ┆ UTC        ┆            ┆ UTC        │\n",
       "│ 35       ┆ yakima    ┆ shaw       ┆ null     ┆ 2024-08-01 ┆ 2024-08-01 ┆ null       ┆ 2024-08-01 │\n",
       "│          ┆           ┆            ┆          ┆ 16:30:00   ┆ 16:35:40   ┆            ┆ 16:30:00   │\n",
       "│          ┆           ┆            ┆          ┆ UTC        ┆ UTC        ┆            ┆ UTC        │\n",
       "│ 2522     ┆ yakima    ┆ friday     ┆ null     ┆ 2024-08-02 ┆ 2024-08-02 ┆ null       ┆ 2024-08-02 │\n",
       "│          ┆           ┆ harbor     ┆          ┆ 01:30:00   ┆ 01:02:15   ┆            ┆ 01:30:00   │\n",
       "│          ┆           ┆            ┆          ┆ UTC        ┆ UTC        ┆            ┆ UTC        │\n",
       "└──────────┴───────────┴────────────┴──────────┴────────────┴────────────┴────────────┴────────────┘"
      ]
     },
     "execution_count": 45,
     "metadata": {},
     "output_type": "execute_result"
    }
   ],
   "source": [
    "(\n",
    "    vessel_history_clean.filter(\n",
    "        pl.col(\"Arriving\").is_null() | pl.col(\"EstArrival\").is_null()\n",
    "    )\n",
    ")"
   ]
  },
  {
   "cell_type": "markdown",
   "metadata": {},
   "source": [
    "We will assume that it means these ferries were cancelled and drop these rows."
   ]
  },
  {
   "cell_type": "code",
   "execution_count": 46,
   "metadata": {},
   "outputs": [],
   "source": [
    "vessel_history_clean = vessel_history_clean.filter(\n",
    "    pl.col(\"Arriving\").is_not_null(),\n",
    "    pl.col(\"EstArrival\").is_not_null()\n",
    ")"
   ]
  },
  {
   "cell_type": "code",
   "execution_count": 48,
   "metadata": {},
   "outputs": [
    {
     "data": {
      "text/html": [
       "<div><style>\n",
       ".dataframe > thead > tr,\n",
       ".dataframe > tbody > tr {\n",
       "  text-align: right;\n",
       "  white-space: pre-wrap;\n",
       "}\n",
       "</style>\n",
       "<small>shape: (55_794, 8)</small><table border=\"1\" class=\"dataframe\"><thead><tr><th>VesselId</th><th>Vessel</th><th>Departing</th><th>Arriving</th><th>ScheduledDepart</th><th>ActualDepart</th><th>EstArrival</th><th>Date</th></tr><tr><td>i64</td><td>str</td><td>str</td><td>str</td><td>datetime[μs, UTC]</td><td>datetime[μs, UTC]</td><td>datetime[μs, UTC]</td><td>datetime[μs, UTC]</td></tr></thead><tbody><tr><td>31</td><td>&quot;cathlamet&quot;</td><td>&quot;vashon&quot;</td><td>&quot;southworth&quot;</td><td>2024-03-01 08:15:00 UTC</td><td>2024-03-01 08:16:09 UTC</td><td>2024-03-01 08:33:19 UTC</td><td>2024-03-01 08:15:00 UTC</td></tr><tr><td>31</td><td>&quot;cathlamet&quot;</td><td>&quot;southworth&quot;</td><td>&quot;fauntleroy&quot;</td><td>2024-03-01 08:35:00 UTC</td><td>2024-03-01 08:36:11 UTC</td><td>2024-03-01 08:55:49 UTC</td><td>2024-03-01 08:35:00 UTC</td></tr><tr><td>31</td><td>&quot;cathlamet&quot;</td><td>&quot;fauntleroy&quot;</td><td>&quot;vashon&quot;</td><td>2024-03-01 09:05:00 UTC</td><td>2024-03-01 09:07:30 UTC</td><td>2024-03-01 09:22:30 UTC</td><td>2024-03-01 09:05:00 UTC</td></tr><tr><td>31</td><td>&quot;cathlamet&quot;</td><td>&quot;vashon&quot;</td><td>&quot;southworth&quot;</td><td>2024-03-01 09:30:00 UTC</td><td>2024-03-01 09:30:30 UTC</td><td>2024-03-01 09:43:00 UTC</td><td>2024-03-01 09:30:00 UTC</td></tr><tr><td>32</td><td>&quot;cathlamet&quot;</td><td>&quot;vashon&quot;</td><td>&quot;fauntleroy&quot;</td><td>2024-03-01 12:05:00 UTC</td><td>2024-03-01 12:06:35 UTC</td><td>2024-03-01 12:20:29 UTC</td><td>2024-03-01 12:05:00 UTC</td></tr><tr><td>&hellip;</td><td>&hellip;</td><td>&hellip;</td><td>&hellip;</td><td>&hellip;</td><td>&hellip;</td><td>&hellip;</td><td>&hellip;</td></tr><tr><td>25</td><td>&quot;yakima&quot;</td><td>&quot;lopez&quot;</td><td>&quot;anacortes&quot;</td><td>2024-08-06 01:20:00 UTC</td><td>2024-08-06 03:03:30 UTC</td><td>2024-08-06 03:49:03 UTC</td><td>2024-08-06 01:20:00 UTC</td></tr><tr><td>27</td><td>&quot;yakima&quot;</td><td>&quot;anacortes&quot;</td><td>&quot;lopez&quot;</td><td>2024-08-06 01:45:00 UTC</td><td>2024-08-06 01:55:53 UTC</td><td>2024-08-06 02:39:26 UTC</td><td>2024-08-06 01:45:00 UTC</td></tr><tr><td>25</td><td>&quot;yakima&quot;</td><td>&quot;anacortes&quot;</td><td>&quot;shaw&quot;</td><td>2024-08-06 02:25:00 UTC</td><td>2024-08-06 04:02:00 UTC</td><td>2024-08-06 04:51:51 UTC</td><td>2024-08-06 02:25:00 UTC</td></tr><tr><td>25</td><td>&quot;yakima&quot;</td><td>&quot;shaw&quot;</td><td>&quot;orcas&quot;</td><td>2024-08-06 03:20:00 UTC</td><td>2024-08-06 04:55:25 UTC</td><td>2024-08-06 05:04:55 UTC</td><td>2024-08-06 03:20:00 UTC</td></tr><tr><td>25</td><td>&quot;yakima&quot;</td><td>&quot;orcas&quot;</td><td>&quot;anacortes&quot;</td><td>2024-08-06 03:50:00 UTC</td><td>2024-08-06 05:14:43 UTC</td><td>2024-08-06 06:10:25 UTC</td><td>2024-08-06 03:50:00 UTC</td></tr></tbody></table></div>"
      ],
      "text/plain": [
       "shape: (55_794, 8)\n",
       "┌──────────┬───────────┬────────────┬────────────┬────────────┬────────────┬───────────┬───────────┐\n",
       "│ VesselId ┆ Vessel    ┆ Departing  ┆ Arriving   ┆ ScheduledD ┆ ActualDepa ┆ EstArriva ┆ Date      │\n",
       "│ ---      ┆ ---       ┆ ---        ┆ ---        ┆ epart      ┆ rt         ┆ l         ┆ ---       │\n",
       "│ i64      ┆ str       ┆ str        ┆ str        ┆ ---        ┆ ---        ┆ ---       ┆ datetime[ │\n",
       "│          ┆           ┆            ┆            ┆ datetime[μ ┆ datetime[μ ┆ datetime[ ┆ μs, UTC]  │\n",
       "│          ┆           ┆            ┆            ┆ s, UTC]    ┆ s, UTC]    ┆ μs, UTC]  ┆           │\n",
       "╞══════════╪═══════════╪════════════╪════════════╪════════════╪════════════╪═══════════╪═══════════╡\n",
       "│ 31       ┆ cathlamet ┆ vashon     ┆ southworth ┆ 2024-03-01 ┆ 2024-03-01 ┆ 2024-03-0 ┆ 2024-03-0 │\n",
       "│          ┆           ┆            ┆            ┆ 08:15:00   ┆ 08:16:09   ┆ 1         ┆ 1         │\n",
       "│          ┆           ┆            ┆            ┆ UTC        ┆ UTC        ┆ 08:33:19  ┆ 08:15:00  │\n",
       "│          ┆           ┆            ┆            ┆            ┆            ┆ UTC       ┆ UTC       │\n",
       "│ 31       ┆ cathlamet ┆ southworth ┆ fauntleroy ┆ 2024-03-01 ┆ 2024-03-01 ┆ 2024-03-0 ┆ 2024-03-0 │\n",
       "│          ┆           ┆            ┆            ┆ 08:35:00   ┆ 08:36:11   ┆ 1         ┆ 1         │\n",
       "│          ┆           ┆            ┆            ┆ UTC        ┆ UTC        ┆ 08:55:49  ┆ 08:35:00  │\n",
       "│          ┆           ┆            ┆            ┆            ┆            ┆ UTC       ┆ UTC       │\n",
       "│ 31       ┆ cathlamet ┆ fauntleroy ┆ vashon     ┆ 2024-03-01 ┆ 2024-03-01 ┆ 2024-03-0 ┆ 2024-03-0 │\n",
       "│          ┆           ┆            ┆            ┆ 09:05:00   ┆ 09:07:30   ┆ 1         ┆ 1         │\n",
       "│          ┆           ┆            ┆            ┆ UTC        ┆ UTC        ┆ 09:22:30  ┆ 09:05:00  │\n",
       "│          ┆           ┆            ┆            ┆            ┆            ┆ UTC       ┆ UTC       │\n",
       "│ 31       ┆ cathlamet ┆ vashon     ┆ southworth ┆ 2024-03-01 ┆ 2024-03-01 ┆ 2024-03-0 ┆ 2024-03-0 │\n",
       "│          ┆           ┆            ┆            ┆ 09:30:00   ┆ 09:30:30   ┆ 1         ┆ 1         │\n",
       "│          ┆           ┆            ┆            ┆ UTC        ┆ UTC        ┆ 09:43:00  ┆ 09:30:00  │\n",
       "│          ┆           ┆            ┆            ┆            ┆            ┆ UTC       ┆ UTC       │\n",
       "│ 32       ┆ cathlamet ┆ vashon     ┆ fauntleroy ┆ 2024-03-01 ┆ 2024-03-01 ┆ 2024-03-0 ┆ 2024-03-0 │\n",
       "│          ┆           ┆            ┆            ┆ 12:05:00   ┆ 12:06:35   ┆ 1         ┆ 1         │\n",
       "│          ┆           ┆            ┆            ┆ UTC        ┆ UTC        ┆ 12:20:29  ┆ 12:05:00  │\n",
       "│          ┆           ┆            ┆            ┆            ┆            ┆ UTC       ┆ UTC       │\n",
       "│ …        ┆ …         ┆ …          ┆ …          ┆ …          ┆ …          ┆ …         ┆ …         │\n",
       "│ 25       ┆ yakima    ┆ lopez      ┆ anacortes  ┆ 2024-08-06 ┆ 2024-08-06 ┆ 2024-08-0 ┆ 2024-08-0 │\n",
       "│          ┆           ┆            ┆            ┆ 01:20:00   ┆ 03:03:30   ┆ 6         ┆ 6         │\n",
       "│          ┆           ┆            ┆            ┆ UTC        ┆ UTC        ┆ 03:49:03  ┆ 01:20:00  │\n",
       "│          ┆           ┆            ┆            ┆            ┆            ┆ UTC       ┆ UTC       │\n",
       "│ 27       ┆ yakima    ┆ anacortes  ┆ lopez      ┆ 2024-08-06 ┆ 2024-08-06 ┆ 2024-08-0 ┆ 2024-08-0 │\n",
       "│          ┆           ┆            ┆            ┆ 01:45:00   ┆ 01:55:53   ┆ 6         ┆ 6         │\n",
       "│          ┆           ┆            ┆            ┆ UTC        ┆ UTC        ┆ 02:39:26  ┆ 01:45:00  │\n",
       "│          ┆           ┆            ┆            ┆            ┆            ┆ UTC       ┆ UTC       │\n",
       "│ 25       ┆ yakima    ┆ anacortes  ┆ shaw       ┆ 2024-08-06 ┆ 2024-08-06 ┆ 2024-08-0 ┆ 2024-08-0 │\n",
       "│          ┆           ┆            ┆            ┆ 02:25:00   ┆ 04:02:00   ┆ 6         ┆ 6         │\n",
       "│          ┆           ┆            ┆            ┆ UTC        ┆ UTC        ┆ 04:51:51  ┆ 02:25:00  │\n",
       "│          ┆           ┆            ┆            ┆            ┆            ┆ UTC       ┆ UTC       │\n",
       "│ 25       ┆ yakima    ┆ shaw       ┆ orcas      ┆ 2024-08-06 ┆ 2024-08-06 ┆ 2024-08-0 ┆ 2024-08-0 │\n",
       "│          ┆           ┆            ┆            ┆ 03:20:00   ┆ 04:55:25   ┆ 6         ┆ 6         │\n",
       "│          ┆           ┆            ┆            ┆ UTC        ┆ UTC        ┆ 05:04:55  ┆ 03:20:00  │\n",
       "│          ┆           ┆            ┆            ┆            ┆            ┆ UTC       ┆ UTC       │\n",
       "│ 25       ┆ yakima    ┆ orcas      ┆ anacortes  ┆ 2024-08-06 ┆ 2024-08-06 ┆ 2024-08-0 ┆ 2024-08-0 │\n",
       "│          ┆           ┆            ┆            ┆ 03:50:00   ┆ 05:14:43   ┆ 6         ┆ 6         │\n",
       "│          ┆           ┆            ┆            ┆ UTC        ┆ UTC        ┆ 06:10:25  ┆ 03:50:00  │\n",
       "│          ┆           ┆            ┆            ┆            ┆            ┆ UTC       ┆ UTC       │\n",
       "└──────────┴───────────┴────────────┴────────────┴────────────┴────────────┴───────────┴───────────┘"
      ]
     },
     "execution_count": 48,
     "metadata": {},
     "output_type": "execute_result"
    }
   ],
   "source": [
    "vessel_history_clean"
   ]
  },
  {
   "cell_type": "markdown",
   "metadata": {},
   "source": [
    "Correct the names of the \"Departing\" and \"Arriving\" terminals so that they match the values in the `terminal_locations` data set."
   ]
  },
  {
   "cell_type": "code",
   "execution_count": 49,
   "metadata": {},
   "outputs": [],
   "source": [
    "terminal_name_mapping = {\n",
    "    \"anacortes\": \"anacortes\",\n",
    "    \"bainbridge\": \"bainbridge island\",\n",
    "    \"bremerton\": \"bremerton\",\n",
    "    \"clinton\": \"clinton\",\n",
    "    \"colman\": \"seattle\",\n",
    "    \"edmonds\": \"edmonds\",\n",
    "    \"fauntleroy\": \"fauntleroy\",\n",
    "    \"friday harbor\": \"friday harbor\",\n",
    "    \"keystone\": \"coupeville\",\n",
    "    \"kingston\": \"kingston\",\n",
    "    \"lopez\": \"lopez island\",\n",
    "    \"mukilteo\": \"mukilteo\",\n",
    "    \"orcas\": \"orcas island\",\n",
    "    \"port townsend\": \"port townsend\",\n",
    "    \"pt. defiance\": \"point defiance\",\n",
    "    \"shaw\": \"shaw island\",\n",
    "    \"sidney b. c.\": \"sidney b.c.\",\n",
    "    \"southworth\": \"southworth\",\n",
    "    \"tahlequah\": \"tahlequah\",\n",
    "    \"vashon\": \"vashon island\",\n",
    "}"
   ]
  },
  {
   "cell_type": "code",
   "execution_count": 50,
   "metadata": {},
   "outputs": [
    {
     "data": {
      "text/html": [
       "<div><style>\n",
       ".dataframe > thead > tr,\n",
       ".dataframe > tbody > tr {\n",
       "  text-align: right;\n",
       "  white-space: pre-wrap;\n",
       "}\n",
       "</style>\n",
       "<small>shape: (20, 2)</small><table border=\"1\" class=\"dataframe\"><thead><tr><th>OldName</th><th>CorrectName</th></tr><tr><td>str</td><td>str</td></tr></thead><tbody><tr><td>&quot;anacortes&quot;</td><td>&quot;anacortes&quot;</td></tr><tr><td>&quot;bainbridge&quot;</td><td>&quot;bainbridge island&quot;</td></tr><tr><td>&quot;bremerton&quot;</td><td>&quot;bremerton&quot;</td></tr><tr><td>&quot;clinton&quot;</td><td>&quot;clinton&quot;</td></tr><tr><td>&quot;colman&quot;</td><td>&quot;seattle&quot;</td></tr><tr><td>&hellip;</td><td>&hellip;</td></tr><tr><td>&quot;shaw&quot;</td><td>&quot;shaw island&quot;</td></tr><tr><td>&quot;sidney b. c.&quot;</td><td>&quot;sidney b.c.&quot;</td></tr><tr><td>&quot;southworth&quot;</td><td>&quot;southworth&quot;</td></tr><tr><td>&quot;tahlequah&quot;</td><td>&quot;tahlequah&quot;</td></tr><tr><td>&quot;vashon&quot;</td><td>&quot;vashon island&quot;</td></tr></tbody></table></div>"
      ],
      "text/plain": [
       "shape: (20, 2)\n",
       "┌──────────────┬───────────────────┐\n",
       "│ OldName      ┆ CorrectName       │\n",
       "│ ---          ┆ ---               │\n",
       "│ str          ┆ str               │\n",
       "╞══════════════╪═══════════════════╡\n",
       "│ anacortes    ┆ anacortes         │\n",
       "│ bainbridge   ┆ bainbridge island │\n",
       "│ bremerton    ┆ bremerton         │\n",
       "│ clinton      ┆ clinton           │\n",
       "│ colman       ┆ seattle           │\n",
       "│ …            ┆ …                 │\n",
       "│ shaw         ┆ shaw island       │\n",
       "│ sidney b. c. ┆ sidney b.c.       │\n",
       "│ southworth   ┆ southworth        │\n",
       "│ tahlequah    ┆ tahlequah         │\n",
       "│ vashon       ┆ vashon island     │\n",
       "└──────────────┴───────────────────┘"
      ]
     },
     "execution_count": 50,
     "metadata": {},
     "output_type": "execute_result"
    }
   ],
   "source": [
    "terminal_name_mapping_df = pl.DataFrame(\n",
    "    {\n",
    "        \"OldName\": terminal_name_mapping.keys(),\n",
    "        \"CorrectName\": terminal_name_mapping.values(),\n",
    "    }\n",
    ")\n",
    "\n",
    "terminal_name_mapping_df"
   ]
  },
  {
   "cell_type": "markdown",
   "metadata": {},
   "source": [
    "Tidy the vessel history data so that the terminals are named consistently across all data sets."
   ]
  },
  {
   "cell_type": "code",
   "execution_count": 51,
   "metadata": {},
   "outputs": [],
   "source": [
    "vessel_history_clean = (\n",
    "    vessel_history_clean.join(\n",
    "        terminal_name_mapping_df,\n",
    "        left_on=\"Departing\",\n",
    "        right_on=\"OldName\",\n",
    "        how=\"left\",\n",
    "        validate=\"m:1\",\n",
    "        coalesce=True\n",
    "    )\n",
    "    .rename({\"CorrectName\": \"DepartingCorrected\"})\n",
    "    .join(\n",
    "        terminal_name_mapping_df,\n",
    "        left_on=\"Arriving\",\n",
    "        right_on=\"OldName\",\n",
    "        how=\"left\",\n",
    "        validate=\"m:1\",\n",
    "        coalesce=True\n",
    "    )\n",
    "    .rename({\"CorrectName\": \"ArrivingCorrected\"})\n",
    "    .drop([\"Departing\", \"Arriving\"])\n",
    "    .rename({\"DepartingCorrected\": \"Departing\", \"ArrivingCorrected\": \"Arriving\"})\n",
    "    .select(\n",
    "        [\n",
    "            \"VesselId\",\n",
    "            \"Vessel\",\n",
    "            \"Departing\",\n",
    "            \"Arriving\",\n",
    "            \"ScheduledDepart\",\n",
    "            \"ActualDepart\",\n",
    "            \"EstArrival\",\n",
    "            \"Date\",\n",
    "        ]\n",
    "    )\n",
    ")"
   ]
  },
  {
   "cell_type": "code",
   "execution_count": 52,
   "metadata": {},
   "outputs": [
    {
     "data": {
      "text/html": [
       "<div><style>\n",
       ".dataframe > thead > tr,\n",
       ".dataframe > tbody > tr {\n",
       "  text-align: right;\n",
       "  white-space: pre-wrap;\n",
       "}\n",
       "</style>\n",
       "<small>shape: (5, 8)</small><table border=\"1\" class=\"dataframe\"><thead><tr><th>VesselId</th><th>Vessel</th><th>Departing</th><th>Arriving</th><th>ScheduledDepart</th><th>ActualDepart</th><th>EstArrival</th><th>Date</th></tr><tr><td>i64</td><td>str</td><td>str</td><td>str</td><td>datetime[μs, UTC]</td><td>datetime[μs, UTC]</td><td>datetime[μs, UTC]</td><td>datetime[μs, UTC]</td></tr></thead><tbody><tr><td>31</td><td>&quot;cathlamet&quot;</td><td>&quot;vashon island&quot;</td><td>&quot;southworth&quot;</td><td>2024-03-01 08:15:00 UTC</td><td>2024-03-01 08:16:09 UTC</td><td>2024-03-01 08:33:19 UTC</td><td>2024-03-01 08:15:00 UTC</td></tr><tr><td>31</td><td>&quot;cathlamet&quot;</td><td>&quot;southworth&quot;</td><td>&quot;fauntleroy&quot;</td><td>2024-03-01 08:35:00 UTC</td><td>2024-03-01 08:36:11 UTC</td><td>2024-03-01 08:55:49 UTC</td><td>2024-03-01 08:35:00 UTC</td></tr><tr><td>31</td><td>&quot;cathlamet&quot;</td><td>&quot;fauntleroy&quot;</td><td>&quot;vashon island&quot;</td><td>2024-03-01 09:05:00 UTC</td><td>2024-03-01 09:07:30 UTC</td><td>2024-03-01 09:22:30 UTC</td><td>2024-03-01 09:05:00 UTC</td></tr><tr><td>31</td><td>&quot;cathlamet&quot;</td><td>&quot;vashon island&quot;</td><td>&quot;southworth&quot;</td><td>2024-03-01 09:30:00 UTC</td><td>2024-03-01 09:30:30 UTC</td><td>2024-03-01 09:43:00 UTC</td><td>2024-03-01 09:30:00 UTC</td></tr><tr><td>32</td><td>&quot;cathlamet&quot;</td><td>&quot;vashon island&quot;</td><td>&quot;fauntleroy&quot;</td><td>2024-03-01 12:05:00 UTC</td><td>2024-03-01 12:06:35 UTC</td><td>2024-03-01 12:20:29 UTC</td><td>2024-03-01 12:05:00 UTC</td></tr></tbody></table></div>"
      ],
      "text/plain": [
       "shape: (5, 8)\n",
       "┌──────────┬───────────┬────────────┬────────────┬────────────┬────────────┬───────────┬───────────┐\n",
       "│ VesselId ┆ Vessel    ┆ Departing  ┆ Arriving   ┆ ScheduledD ┆ ActualDepa ┆ EstArriva ┆ Date      │\n",
       "│ ---      ┆ ---       ┆ ---        ┆ ---        ┆ epart      ┆ rt         ┆ l         ┆ ---       │\n",
       "│ i64      ┆ str       ┆ str        ┆ str        ┆ ---        ┆ ---        ┆ ---       ┆ datetime[ │\n",
       "│          ┆           ┆            ┆            ┆ datetime[μ ┆ datetime[μ ┆ datetime[ ┆ μs, UTC]  │\n",
       "│          ┆           ┆            ┆            ┆ s, UTC]    ┆ s, UTC]    ┆ μs, UTC]  ┆           │\n",
       "╞══════════╪═══════════╪════════════╪════════════╪════════════╪════════════╪═══════════╪═══════════╡\n",
       "│ 31       ┆ cathlamet ┆ vashon     ┆ southworth ┆ 2024-03-01 ┆ 2024-03-01 ┆ 2024-03-0 ┆ 2024-03-0 │\n",
       "│          ┆           ┆ island     ┆            ┆ 08:15:00   ┆ 08:16:09   ┆ 1         ┆ 1         │\n",
       "│          ┆           ┆            ┆            ┆ UTC        ┆ UTC        ┆ 08:33:19  ┆ 08:15:00  │\n",
       "│          ┆           ┆            ┆            ┆            ┆            ┆ UTC       ┆ UTC       │\n",
       "│ 31       ┆ cathlamet ┆ southworth ┆ fauntleroy ┆ 2024-03-01 ┆ 2024-03-01 ┆ 2024-03-0 ┆ 2024-03-0 │\n",
       "│          ┆           ┆            ┆            ┆ 08:35:00   ┆ 08:36:11   ┆ 1         ┆ 1         │\n",
       "│          ┆           ┆            ┆            ┆ UTC        ┆ UTC        ┆ 08:55:49  ┆ 08:35:00  │\n",
       "│          ┆           ┆            ┆            ┆            ┆            ┆ UTC       ┆ UTC       │\n",
       "│ 31       ┆ cathlamet ┆ fauntleroy ┆ vashon     ┆ 2024-03-01 ┆ 2024-03-01 ┆ 2024-03-0 ┆ 2024-03-0 │\n",
       "│          ┆           ┆            ┆ island     ┆ 09:05:00   ┆ 09:07:30   ┆ 1         ┆ 1         │\n",
       "│          ┆           ┆            ┆            ┆ UTC        ┆ UTC        ┆ 09:22:30  ┆ 09:05:00  │\n",
       "│          ┆           ┆            ┆            ┆            ┆            ┆ UTC       ┆ UTC       │\n",
       "│ 31       ┆ cathlamet ┆ vashon     ┆ southworth ┆ 2024-03-01 ┆ 2024-03-01 ┆ 2024-03-0 ┆ 2024-03-0 │\n",
       "│          ┆           ┆ island     ┆            ┆ 09:30:00   ┆ 09:30:30   ┆ 1         ┆ 1         │\n",
       "│          ┆           ┆            ┆            ┆ UTC        ┆ UTC        ┆ 09:43:00  ┆ 09:30:00  │\n",
       "│          ┆           ┆            ┆            ┆            ┆            ┆ UTC       ┆ UTC       │\n",
       "│ 32       ┆ cathlamet ┆ vashon     ┆ fauntleroy ┆ 2024-03-01 ┆ 2024-03-01 ┆ 2024-03-0 ┆ 2024-03-0 │\n",
       "│          ┆           ┆ island     ┆            ┆ 12:05:00   ┆ 12:06:35   ┆ 1         ┆ 1         │\n",
       "│          ┆           ┆            ┆            ┆ UTC        ┆ UTC        ┆ 12:20:29  ┆ 12:05:00  │\n",
       "│          ┆           ┆            ┆            ┆            ┆            ┆ UTC       ┆ UTC       │\n",
       "└──────────┴───────────┴────────────┴────────────┴────────────┴────────────┴───────────┴───────────┘"
      ]
     },
     "execution_count": 52,
     "metadata": {},
     "output_type": "execute_result"
    }
   ],
   "source": [
    "vessel_history_clean.head()"
   ]
  },
  {
   "cell_type": "markdown",
   "metadata": {},
   "source": [
    "Tidy the vessel history data so that the relationship between vessel history and vessel verbose is correct."
   ]
  },
  {
   "cell_type": "markdown",
   "metadata": {},
   "source": [
    "It was identified that joins based on `VesselId` are not complete."
   ]
  },
  {
   "cell_type": "code",
   "execution_count": 53,
   "metadata": {},
   "outputs": [
    {
     "data": {
      "text/html": [
       "<div><style>\n",
       ".dataframe > thead > tr,\n",
       ".dataframe > tbody > tr {\n",
       "  text-align: right;\n",
       "  white-space: pre-wrap;\n",
       "}\n",
       "</style>\n",
       "<small>shape: (44_876, 51)</small><table border=\"1\" class=\"dataframe\"><thead><tr><th>VesselId</th><th>Vessel</th><th>Departing</th><th>Arriving</th><th>ScheduledDepart</th><th>ActualDepart</th><th>EstArrival</th><th>Date</th><th>VesselSubjectID</th><th>VesselName</th><th>VesselAbbrev</th><th>ClassID</th><th>ClassSubjectID</th><th>ClassName</th><th>SortSeq</th><th>DrawingImg</th><th>SilhouetteImg</th><th>PublicDisplayName</th><th>Status</th><th>OwnedByWSF</th><th>CarDeckRestroom</th><th>CarDeckShelter</th><th>Elevator</th><th>ADAAccessible</th><th>MainCabinGalley</th><th>MainCabinRestroom</th><th>PublicWifi</th><th>ADAInfo</th><th>AdditionalInfo</th><th>VesselNameDesc</th><th>VesselHistory</th><th>CityBuilt</th><th>SpeedInKnots</th><th>EngineCount</th><th>Horsepower</th><th>MaxPassengerCount</th><th>PassengerOnly</th><th>FastFerry</th><th>PropulsionInfo</th><th>TallDeckClearance</th><th>RegDeckSpace</th><th>TallDeckSpace</th><th>Tonnage</th><th>Displacement</th><th>YearBuilt</th><th>YearRebuilt</th><th>SolasCertified</th><th>MaxPassengerCountForInternational</th><th>BeamInches</th><th>LengthInches</th><th>DraftInches</th></tr><tr><td>i64</td><td>str</td><td>str</td><td>str</td><td>datetime[μs, UTC]</td><td>datetime[μs, UTC]</td><td>datetime[μs, UTC]</td><td>datetime[μs, UTC]</td><td>i64</td><td>str</td><td>str</td><td>i64</td><td>i64</td><td>str</td><td>i64</td><td>str</td><td>str</td><td>str</td><td>i64</td><td>bool</td><td>bool</td><td>bool</td><td>bool</td><td>bool</td><td>bool</td><td>bool</td><td>bool</td><td>str</td><td>str</td><td>str</td><td>str</td><td>str</td><td>i64</td><td>i64</td><td>i64</td><td>i64</td><td>bool</td><td>bool</td><td>str</td><td>i64</td><td>i64</td><td>i64</td><td>i64</td><td>i64</td><td>date</td><td>date</td><td>bool</td><td>i64</td><td>i64</td><td>i64</td><td>i64</td></tr></thead><tbody><tr><td>31</td><td>&quot;cathlamet&quot;</td><td>&quot;vashon island&quot;</td><td>&quot;southworth&quot;</td><td>2024-03-01 08:15:00 UTC</td><td>2024-03-01 08:16:09 UTC</td><td>2024-03-01 08:33:19 UTC</td><td>2024-03-01 08:15:00 UTC</td><td>null</td><td>null</td><td>null</td><td>null</td><td>null</td><td>null</td><td>null</td><td>null</td><td>null</td><td>null</td><td>null</td><td>null</td><td>null</td><td>null</td><td>null</td><td>null</td><td>null</td><td>null</td><td>null</td><td>null</td><td>null</td><td>null</td><td>null</td><td>null</td><td>null</td><td>null</td><td>null</td><td>null</td><td>null</td><td>null</td><td>null</td><td>null</td><td>null</td><td>null</td><td>null</td><td>null</td><td>null</td><td>null</td><td>null</td><td>null</td><td>null</td><td>null</td><td>null</td></tr><tr><td>31</td><td>&quot;cathlamet&quot;</td><td>&quot;southworth&quot;</td><td>&quot;fauntleroy&quot;</td><td>2024-03-01 08:35:00 UTC</td><td>2024-03-01 08:36:11 UTC</td><td>2024-03-01 08:55:49 UTC</td><td>2024-03-01 08:35:00 UTC</td><td>null</td><td>null</td><td>null</td><td>null</td><td>null</td><td>null</td><td>null</td><td>null</td><td>null</td><td>null</td><td>null</td><td>null</td><td>null</td><td>null</td><td>null</td><td>null</td><td>null</td><td>null</td><td>null</td><td>null</td><td>null</td><td>null</td><td>null</td><td>null</td><td>null</td><td>null</td><td>null</td><td>null</td><td>null</td><td>null</td><td>null</td><td>null</td><td>null</td><td>null</td><td>null</td><td>null</td><td>null</td><td>null</td><td>null</td><td>null</td><td>null</td><td>null</td><td>null</td></tr><tr><td>31</td><td>&quot;cathlamet&quot;</td><td>&quot;fauntleroy&quot;</td><td>&quot;vashon island&quot;</td><td>2024-03-01 09:05:00 UTC</td><td>2024-03-01 09:07:30 UTC</td><td>2024-03-01 09:22:30 UTC</td><td>2024-03-01 09:05:00 UTC</td><td>null</td><td>null</td><td>null</td><td>null</td><td>null</td><td>null</td><td>null</td><td>null</td><td>null</td><td>null</td><td>null</td><td>null</td><td>null</td><td>null</td><td>null</td><td>null</td><td>null</td><td>null</td><td>null</td><td>null</td><td>null</td><td>null</td><td>null</td><td>null</td><td>null</td><td>null</td><td>null</td><td>null</td><td>null</td><td>null</td><td>null</td><td>null</td><td>null</td><td>null</td><td>null</td><td>null</td><td>null</td><td>null</td><td>null</td><td>null</td><td>null</td><td>null</td><td>null</td></tr><tr><td>31</td><td>&quot;cathlamet&quot;</td><td>&quot;vashon island&quot;</td><td>&quot;southworth&quot;</td><td>2024-03-01 09:30:00 UTC</td><td>2024-03-01 09:30:30 UTC</td><td>2024-03-01 09:43:00 UTC</td><td>2024-03-01 09:30:00 UTC</td><td>null</td><td>null</td><td>null</td><td>null</td><td>null</td><td>null</td><td>null</td><td>null</td><td>null</td><td>null</td><td>null</td><td>null</td><td>null</td><td>null</td><td>null</td><td>null</td><td>null</td><td>null</td><td>null</td><td>null</td><td>null</td><td>null</td><td>null</td><td>null</td><td>null</td><td>null</td><td>null</td><td>null</td><td>null</td><td>null</td><td>null</td><td>null</td><td>null</td><td>null</td><td>null</td><td>null</td><td>null</td><td>null</td><td>null</td><td>null</td><td>null</td><td>null</td><td>null</td></tr><tr><td>31</td><td>&quot;cathlamet&quot;</td><td>&quot;vashon island&quot;</td><td>&quot;fauntleroy&quot;</td><td>2024-03-01 18:15:00 UTC</td><td>2024-03-01 18:10:47 UTC</td><td>2024-03-01 18:24:16 UTC</td><td>2024-03-01 18:15:00 UTC</td><td>null</td><td>null</td><td>null</td><td>null</td><td>null</td><td>null</td><td>null</td><td>null</td><td>null</td><td>null</td><td>null</td><td>null</td><td>null</td><td>null</td><td>null</td><td>null</td><td>null</td><td>null</td><td>null</td><td>null</td><td>null</td><td>null</td><td>null</td><td>null</td><td>null</td><td>null</td><td>null</td><td>null</td><td>null</td><td>null</td><td>null</td><td>null</td><td>null</td><td>null</td><td>null</td><td>null</td><td>null</td><td>null</td><td>null</td><td>null</td><td>null</td><td>null</td><td>null</td></tr><tr><td>&hellip;</td><td>&hellip;</td><td>&hellip;</td><td>&hellip;</td><td>&hellip;</td><td>&hellip;</td><td>&hellip;</td><td>&hellip;</td><td>&hellip;</td><td>&hellip;</td><td>&hellip;</td><td>&hellip;</td><td>&hellip;</td><td>&hellip;</td><td>&hellip;</td><td>&hellip;</td><td>&hellip;</td><td>&hellip;</td><td>&hellip;</td><td>&hellip;</td><td>&hellip;</td><td>&hellip;</td><td>&hellip;</td><td>&hellip;</td><td>&hellip;</td><td>&hellip;</td><td>&hellip;</td><td>&hellip;</td><td>&hellip;</td><td>&hellip;</td><td>&hellip;</td><td>&hellip;</td><td>&hellip;</td><td>&hellip;</td><td>&hellip;</td><td>&hellip;</td><td>&hellip;</td><td>&hellip;</td><td>&hellip;</td><td>&hellip;</td><td>&hellip;</td><td>&hellip;</td><td>&hellip;</td><td>&hellip;</td><td>&hellip;</td><td>&hellip;</td><td>&hellip;</td><td>&hellip;</td><td>&hellip;</td><td>&hellip;</td><td>&hellip;</td></tr><tr><td>35</td><td>&quot;yakima&quot;</td><td>&quot;shaw island&quot;</td><td>&quot;lopez island&quot;</td><td>2024-07-31 16:30:00 UTC</td><td>2024-07-31 16:47:56 UTC</td><td>2024-07-31 16:56:58 UTC</td><td>2024-07-31 16:30:00 UTC</td><td>null</td><td>null</td><td>null</td><td>null</td><td>null</td><td>null</td><td>null</td><td>null</td><td>null</td><td>null</td><td>null</td><td>null</td><td>null</td><td>null</td><td>null</td><td>null</td><td>null</td><td>null</td><td>null</td><td>null</td><td>null</td><td>null</td><td>null</td><td>null</td><td>null</td><td>null</td><td>null</td><td>null</td><td>null</td><td>null</td><td>null</td><td>null</td><td>null</td><td>null</td><td>null</td><td>null</td><td>null</td><td>null</td><td>null</td><td>null</td><td>null</td><td>null</td><td>null</td></tr><tr><td>35</td><td>&quot;yakima&quot;</td><td>&quot;shaw island&quot;</td><td>&quot;orcas island&quot;</td><td>2024-07-31 19:25:00 UTC</td><td>2024-07-31 19:26:13 UTC</td><td>2024-07-31 19:37:13 UTC</td><td>2024-07-31 19:25:00 UTC</td><td>null</td><td>null</td><td>null</td><td>null</td><td>null</td><td>null</td><td>null</td><td>null</td><td>null</td><td>null</td><td>null</td><td>null</td><td>null</td><td>null</td><td>null</td><td>null</td><td>null</td><td>null</td><td>null</td><td>null</td><td>null</td><td>null</td><td>null</td><td>null</td><td>null</td><td>null</td><td>null</td><td>null</td><td>null</td><td>null</td><td>null</td><td>null</td><td>null</td><td>null</td><td>null</td><td>null</td><td>null</td><td>null</td><td>null</td><td>null</td><td>null</td><td>null</td><td>null</td></tr><tr><td>35</td><td>&quot;yakima&quot;</td><td>&quot;shaw island&quot;</td><td>&quot;orcas island&quot;</td><td>2024-08-01 19:25:00 UTC</td><td>2024-08-01 19:50:25 UTC</td><td>2024-08-01 20:01:14 UTC</td><td>2024-08-01 19:25:00 UTC</td><td>null</td><td>null</td><td>null</td><td>null</td><td>null</td><td>null</td><td>null</td><td>null</td><td>null</td><td>null</td><td>null</td><td>null</td><td>null</td><td>null</td><td>null</td><td>null</td><td>null</td><td>null</td><td>null</td><td>null</td><td>null</td><td>null</td><td>null</td><td>null</td><td>null</td><td>null</td><td>null</td><td>null</td><td>null</td><td>null</td><td>null</td><td>null</td><td>null</td><td>null</td><td>null</td><td>null</td><td>null</td><td>null</td><td>null</td><td>null</td><td>null</td><td>null</td><td>null</td></tr><tr><td>35</td><td>&quot;yakima&quot;</td><td>&quot;orcas island&quot;</td><td>&quot;friday harbor&quot;</td><td>2024-08-01 23:25:00 UTC</td><td>2024-08-01 23:30:19 UTC</td><td>2024-08-02 00:11:48 UTC</td><td>2024-08-01 23:25:00 UTC</td><td>null</td><td>null</td><td>null</td><td>null</td><td>null</td><td>null</td><td>null</td><td>null</td><td>null</td><td>null</td><td>null</td><td>null</td><td>null</td><td>null</td><td>null</td><td>null</td><td>null</td><td>null</td><td>null</td><td>null</td><td>null</td><td>null</td><td>null</td><td>null</td><td>null</td><td>null</td><td>null</td><td>null</td><td>null</td><td>null</td><td>null</td><td>null</td><td>null</td><td>null</td><td>null</td><td>null</td><td>null</td><td>null</td><td>null</td><td>null</td><td>null</td><td>null</td><td>null</td></tr><tr><td>27</td><td>&quot;yakima&quot;</td><td>&quot;anacortes&quot;</td><td>&quot;lopez island&quot;</td><td>2024-08-06 01:45:00 UTC</td><td>2024-08-06 01:55:53 UTC</td><td>2024-08-06 02:39:26 UTC</td><td>2024-08-06 01:45:00 UTC</td><td>null</td><td>null</td><td>null</td><td>null</td><td>null</td><td>null</td><td>null</td><td>null</td><td>null</td><td>null</td><td>null</td><td>null</td><td>null</td><td>null</td><td>null</td><td>null</td><td>null</td><td>null</td><td>null</td><td>null</td><td>null</td><td>null</td><td>null</td><td>null</td><td>null</td><td>null</td><td>null</td><td>null</td><td>null</td><td>null</td><td>null</td><td>null</td><td>null</td><td>null</td><td>null</td><td>null</td><td>null</td><td>null</td><td>null</td><td>null</td><td>null</td><td>null</td><td>null</td></tr></tbody></table></div>"
      ],
      "text/plain": [
       "shape: (44_876, 51)\n",
       "┌──────────┬───────────┬───────────┬───────────┬───┬───────────┬───────────┬───────────┬───────────┐\n",
       "│ VesselId ┆ Vessel    ┆ Departing ┆ Arriving  ┆ … ┆ MaxPassen ┆ BeamInche ┆ LengthInc ┆ DraftInch │\n",
       "│ ---      ┆ ---       ┆ ---       ┆ ---       ┆   ┆ gerCountF ┆ s         ┆ hes       ┆ es        │\n",
       "│ i64      ┆ str       ┆ str       ┆ str       ┆   ┆ orInterna ┆ ---       ┆ ---       ┆ ---       │\n",
       "│          ┆           ┆           ┆           ┆   ┆ tio…      ┆ i64       ┆ i64       ┆ i64       │\n",
       "│          ┆           ┆           ┆           ┆   ┆ ---       ┆           ┆           ┆           │\n",
       "│          ┆           ┆           ┆           ┆   ┆ i64       ┆           ┆           ┆           │\n",
       "╞══════════╪═══════════╪═══════════╪═══════════╪═══╪═══════════╪═══════════╪═══════════╪═══════════╡\n",
       "│ 31       ┆ cathlamet ┆ vashon    ┆ southwort ┆ … ┆ null      ┆ null      ┆ null      ┆ null      │\n",
       "│          ┆           ┆ island    ┆ h         ┆   ┆           ┆           ┆           ┆           │\n",
       "│ 31       ┆ cathlamet ┆ southwort ┆ fauntlero ┆ … ┆ null      ┆ null      ┆ null      ┆ null      │\n",
       "│          ┆           ┆ h         ┆ y         ┆   ┆           ┆           ┆           ┆           │\n",
       "│ 31       ┆ cathlamet ┆ fauntlero ┆ vashon    ┆ … ┆ null      ┆ null      ┆ null      ┆ null      │\n",
       "│          ┆           ┆ y         ┆ island    ┆   ┆           ┆           ┆           ┆           │\n",
       "│ 31       ┆ cathlamet ┆ vashon    ┆ southwort ┆ … ┆ null      ┆ null      ┆ null      ┆ null      │\n",
       "│          ┆           ┆ island    ┆ h         ┆   ┆           ┆           ┆           ┆           │\n",
       "│ 31       ┆ cathlamet ┆ vashon    ┆ fauntlero ┆ … ┆ null      ┆ null      ┆ null      ┆ null      │\n",
       "│          ┆           ┆ island    ┆ y         ┆   ┆           ┆           ┆           ┆           │\n",
       "│ …        ┆ …         ┆ …         ┆ …         ┆ … ┆ …         ┆ …         ┆ …         ┆ …         │\n",
       "│ 35       ┆ yakima    ┆ shaw      ┆ lopez     ┆ … ┆ null      ┆ null      ┆ null      ┆ null      │\n",
       "│          ┆           ┆ island    ┆ island    ┆   ┆           ┆           ┆           ┆           │\n",
       "│ 35       ┆ yakima    ┆ shaw      ┆ orcas     ┆ … ┆ null      ┆ null      ┆ null      ┆ null      │\n",
       "│          ┆           ┆ island    ┆ island    ┆   ┆           ┆           ┆           ┆           │\n",
       "│ 35       ┆ yakima    ┆ shaw      ┆ orcas     ┆ … ┆ null      ┆ null      ┆ null      ┆ null      │\n",
       "│          ┆           ┆ island    ┆ island    ┆   ┆           ┆           ┆           ┆           │\n",
       "│ 35       ┆ yakima    ┆ orcas     ┆ friday    ┆ … ┆ null      ┆ null      ┆ null      ┆ null      │\n",
       "│          ┆           ┆ island    ┆ harbor    ┆   ┆           ┆           ┆           ┆           │\n",
       "│ 27       ┆ yakima    ┆ anacortes ┆ lopez     ┆ … ┆ null      ┆ null      ┆ null      ┆ null      │\n",
       "│          ┆           ┆           ┆ island    ┆   ┆           ┆           ┆           ┆           │\n",
       "└──────────┴───────────┴───────────┴───────────┴───┴───────────┴───────────┴───────────┴───────────┘"
      ]
     },
     "execution_count": 53,
     "metadata": {},
     "output_type": "execute_result"
    }
   ],
   "source": [
    "(\n",
    "    vessel_history_clean.join(\n",
    "        vessel_verbose_clean,\n",
    "        left_on=\"VesselId\",\n",
    "        right_on=\"VesselID\",\n",
    "        how=\"left\",\n",
    "        validate=\"m:1\",\n",
    "        coalesce=True\n",
    "    )\n",
    "    # Filter to show all of the rows where there was no matching Vessel ID in the\n",
    "    # vessel_verbose_clean DataFrame.\n",
    "    .filter(pl.col(\"VesselAbbrev\").is_null())\n",
    ")"
   ]
  },
  {
   "cell_type": "markdown",
   "metadata": {},
   "source": [
    "However, joins based on `Vessel` and `VesselName` are complete."
   ]
  },
  {
   "cell_type": "code",
   "execution_count": 54,
   "metadata": {},
   "outputs": [
    {
     "data": {
      "text/html": [
       "<div><style>\n",
       ".dataframe > thead > tr,\n",
       ".dataframe > tbody > tr {\n",
       "  text-align: right;\n",
       "  white-space: pre-wrap;\n",
       "}\n",
       "</style>\n",
       "<small>shape: (55_794, 51)</small><table border=\"1\" class=\"dataframe\"><thead><tr><th>VesselId</th><th>Vessel</th><th>Departing</th><th>Arriving</th><th>ScheduledDepart</th><th>ActualDepart</th><th>EstArrival</th><th>Date</th><th>VesselID</th><th>VesselSubjectID</th><th>VesselAbbrev</th><th>ClassID</th><th>ClassSubjectID</th><th>ClassName</th><th>SortSeq</th><th>DrawingImg</th><th>SilhouetteImg</th><th>PublicDisplayName</th><th>Status</th><th>OwnedByWSF</th><th>CarDeckRestroom</th><th>CarDeckShelter</th><th>Elevator</th><th>ADAAccessible</th><th>MainCabinGalley</th><th>MainCabinRestroom</th><th>PublicWifi</th><th>ADAInfo</th><th>AdditionalInfo</th><th>VesselNameDesc</th><th>VesselHistory</th><th>CityBuilt</th><th>SpeedInKnots</th><th>EngineCount</th><th>Horsepower</th><th>MaxPassengerCount</th><th>PassengerOnly</th><th>FastFerry</th><th>PropulsionInfo</th><th>TallDeckClearance</th><th>RegDeckSpace</th><th>TallDeckSpace</th><th>Tonnage</th><th>Displacement</th><th>YearBuilt</th><th>YearRebuilt</th><th>SolasCertified</th><th>MaxPassengerCountForInternational</th><th>BeamInches</th><th>LengthInches</th><th>DraftInches</th></tr><tr><td>i64</td><td>str</td><td>str</td><td>str</td><td>datetime[μs, UTC]</td><td>datetime[μs, UTC]</td><td>datetime[μs, UTC]</td><td>datetime[μs, UTC]</td><td>i64</td><td>i64</td><td>str</td><td>i64</td><td>i64</td><td>str</td><td>i64</td><td>str</td><td>str</td><td>str</td><td>i64</td><td>bool</td><td>bool</td><td>bool</td><td>bool</td><td>bool</td><td>bool</td><td>bool</td><td>bool</td><td>str</td><td>str</td><td>str</td><td>str</td><td>str</td><td>i64</td><td>i64</td><td>i64</td><td>i64</td><td>bool</td><td>bool</td><td>str</td><td>i64</td><td>i64</td><td>i64</td><td>i64</td><td>i64</td><td>date</td><td>date</td><td>bool</td><td>i64</td><td>i64</td><td>i64</td><td>i64</td></tr></thead><tbody><tr><td>31</td><td>&quot;cathlamet&quot;</td><td>&quot;vashon island&quot;</td><td>&quot;southworth&quot;</td><td>2024-03-01 08:15:00 UTC</td><td>2024-03-01 08:16:09 UTC</td><td>2024-03-01 08:33:19 UTC</td><td>2024-03-01 08:15:00 UTC</td><td>1</td><td>1</td><td>&quot;cat&quot;</td><td>10</td><td>310</td><td>&quot;issaquah 130&quot;</td><td>40</td><td>&quot;https://www.wsdot.wa.gov/ferri…</td><td>&quot;https://www.wsdot.wa.gov/ferri…</td><td>&quot;Issaquah&quot;</td><td>1</td><td>true</td><td>true</td><td>false</td><td>true</td><td>true</td><td>true</td><td>true</td><td>false</td><td>&quot;The MV Cathlamet has elevator …</td><td>null</td><td>&quot;From the Kathlamet tribe, the …</td><td>null</td><td>&quot;seattle, wa&quot;</td><td>16</td><td>2</td><td>5000</td><td>1200</td><td>false</td><td>false</td><td>&quot;diesel&quot;</td><td>186</td><td>124</td><td>26</td><td>2477</td><td>3310</td><td>1981-01-01</td><td>1993-01-01</td><td>false</td><td>null</td><td>944</td><td>3936</td><td>198</td></tr><tr><td>31</td><td>&quot;cathlamet&quot;</td><td>&quot;southworth&quot;</td><td>&quot;fauntleroy&quot;</td><td>2024-03-01 08:35:00 UTC</td><td>2024-03-01 08:36:11 UTC</td><td>2024-03-01 08:55:49 UTC</td><td>2024-03-01 08:35:00 UTC</td><td>1</td><td>1</td><td>&quot;cat&quot;</td><td>10</td><td>310</td><td>&quot;issaquah 130&quot;</td><td>40</td><td>&quot;https://www.wsdot.wa.gov/ferri…</td><td>&quot;https://www.wsdot.wa.gov/ferri…</td><td>&quot;Issaquah&quot;</td><td>1</td><td>true</td><td>true</td><td>false</td><td>true</td><td>true</td><td>true</td><td>true</td><td>false</td><td>&quot;The MV Cathlamet has elevator …</td><td>null</td><td>&quot;From the Kathlamet tribe, the …</td><td>null</td><td>&quot;seattle, wa&quot;</td><td>16</td><td>2</td><td>5000</td><td>1200</td><td>false</td><td>false</td><td>&quot;diesel&quot;</td><td>186</td><td>124</td><td>26</td><td>2477</td><td>3310</td><td>1981-01-01</td><td>1993-01-01</td><td>false</td><td>null</td><td>944</td><td>3936</td><td>198</td></tr><tr><td>31</td><td>&quot;cathlamet&quot;</td><td>&quot;fauntleroy&quot;</td><td>&quot;vashon island&quot;</td><td>2024-03-01 09:05:00 UTC</td><td>2024-03-01 09:07:30 UTC</td><td>2024-03-01 09:22:30 UTC</td><td>2024-03-01 09:05:00 UTC</td><td>1</td><td>1</td><td>&quot;cat&quot;</td><td>10</td><td>310</td><td>&quot;issaquah 130&quot;</td><td>40</td><td>&quot;https://www.wsdot.wa.gov/ferri…</td><td>&quot;https://www.wsdot.wa.gov/ferri…</td><td>&quot;Issaquah&quot;</td><td>1</td><td>true</td><td>true</td><td>false</td><td>true</td><td>true</td><td>true</td><td>true</td><td>false</td><td>&quot;The MV Cathlamet has elevator …</td><td>null</td><td>&quot;From the Kathlamet tribe, the …</td><td>null</td><td>&quot;seattle, wa&quot;</td><td>16</td><td>2</td><td>5000</td><td>1200</td><td>false</td><td>false</td><td>&quot;diesel&quot;</td><td>186</td><td>124</td><td>26</td><td>2477</td><td>3310</td><td>1981-01-01</td><td>1993-01-01</td><td>false</td><td>null</td><td>944</td><td>3936</td><td>198</td></tr><tr><td>31</td><td>&quot;cathlamet&quot;</td><td>&quot;vashon island&quot;</td><td>&quot;southworth&quot;</td><td>2024-03-01 09:30:00 UTC</td><td>2024-03-01 09:30:30 UTC</td><td>2024-03-01 09:43:00 UTC</td><td>2024-03-01 09:30:00 UTC</td><td>1</td><td>1</td><td>&quot;cat&quot;</td><td>10</td><td>310</td><td>&quot;issaquah 130&quot;</td><td>40</td><td>&quot;https://www.wsdot.wa.gov/ferri…</td><td>&quot;https://www.wsdot.wa.gov/ferri…</td><td>&quot;Issaquah&quot;</td><td>1</td><td>true</td><td>true</td><td>false</td><td>true</td><td>true</td><td>true</td><td>true</td><td>false</td><td>&quot;The MV Cathlamet has elevator …</td><td>null</td><td>&quot;From the Kathlamet tribe, the …</td><td>null</td><td>&quot;seattle, wa&quot;</td><td>16</td><td>2</td><td>5000</td><td>1200</td><td>false</td><td>false</td><td>&quot;diesel&quot;</td><td>186</td><td>124</td><td>26</td><td>2477</td><td>3310</td><td>1981-01-01</td><td>1993-01-01</td><td>false</td><td>null</td><td>944</td><td>3936</td><td>198</td></tr><tr><td>32</td><td>&quot;cathlamet&quot;</td><td>&quot;vashon island&quot;</td><td>&quot;fauntleroy&quot;</td><td>2024-03-01 12:05:00 UTC</td><td>2024-03-01 12:06:35 UTC</td><td>2024-03-01 12:20:29 UTC</td><td>2024-03-01 12:05:00 UTC</td><td>1</td><td>1</td><td>&quot;cat&quot;</td><td>10</td><td>310</td><td>&quot;issaquah 130&quot;</td><td>40</td><td>&quot;https://www.wsdot.wa.gov/ferri…</td><td>&quot;https://www.wsdot.wa.gov/ferri…</td><td>&quot;Issaquah&quot;</td><td>1</td><td>true</td><td>true</td><td>false</td><td>true</td><td>true</td><td>true</td><td>true</td><td>false</td><td>&quot;The MV Cathlamet has elevator …</td><td>null</td><td>&quot;From the Kathlamet tribe, the …</td><td>null</td><td>&quot;seattle, wa&quot;</td><td>16</td><td>2</td><td>5000</td><td>1200</td><td>false</td><td>false</td><td>&quot;diesel&quot;</td><td>186</td><td>124</td><td>26</td><td>2477</td><td>3310</td><td>1981-01-01</td><td>1993-01-01</td><td>false</td><td>null</td><td>944</td><td>3936</td><td>198</td></tr><tr><td>&hellip;</td><td>&hellip;</td><td>&hellip;</td><td>&hellip;</td><td>&hellip;</td><td>&hellip;</td><td>&hellip;</td><td>&hellip;</td><td>&hellip;</td><td>&hellip;</td><td>&hellip;</td><td>&hellip;</td><td>&hellip;</td><td>&hellip;</td><td>&hellip;</td><td>&hellip;</td><td>&hellip;</td><td>&hellip;</td><td>&hellip;</td><td>&hellip;</td><td>&hellip;</td><td>&hellip;</td><td>&hellip;</td><td>&hellip;</td><td>&hellip;</td><td>&hellip;</td><td>&hellip;</td><td>&hellip;</td><td>&hellip;</td><td>&hellip;</td><td>&hellip;</td><td>&hellip;</td><td>&hellip;</td><td>&hellip;</td><td>&hellip;</td><td>&hellip;</td><td>&hellip;</td><td>&hellip;</td><td>&hellip;</td><td>&hellip;</td><td>&hellip;</td><td>&hellip;</td><td>&hellip;</td><td>&hellip;</td><td>&hellip;</td><td>&hellip;</td><td>&hellip;</td><td>&hellip;</td><td>&hellip;</td><td>&hellip;</td><td>&hellip;</td></tr><tr><td>25</td><td>&quot;yakima&quot;</td><td>&quot;lopez island&quot;</td><td>&quot;anacortes&quot;</td><td>2024-08-06 01:20:00 UTC</td><td>2024-08-06 03:03:30 UTC</td><td>2024-08-06 03:49:03 UTC</td><td>2024-08-06 01:20:00 UTC</td><td>38</td><td>38</td><td>&quot;yak&quot;</td><td>50</td><td>314</td><td>&quot;super&quot;</td><td>30</td><td>&quot;https://www.wsdot.wa.gov/ferri…</td><td>&quot;https://www.wsdot.wa.gov/ferri…</td><td>&quot;Super&quot;</td><td>1</td><td>true</td><td>true</td><td>true</td><td>true</td><td>true</td><td>false</td><td>true</td><td>false</td><td>&quot;The MV Yakima has elevator acc…</td><td>null</td><td>&quot;From the Yakama language, &quot;Yak…</td><td>null</td><td>&quot;san diego, ca&quot;</td><td>17</td><td>4</td><td>8000</td><td>2000</td><td>false</td><td>false</td><td>&quot;diesel-electric (dc)&quot;</td><td>186</td><td>144</td><td>30</td><td>2704</td><td>3634</td><td>1967-01-01</td><td>2000-01-01</td><td>false</td><td>null</td><td>878</td><td>4586</td><td>222</td></tr><tr><td>27</td><td>&quot;yakima&quot;</td><td>&quot;anacortes&quot;</td><td>&quot;lopez island&quot;</td><td>2024-08-06 01:45:00 UTC</td><td>2024-08-06 01:55:53 UTC</td><td>2024-08-06 02:39:26 UTC</td><td>2024-08-06 01:45:00 UTC</td><td>38</td><td>38</td><td>&quot;yak&quot;</td><td>50</td><td>314</td><td>&quot;super&quot;</td><td>30</td><td>&quot;https://www.wsdot.wa.gov/ferri…</td><td>&quot;https://www.wsdot.wa.gov/ferri…</td><td>&quot;Super&quot;</td><td>1</td><td>true</td><td>true</td><td>true</td><td>true</td><td>true</td><td>false</td><td>true</td><td>false</td><td>&quot;The MV Yakima has elevator acc…</td><td>null</td><td>&quot;From the Yakama language, &quot;Yak…</td><td>null</td><td>&quot;san diego, ca&quot;</td><td>17</td><td>4</td><td>8000</td><td>2000</td><td>false</td><td>false</td><td>&quot;diesel-electric (dc)&quot;</td><td>186</td><td>144</td><td>30</td><td>2704</td><td>3634</td><td>1967-01-01</td><td>2000-01-01</td><td>false</td><td>null</td><td>878</td><td>4586</td><td>222</td></tr><tr><td>25</td><td>&quot;yakima&quot;</td><td>&quot;anacortes&quot;</td><td>&quot;shaw island&quot;</td><td>2024-08-06 02:25:00 UTC</td><td>2024-08-06 04:02:00 UTC</td><td>2024-08-06 04:51:51 UTC</td><td>2024-08-06 02:25:00 UTC</td><td>38</td><td>38</td><td>&quot;yak&quot;</td><td>50</td><td>314</td><td>&quot;super&quot;</td><td>30</td><td>&quot;https://www.wsdot.wa.gov/ferri…</td><td>&quot;https://www.wsdot.wa.gov/ferri…</td><td>&quot;Super&quot;</td><td>1</td><td>true</td><td>true</td><td>true</td><td>true</td><td>true</td><td>false</td><td>true</td><td>false</td><td>&quot;The MV Yakima has elevator acc…</td><td>null</td><td>&quot;From the Yakama language, &quot;Yak…</td><td>null</td><td>&quot;san diego, ca&quot;</td><td>17</td><td>4</td><td>8000</td><td>2000</td><td>false</td><td>false</td><td>&quot;diesel-electric (dc)&quot;</td><td>186</td><td>144</td><td>30</td><td>2704</td><td>3634</td><td>1967-01-01</td><td>2000-01-01</td><td>false</td><td>null</td><td>878</td><td>4586</td><td>222</td></tr><tr><td>25</td><td>&quot;yakima&quot;</td><td>&quot;shaw island&quot;</td><td>&quot;orcas island&quot;</td><td>2024-08-06 03:20:00 UTC</td><td>2024-08-06 04:55:25 UTC</td><td>2024-08-06 05:04:55 UTC</td><td>2024-08-06 03:20:00 UTC</td><td>38</td><td>38</td><td>&quot;yak&quot;</td><td>50</td><td>314</td><td>&quot;super&quot;</td><td>30</td><td>&quot;https://www.wsdot.wa.gov/ferri…</td><td>&quot;https://www.wsdot.wa.gov/ferri…</td><td>&quot;Super&quot;</td><td>1</td><td>true</td><td>true</td><td>true</td><td>true</td><td>true</td><td>false</td><td>true</td><td>false</td><td>&quot;The MV Yakima has elevator acc…</td><td>null</td><td>&quot;From the Yakama language, &quot;Yak…</td><td>null</td><td>&quot;san diego, ca&quot;</td><td>17</td><td>4</td><td>8000</td><td>2000</td><td>false</td><td>false</td><td>&quot;diesel-electric (dc)&quot;</td><td>186</td><td>144</td><td>30</td><td>2704</td><td>3634</td><td>1967-01-01</td><td>2000-01-01</td><td>false</td><td>null</td><td>878</td><td>4586</td><td>222</td></tr><tr><td>25</td><td>&quot;yakima&quot;</td><td>&quot;orcas island&quot;</td><td>&quot;anacortes&quot;</td><td>2024-08-06 03:50:00 UTC</td><td>2024-08-06 05:14:43 UTC</td><td>2024-08-06 06:10:25 UTC</td><td>2024-08-06 03:50:00 UTC</td><td>38</td><td>38</td><td>&quot;yak&quot;</td><td>50</td><td>314</td><td>&quot;super&quot;</td><td>30</td><td>&quot;https://www.wsdot.wa.gov/ferri…</td><td>&quot;https://www.wsdot.wa.gov/ferri…</td><td>&quot;Super&quot;</td><td>1</td><td>true</td><td>true</td><td>true</td><td>true</td><td>true</td><td>false</td><td>true</td><td>false</td><td>&quot;The MV Yakima has elevator acc…</td><td>null</td><td>&quot;From the Yakama language, &quot;Yak…</td><td>null</td><td>&quot;san diego, ca&quot;</td><td>17</td><td>4</td><td>8000</td><td>2000</td><td>false</td><td>false</td><td>&quot;diesel-electric (dc)&quot;</td><td>186</td><td>144</td><td>30</td><td>2704</td><td>3634</td><td>1967-01-01</td><td>2000-01-01</td><td>false</td><td>null</td><td>878</td><td>4586</td><td>222</td></tr></tbody></table></div>"
      ],
      "text/plain": [
       "shape: (55_794, 51)\n",
       "┌──────────┬───────────┬───────────┬───────────┬───┬───────────┬───────────┬───────────┬───────────┐\n",
       "│ VesselId ┆ Vessel    ┆ Departing ┆ Arriving  ┆ … ┆ MaxPassen ┆ BeamInche ┆ LengthInc ┆ DraftInch │\n",
       "│ ---      ┆ ---       ┆ ---       ┆ ---       ┆   ┆ gerCountF ┆ s         ┆ hes       ┆ es        │\n",
       "│ i64      ┆ str       ┆ str       ┆ str       ┆   ┆ orInterna ┆ ---       ┆ ---       ┆ ---       │\n",
       "│          ┆           ┆           ┆           ┆   ┆ tio…      ┆ i64       ┆ i64       ┆ i64       │\n",
       "│          ┆           ┆           ┆           ┆   ┆ ---       ┆           ┆           ┆           │\n",
       "│          ┆           ┆           ┆           ┆   ┆ i64       ┆           ┆           ┆           │\n",
       "╞══════════╪═══════════╪═══════════╪═══════════╪═══╪═══════════╪═══════════╪═══════════╪═══════════╡\n",
       "│ 31       ┆ cathlamet ┆ vashon    ┆ southwort ┆ … ┆ null      ┆ 944       ┆ 3936      ┆ 198       │\n",
       "│          ┆           ┆ island    ┆ h         ┆   ┆           ┆           ┆           ┆           │\n",
       "│ 31       ┆ cathlamet ┆ southwort ┆ fauntlero ┆ … ┆ null      ┆ 944       ┆ 3936      ┆ 198       │\n",
       "│          ┆           ┆ h         ┆ y         ┆   ┆           ┆           ┆           ┆           │\n",
       "│ 31       ┆ cathlamet ┆ fauntlero ┆ vashon    ┆ … ┆ null      ┆ 944       ┆ 3936      ┆ 198       │\n",
       "│          ┆           ┆ y         ┆ island    ┆   ┆           ┆           ┆           ┆           │\n",
       "│ 31       ┆ cathlamet ┆ vashon    ┆ southwort ┆ … ┆ null      ┆ 944       ┆ 3936      ┆ 198       │\n",
       "│          ┆           ┆ island    ┆ h         ┆   ┆           ┆           ┆           ┆           │\n",
       "│ 32       ┆ cathlamet ┆ vashon    ┆ fauntlero ┆ … ┆ null      ┆ 944       ┆ 3936      ┆ 198       │\n",
       "│          ┆           ┆ island    ┆ y         ┆   ┆           ┆           ┆           ┆           │\n",
       "│ …        ┆ …         ┆ …         ┆ …         ┆ … ┆ …         ┆ …         ┆ …         ┆ …         │\n",
       "│ 25       ┆ yakima    ┆ lopez     ┆ anacortes ┆ … ┆ null      ┆ 878       ┆ 4586      ┆ 222       │\n",
       "│          ┆           ┆ island    ┆           ┆   ┆           ┆           ┆           ┆           │\n",
       "│ 27       ┆ yakima    ┆ anacortes ┆ lopez     ┆ … ┆ null      ┆ 878       ┆ 4586      ┆ 222       │\n",
       "│          ┆           ┆           ┆ island    ┆   ┆           ┆           ┆           ┆           │\n",
       "│ 25       ┆ yakima    ┆ anacortes ┆ shaw      ┆ … ┆ null      ┆ 878       ┆ 4586      ┆ 222       │\n",
       "│          ┆           ┆           ┆ island    ┆   ┆           ┆           ┆           ┆           │\n",
       "│ 25       ┆ yakima    ┆ shaw      ┆ orcas     ┆ … ┆ null      ┆ 878       ┆ 4586      ┆ 222       │\n",
       "│          ┆           ┆ island    ┆ island    ┆   ┆           ┆           ┆           ┆           │\n",
       "│ 25       ┆ yakima    ┆ orcas     ┆ anacortes ┆ … ┆ null      ┆ 878       ┆ 4586      ┆ 222       │\n",
       "│          ┆           ┆ island    ┆           ┆   ┆           ┆           ┆           ┆           │\n",
       "└──────────┴───────────┴───────────┴───────────┴───┴───────────┴───────────┴───────────┴───────────┘"
      ]
     },
     "execution_count": 54,
     "metadata": {},
     "output_type": "execute_result"
    }
   ],
   "source": [
    "(\n",
    "    vessel_history_clean.join(\n",
    "        vessel_verbose_clean,\n",
    "        left_on=\"Vessel\",\n",
    "        right_on=\"VesselName\",\n",
    "        how=\"left\",\n",
    "        validate=\"m:1\",\n",
    "        coalesce=True\n",
    "    )\n",
    "    # Filter to show all of the rows where there was no matching Vessel ID in the\n",
    "    # vessel_verbose_clean DataFrame. If no rows are returned, then the join was\n",
    "    # successful.\n",
    "    # .filter(pl.col(\"VesselAbbrev\").is_null())\n",
    ")"
   ]
  },
  {
   "cell_type": "markdown",
   "metadata": {},
   "source": [
    "Therefore we should drop the `VesselId` from the data since it is not correct or useful."
   ]
  },
  {
   "cell_type": "code",
   "execution_count": 55,
   "metadata": {},
   "outputs": [],
   "source": [
    "vessel_history_clean = vessel_history_clean.drop(\"VesselId\")"
   ]
  },
  {
   "cell_type": "code",
   "execution_count": 56,
   "metadata": {},
   "outputs": [
    {
     "data": {
      "text/html": [
       "<div><style>\n",
       ".dataframe > thead > tr,\n",
       ".dataframe > tbody > tr {\n",
       "  text-align: right;\n",
       "  white-space: pre-wrap;\n",
       "}\n",
       "</style>\n",
       "<small>shape: (5, 7)</small><table border=\"1\" class=\"dataframe\"><thead><tr><th>Vessel</th><th>Departing</th><th>Arriving</th><th>ScheduledDepart</th><th>ActualDepart</th><th>EstArrival</th><th>Date</th></tr><tr><td>str</td><td>str</td><td>str</td><td>datetime[μs, UTC]</td><td>datetime[μs, UTC]</td><td>datetime[μs, UTC]</td><td>datetime[μs, UTC]</td></tr></thead><tbody><tr><td>&quot;cathlamet&quot;</td><td>&quot;vashon island&quot;</td><td>&quot;southworth&quot;</td><td>2024-03-01 08:15:00 UTC</td><td>2024-03-01 08:16:09 UTC</td><td>2024-03-01 08:33:19 UTC</td><td>2024-03-01 08:15:00 UTC</td></tr><tr><td>&quot;cathlamet&quot;</td><td>&quot;southworth&quot;</td><td>&quot;fauntleroy&quot;</td><td>2024-03-01 08:35:00 UTC</td><td>2024-03-01 08:36:11 UTC</td><td>2024-03-01 08:55:49 UTC</td><td>2024-03-01 08:35:00 UTC</td></tr><tr><td>&quot;cathlamet&quot;</td><td>&quot;fauntleroy&quot;</td><td>&quot;vashon island&quot;</td><td>2024-03-01 09:05:00 UTC</td><td>2024-03-01 09:07:30 UTC</td><td>2024-03-01 09:22:30 UTC</td><td>2024-03-01 09:05:00 UTC</td></tr><tr><td>&quot;cathlamet&quot;</td><td>&quot;vashon island&quot;</td><td>&quot;southworth&quot;</td><td>2024-03-01 09:30:00 UTC</td><td>2024-03-01 09:30:30 UTC</td><td>2024-03-01 09:43:00 UTC</td><td>2024-03-01 09:30:00 UTC</td></tr><tr><td>&quot;cathlamet&quot;</td><td>&quot;vashon island&quot;</td><td>&quot;fauntleroy&quot;</td><td>2024-03-01 12:05:00 UTC</td><td>2024-03-01 12:06:35 UTC</td><td>2024-03-01 12:20:29 UTC</td><td>2024-03-01 12:05:00 UTC</td></tr></tbody></table></div>"
      ],
      "text/plain": [
       "shape: (5, 7)\n",
       "┌───────────┬──────────────┬──────────────┬──────────────┬─────────────┬─────────────┬─────────────┐\n",
       "│ Vessel    ┆ Departing    ┆ Arriving     ┆ ScheduledDep ┆ ActualDepar ┆ EstArrival  ┆ Date        │\n",
       "│ ---       ┆ ---          ┆ ---          ┆ art          ┆ t           ┆ ---         ┆ ---         │\n",
       "│ str       ┆ str          ┆ str          ┆ ---          ┆ ---         ┆ datetime[μs ┆ datetime[μs │\n",
       "│           ┆              ┆              ┆ datetime[μs, ┆ datetime[μs ┆ , UTC]      ┆ , UTC]      │\n",
       "│           ┆              ┆              ┆ UTC]         ┆ , UTC]      ┆             ┆             │\n",
       "╞═══════════╪══════════════╪══════════════╪══════════════╪═════════════╪═════════════╪═════════════╡\n",
       "│ cathlamet ┆ vashon       ┆ southworth   ┆ 2024-03-01   ┆ 2024-03-01  ┆ 2024-03-01  ┆ 2024-03-01  │\n",
       "│           ┆ island       ┆              ┆ 08:15:00 UTC ┆ 08:16:09    ┆ 08:33:19    ┆ 08:15:00    │\n",
       "│           ┆              ┆              ┆              ┆ UTC         ┆ UTC         ┆ UTC         │\n",
       "│ cathlamet ┆ southworth   ┆ fauntleroy   ┆ 2024-03-01   ┆ 2024-03-01  ┆ 2024-03-01  ┆ 2024-03-01  │\n",
       "│           ┆              ┆              ┆ 08:35:00 UTC ┆ 08:36:11    ┆ 08:55:49    ┆ 08:35:00    │\n",
       "│           ┆              ┆              ┆              ┆ UTC         ┆ UTC         ┆ UTC         │\n",
       "│ cathlamet ┆ fauntleroy   ┆ vashon       ┆ 2024-03-01   ┆ 2024-03-01  ┆ 2024-03-01  ┆ 2024-03-01  │\n",
       "│           ┆              ┆ island       ┆ 09:05:00 UTC ┆ 09:07:30    ┆ 09:22:30    ┆ 09:05:00    │\n",
       "│           ┆              ┆              ┆              ┆ UTC         ┆ UTC         ┆ UTC         │\n",
       "│ cathlamet ┆ vashon       ┆ southworth   ┆ 2024-03-01   ┆ 2024-03-01  ┆ 2024-03-01  ┆ 2024-03-01  │\n",
       "│           ┆ island       ┆              ┆ 09:30:00 UTC ┆ 09:30:30    ┆ 09:43:00    ┆ 09:30:00    │\n",
       "│           ┆              ┆              ┆              ┆ UTC         ┆ UTC         ┆ UTC         │\n",
       "│ cathlamet ┆ vashon       ┆ fauntleroy   ┆ 2024-03-01   ┆ 2024-03-01  ┆ 2024-03-01  ┆ 2024-03-01  │\n",
       "│           ┆ island       ┆              ┆ 12:05:00 UTC ┆ 12:06:35    ┆ 12:20:29    ┆ 12:05:00    │\n",
       "│           ┆              ┆              ┆              ┆ UTC         ┆ UTC         ┆ UTC         │\n",
       "└───────────┴──────────────┴──────────────┴──────────────┴─────────────┴─────────────┴─────────────┘"
      ]
     },
     "execution_count": 56,
     "metadata": {},
     "output_type": "execute_result"
    }
   ],
   "source": [
    "vessel_history_clean.head()"
   ]
  },
  {
   "cell_type": "markdown",
   "metadata": {},
   "source": [
    "## Task 4 - Validate the Data"
   ]
  },
  {
   "cell_type": "markdown",
   "metadata": {},
   "source": [
    "### 🔄 Task"
   ]
  },
  {
   "cell_type": "markdown",
   "metadata": {},
   "source": [
    "In the previous activity we tidied the dataset. For some projects, this may be enough. However, for this project we plan to refresh the data on a regular basis. We would like to gain additional comfort that the data we are using is correct. Data validation can help prove that our data tidying was correct, and find any potential issues if the upstream data changes.\n",
    "\n",
    "[Pandera](https://pandera.readthedocs.io/en/stable/) is a Python library for validating Pandas dataframes. There are two steps:\n",
    "\n",
    "1. Define a schema for your data. For example:\n",
    "   - Define the type for each column\n",
    "   - Confirm if null values are allowed\n",
    "   - Define custom checks\n",
    "2. Run your data through the schema validator.\n",
    "\n",
    "You will find these links useful when defining your schema:\n",
    "\n",
    "- Polars data validation guide: https://pandera.readthedocs.io/en/stable/polars.html#usage\n",
    "- Polars data types: https://pandera.readthedocs.io/en/stable/reference/dtypes.html#polars-dtypes\n",
    "- `pa.Field` API: https://pandera.readthedocs.io/en/stable/reference/generated/pandera.api.dataframe.model_components.Field.html#pandera.api.dataframe.model_components.Field\n",
    "- List of built in checks you can use with `pa.Field`: https://pandera.readthedocs.io/en/stable/reference/generated/pandera.api.checks.Check.html#pandera.api.checks.Check"
   ]
  },
  {
   "cell_type": "markdown",
   "metadata": {},
   "source": [
    "Before working on our real data, lets play around with a \"toy\" example. Take a few minutes and play around with the example below:\n",
    "\n",
    "- Can you run the code as is?\n",
    "- Try channging some of the values in the DataFrame so that the schema validation fails.\n",
    "- Try updating the schema so that it passes again."
   ]
  },
  {
   "cell_type": "code",
   "execution_count": 57,
   "metadata": {
    "tags": []
   },
   "outputs": [],
   "source": [
    "import pandera.polars as pa"
   ]
  },
  {
   "cell_type": "code",
   "execution_count": 58,
   "metadata": {
    "tags": []
   },
   "outputs": [
    {
     "data": {
      "text/html": [
       "<div><style>\n",
       ".dataframe > thead > tr,\n",
       ".dataframe > tbody > tr {\n",
       "  text-align: right;\n",
       "  white-space: pre-wrap;\n",
       "}\n",
       "</style>\n",
       "<small>shape: (5, 3)</small><table border=\"1\" class=\"dataframe\"><thead><tr><th>column1</th><th>column2</th><th>column3</th></tr><tr><td>i64</td><td>f64</td><td>str</td></tr></thead><tbody><tr><td>1</td><td>-1.3</td><td>&quot;value_1&quot;</td></tr><tr><td>11</td><td>-1.4</td><td>&quot;value_2&quot;</td></tr><tr><td>0</td><td>-2.9</td><td>&quot;value_3&quot;</td></tr><tr><td>10</td><td>-10.1</td><td>&quot;value_2&quot;</td></tr><tr><td>9</td><td>-5.2</td><td>&quot;value_1&quot;</td></tr></tbody></table></div>"
      ],
      "text/plain": [
       "shape: (5, 3)\n",
       "┌─────────┬─────────┬─────────┐\n",
       "│ column1 ┆ column2 ┆ column3 │\n",
       "│ ---     ┆ ---     ┆ ---     │\n",
       "│ i64     ┆ f64     ┆ str     │\n",
       "╞═════════╪═════════╪═════════╡\n",
       "│ 1       ┆ -1.3    ┆ value_1 │\n",
       "│ 11      ┆ -1.4    ┆ value_2 │\n",
       "│ 0       ┆ -2.9    ┆ value_3 │\n",
       "│ 10      ┆ -10.1   ┆ value_2 │\n",
       "│ 9       ┆ -5.2    ┆ value_1 │\n",
       "└─────────┴─────────┴─────────┘"
      ]
     },
     "execution_count": 58,
     "metadata": {},
     "output_type": "execute_result"
    }
   ],
   "source": [
    "# data to validate\n",
    "df = pl.DataFrame({\n",
    "    \"column1\": [1, 11, 0, 10, 9],\n",
    "    \"column2\": [-1.3, -1.4, -2.9, -10.1, -5.2],\n",
    "    \"column3\": [\"value_1\", \"value_2\", \"value_3\", \"value_2\", \"value_1\"],\n",
    "})\n",
    "\n",
    "df"
   ]
  },
  {
   "cell_type": "code",
   "execution_count": 59,
   "metadata": {
    "tags": []
   },
   "outputs": [],
   "source": [
    "class ToySchema(pa.DataFrameModel):\n",
    "    column1: int = pa.Field(le=11)\n",
    "    column2: float = pa.Field(lt=1.2)\n",
    "    column3: str = pa.Field(str_startswith=\"value_\")\n",
    "\n",
    "    @pa.check(\"column3\")\n",
    "    def has_one_underscore(cls, data: pa.PolarsData) -> pl.LazyFrame:\n",
    "        list_is_len_2 = (\n",
    "            data\n",
    "            .lazyframe\n",
    "            .select(\n",
    "                pl.col(data.key).str.split(\"_\").list.len() == 2\n",
    "            )\n",
    "        )\n",
    "        # print(list_is_len_2.collect())\n",
    "        return list_is_len_2"
   ]
  },
  {
   "cell_type": "code",
   "execution_count": 60,
   "metadata": {
    "tags": []
   },
   "outputs": [
    {
     "data": {
      "text/html": [
       "<div><style>\n",
       ".dataframe > thead > tr,\n",
       ".dataframe > tbody > tr {\n",
       "  text-align: right;\n",
       "  white-space: pre-wrap;\n",
       "}\n",
       "</style>\n",
       "<small>shape: (5, 3)</small><table border=\"1\" class=\"dataframe\"><thead><tr><th>column1</th><th>column2</th><th>column3</th></tr><tr><td>i64</td><td>f64</td><td>str</td></tr></thead><tbody><tr><td>1</td><td>-1.3</td><td>&quot;value_1&quot;</td></tr><tr><td>11</td><td>-1.4</td><td>&quot;value_2&quot;</td></tr><tr><td>0</td><td>-2.9</td><td>&quot;value_3&quot;</td></tr><tr><td>10</td><td>-10.1</td><td>&quot;value_2&quot;</td></tr><tr><td>9</td><td>-5.2</td><td>&quot;value_1&quot;</td></tr></tbody></table></div>"
      ],
      "text/plain": [
       "shape: (5, 3)\n",
       "┌─────────┬─────────┬─────────┐\n",
       "│ column1 ┆ column2 ┆ column3 │\n",
       "│ ---     ┆ ---     ┆ ---     │\n",
       "│ i64     ┆ f64     ┆ str     │\n",
       "╞═════════╪═════════╪═════════╡\n",
       "│ 1       ┆ -1.3    ┆ value_1 │\n",
       "│ 11      ┆ -1.4    ┆ value_2 │\n",
       "│ 0       ┆ -2.9    ┆ value_3 │\n",
       "│ 10      ┆ -10.1   ┆ value_2 │\n",
       "│ 9       ┆ -5.2    ┆ value_1 │\n",
       "└─────────┴─────────┴─────────┘"
      ]
     },
     "execution_count": 60,
     "metadata": {},
     "output_type": "execute_result"
    }
   ],
   "source": [
    "ToySchema.validate(df)"
   ]
  },
  {
   "cell_type": "markdown",
   "metadata": {},
   "source": [
    "### 🧑‍💻 Code"
   ]
  },
  {
   "cell_type": "markdown",
   "metadata": {},
   "source": [
    "#### vessel_history\n",
    "\n",
    "Start by validating the `vessel_history` data set. As a reminder, here is what the data looks like:"
   ]
  },
  {
   "cell_type": "code",
   "execution_count": 61,
   "metadata": {},
   "outputs": [
    {
     "data": {
      "text/html": [
       "<div><style>\n",
       ".dataframe > thead > tr,\n",
       ".dataframe > tbody > tr {\n",
       "  text-align: right;\n",
       "  white-space: pre-wrap;\n",
       "}\n",
       "</style>\n",
       "<small>shape: (3, 7)</small><table border=\"1\" class=\"dataframe\"><thead><tr><th>Vessel</th><th>Departing</th><th>Arriving</th><th>ScheduledDepart</th><th>ActualDepart</th><th>EstArrival</th><th>Date</th></tr><tr><td>str</td><td>str</td><td>str</td><td>datetime[μs, UTC]</td><td>datetime[μs, UTC]</td><td>datetime[μs, UTC]</td><td>datetime[μs, UTC]</td></tr></thead><tbody><tr><td>&quot;cathlamet&quot;</td><td>&quot;vashon island&quot;</td><td>&quot;southworth&quot;</td><td>2024-03-01 08:15:00 UTC</td><td>2024-03-01 08:16:09 UTC</td><td>2024-03-01 08:33:19 UTC</td><td>2024-03-01 08:15:00 UTC</td></tr><tr><td>&quot;cathlamet&quot;</td><td>&quot;southworth&quot;</td><td>&quot;fauntleroy&quot;</td><td>2024-03-01 08:35:00 UTC</td><td>2024-03-01 08:36:11 UTC</td><td>2024-03-01 08:55:49 UTC</td><td>2024-03-01 08:35:00 UTC</td></tr><tr><td>&quot;cathlamet&quot;</td><td>&quot;fauntleroy&quot;</td><td>&quot;vashon island&quot;</td><td>2024-03-01 09:05:00 UTC</td><td>2024-03-01 09:07:30 UTC</td><td>2024-03-01 09:22:30 UTC</td><td>2024-03-01 09:05:00 UTC</td></tr></tbody></table></div>"
      ],
      "text/plain": [
       "shape: (3, 7)\n",
       "┌───────────┬──────────────┬──────────────┬──────────────┬─────────────┬─────────────┬─────────────┐\n",
       "│ Vessel    ┆ Departing    ┆ Arriving     ┆ ScheduledDep ┆ ActualDepar ┆ EstArrival  ┆ Date        │\n",
       "│ ---       ┆ ---          ┆ ---          ┆ art          ┆ t           ┆ ---         ┆ ---         │\n",
       "│ str       ┆ str          ┆ str          ┆ ---          ┆ ---         ┆ datetime[μs ┆ datetime[μs │\n",
       "│           ┆              ┆              ┆ datetime[μs, ┆ datetime[μs ┆ , UTC]      ┆ , UTC]      │\n",
       "│           ┆              ┆              ┆ UTC]         ┆ , UTC]      ┆             ┆             │\n",
       "╞═══════════╪══════════════╪══════════════╪══════════════╪═════════════╪═════════════╪═════════════╡\n",
       "│ cathlamet ┆ vashon       ┆ southworth   ┆ 2024-03-01   ┆ 2024-03-01  ┆ 2024-03-01  ┆ 2024-03-01  │\n",
       "│           ┆ island       ┆              ┆ 08:15:00 UTC ┆ 08:16:09    ┆ 08:33:19    ┆ 08:15:00    │\n",
       "│           ┆              ┆              ┆              ┆ UTC         ┆ UTC         ┆ UTC         │\n",
       "│ cathlamet ┆ southworth   ┆ fauntleroy   ┆ 2024-03-01   ┆ 2024-03-01  ┆ 2024-03-01  ┆ 2024-03-01  │\n",
       "│           ┆              ┆              ┆ 08:35:00 UTC ┆ 08:36:11    ┆ 08:55:49    ┆ 08:35:00    │\n",
       "│           ┆              ┆              ┆              ┆ UTC         ┆ UTC         ┆ UTC         │\n",
       "│ cathlamet ┆ fauntleroy   ┆ vashon       ┆ 2024-03-01   ┆ 2024-03-01  ┆ 2024-03-01  ┆ 2024-03-01  │\n",
       "│           ┆              ┆ island       ┆ 09:05:00 UTC ┆ 09:07:30    ┆ 09:22:30    ┆ 09:05:00    │\n",
       "│           ┆              ┆              ┆              ┆ UTC         ┆ UTC         ┆ UTC         │\n",
       "└───────────┴──────────────┴──────────────┴──────────────┴─────────────┴─────────────┴─────────────┘"
      ]
     },
     "execution_count": 61,
     "metadata": {},
     "output_type": "execute_result"
    }
   ],
   "source": [
    "vessel_history_clean.head(3)"
   ]
  },
  {
   "cell_type": "markdown",
   "metadata": {},
   "source": [
    "The class below defines the schema and checks for the `vessel_history` data set.\n",
    "\n",
    "- Each column is a class attribute. At a minimum, we define the column type (e.g. int, str, datetime, etc.)\n",
    "- For some columns, we use `pa.Field` to add more checks. For example in the `EstArrival` column we are going to allow nullable values.\n",
    "- We can define additional and more complex column and dataframe level checks by defining class methods."
   ]
  },
  {
   "cell_type": "code",
   "execution_count": 62,
   "metadata": {},
   "outputs": [],
   "source": [
    "from pandera.engines.polars_engine import DateTime, Date, Int64"
   ]
  },
  {
   "cell_type": "code",
   "execution_count": 63,
   "metadata": {},
   "outputs": [],
   "source": [
    "class VesselHistorySchema(pa.DataFrameModel):\n",
    "    Vessel: str\n",
    "    Departing: str\n",
    "    Arriving: str\n",
    "    ScheduledDepart: DateTime = pa.Field(dtype_kwargs={\"time_zone\": \"UTC\"})\n",
    "    ActualDepart: DateTime = pa.Field(dtype_kwargs={\"time_zone\": \"UTC\"})\n",
    "    EstArrival: DateTime = pa.Field(dtype_kwargs={\"time_zone\": \"UTC\"})\n",
    "    Date: DateTime = pa.Field(\n",
    "        dtype_kwargs={\"time_zone\": \"UTC\"},\n",
    "        ge=pl.datetime(2024, 3, 1, time_zone=\"America/Vancouver\").dt.convert_time_zone(\n",
    "            \"UTC\"\n",
    "        ),\n",
    "    )\n",
    "\n",
    "    @pa.dataframe_check\n",
    "    def year_of_date_matches_scheduled_depart(cls, df: pa.PolarsData) -> pl.LazyFrame:\n",
    "        \"\"\"\n",
    "        Verify that the year of the Date column matches the year of the\n",
    "        ScheduledDepart column.\n",
    "        \"\"\"\n",
    "        return df.lazyframe.select(\n",
    "            pl.col(\"Date\").dt.year().eq(pl.col(\"ScheduledDepart\").dt.year())\n",
    "        )\n",
    "\n",
    "    @pa.dataframe_check(raise_warning=True)\n",
    "    def estimated_arrival_is_after_scheduled_depart(\n",
    "        cls, df: pa.PolarsData\n",
    "    ) -> pl.LazyFrame:\n",
    "        \"\"\"\n",
    "        Verify that the EstArrival date time is always after the ScheduledDepart\n",
    "        date time.\n",
    "\n",
    "        Note this check is expected to fail, therefore raise_warning=True is\n",
    "        used. In the future we should go back and understand why this check\n",
    "        fails.\n",
    "        \"\"\"\n",
    "        return df.lazyframe.select(pl.col(\"EstArrival\").ge(pl.col(\"ScheduledDepart\")))\n",
    "\n",
    "    @pa.check(\"Vessel\")\n",
    "    def vessel_in_vessel_verbose_data_set(cls, data: pa.PolarsData) -> pl.LazyFrame:\n",
    "        \"\"\"\n",
    "        Verify that all of the vessels in the vessel history data set also exist\n",
    "        in the vessel verbose data set.\n",
    "\n",
    "        Note this check is expected to fail, therefore raise_warning=True is\n",
    "        used. In the future we should go back and understand why this check\n",
    "        fails.\n",
    "\n",
    "        \"\"\"\n",
    "        vessel_names = vessel_verbose_clean.get_column(\"VesselName\").to_list()\n",
    "        return data.lazyframe.select(pl.col(data.key).is_in(vessel_names))\n",
    "\n",
    "    @pa.check(\"Departing\")\n",
    "    def departing_terminal_in_terminal_data(cls, data: pa.PolarsData) -> pl.LazyFrame:\n",
    "        \"\"\"\n",
    "        Verify that all of the vessels in the vessel history data set also exist\n",
    "        in the vessel verbose data set.\n",
    "\n",
    "        Note this check is expected to fail, therefore raise_warning=True is\n",
    "        used. In the future we should go back and understand why this check\n",
    "        fails.\n",
    "        \"\"\"\n",
    "        terminals = terminal_locations_clean.get_column(\"TerminalName\").to_list()\n",
    "        return data.lazyframe.select(pl.col(data.key).is_in(terminals))\n",
    "\n",
    "    @pa.check(\"Arriving\")\n",
    "    def arriving_terminal_in_terminal_data(cls, data: pa.PolarsData) -> pl.LazyFrame:\n",
    "        \"\"\"\n",
    "        Verify that all of the vessels in the vessel history data set also exist\n",
    "        in the vessel verbose data set.\n",
    "\n",
    "        Note this check is expected to fail, therefore raise_warning=True is\n",
    "        used. In the future we should go back and understand why this check\n",
    "        fails.\n",
    "        \"\"\"\n",
    "        terminals = terminal_locations_clean.get_column(\"TerminalName\").to_list()\n",
    "        return data.lazyframe.select(pl.col(data.key).is_in(terminals))"
   ]
  },
  {
   "cell_type": "markdown",
   "metadata": {},
   "source": [
    "To validate the data, run the dataframe through the `pa.DataFrameModel.validate` method."
   ]
  },
  {
   "cell_type": "code",
   "execution_count": 64,
   "metadata": {},
   "outputs": [
    {
     "name": "stderr",
     "output_type": "stream",
     "text": [
      "/home/nate.niemann/ds-workflows-python/materials/02-data-exploration-and-validation/.venv/lib/python3.12/site-packages/pandera/backends/polars/base.py:103: SchemaWarning: DataFrameSchema 'VesselHistorySchema' failed validator number 1: <Check estimated_arrival_is_after_scheduled_depart> failure case examples: [{'Vessel': 'cathlamet', 'Departing': 'southworth', 'Arriving': 'vashon island', 'ScheduledDepart': datetime.datetime(2024, 5, 13, 12, 0, tzinfo=zoneinfo.ZoneInfo(key='UTC')), 'ActualDepart': datetime.datetime(2024, 5, 13, 11, 10, 40, tzinfo=zoneinfo.ZoneInfo(key='UTC')), 'EstArrival': datetime.datetime(2024, 5, 13, 11, 23, 35, tzinfo=zoneinfo.ZoneInfo(key='UTC')), 'Date': datetime.datetime(2024, 5, 13, 12, 0, tzinfo=zoneinfo.ZoneInfo(key='UTC')), 'check_output': False}, {'Vessel': 'chetzemoka', 'Departing': 'tahlequah', 'Arriving': 'point defiance', 'ScheduledDepart': datetime.datetime(2024, 5, 31, 21, 10, tzinfo=zoneinfo.ZoneInfo(key='UTC')), 'ActualDepart': datetime.datetime(2024, 5, 31, 20, 51, 38, tzinfo=zoneinfo.ZoneInfo(key='UTC')), 'EstArrival': datetime.datetime(2024, 5, 31, 21, 4, 5, tzinfo=zoneinfo.ZoneInfo(key='UTC')), 'Date': datetime.datetime(2024, 5, 31, 21, 10, tzinfo=zoneinfo.ZoneInfo(key='UTC')), 'check_output': False}, {'Vessel': 'chetzemoka', 'Departing': 'tahlequah', 'Arriving': 'point defiance', 'ScheduledDepart': datetime.datetime(2024, 5, 31, 22, 10, tzinfo=zoneinfo.ZoneInfo(key='UTC')), 'ActualDepart': datetime.datetime(2024, 5, 31, 21, 54, 26, tzinfo=zoneinfo.ZoneInfo(key='UTC')), 'EstArrival': datetime.datetime(2024, 5, 31, 22, 6, 26, tzinfo=zoneinfo.ZoneInfo(key='UTC')), 'Date': datetime.datetime(2024, 5, 31, 22, 10, tzinfo=zoneinfo.ZoneInfo(key='UTC')), 'check_output': False}, {'Vessel': 'chetzemoka', 'Departing': 'tahlequah', 'Arriving': 'point defiance', 'ScheduledDepart': datetime.datetime(2024, 5, 31, 23, 5, tzinfo=zoneinfo.ZoneInfo(key='UTC')), 'ActualDepart': datetime.datetime(2024, 5, 31, 22, 47, 32, tzinfo=zoneinfo.ZoneInfo(key='UTC')), 'EstArrival': datetime.datetime(2024, 5, 31, 22, 57, 43, tzinfo=zoneinfo.ZoneInfo(key='UTC')), 'Date': datetime.datetime(2024, 5, 31, 23, 5, tzinfo=zoneinfo.ZoneInfo(key='UTC')), 'check_output': False}, {'Vessel': 'chetzemoka', 'Departing': 'tahlequah', 'Arriving': 'point defiance', 'ScheduledDepart': datetime.datetime(2024, 6, 1, 0, 0, tzinfo=zoneinfo.ZoneInfo(key='UTC')), 'ActualDepart': datetime.datetime(2024, 5, 31, 23, 43, 16, tzinfo=zoneinfo.ZoneInfo(key='UTC')), 'EstArrival': datetime.datetime(2024, 5, 31, 23, 53, 26, tzinfo=zoneinfo.ZoneInfo(key='UTC')), 'Date': datetime.datetime(2024, 6, 1, 0, 0, tzinfo=zoneinfo.ZoneInfo(key='UTC')), 'check_output': False}]\n",
      "  warnings.warn(\n"
     ]
    },
    {
     "data": {
      "text/html": [
       "<div><style>\n",
       ".dataframe > thead > tr,\n",
       ".dataframe > tbody > tr {\n",
       "  text-align: right;\n",
       "  white-space: pre-wrap;\n",
       "}\n",
       "</style>\n",
       "<small>shape: (55_794, 7)</small><table border=\"1\" class=\"dataframe\"><thead><tr><th>Vessel</th><th>Departing</th><th>Arriving</th><th>ScheduledDepart</th><th>ActualDepart</th><th>EstArrival</th><th>Date</th></tr><tr><td>str</td><td>str</td><td>str</td><td>datetime[μs, UTC]</td><td>datetime[μs, UTC]</td><td>datetime[μs, UTC]</td><td>datetime[μs, UTC]</td></tr></thead><tbody><tr><td>&quot;cathlamet&quot;</td><td>&quot;vashon island&quot;</td><td>&quot;southworth&quot;</td><td>2024-03-01 08:15:00 UTC</td><td>2024-03-01 08:16:09 UTC</td><td>2024-03-01 08:33:19 UTC</td><td>2024-03-01 08:15:00 UTC</td></tr><tr><td>&quot;cathlamet&quot;</td><td>&quot;southworth&quot;</td><td>&quot;fauntleroy&quot;</td><td>2024-03-01 08:35:00 UTC</td><td>2024-03-01 08:36:11 UTC</td><td>2024-03-01 08:55:49 UTC</td><td>2024-03-01 08:35:00 UTC</td></tr><tr><td>&quot;cathlamet&quot;</td><td>&quot;fauntleroy&quot;</td><td>&quot;vashon island&quot;</td><td>2024-03-01 09:05:00 UTC</td><td>2024-03-01 09:07:30 UTC</td><td>2024-03-01 09:22:30 UTC</td><td>2024-03-01 09:05:00 UTC</td></tr><tr><td>&quot;cathlamet&quot;</td><td>&quot;vashon island&quot;</td><td>&quot;southworth&quot;</td><td>2024-03-01 09:30:00 UTC</td><td>2024-03-01 09:30:30 UTC</td><td>2024-03-01 09:43:00 UTC</td><td>2024-03-01 09:30:00 UTC</td></tr><tr><td>&quot;cathlamet&quot;</td><td>&quot;vashon island&quot;</td><td>&quot;fauntleroy&quot;</td><td>2024-03-01 12:05:00 UTC</td><td>2024-03-01 12:06:35 UTC</td><td>2024-03-01 12:20:29 UTC</td><td>2024-03-01 12:05:00 UTC</td></tr><tr><td>&hellip;</td><td>&hellip;</td><td>&hellip;</td><td>&hellip;</td><td>&hellip;</td><td>&hellip;</td><td>&hellip;</td></tr><tr><td>&quot;yakima&quot;</td><td>&quot;lopez island&quot;</td><td>&quot;anacortes&quot;</td><td>2024-08-06 01:20:00 UTC</td><td>2024-08-06 03:03:30 UTC</td><td>2024-08-06 03:49:03 UTC</td><td>2024-08-06 01:20:00 UTC</td></tr><tr><td>&quot;yakima&quot;</td><td>&quot;anacortes&quot;</td><td>&quot;lopez island&quot;</td><td>2024-08-06 01:45:00 UTC</td><td>2024-08-06 01:55:53 UTC</td><td>2024-08-06 02:39:26 UTC</td><td>2024-08-06 01:45:00 UTC</td></tr><tr><td>&quot;yakima&quot;</td><td>&quot;anacortes&quot;</td><td>&quot;shaw island&quot;</td><td>2024-08-06 02:25:00 UTC</td><td>2024-08-06 04:02:00 UTC</td><td>2024-08-06 04:51:51 UTC</td><td>2024-08-06 02:25:00 UTC</td></tr><tr><td>&quot;yakima&quot;</td><td>&quot;shaw island&quot;</td><td>&quot;orcas island&quot;</td><td>2024-08-06 03:20:00 UTC</td><td>2024-08-06 04:55:25 UTC</td><td>2024-08-06 05:04:55 UTC</td><td>2024-08-06 03:20:00 UTC</td></tr><tr><td>&quot;yakima&quot;</td><td>&quot;orcas island&quot;</td><td>&quot;anacortes&quot;</td><td>2024-08-06 03:50:00 UTC</td><td>2024-08-06 05:14:43 UTC</td><td>2024-08-06 06:10:25 UTC</td><td>2024-08-06 03:50:00 UTC</td></tr></tbody></table></div>"
      ],
      "text/plain": [
       "shape: (55_794, 7)\n",
       "┌───────────┬──────────────┬──────────────┬──────────────┬─────────────┬─────────────┬─────────────┐\n",
       "│ Vessel    ┆ Departing    ┆ Arriving     ┆ ScheduledDep ┆ ActualDepar ┆ EstArrival  ┆ Date        │\n",
       "│ ---       ┆ ---          ┆ ---          ┆ art          ┆ t           ┆ ---         ┆ ---         │\n",
       "│ str       ┆ str          ┆ str          ┆ ---          ┆ ---         ┆ datetime[μs ┆ datetime[μs │\n",
       "│           ┆              ┆              ┆ datetime[μs, ┆ datetime[μs ┆ , UTC]      ┆ , UTC]      │\n",
       "│           ┆              ┆              ┆ UTC]         ┆ , UTC]      ┆             ┆             │\n",
       "╞═══════════╪══════════════╪══════════════╪══════════════╪═════════════╪═════════════╪═════════════╡\n",
       "│ cathlamet ┆ vashon       ┆ southworth   ┆ 2024-03-01   ┆ 2024-03-01  ┆ 2024-03-01  ┆ 2024-03-01  │\n",
       "│           ┆ island       ┆              ┆ 08:15:00 UTC ┆ 08:16:09    ┆ 08:33:19    ┆ 08:15:00    │\n",
       "│           ┆              ┆              ┆              ┆ UTC         ┆ UTC         ┆ UTC         │\n",
       "│ cathlamet ┆ southworth   ┆ fauntleroy   ┆ 2024-03-01   ┆ 2024-03-01  ┆ 2024-03-01  ┆ 2024-03-01  │\n",
       "│           ┆              ┆              ┆ 08:35:00 UTC ┆ 08:36:11    ┆ 08:55:49    ┆ 08:35:00    │\n",
       "│           ┆              ┆              ┆              ┆ UTC         ┆ UTC         ┆ UTC         │\n",
       "│ cathlamet ┆ fauntleroy   ┆ vashon       ┆ 2024-03-01   ┆ 2024-03-01  ┆ 2024-03-01  ┆ 2024-03-01  │\n",
       "│           ┆              ┆ island       ┆ 09:05:00 UTC ┆ 09:07:30    ┆ 09:22:30    ┆ 09:05:00    │\n",
       "│           ┆              ┆              ┆              ┆ UTC         ┆ UTC         ┆ UTC         │\n",
       "│ cathlamet ┆ vashon       ┆ southworth   ┆ 2024-03-01   ┆ 2024-03-01  ┆ 2024-03-01  ┆ 2024-03-01  │\n",
       "│           ┆ island       ┆              ┆ 09:30:00 UTC ┆ 09:30:30    ┆ 09:43:00    ┆ 09:30:00    │\n",
       "│           ┆              ┆              ┆              ┆ UTC         ┆ UTC         ┆ UTC         │\n",
       "│ cathlamet ┆ vashon       ┆ fauntleroy   ┆ 2024-03-01   ┆ 2024-03-01  ┆ 2024-03-01  ┆ 2024-03-01  │\n",
       "│           ┆ island       ┆              ┆ 12:05:00 UTC ┆ 12:06:35    ┆ 12:20:29    ┆ 12:05:00    │\n",
       "│           ┆              ┆              ┆              ┆ UTC         ┆ UTC         ┆ UTC         │\n",
       "│ …         ┆ …            ┆ …            ┆ …            ┆ …           ┆ …           ┆ …           │\n",
       "│ yakima    ┆ lopez island ┆ anacortes    ┆ 2024-08-06   ┆ 2024-08-06  ┆ 2024-08-06  ┆ 2024-08-06  │\n",
       "│           ┆              ┆              ┆ 01:20:00 UTC ┆ 03:03:30    ┆ 03:49:03    ┆ 01:20:00    │\n",
       "│           ┆              ┆              ┆              ┆ UTC         ┆ UTC         ┆ UTC         │\n",
       "│ yakima    ┆ anacortes    ┆ lopez island ┆ 2024-08-06   ┆ 2024-08-06  ┆ 2024-08-06  ┆ 2024-08-06  │\n",
       "│           ┆              ┆              ┆ 01:45:00 UTC ┆ 01:55:53    ┆ 02:39:26    ┆ 01:45:00    │\n",
       "│           ┆              ┆              ┆              ┆ UTC         ┆ UTC         ┆ UTC         │\n",
       "│ yakima    ┆ anacortes    ┆ shaw island  ┆ 2024-08-06   ┆ 2024-08-06  ┆ 2024-08-06  ┆ 2024-08-06  │\n",
       "│           ┆              ┆              ┆ 02:25:00 UTC ┆ 04:02:00    ┆ 04:51:51    ┆ 02:25:00    │\n",
       "│           ┆              ┆              ┆              ┆ UTC         ┆ UTC         ┆ UTC         │\n",
       "│ yakima    ┆ shaw island  ┆ orcas island ┆ 2024-08-06   ┆ 2024-08-06  ┆ 2024-08-06  ┆ 2024-08-06  │\n",
       "│           ┆              ┆              ┆ 03:20:00 UTC ┆ 04:55:25    ┆ 05:04:55    ┆ 03:20:00    │\n",
       "│           ┆              ┆              ┆              ┆ UTC         ┆ UTC         ┆ UTC         │\n",
       "│ yakima    ┆ orcas island ┆ anacortes    ┆ 2024-08-06   ┆ 2024-08-06  ┆ 2024-08-06  ┆ 2024-08-06  │\n",
       "│           ┆              ┆              ┆ 03:50:00 UTC ┆ 05:14:43    ┆ 06:10:25    ┆ 03:50:00    │\n",
       "│           ┆              ┆              ┆              ┆ UTC         ┆ UTC         ┆ UTC         │\n",
       "└───────────┴──────────────┴──────────────┴──────────────┴─────────────┴─────────────┴─────────────┘"
      ]
     },
     "execution_count": 64,
     "metadata": {},
     "output_type": "execute_result"
    }
   ],
   "source": [
    "VesselHistorySchema.validate(vessel_history_clean)"
   ]
  },
  {
   "cell_type": "markdown",
   "metadata": {},
   "source": [
    "- Are there any more checks that you would add?\n",
    "- How should we handle the data that fails the two checks that raise a warning instead of fail?\n",
    "- Try changing some of the validations so that they fail? Are you able to use the failure message to identify the bad data?"
   ]
  },
  {
   "cell_type": "markdown",
   "metadata": {},
   "source": [
    "#### vessel_verbose\n",
    "\n",
    "In the interest of time, we will \"skim\" over the validation of the `vessel_verbose` data set. The class below defines the schema and checks for the `vessel_verbose` data set."
   ]
  },
  {
   "cell_type": "markdown",
   "metadata": {},
   "source": [
    "*💁 Note: time permitting walk the learners through using multiple cursors and split editors in VS Code and how they can be used to quickly create the code for the DataFrame model.*"
   ]
  },
  {
   "cell_type": "code",
   "execution_count": 65,
   "metadata": {},
   "outputs": [
    {
     "data": {
      "text/plain": [
       "['VesselID',\n",
       " 'VesselSubjectID',\n",
       " 'VesselName',\n",
       " 'VesselAbbrev',\n",
       " 'ClassID',\n",
       " 'ClassSubjectID',\n",
       " 'ClassName',\n",
       " 'SortSeq',\n",
       " 'DrawingImg',\n",
       " 'SilhouetteImg',\n",
       " 'PublicDisplayName',\n",
       " 'Status',\n",
       " 'OwnedByWSF',\n",
       " 'CarDeckRestroom',\n",
       " 'CarDeckShelter',\n",
       " 'Elevator',\n",
       " 'ADAAccessible',\n",
       " 'MainCabinGalley',\n",
       " 'MainCabinRestroom',\n",
       " 'PublicWifi',\n",
       " 'ADAInfo',\n",
       " 'AdditionalInfo',\n",
       " 'VesselNameDesc',\n",
       " 'VesselHistory',\n",
       " 'CityBuilt',\n",
       " 'SpeedInKnots',\n",
       " 'EngineCount',\n",
       " 'Horsepower',\n",
       " 'MaxPassengerCount',\n",
       " 'PassengerOnly',\n",
       " 'FastFerry',\n",
       " 'PropulsionInfo',\n",
       " 'TallDeckClearance',\n",
       " 'RegDeckSpace',\n",
       " 'TallDeckSpace',\n",
       " 'Tonnage',\n",
       " 'Displacement',\n",
       " 'YearBuilt',\n",
       " 'YearRebuilt',\n",
       " 'SolasCertified',\n",
       " 'MaxPassengerCountForInternational',\n",
       " 'BeamInches',\n",
       " 'LengthInches',\n",
       " 'DraftInches']"
      ]
     },
     "execution_count": 65,
     "metadata": {},
     "output_type": "execute_result"
    }
   ],
   "source": [
    "# Get all the columns into a format we can copy.\n",
    "vessel_verbose_clean.columns"
   ]
  },
  {
   "cell_type": "code",
   "execution_count": 66,
   "metadata": {},
   "outputs": [
    {
     "data": {
      "text/html": [
       "<div><style>\n",
       ".dataframe > thead > tr,\n",
       ".dataframe > tbody > tr {\n",
       "  text-align: right;\n",
       "  white-space: pre-wrap;\n",
       "}\n",
       "</style>\n",
       "<small>shape: (44, 3)</small><table border=\"1\" class=\"dataframe\"><thead><tr><th>column</th><th>column_0</th><th>column_1</th></tr><tr><td>str</td><td>str</td><td>str</td></tr></thead><tbody><tr><td>&quot;VesselID&quot;</td><td>&quot;1&quot;</td><td>&quot;2&quot;</td></tr><tr><td>&quot;VesselSubjectID&quot;</td><td>&quot;1&quot;</td><td>&quot;2&quot;</td></tr><tr><td>&quot;VesselName&quot;</td><td>&quot;cathlamet&quot;</td><td>&quot;chelan&quot;</td></tr><tr><td>&quot;VesselAbbrev&quot;</td><td>&quot;cat&quot;</td><td>&quot;che&quot;</td></tr><tr><td>&quot;ClassID&quot;</td><td>&quot;10&quot;</td><td>&quot;10&quot;</td></tr><tr><td>&quot;ClassSubjectID&quot;</td><td>&quot;310&quot;</td><td>&quot;310&quot;</td></tr><tr><td>&quot;ClassName&quot;</td><td>&quot;issaquah 130&quot;</td><td>&quot;issaquah 130&quot;</td></tr><tr><td>&quot;SortSeq&quot;</td><td>&quot;40&quot;</td><td>&quot;40&quot;</td></tr><tr><td>&quot;DrawingImg&quot;</td><td>&quot;https://www.wsdot.wa.gov/ferri…</td><td>&quot;https://www.wsdot.wa.gov/ferri…</td></tr><tr><td>&quot;SilhouetteImg&quot;</td><td>&quot;https://www.wsdot.wa.gov/ferri…</td><td>&quot;https://www.wsdot.wa.gov/ferri…</td></tr><tr><td>&quot;PublicDisplayName&quot;</td><td>&quot;Issaquah&quot;</td><td>&quot;Issaquah&quot;</td></tr><tr><td>&quot;Status&quot;</td><td>&quot;1&quot;</td><td>&quot;1&quot;</td></tr><tr><td>&quot;OwnedByWSF&quot;</td><td>&quot;true&quot;</td><td>&quot;true&quot;</td></tr><tr><td>&quot;CarDeckRestroom&quot;</td><td>&quot;true&quot;</td><td>&quot;true&quot;</td></tr><tr><td>&quot;CarDeckShelter&quot;</td><td>&quot;false&quot;</td><td>&quot;false&quot;</td></tr><tr><td>&quot;Elevator&quot;</td><td>&quot;true&quot;</td><td>&quot;true&quot;</td></tr><tr><td>&quot;ADAAccessible&quot;</td><td>&quot;true&quot;</td><td>&quot;true&quot;</td></tr><tr><td>&quot;MainCabinGalley&quot;</td><td>&quot;true&quot;</td><td>&quot;true&quot;</td></tr><tr><td>&quot;MainCabinRestroom&quot;</td><td>&quot;true&quot;</td><td>&quot;true&quot;</td></tr><tr><td>&quot;PublicWifi&quot;</td><td>&quot;false&quot;</td><td>&quot;false&quot;</td></tr><tr><td>&quot;ADAInfo&quot;</td><td>&quot;The MV Cathlamet has elevator …</td><td>&quot;The MV Chelan has elevator acc…</td></tr><tr><td>&quot;AdditionalInfo&quot;</td><td>null</td><td>null</td></tr><tr><td>&quot;VesselNameDesc&quot;</td><td>&quot;From the Kathlamet tribe, the …</td><td>&quot;From the Chelan  language: Tsi…</td></tr><tr><td>&quot;VesselHistory&quot;</td><td>null</td><td>null</td></tr><tr><td>&quot;CityBuilt&quot;</td><td>&quot;seattle, wa&quot;</td><td>&quot;seattle, wa&quot;</td></tr><tr><td>&quot;SpeedInKnots&quot;</td><td>&quot;16&quot;</td><td>&quot;16&quot;</td></tr><tr><td>&quot;EngineCount&quot;</td><td>&quot;2&quot;</td><td>&quot;2&quot;</td></tr><tr><td>&quot;Horsepower&quot;</td><td>&quot;5000&quot;</td><td>&quot;5000&quot;</td></tr><tr><td>&quot;MaxPassengerCount&quot;</td><td>&quot;1200&quot;</td><td>&quot;1200&quot;</td></tr><tr><td>&quot;PassengerOnly&quot;</td><td>&quot;false&quot;</td><td>&quot;false&quot;</td></tr><tr><td>&quot;FastFerry&quot;</td><td>&quot;false&quot;</td><td>&quot;false&quot;</td></tr><tr><td>&quot;PropulsionInfo&quot;</td><td>&quot;diesel&quot;</td><td>&quot;diesel&quot;</td></tr><tr><td>&quot;TallDeckClearance&quot;</td><td>&quot;186&quot;</td><td>&quot;188&quot;</td></tr><tr><td>&quot;RegDeckSpace&quot;</td><td>&quot;124&quot;</td><td>&quot;124&quot;</td></tr><tr><td>&quot;TallDeckSpace&quot;</td><td>&quot;26&quot;</td><td>&quot;30&quot;</td></tr><tr><td>&quot;Tonnage&quot;</td><td>&quot;2477&quot;</td><td>&quot;2477&quot;</td></tr><tr><td>&quot;Displacement&quot;</td><td>&quot;3310&quot;</td><td>&quot;3405&quot;</td></tr><tr><td>&quot;YearBuilt&quot;</td><td>&quot;1981-01-01&quot;</td><td>&quot;1981-01-01&quot;</td></tr><tr><td>&quot;YearRebuilt&quot;</td><td>&quot;1993-01-01&quot;</td><td>&quot;2005-01-01&quot;</td></tr><tr><td>&quot;SolasCertified&quot;</td><td>&quot;false&quot;</td><td>&quot;true&quot;</td></tr><tr><td>&quot;MaxPassengerCountForInternatio…</td><td>null</td><td>&quot;1090&quot;</td></tr><tr><td>&quot;BeamInches&quot;</td><td>&quot;944&quot;</td><td>&quot;944&quot;</td></tr><tr><td>&quot;LengthInches&quot;</td><td>&quot;3936&quot;</td><td>&quot;3936&quot;</td></tr><tr><td>&quot;DraftInches&quot;</td><td>&quot;198&quot;</td><td>&quot;201&quot;</td></tr></tbody></table></div>"
      ],
      "text/plain": [
       "shape: (44, 3)\n",
       "┌────────────────────────────────┬────────────────────────────────┬────────────────────────────────┐\n",
       "│ column                         ┆ column_0                       ┆ column_1                       │\n",
       "│ ---                            ┆ ---                            ┆ ---                            │\n",
       "│ str                            ┆ str                            ┆ str                            │\n",
       "╞════════════════════════════════╪════════════════════════════════╪════════════════════════════════╡\n",
       "│ VesselID                       ┆ 1                              ┆ 2                              │\n",
       "│ VesselSubjectID                ┆ 1                              ┆ 2                              │\n",
       "│ VesselName                     ┆ cathlamet                      ┆ chelan                         │\n",
       "│ VesselAbbrev                   ┆ cat                            ┆ che                            │\n",
       "│ ClassID                        ┆ 10                             ┆ 10                             │\n",
       "│ ClassSubjectID                 ┆ 310                            ┆ 310                            │\n",
       "│ ClassName                      ┆ issaquah 130                   ┆ issaquah 130                   │\n",
       "│ SortSeq                        ┆ 40                             ┆ 40                             │\n",
       "│ DrawingImg                     ┆ https://www.wsdot.wa.gov/ferri ┆ https://www.wsdot.wa.gov/ferri │\n",
       "│                                ┆ …                              ┆ …                              │\n",
       "│ SilhouetteImg                  ┆ https://www.wsdot.wa.gov/ferri ┆ https://www.wsdot.wa.gov/ferri │\n",
       "│                                ┆ …                              ┆ …                              │\n",
       "│ PublicDisplayName              ┆ Issaquah                       ┆ Issaquah                       │\n",
       "│ Status                         ┆ 1                              ┆ 1                              │\n",
       "│ OwnedByWSF                     ┆ true                           ┆ true                           │\n",
       "│ CarDeckRestroom                ┆ true                           ┆ true                           │\n",
       "│ CarDeckShelter                 ┆ false                          ┆ false                          │\n",
       "│ Elevator                       ┆ true                           ┆ true                           │\n",
       "│ ADAAccessible                  ┆ true                           ┆ true                           │\n",
       "│ MainCabinGalley                ┆ true                           ┆ true                           │\n",
       "│ MainCabinRestroom              ┆ true                           ┆ true                           │\n",
       "│ PublicWifi                     ┆ false                          ┆ false                          │\n",
       "│ ADAInfo                        ┆ The MV Cathlamet has elevator  ┆ The MV Chelan has elevator     │\n",
       "│                                ┆ …                              ┆ acc…                           │\n",
       "│ AdditionalInfo                 ┆ null                           ┆ null                           │\n",
       "│ VesselNameDesc                 ┆ From the Kathlamet tribe, the  ┆ From the Chelan  language:     │\n",
       "│                                ┆ …                              ┆ Tsi…                           │\n",
       "│ VesselHistory                  ┆ null                           ┆ null                           │\n",
       "│ CityBuilt                      ┆ seattle, wa                    ┆ seattle, wa                    │\n",
       "│ SpeedInKnots                   ┆ 16                             ┆ 16                             │\n",
       "│ EngineCount                    ┆ 2                              ┆ 2                              │\n",
       "│ Horsepower                     ┆ 5000                           ┆ 5000                           │\n",
       "│ MaxPassengerCount              ┆ 1200                           ┆ 1200                           │\n",
       "│ PassengerOnly                  ┆ false                          ┆ false                          │\n",
       "│ FastFerry                      ┆ false                          ┆ false                          │\n",
       "│ PropulsionInfo                 ┆ diesel                         ┆ diesel                         │\n",
       "│ TallDeckClearance              ┆ 186                            ┆ 188                            │\n",
       "│ RegDeckSpace                   ┆ 124                            ┆ 124                            │\n",
       "│ TallDeckSpace                  ┆ 26                             ┆ 30                             │\n",
       "│ Tonnage                        ┆ 2477                           ┆ 2477                           │\n",
       "│ Displacement                   ┆ 3310                           ┆ 3405                           │\n",
       "│ YearBuilt                      ┆ 1981-01-01                     ┆ 1981-01-01                     │\n",
       "│ YearRebuilt                    ┆ 1993-01-01                     ┆ 2005-01-01                     │\n",
       "│ SolasCertified                 ┆ false                          ┆ true                           │\n",
       "│ MaxPassengerCountForInternatio ┆ null                           ┆ 1090                           │\n",
       "│ …                              ┆                                ┆                                │\n",
       "│ BeamInches                     ┆ 944                            ┆ 944                            │\n",
       "│ LengthInches                   ┆ 3936                           ┆ 3936                           │\n",
       "│ DraftInches                    ┆ 198                            ┆ 201                            │\n",
       "└────────────────────────────────┴────────────────────────────────┴────────────────────────────────┘"
      ]
     },
     "execution_count": 66,
     "metadata": {},
     "output_type": "execute_result"
    }
   ],
   "source": [
    "# Get each column as a single row, and show the first two examples. This is easy\n",
    "# to read when I am trying to suss out the correct column type and checks.\n",
    "pl.Config.set_tbl_rows(50)\n",
    "vessel_verbose_clean.head(2).transpose(include_header=True)"
   ]
  },
  {
   "cell_type": "code",
   "execution_count": 67,
   "metadata": {},
   "outputs": [
    {
     "data": {
      "text/html": [
       "<div><style>\n",
       ".dataframe > thead > tr,\n",
       ".dataframe > tbody > tr {\n",
       "  text-align: right;\n",
       "  white-space: pre-wrap;\n",
       "}\n",
       "</style>\n",
       "<small>shape: (2, 44)</small><table border=\"1\" class=\"dataframe\"><thead><tr><th>VesselID</th><th>VesselSubjectID</th><th>VesselName</th><th>VesselAbbrev</th><th>ClassID</th><th>ClassSubjectID</th><th>ClassName</th><th>SortSeq</th><th>DrawingImg</th><th>SilhouetteImg</th><th>PublicDisplayName</th><th>Status</th><th>OwnedByWSF</th><th>CarDeckRestroom</th><th>CarDeckShelter</th><th>Elevator</th><th>ADAAccessible</th><th>MainCabinGalley</th><th>MainCabinRestroom</th><th>PublicWifi</th><th>ADAInfo</th><th>AdditionalInfo</th><th>VesselNameDesc</th><th>VesselHistory</th><th>CityBuilt</th><th>SpeedInKnots</th><th>EngineCount</th><th>Horsepower</th><th>MaxPassengerCount</th><th>PassengerOnly</th><th>FastFerry</th><th>PropulsionInfo</th><th>TallDeckClearance</th><th>RegDeckSpace</th><th>TallDeckSpace</th><th>Tonnage</th><th>Displacement</th><th>YearBuilt</th><th>YearRebuilt</th><th>SolasCertified</th><th>MaxPassengerCountForInternational</th><th>BeamInches</th><th>LengthInches</th><th>DraftInches</th></tr><tr><td>i64</td><td>i64</td><td>str</td><td>str</td><td>i64</td><td>i64</td><td>str</td><td>i64</td><td>str</td><td>str</td><td>str</td><td>i64</td><td>bool</td><td>bool</td><td>bool</td><td>bool</td><td>bool</td><td>bool</td><td>bool</td><td>bool</td><td>str</td><td>str</td><td>str</td><td>str</td><td>str</td><td>i64</td><td>i64</td><td>i64</td><td>i64</td><td>bool</td><td>bool</td><td>str</td><td>i64</td><td>i64</td><td>i64</td><td>i64</td><td>i64</td><td>date</td><td>date</td><td>bool</td><td>i64</td><td>i64</td><td>i64</td><td>i64</td></tr></thead><tbody><tr><td>1</td><td>1</td><td>&quot;cathlamet&quot;</td><td>&quot;cat&quot;</td><td>10</td><td>310</td><td>&quot;issaquah 130&quot;</td><td>40</td><td>&quot;https://www.wsdot.wa.gov/ferri…</td><td>&quot;https://www.wsdot.wa.gov/ferri…</td><td>&quot;Issaquah&quot;</td><td>1</td><td>true</td><td>true</td><td>false</td><td>true</td><td>true</td><td>true</td><td>true</td><td>false</td><td>&quot;The MV Cathlamet has elevator …</td><td>null</td><td>&quot;From the Kathlamet tribe, the …</td><td>null</td><td>&quot;seattle, wa&quot;</td><td>16</td><td>2</td><td>5000</td><td>1200</td><td>false</td><td>false</td><td>&quot;diesel&quot;</td><td>186</td><td>124</td><td>26</td><td>2477</td><td>3310</td><td>1981-01-01</td><td>1993-01-01</td><td>false</td><td>null</td><td>944</td><td>3936</td><td>198</td></tr><tr><td>2</td><td>2</td><td>&quot;chelan&quot;</td><td>&quot;che&quot;</td><td>10</td><td>310</td><td>&quot;issaquah 130&quot;</td><td>40</td><td>&quot;https://www.wsdot.wa.gov/ferri…</td><td>&quot;https://www.wsdot.wa.gov/ferri…</td><td>&quot;Issaquah&quot;</td><td>1</td><td>true</td><td>true</td><td>false</td><td>true</td><td>true</td><td>true</td><td>true</td><td>false</td><td>&quot;The MV Chelan has elevator acc…</td><td>null</td><td>&quot;From the Chelan  language: Tsi…</td><td>null</td><td>&quot;seattle, wa&quot;</td><td>16</td><td>2</td><td>5000</td><td>1200</td><td>false</td><td>false</td><td>&quot;diesel&quot;</td><td>188</td><td>124</td><td>30</td><td>2477</td><td>3405</td><td>1981-01-01</td><td>2005-01-01</td><td>true</td><td>1090</td><td>944</td><td>3936</td><td>201</td></tr></tbody></table></div>"
      ],
      "text/plain": [
       "shape: (2, 44)\n",
       "┌──────────┬───────────┬───────────┬───────────┬───┬───────────┬───────────┬───────────┬───────────┐\n",
       "│ VesselID ┆ VesselSub ┆ VesselNam ┆ VesselAbb ┆ … ┆ MaxPassen ┆ BeamInche ┆ LengthInc ┆ DraftInch │\n",
       "│ ---      ┆ jectID    ┆ e         ┆ rev       ┆   ┆ gerCountF ┆ s         ┆ hes       ┆ es        │\n",
       "│ i64      ┆ ---       ┆ ---       ┆ ---       ┆   ┆ orInterna ┆ ---       ┆ ---       ┆ ---       │\n",
       "│          ┆ i64       ┆ str       ┆ str       ┆   ┆ tio…      ┆ i64       ┆ i64       ┆ i64       │\n",
       "│          ┆           ┆           ┆           ┆   ┆ ---       ┆           ┆           ┆           │\n",
       "│          ┆           ┆           ┆           ┆   ┆ i64       ┆           ┆           ┆           │\n",
       "╞══════════╪═══════════╪═══════════╪═══════════╪═══╪═══════════╪═══════════╪═══════════╪═══════════╡\n",
       "│ 1        ┆ 1         ┆ cathlamet ┆ cat       ┆ … ┆ null      ┆ 944       ┆ 3936      ┆ 198       │\n",
       "│ 2        ┆ 2         ┆ chelan    ┆ che       ┆ … ┆ 1090      ┆ 944       ┆ 3936      ┆ 201       │\n",
       "└──────────┴───────────┴───────────┴───────────┴───┴───────────┴───────────┴───────────┴───────────┘"
      ]
     },
     "execution_count": 67,
     "metadata": {},
     "output_type": "execute_result"
    }
   ],
   "source": [
    "pl.Config.set_tbl_rows(10)\n",
    "vessel_verbose_clean.head(2)"
   ]
  },
  {
   "cell_type": "code",
   "execution_count": 68,
   "metadata": {},
   "outputs": [],
   "source": [
    "class VesselVerboseSchema(pa.DataFrameModel):\n",
    "    VesselID: int\n",
    "    VesselSubjectID: int\n",
    "    VesselName: str = pa.Field(unique=True)\n",
    "    VesselAbbrev: str\n",
    "    ClassID: int\n",
    "    ClassName: str\n",
    "    ClassSubjectID: int\n",
    "    DrawingImg: str\n",
    "    PublicDisplayName: str\n",
    "    SilhouetteImg: str\n",
    "    SortSeq: int\n",
    "    Status: int\n",
    "    OwnedByWSF: bool\n",
    "    CarDeckRestroom: bool\n",
    "    CarDeckShelter: bool\n",
    "    Elevator: bool\n",
    "    ADAAccessible: bool\n",
    "    MainCabinGalley: bool\n",
    "    MainCabinRestroom: bool\n",
    "    PublicWifi: bool\n",
    "    ADAInfo: str\n",
    "    AdditionalInfo: str = pa.Field(nullable=True)\n",
    "    VesselNameDesc: str\n",
    "    VesselHistory: str = pa.Field(nullable=True)\n",
    "    CityBuilt: str\n",
    "    SpeedInKnots: int\n",
    "    EngineCount: int\n",
    "    Horsepower: int\n",
    "    MaxPassengerCount: int\n",
    "    PassengerOnly: bool\n",
    "    FastFerry: bool\n",
    "    PropulsionInfo: str\n",
    "    TallDeckClearance: int\n",
    "    RegDeckSpace: int\n",
    "    TallDeckSpace: int\n",
    "    Tonnage: int\n",
    "    Displacement: int\n",
    "    YearBuilt: Date\n",
    "    YearRebuilt: Date = pa.Field(nullable=True)\n",
    "    SolasCertified: bool\n",
    "    MaxPassengerCountForInternational: int = pa.Field(nullable=True)\n",
    "    BeamInches: int\n",
    "    LengthInches: int\n",
    "    DraftInches: int = pa.Field(nullable=True)\n",
    "\n",
    "    @pa.check(\"DrawingImg\")\n",
    "    def validate_urls(cls, data: pa.PolarsData) -> pl.LazyFrame:\n",
    "        return data.lazyframe.select(pl.col(data.key).str.starts_with(\"https://\"))"
   ]
  },
  {
   "cell_type": "code",
   "execution_count": 69,
   "metadata": {},
   "outputs": [
    {
     "data": {
      "text/html": [
       "<div><style>\n",
       ".dataframe > thead > tr,\n",
       ".dataframe > tbody > tr {\n",
       "  text-align: right;\n",
       "  white-space: pre-wrap;\n",
       "}\n",
       "</style>\n",
       "<small>shape: (21, 44)</small><table border=\"1\" class=\"dataframe\"><thead><tr><th>VesselID</th><th>VesselSubjectID</th><th>VesselName</th><th>VesselAbbrev</th><th>ClassID</th><th>ClassSubjectID</th><th>ClassName</th><th>SortSeq</th><th>DrawingImg</th><th>SilhouetteImg</th><th>PublicDisplayName</th><th>Status</th><th>OwnedByWSF</th><th>CarDeckRestroom</th><th>CarDeckShelter</th><th>Elevator</th><th>ADAAccessible</th><th>MainCabinGalley</th><th>MainCabinRestroom</th><th>PublicWifi</th><th>ADAInfo</th><th>AdditionalInfo</th><th>VesselNameDesc</th><th>VesselHistory</th><th>CityBuilt</th><th>SpeedInKnots</th><th>EngineCount</th><th>Horsepower</th><th>MaxPassengerCount</th><th>PassengerOnly</th><th>FastFerry</th><th>PropulsionInfo</th><th>TallDeckClearance</th><th>RegDeckSpace</th><th>TallDeckSpace</th><th>Tonnage</th><th>Displacement</th><th>YearBuilt</th><th>YearRebuilt</th><th>SolasCertified</th><th>MaxPassengerCountForInternational</th><th>BeamInches</th><th>LengthInches</th><th>DraftInches</th></tr><tr><td>i64</td><td>i64</td><td>str</td><td>str</td><td>i64</td><td>i64</td><td>str</td><td>i64</td><td>str</td><td>str</td><td>str</td><td>i64</td><td>bool</td><td>bool</td><td>bool</td><td>bool</td><td>bool</td><td>bool</td><td>bool</td><td>bool</td><td>str</td><td>str</td><td>str</td><td>str</td><td>str</td><td>i64</td><td>i64</td><td>i64</td><td>i64</td><td>bool</td><td>bool</td><td>str</td><td>i64</td><td>i64</td><td>i64</td><td>i64</td><td>i64</td><td>date</td><td>date</td><td>bool</td><td>i64</td><td>i64</td><td>i64</td><td>i64</td></tr></thead><tbody><tr><td>1</td><td>1</td><td>&quot;cathlamet&quot;</td><td>&quot;cat&quot;</td><td>10</td><td>310</td><td>&quot;issaquah 130&quot;</td><td>40</td><td>&quot;https://www.wsdot.wa.gov/ferri…</td><td>&quot;https://www.wsdot.wa.gov/ferri…</td><td>&quot;Issaquah&quot;</td><td>1</td><td>true</td><td>true</td><td>false</td><td>true</td><td>true</td><td>true</td><td>true</td><td>false</td><td>&quot;The MV Cathlamet has elevator …</td><td>null</td><td>&quot;From the Kathlamet tribe, the …</td><td>null</td><td>&quot;seattle, wa&quot;</td><td>16</td><td>2</td><td>5000</td><td>1200</td><td>false</td><td>false</td><td>&quot;diesel&quot;</td><td>186</td><td>124</td><td>26</td><td>2477</td><td>3310</td><td>1981-01-01</td><td>1993-01-01</td><td>false</td><td>null</td><td>944</td><td>3936</td><td>198</td></tr><tr><td>2</td><td>2</td><td>&quot;chelan&quot;</td><td>&quot;che&quot;</td><td>10</td><td>310</td><td>&quot;issaquah 130&quot;</td><td>40</td><td>&quot;https://www.wsdot.wa.gov/ferri…</td><td>&quot;https://www.wsdot.wa.gov/ferri…</td><td>&quot;Issaquah&quot;</td><td>1</td><td>true</td><td>true</td><td>false</td><td>true</td><td>true</td><td>true</td><td>true</td><td>false</td><td>&quot;The MV Chelan has elevator acc…</td><td>null</td><td>&quot;From the Chelan  language: Tsi…</td><td>null</td><td>&quot;seattle, wa&quot;</td><td>16</td><td>2</td><td>5000</td><td>1200</td><td>false</td><td>false</td><td>&quot;diesel&quot;</td><td>188</td><td>124</td><td>30</td><td>2477</td><td>3405</td><td>1981-01-01</td><td>2005-01-01</td><td>true</td><td>1090</td><td>944</td><td>3936</td><td>201</td></tr><tr><td>65</td><td>428</td><td>&quot;chetzemoka&quot;</td><td>&quot;chz&quot;</td><td>162</td><td>427</td><td>&quot;kwa-di tabil&quot;</td><td>75</td><td>&quot;https://www.wsdot.wa.gov/ferri…</td><td>&quot;https://www.wsdot.wa.gov/ferri…</td><td>&quot;Kwa-di Tabil&quot;</td><td>1</td><td>true</td><td>false</td><td>false</td><td>true</td><td>true</td><td>true</td><td>true</td><td>false</td><td>&quot;MV Chetzemoka has elevator acc…</td><td>null</td><td>&quot;The name honors a friendly Nat…</td><td>null</td><td>&quot;seattle&quot;</td><td>15</td><td>2</td><td>6000</td><td>748</td><td>false</td><td>false</td><td>&quot;diesel&quot;</td><td>192</td><td>64</td><td>9</td><td>4623</td><td>2415</td><td>2010-01-01</td><td>null</td><td>false</td><td>null</td><td>768</td><td>3284</td><td>132</td></tr><tr><td>74</td><td>487</td><td>&quot;chimacum&quot;</td><td>&quot;chm&quot;</td><td>100</td><td>319</td><td>&quot;olympic&quot;</td><td>35</td><td>&quot;https://www.wsdot.wa.gov/ferri…</td><td>&quot;https://www.wsdot.wa.gov/ferri…</td><td>&quot;Olympic&quot;</td><td>1</td><td>true</td><td>true</td><td>true</td><td>true</td><td>true</td><td>true</td><td>true</td><td>false</td><td>&quot;The vessel has two ADA complia…</td><td>null</td><td>&quot;“The Chimacum People who spoke…</td><td>&quot;Chimacum is the third of the 1…</td><td>&quot;seattle, wa&quot;</td><td>17</td><td>2</td><td>6000</td><td>1500</td><td>false</td><td>false</td><td>&quot;diesel&quot;</td><td>192</td><td>144</td><td>34</td><td>3525</td><td>4384</td><td>2017-01-01</td><td>null</td><td>false</td><td>null</td><td>998</td><td>4347</td><td>216</td></tr><tr><td>15</td><td>15</td><td>&quot;issaquah&quot;</td><td>&quot;iss&quot;</td><td>10</td><td>310</td><td>&quot;issaquah 130&quot;</td><td>40</td><td>&quot;https://www.wsdot.wa.gov/ferri…</td><td>&quot;https://www.wsdot.wa.gov/ferri…</td><td>&quot;Issaquah&quot;</td><td>1</td><td>true</td><td>true</td><td>false</td><td>true</td><td>true</td><td>true</td><td>true</td><td>false</td><td>&quot;The MV Issaquah has elevator a…</td><td>null</td><td>&quot;&quot;Snake.&quot; Native Americans who …</td><td>null</td><td>&quot;seattle, wa&quot;</td><td>16</td><td>2</td><td>5000</td><td>1200</td><td>false</td><td>false</td><td>&quot;diesel&quot;</td><td>188</td><td>124</td><td>26</td><td>2475</td><td>3310</td><td>1979-01-01</td><td>1989-01-01</td><td>false</td><td>null</td><td>944</td><td>3936</td><td>198</td></tr><tr><td>&hellip;</td><td>&hellip;</td><td>&hellip;</td><td>&hellip;</td><td>&hellip;</td><td>&hellip;</td><td>&hellip;</td><td>&hellip;</td><td>&hellip;</td><td>&hellip;</td><td>&hellip;</td><td>&hellip;</td><td>&hellip;</td><td>&hellip;</td><td>&hellip;</td><td>&hellip;</td><td>&hellip;</td><td>&hellip;</td><td>&hellip;</td><td>&hellip;</td><td>&hellip;</td><td>&hellip;</td><td>&hellip;</td><td>&hellip;</td><td>&hellip;</td><td>&hellip;</td><td>&hellip;</td><td>&hellip;</td><td>&hellip;</td><td>&hellip;</td><td>&hellip;</td><td>&hellip;</td><td>&hellip;</td><td>&hellip;</td><td>&hellip;</td><td>&hellip;</td><td>&hellip;</td><td>&hellip;</td><td>&hellip;</td><td>&hellip;</td><td>&hellip;</td><td>&hellip;</td><td>&hellip;</td><td>&hellip;</td></tr><tr><td>33</td><td>33</td><td>&quot;tillikum&quot;</td><td>&quot;til&quot;</td><td>20</td><td>311</td><td>&quot;evergreen state&quot;</td><td>60</td><td>&quot;https://www.wsdot.wa.gov/ferri…</td><td>&quot;https://www.wsdot.wa.gov/ferri…</td><td>&quot;Evergreen State&quot;</td><td>1</td><td>true</td><td>false</td><td>false</td><td>true</td><td>true</td><td>true</td><td>true</td><td>false</td><td>&quot;The MV Tillikum has an elevato…</td><td>null</td><td>&quot;Chinook Jargon: &quot;friends; rela…</td><td>null</td><td>&quot;seattle, wa&quot;</td><td>13</td><td>2</td><td>2500</td><td>1061</td><td>false</td><td>false</td><td>&quot;diesel-electric (ac)&quot;</td><td>162</td><td>87</td><td>30</td><td>2070</td><td>2413</td><td>1959-01-01</td><td>1994-01-01</td><td>false</td><td>null</td><td>878</td><td>3722</td><td>null</td></tr><tr><td>68</td><td>462</td><td>&quot;tokitae&quot;</td><td>&quot;tok&quot;</td><td>100</td><td>319</td><td>&quot;olympic&quot;</td><td>35</td><td>&quot;https://www.wsdot.wa.gov/ferri…</td><td>&quot;https://www.wsdot.wa.gov/ferri…</td><td>&quot;Olympic&quot;</td><td>1</td><td>true</td><td>false</td><td>true</td><td>true</td><td>true</td><td>true</td><td>true</td><td>false</td><td>&quot;The vessel has two ADA complia…</td><td>null</td><td>&quot;Tokitae means &quot;nice day, prett…</td><td>&quot;Tokitae is the first of the 14…</td><td>&quot;seattle, wa&quot;</td><td>17</td><td>2</td><td>6000</td><td>1500</td><td>false</td><td>false</td><td>&quot;diesel&quot;</td><td>192</td><td>144</td><td>34</td><td>3525</td><td>4384</td><td>2014-01-01</td><td>null</td><td>false</td><td>null</td><td>998</td><td>4347</td><td>216</td></tr><tr><td>36</td><td>36</td><td>&quot;walla walla&quot;</td><td>&quot;wal&quot;</td><td>70</td><td>316</td><td>&quot;jumbo&quot;</td><td>20</td><td>&quot;https://www.wsdot.wa.gov/ferri…</td><td>&quot;https://www.wsdot.wa.gov/ferri…</td><td>&quot;Jumbo&quot;</td><td>1</td><td>true</td><td>false</td><td>false</td><td>true</td><td>true</td><td>true</td><td>true</td><td>false</td><td>&quot;The MV Walla Walla has elevato…</td><td>null</td><td>&quot;Nez Perce for &quot;place of many w…</td><td>null</td><td>&quot;seattle&quot;</td><td>18</td><td>4</td><td>11500</td><td>2000</td><td>false</td><td>false</td><td>&quot;diesel-electric (dc)&quot;</td><td>186</td><td>188</td><td>60</td><td>3246</td><td>4860</td><td>1973-01-01</td><td>2003-01-01</td><td>false</td><td>null</td><td>1044</td><td>5280</td><td>216</td></tr><tr><td>37</td><td>37</td><td>&quot;wenatchee&quot;</td><td>&quot;wen&quot;</td><td>90</td><td>318</td><td>&quot;jumbo mark ii&quot;</td><td>10</td><td>&quot;https://www.wsdot.wa.gov/ferri…</td><td>&quot;https://www.wsdot.wa.gov/ferri…</td><td>&quot;Jumbo Mark II&quot;</td><td>1</td><td>true</td><td>false</td><td>false</td><td>true</td><td>true</td><td>true</td><td>true</td><td>false</td><td>&quot;The MV Wenatchee has elevator …</td><td>&quot;27 May 1998\r\n",
       "Todd Pacific Ship…</td><td>&quot;From the Yakama language comes…</td><td>&quot;Todd Shipyard Delivery Date: 2…</td><td>&quot;seattle, wa&quot;</td><td>18</td><td>4</td><td>16000</td><td>2499</td><td>false</td><td>false</td><td>&quot;diesel-electric (ac)&quot;</td><td>184</td><td>202</td><td>60</td><td>4938</td><td>6184</td><td>1998-01-01</td><td>null</td><td>false</td><td>null</td><td>1080</td><td>5522</td><td>207</td></tr><tr><td>38</td><td>38</td><td>&quot;yakima&quot;</td><td>&quot;yak&quot;</td><td>50</td><td>314</td><td>&quot;super&quot;</td><td>30</td><td>&quot;https://www.wsdot.wa.gov/ferri…</td><td>&quot;https://www.wsdot.wa.gov/ferri…</td><td>&quot;Super&quot;</td><td>1</td><td>true</td><td>true</td><td>true</td><td>true</td><td>true</td><td>false</td><td>true</td><td>false</td><td>&quot;The MV Yakima has elevator acc…</td><td>null</td><td>&quot;From the Yakama language, &quot;Yak…</td><td>null</td><td>&quot;san diego, ca&quot;</td><td>17</td><td>4</td><td>8000</td><td>2000</td><td>false</td><td>false</td><td>&quot;diesel-electric (dc)&quot;</td><td>186</td><td>144</td><td>30</td><td>2704</td><td>3634</td><td>1967-01-01</td><td>2000-01-01</td><td>false</td><td>null</td><td>878</td><td>4586</td><td>222</td></tr></tbody></table></div>"
      ],
      "text/plain": [
       "shape: (21, 44)\n",
       "┌──────────┬───────────┬───────────┬───────────┬───┬───────────┬───────────┬───────────┬───────────┐\n",
       "│ VesselID ┆ VesselSub ┆ VesselNam ┆ VesselAbb ┆ … ┆ MaxPassen ┆ BeamInche ┆ LengthInc ┆ DraftInch │\n",
       "│ ---      ┆ jectID    ┆ e         ┆ rev       ┆   ┆ gerCountF ┆ s         ┆ hes       ┆ es        │\n",
       "│ i64      ┆ ---       ┆ ---       ┆ ---       ┆   ┆ orInterna ┆ ---       ┆ ---       ┆ ---       │\n",
       "│          ┆ i64       ┆ str       ┆ str       ┆   ┆ tio…      ┆ i64       ┆ i64       ┆ i64       │\n",
       "│          ┆           ┆           ┆           ┆   ┆ ---       ┆           ┆           ┆           │\n",
       "│          ┆           ┆           ┆           ┆   ┆ i64       ┆           ┆           ┆           │\n",
       "╞══════════╪═══════════╪═══════════╪═══════════╪═══╪═══════════╪═══════════╪═══════════╪═══════════╡\n",
       "│ 1        ┆ 1         ┆ cathlamet ┆ cat       ┆ … ┆ null      ┆ 944       ┆ 3936      ┆ 198       │\n",
       "│ 2        ┆ 2         ┆ chelan    ┆ che       ┆ … ┆ 1090      ┆ 944       ┆ 3936      ┆ 201       │\n",
       "│ 65       ┆ 428       ┆ chetzemok ┆ chz       ┆ … ┆ null      ┆ 768       ┆ 3284      ┆ 132       │\n",
       "│          ┆           ┆ a         ┆           ┆   ┆           ┆           ┆           ┆           │\n",
       "│ 74       ┆ 487       ┆ chimacum  ┆ chm       ┆ … ┆ null      ┆ 998       ┆ 4347      ┆ 216       │\n",
       "│ 15       ┆ 15        ┆ issaquah  ┆ iss       ┆ … ┆ null      ┆ 944       ┆ 3936      ┆ 198       │\n",
       "│ …        ┆ …         ┆ …         ┆ …         ┆ … ┆ …         ┆ …         ┆ …         ┆ …         │\n",
       "│ 33       ┆ 33        ┆ tillikum  ┆ til       ┆ … ┆ null      ┆ 878       ┆ 3722      ┆ null      │\n",
       "│ 68       ┆ 462       ┆ tokitae   ┆ tok       ┆ … ┆ null      ┆ 998       ┆ 4347      ┆ 216       │\n",
       "│ 36       ┆ 36        ┆ walla     ┆ wal       ┆ … ┆ null      ┆ 1044      ┆ 5280      ┆ 216       │\n",
       "│          ┆           ┆ walla     ┆           ┆   ┆           ┆           ┆           ┆           │\n",
       "│ 37       ┆ 37        ┆ wenatchee ┆ wen       ┆ … ┆ null      ┆ 1080      ┆ 5522      ┆ 207       │\n",
       "│ 38       ┆ 38        ┆ yakima    ┆ yak       ┆ … ┆ null      ┆ 878       ┆ 4586      ┆ 222       │\n",
       "└──────────┴───────────┴───────────┴───────────┴───┴───────────┴───────────┴───────────┴───────────┘"
      ]
     },
     "execution_count": 69,
     "metadata": {},
     "output_type": "execute_result"
    }
   ],
   "source": [
    "VesselVerboseSchema.validate(vessel_verbose_clean)"
   ]
  },
  {
   "cell_type": "markdown",
   "metadata": {},
   "source": [
    "#### terminal_locations"
   ]
  },
  {
   "cell_type": "markdown",
   "metadata": {},
   "source": [
    "In the interest of time, we will \"skim\" over the validation of the this data."
   ]
  },
  {
   "cell_type": "code",
   "execution_count": 70,
   "metadata": {},
   "outputs": [],
   "source": [
    "class TerminalLocationsSchema(pa.DataFrameModel):\n",
    "    TerminalName: str = pa.Field(unique=True)\n",
    "    TerminalAbbrev: str\n",
    "    Latitude: float = pa.Field(ge=-90.0, le=90.0)\n",
    "    Longitude: float = pa.Field(ge=-180.0, le=180.0)"
   ]
  },
  {
   "cell_type": "code",
   "execution_count": 71,
   "metadata": {},
   "outputs": [
    {
     "data": {
      "text/html": [
       "<div><style>\n",
       ".dataframe > thead > tr,\n",
       ".dataframe > tbody > tr {\n",
       "  text-align: right;\n",
       "  white-space: pre-wrap;\n",
       "}\n",
       "</style>\n",
       "<small>shape: (20, 4)</small><table border=\"1\" class=\"dataframe\"><thead><tr><th>TerminalName</th><th>TerminalAbbrev</th><th>Latitude</th><th>Longitude</th></tr><tr><td>str</td><td>str</td><td>f64</td><td>f64</td></tr></thead><tbody><tr><td>&quot;anacortes&quot;</td><td>&quot;ANA&quot;</td><td>48.507351</td><td>-122.677</td></tr><tr><td>&quot;bainbridge island&quot;</td><td>&quot;BBI&quot;</td><td>47.622339</td><td>-122.509617</td></tr><tr><td>&quot;bremerton&quot;</td><td>&quot;BRE&quot;</td><td>47.561847</td><td>-122.624089</td></tr><tr><td>&quot;clinton&quot;</td><td>&quot;CLI&quot;</td><td>47.9754</td><td>-122.349581</td></tr><tr><td>&quot;coupeville&quot;</td><td>&quot;COU&quot;</td><td>48.159008</td><td>-122.672603</td></tr><tr><td>&hellip;</td><td>&hellip;</td><td>&hellip;</td><td>&hellip;</td></tr><tr><td>&quot;shaw island&quot;</td><td>&quot;SHI&quot;</td><td>48.584792</td><td>-122.92965</td></tr><tr><td>&quot;sidney b.c.&quot;</td><td>&quot;SID&quot;</td><td>48.643114</td><td>-123.396739</td></tr><tr><td>&quot;southworth&quot;</td><td>&quot;SOU&quot;</td><td>47.513064</td><td>-122.495742</td></tr><tr><td>&quot;tahlequah&quot;</td><td>&quot;TAH&quot;</td><td>47.331961</td><td>-122.507786</td></tr><tr><td>&quot;vashon island&quot;</td><td>&quot;VAI&quot;</td><td>47.51095</td><td>-122.463639</td></tr></tbody></table></div>"
      ],
      "text/plain": [
       "shape: (20, 4)\n",
       "┌───────────────────┬────────────────┬───────────┬─────────────┐\n",
       "│ TerminalName      ┆ TerminalAbbrev ┆ Latitude  ┆ Longitude   │\n",
       "│ ---               ┆ ---            ┆ ---       ┆ ---         │\n",
       "│ str               ┆ str            ┆ f64       ┆ f64         │\n",
       "╞═══════════════════╪════════════════╪═══════════╪═════════════╡\n",
       "│ anacortes         ┆ ANA            ┆ 48.507351 ┆ -122.677    │\n",
       "│ bainbridge island ┆ BBI            ┆ 47.622339 ┆ -122.509617 │\n",
       "│ bremerton         ┆ BRE            ┆ 47.561847 ┆ -122.624089 │\n",
       "│ clinton           ┆ CLI            ┆ 47.9754   ┆ -122.349581 │\n",
       "│ coupeville        ┆ COU            ┆ 48.159008 ┆ -122.672603 │\n",
       "│ …                 ┆ …              ┆ …         ┆ …           │\n",
       "│ shaw island       ┆ SHI            ┆ 48.584792 ┆ -122.92965  │\n",
       "│ sidney b.c.       ┆ SID            ┆ 48.643114 ┆ -123.396739 │\n",
       "│ southworth        ┆ SOU            ┆ 47.513064 ┆ -122.495742 │\n",
       "│ tahlequah         ┆ TAH            ┆ 47.331961 ┆ -122.507786 │\n",
       "│ vashon island     ┆ VAI            ┆ 47.51095  ┆ -122.463639 │\n",
       "└───────────────────┴────────────────┴───────────┴─────────────┘"
      ]
     },
     "execution_count": 71,
     "metadata": {},
     "output_type": "execute_result"
    }
   ],
   "source": [
    "TerminalLocationsSchema.validate(terminal_locations_clean)"
   ]
  },
  {
   "cell_type": "markdown",
   "metadata": {},
   "source": [
    "#### terminal_weather"
   ]
  },
  {
   "cell_type": "markdown",
   "metadata": {},
   "source": [
    "In the interest of time, we will \"skim\" over the validation of the this data."
   ]
  },
  {
   "cell_type": "code",
   "execution_count": 72,
   "metadata": {
    "tags": []
   },
   "outputs": [
    {
     "data": {
      "text/html": [
       "<div><style>\n",
       ".dataframe > thead > tr,\n",
       ".dataframe > tbody > tr {\n",
       "  text-align: right;\n",
       "  white-space: pre-wrap;\n",
       "}\n",
       "</style>\n",
       "<small>shape: (5, 16)</small><table border=\"1\" class=\"dataframe\"><thead><tr><th>latitude</th><th>longitude</th><th>generationtime_ms</th><th>utc_offset_seconds</th><th>timezone</th><th>timezone_abbreviation</th><th>elevation</th><th>time</th><th>weather_code</th><th>temperature_2m</th><th>precipitation</th><th>cloud_cover</th><th>wind_speed_10m</th><th>wind_direction_10m</th><th>wind_gusts_10m</th><th>terminal_name</th></tr><tr><td>f64</td><td>f64</td><td>f64</td><td>i64</td><td>str</td><td>str</td><td>f64</td><td>datetime[μs, GMT]</td><td>i64</td><td>f64</td><td>f64</td><td>i64</td><td>f64</td><td>i64</td><td>f64</td><td>str</td></tr></thead><tbody><tr><td>48.541298</td><td>-122.727264</td><td>0.238061</td><td>0</td><td>&quot;gmt&quot;</td><td>&quot;gmt&quot;</td><td>0.0</td><td>2024-03-01 00:00:00 GMT</td><td>3</td><td>6.2</td><td>0.0</td><td>80</td><td>37.4</td><td>154</td><td>47.9</td><td>&quot;anacortes&quot;</td></tr><tr><td>48.541298</td><td>-122.727264</td><td>0.238061</td><td>0</td><td>&quot;gmt&quot;</td><td>&quot;gmt&quot;</td><td>0.0</td><td>2024-03-01 01:00:00 GMT</td><td>51</td><td>5.9</td><td>0.1</td><td>94</td><td>36.7</td><td>159</td><td>48.6</td><td>&quot;anacortes&quot;</td></tr><tr><td>48.541298</td><td>-122.727264</td><td>0.238061</td><td>0</td><td>&quot;gmt&quot;</td><td>&quot;gmt&quot;</td><td>0.0</td><td>2024-03-01 02:00:00 GMT</td><td>3</td><td>5.7</td><td>0.0</td><td>83</td><td>36.6</td><td>156</td><td>49.0</td><td>&quot;anacortes&quot;</td></tr><tr><td>48.541298</td><td>-122.727264</td><td>0.238061</td><td>0</td><td>&quot;gmt&quot;</td><td>&quot;gmt&quot;</td><td>0.0</td><td>2024-03-01 03:00:00 GMT</td><td>1</td><td>5.1</td><td>0.0</td><td>40</td><td>40.9</td><td>152</td><td>54.7</td><td>&quot;anacortes&quot;</td></tr><tr><td>48.541298</td><td>-122.727264</td><td>0.238061</td><td>0</td><td>&quot;gmt&quot;</td><td>&quot;gmt&quot;</td><td>0.0</td><td>2024-03-01 04:00:00 GMT</td><td>2</td><td>4.6</td><td>0.0</td><td>66</td><td>40.7</td><td>144</td><td>54.7</td><td>&quot;anacortes&quot;</td></tr></tbody></table></div>"
      ],
      "text/plain": [
       "shape: (5, 16)\n",
       "┌───────────┬───────────┬───────────┬───────────┬───┬───────────┬───────────┬───────────┬──────────┐\n",
       "│ latitude  ┆ longitude ┆ generatio ┆ utc_offse ┆ … ┆ wind_spee ┆ wind_dire ┆ wind_gust ┆ terminal │\n",
       "│ ---       ┆ ---       ┆ ntime_ms  ┆ t_seconds ┆   ┆ d_10m     ┆ ction_10m ┆ s_10m     ┆ _name    │\n",
       "│ f64       ┆ f64       ┆ ---       ┆ ---       ┆   ┆ ---       ┆ ---       ┆ ---       ┆ ---      │\n",
       "│           ┆           ┆ f64       ┆ i64       ┆   ┆ f64       ┆ i64       ┆ f64       ┆ str      │\n",
       "╞═══════════╪═══════════╪═══════════╪═══════════╪═══╪═══════════╪═══════════╪═══════════╪══════════╡\n",
       "│ 48.541298 ┆ -122.7272 ┆ 0.238061  ┆ 0         ┆ … ┆ 37.4      ┆ 154       ┆ 47.9      ┆ anacorte │\n",
       "│           ┆ 64        ┆           ┆           ┆   ┆           ┆           ┆           ┆ s        │\n",
       "│ 48.541298 ┆ -122.7272 ┆ 0.238061  ┆ 0         ┆ … ┆ 36.7      ┆ 159       ┆ 48.6      ┆ anacorte │\n",
       "│           ┆ 64        ┆           ┆           ┆   ┆           ┆           ┆           ┆ s        │\n",
       "│ 48.541298 ┆ -122.7272 ┆ 0.238061  ┆ 0         ┆ … ┆ 36.6      ┆ 156       ┆ 49.0      ┆ anacorte │\n",
       "│           ┆ 64        ┆           ┆           ┆   ┆           ┆           ┆           ┆ s        │\n",
       "│ 48.541298 ┆ -122.7272 ┆ 0.238061  ┆ 0         ┆ … ┆ 40.9      ┆ 152       ┆ 54.7      ┆ anacorte │\n",
       "│           ┆ 64        ┆           ┆           ┆   ┆           ┆           ┆           ┆ s        │\n",
       "│ 48.541298 ┆ -122.7272 ┆ 0.238061  ┆ 0         ┆ … ┆ 40.7      ┆ 144       ┆ 54.7      ┆ anacorte │\n",
       "│           ┆ 64        ┆           ┆           ┆   ┆           ┆           ┆           ┆ s        │\n",
       "└───────────┴───────────┴───────────┴───────────┴───┴───────────┴───────────┴───────────┴──────────┘"
      ]
     },
     "execution_count": 72,
     "metadata": {},
     "output_type": "execute_result"
    }
   ],
   "source": [
    "terminal_weather_clean.head()"
   ]
  },
  {
   "cell_type": "code",
   "execution_count": 73,
   "metadata": {},
   "outputs": [],
   "source": [
    "class TerminalWeatherSchema(pa.DataFrameModel):\n",
    "    latitude: float = pa.Field(ge=-90.0, le=90.0)\n",
    "    longitude: float = pa.Field(ge=-180.0, le=180.0)\n",
    "    generationtime_ms: float\n",
    "    utc_offset_seconds: int\n",
    "    timezone: str = pa.Field(eq=\"gmt\")\n",
    "    timezone_abbreviation: str = pa.Field(eq=\"gmt\")\n",
    "    elevation: float\n",
    "    time: DateTime = pa.Field(dtype_kwargs={\"time_zone\": \"GMT\"}, nullable=True)\n",
    "    weather_code: int\n",
    "    temperature_2m: float\n",
    "    precipitation: float\n",
    "    cloud_cover: int = pa.Field(ge=0, le=100)\n",
    "    wind_speed_10m: float\n",
    "    wind_direction_10m: int = pa.Field(ge=0, le=360)\n",
    "    wind_gusts_10m: float\n",
    "    terminal_name: str\n"
   ]
  },
  {
   "cell_type": "code",
   "execution_count": 74,
   "metadata": {},
   "outputs": [
    {
     "data": {
      "text/html": [
       "<div><style>\n",
       ".dataframe > thead > tr,\n",
       ".dataframe > tbody > tr {\n",
       "  text-align: right;\n",
       "  white-space: pre-wrap;\n",
       "}\n",
       "</style>\n",
       "<small>shape: (75_840, 16)</small><table border=\"1\" class=\"dataframe\"><thead><tr><th>latitude</th><th>longitude</th><th>generationtime_ms</th><th>utc_offset_seconds</th><th>timezone</th><th>timezone_abbreviation</th><th>elevation</th><th>time</th><th>weather_code</th><th>temperature_2m</th><th>precipitation</th><th>cloud_cover</th><th>wind_speed_10m</th><th>wind_direction_10m</th><th>wind_gusts_10m</th><th>terminal_name</th></tr><tr><td>f64</td><td>f64</td><td>f64</td><td>i64</td><td>str</td><td>str</td><td>f64</td><td>datetime[μs, GMT]</td><td>i64</td><td>f64</td><td>f64</td><td>i64</td><td>f64</td><td>i64</td><td>f64</td><td>str</td></tr></thead><tbody><tr><td>48.541298</td><td>-122.727264</td><td>0.238061</td><td>0</td><td>&quot;gmt&quot;</td><td>&quot;gmt&quot;</td><td>0.0</td><td>2024-03-01 00:00:00 GMT</td><td>3</td><td>6.2</td><td>0.0</td><td>80</td><td>37.4</td><td>154</td><td>47.9</td><td>&quot;anacortes&quot;</td></tr><tr><td>48.541298</td><td>-122.727264</td><td>0.238061</td><td>0</td><td>&quot;gmt&quot;</td><td>&quot;gmt&quot;</td><td>0.0</td><td>2024-03-01 01:00:00 GMT</td><td>51</td><td>5.9</td><td>0.1</td><td>94</td><td>36.7</td><td>159</td><td>48.6</td><td>&quot;anacortes&quot;</td></tr><tr><td>48.541298</td><td>-122.727264</td><td>0.238061</td><td>0</td><td>&quot;gmt&quot;</td><td>&quot;gmt&quot;</td><td>0.0</td><td>2024-03-01 02:00:00 GMT</td><td>3</td><td>5.7</td><td>0.0</td><td>83</td><td>36.6</td><td>156</td><td>49.0</td><td>&quot;anacortes&quot;</td></tr><tr><td>48.541298</td><td>-122.727264</td><td>0.238061</td><td>0</td><td>&quot;gmt&quot;</td><td>&quot;gmt&quot;</td><td>0.0</td><td>2024-03-01 03:00:00 GMT</td><td>1</td><td>5.1</td><td>0.0</td><td>40</td><td>40.9</td><td>152</td><td>54.7</td><td>&quot;anacortes&quot;</td></tr><tr><td>48.541298</td><td>-122.727264</td><td>0.238061</td><td>0</td><td>&quot;gmt&quot;</td><td>&quot;gmt&quot;</td><td>0.0</td><td>2024-03-01 04:00:00 GMT</td><td>2</td><td>4.6</td><td>0.0</td><td>66</td><td>40.7</td><td>144</td><td>54.7</td><td>&quot;anacortes&quot;</td></tr><tr><td>&hellip;</td><td>&hellip;</td><td>&hellip;</td><td>&hellip;</td><td>&hellip;</td><td>&hellip;</td><td>&hellip;</td><td>&hellip;</td><td>&hellip;</td><td>&hellip;</td><td>&hellip;</td><td>&hellip;</td><td>&hellip;</td><td>&hellip;</td><td>&hellip;</td><td>&hellip;</td></tr><tr><td>47.486816</td><td>-122.512314</td><td>0.198007</td><td>0</td><td>&quot;gmt&quot;</td><td>&quot;gmt&quot;</td><td>0.0</td><td>2024-08-05 19:00:00 GMT</td><td>0</td><td>24.5</td><td>0.0</td><td>0</td><td>8.0</td><td>190</td><td>25.9</td><td>&quot;vashon island&quot;</td></tr><tr><td>47.486816</td><td>-122.512314</td><td>0.198007</td><td>0</td><td>&quot;gmt&quot;</td><td>&quot;gmt&quot;</td><td>0.0</td><td>2024-08-05 20:00:00 GMT</td><td>0</td><td>26.7</td><td>0.0</td><td>0</td><td>7.2</td><td>198</td><td>25.9</td><td>&quot;vashon island&quot;</td></tr><tr><td>47.486816</td><td>-122.512314</td><td>0.198007</td><td>0</td><td>&quot;gmt&quot;</td><td>&quot;gmt&quot;</td><td>0.0</td><td>2024-08-05 21:00:00 GMT</td><td>0</td><td>28.6</td><td>0.0</td><td>0</td><td>6.6</td><td>193</td><td>25.2</td><td>&quot;vashon island&quot;</td></tr><tr><td>47.486816</td><td>-122.512314</td><td>0.198007</td><td>0</td><td>&quot;gmt&quot;</td><td>&quot;gmt&quot;</td><td>0.0</td><td>2024-08-05 22:00:00 GMT</td><td>0</td><td>29.7</td><td>0.0</td><td>0</td><td>5.4</td><td>188</td><td>24.5</td><td>&quot;vashon island&quot;</td></tr><tr><td>47.486816</td><td>-122.512314</td><td>0.198007</td><td>0</td><td>&quot;gmt&quot;</td><td>&quot;gmt&quot;</td><td>0.0</td><td>2024-08-05 23:00:00 GMT</td><td>0</td><td>30.1</td><td>0.0</td><td>0</td><td>5.9</td><td>191</td><td>22.0</td><td>&quot;vashon island&quot;</td></tr></tbody></table></div>"
      ],
      "text/plain": [
       "shape: (75_840, 16)\n",
       "┌───────────┬───────────┬───────────┬───────────┬───┬───────────┬───────────┬───────────┬──────────┐\n",
       "│ latitude  ┆ longitude ┆ generatio ┆ utc_offse ┆ … ┆ wind_spee ┆ wind_dire ┆ wind_gust ┆ terminal │\n",
       "│ ---       ┆ ---       ┆ ntime_ms  ┆ t_seconds ┆   ┆ d_10m     ┆ ction_10m ┆ s_10m     ┆ _name    │\n",
       "│ f64       ┆ f64       ┆ ---       ┆ ---       ┆   ┆ ---       ┆ ---       ┆ ---       ┆ ---      │\n",
       "│           ┆           ┆ f64       ┆ i64       ┆   ┆ f64       ┆ i64       ┆ f64       ┆ str      │\n",
       "╞═══════════╪═══════════╪═══════════╪═══════════╪═══╪═══════════╪═══════════╪═══════════╪══════════╡\n",
       "│ 48.541298 ┆ -122.7272 ┆ 0.238061  ┆ 0         ┆ … ┆ 37.4      ┆ 154       ┆ 47.9      ┆ anacorte │\n",
       "│           ┆ 64        ┆           ┆           ┆   ┆           ┆           ┆           ┆ s        │\n",
       "│ 48.541298 ┆ -122.7272 ┆ 0.238061  ┆ 0         ┆ … ┆ 36.7      ┆ 159       ┆ 48.6      ┆ anacorte │\n",
       "│           ┆ 64        ┆           ┆           ┆   ┆           ┆           ┆           ┆ s        │\n",
       "│ 48.541298 ┆ -122.7272 ┆ 0.238061  ┆ 0         ┆ … ┆ 36.6      ┆ 156       ┆ 49.0      ┆ anacorte │\n",
       "│           ┆ 64        ┆           ┆           ┆   ┆           ┆           ┆           ┆ s        │\n",
       "│ 48.541298 ┆ -122.7272 ┆ 0.238061  ┆ 0         ┆ … ┆ 40.9      ┆ 152       ┆ 54.7      ┆ anacorte │\n",
       "│           ┆ 64        ┆           ┆           ┆   ┆           ┆           ┆           ┆ s        │\n",
       "│ 48.541298 ┆ -122.7272 ┆ 0.238061  ┆ 0         ┆ … ┆ 40.7      ┆ 144       ┆ 54.7      ┆ anacorte │\n",
       "│           ┆ 64        ┆           ┆           ┆   ┆           ┆           ┆           ┆ s        │\n",
       "│ …         ┆ …         ┆ …         ┆ …         ┆ … ┆ …         ┆ …         ┆ …         ┆ …        │\n",
       "│ 47.486816 ┆ -122.5123 ┆ 0.198007  ┆ 0         ┆ … ┆ 8.0       ┆ 190       ┆ 25.9      ┆ vashon   │\n",
       "│           ┆ 14        ┆           ┆           ┆   ┆           ┆           ┆           ┆ island   │\n",
       "│ 47.486816 ┆ -122.5123 ┆ 0.198007  ┆ 0         ┆ … ┆ 7.2       ┆ 198       ┆ 25.9      ┆ vashon   │\n",
       "│           ┆ 14        ┆           ┆           ┆   ┆           ┆           ┆           ┆ island   │\n",
       "│ 47.486816 ┆ -122.5123 ┆ 0.198007  ┆ 0         ┆ … ┆ 6.6       ┆ 193       ┆ 25.2      ┆ vashon   │\n",
       "│           ┆ 14        ┆           ┆           ┆   ┆           ┆           ┆           ┆ island   │\n",
       "│ 47.486816 ┆ -122.5123 ┆ 0.198007  ┆ 0         ┆ … ┆ 5.4       ┆ 188       ┆ 24.5      ┆ vashon   │\n",
       "│           ┆ 14        ┆           ┆           ┆   ┆           ┆           ┆           ┆ island   │\n",
       "│ 47.486816 ┆ -122.5123 ┆ 0.198007  ┆ 0         ┆ … ┆ 5.9       ┆ 191       ┆ 22.0      ┆ vashon   │\n",
       "│           ┆ 14        ┆           ┆           ┆   ┆           ┆           ┆           ┆ island   │\n",
       "└───────────┴───────────┴───────────┴───────────┴───┴───────────┴───────────┴───────────┴──────────┘"
      ]
     },
     "execution_count": 74,
     "metadata": {},
     "output_type": "execute_result"
    }
   ],
   "source": [
    "TerminalWeatherSchema.validate(terminal_weather_clean)"
   ]
  },
  {
   "cell_type": "markdown",
   "metadata": {},
   "source": [
    "## Task 5 - Write Data to the database"
   ]
  },
  {
   "cell_type": "markdown",
   "metadata": {},
   "source": [
    "### 🔄 Task"
   ]
  },
  {
   "cell_type": "markdown",
   "metadata": {},
   "source": [
    "Save the clean data to Posit Connect as a pin."
   ]
  },
  {
   "cell_type": "markdown",
   "metadata": {},
   "source": [
    "### 🧑‍💻 Code"
   ]
  },
  {
   "cell_type": "markdown",
   "metadata": {},
   "source": [
    "Establish a connection to the database."
   ]
  },
  {
   "cell_type": "code",
   "execution_count": 75,
   "metadata": {},
   "outputs": [
    {
     "name": "stdout",
     "output_type": "stream",
     "text": [
      "loading .env\n"
     ]
    }
   ],
   "source": [
    "# Get the database credentials\n",
    "if Path(\".env\").exists():\n",
    "    print(\"loading .env\")\n",
    "    load_dotenv()\n",
    "\n",
    "uri = os.environ[\"DATABASE_URI_PYTHON\"]"
   ]
  },
  {
   "cell_type": "markdown",
   "metadata": {},
   "source": [
    "#### vessel_history"
   ]
  },
  {
   "cell_type": "code",
   "execution_count": 76,
   "metadata": {
    "tags": []
   },
   "outputs": [
    {
     "data": {
      "text/plain": [
       "55794"
      ]
     },
     "execution_count": 76,
     "metadata": {},
     "output_type": "execute_result"
    }
   ],
   "source": [
    "# Write data to the database\n",
    "vessel_history_clean.write_database(\n",
    "    table_name=f\"{username}_vessel_history_clean\",\n",
    "    connection=uri,\n",
    "    engine=\"adbc\",\n",
    "    if_table_exists='replace'\n",
    ")"
   ]
  },
  {
   "cell_type": "code",
   "execution_count": 77,
   "metadata": {
    "tags": []
   },
   "outputs": [
    {
     "data": {
      "text/html": [
       "<div><style>\n",
       ".dataframe > thead > tr,\n",
       ".dataframe > tbody > tr {\n",
       "  text-align: right;\n",
       "  white-space: pre-wrap;\n",
       "}\n",
       "</style>\n",
       "<small>shape: (5, 7)</small><table border=\"1\" class=\"dataframe\"><thead><tr><th>Vessel</th><th>Departing</th><th>Arriving</th><th>ScheduledDepart</th><th>ActualDepart</th><th>EstArrival</th><th>Date</th></tr><tr><td>str</td><td>str</td><td>str</td><td>datetime[μs, UTC]</td><td>datetime[μs, UTC]</td><td>datetime[μs, UTC]</td><td>datetime[μs, UTC]</td></tr></thead><tbody><tr><td>&quot;cathlamet&quot;</td><td>&quot;vashon island&quot;</td><td>&quot;southworth&quot;</td><td>2024-03-01 08:15:00 UTC</td><td>2024-03-01 08:16:09 UTC</td><td>2024-03-01 08:33:19 UTC</td><td>2024-03-01 08:15:00 UTC</td></tr><tr><td>&quot;cathlamet&quot;</td><td>&quot;southworth&quot;</td><td>&quot;fauntleroy&quot;</td><td>2024-03-01 08:35:00 UTC</td><td>2024-03-01 08:36:11 UTC</td><td>2024-03-01 08:55:49 UTC</td><td>2024-03-01 08:35:00 UTC</td></tr><tr><td>&quot;cathlamet&quot;</td><td>&quot;fauntleroy&quot;</td><td>&quot;vashon island&quot;</td><td>2024-03-01 09:05:00 UTC</td><td>2024-03-01 09:07:30 UTC</td><td>2024-03-01 09:22:30 UTC</td><td>2024-03-01 09:05:00 UTC</td></tr><tr><td>&quot;cathlamet&quot;</td><td>&quot;vashon island&quot;</td><td>&quot;southworth&quot;</td><td>2024-03-01 09:30:00 UTC</td><td>2024-03-01 09:30:30 UTC</td><td>2024-03-01 09:43:00 UTC</td><td>2024-03-01 09:30:00 UTC</td></tr><tr><td>&quot;cathlamet&quot;</td><td>&quot;vashon island&quot;</td><td>&quot;fauntleroy&quot;</td><td>2024-03-01 12:05:00 UTC</td><td>2024-03-01 12:06:35 UTC</td><td>2024-03-01 12:20:29 UTC</td><td>2024-03-01 12:05:00 UTC</td></tr></tbody></table></div>"
      ],
      "text/plain": [
       "shape: (5, 7)\n",
       "┌───────────┬──────────────┬──────────────┬──────────────┬─────────────┬─────────────┬─────────────┐\n",
       "│ Vessel    ┆ Departing    ┆ Arriving     ┆ ScheduledDep ┆ ActualDepar ┆ EstArrival  ┆ Date        │\n",
       "│ ---       ┆ ---          ┆ ---          ┆ art          ┆ t           ┆ ---         ┆ ---         │\n",
       "│ str       ┆ str          ┆ str          ┆ ---          ┆ ---         ┆ datetime[μs ┆ datetime[μs │\n",
       "│           ┆              ┆              ┆ datetime[μs, ┆ datetime[μs ┆ , UTC]      ┆ , UTC]      │\n",
       "│           ┆              ┆              ┆ UTC]         ┆ , UTC]      ┆             ┆             │\n",
       "╞═══════════╪══════════════╪══════════════╪══════════════╪═════════════╪═════════════╪═════════════╡\n",
       "│ cathlamet ┆ vashon       ┆ southworth   ┆ 2024-03-01   ┆ 2024-03-01  ┆ 2024-03-01  ┆ 2024-03-01  │\n",
       "│           ┆ island       ┆              ┆ 08:15:00 UTC ┆ 08:16:09    ┆ 08:33:19    ┆ 08:15:00    │\n",
       "│           ┆              ┆              ┆              ┆ UTC         ┆ UTC         ┆ UTC         │\n",
       "│ cathlamet ┆ southworth   ┆ fauntleroy   ┆ 2024-03-01   ┆ 2024-03-01  ┆ 2024-03-01  ┆ 2024-03-01  │\n",
       "│           ┆              ┆              ┆ 08:35:00 UTC ┆ 08:36:11    ┆ 08:55:49    ┆ 08:35:00    │\n",
       "│           ┆              ┆              ┆              ┆ UTC         ┆ UTC         ┆ UTC         │\n",
       "│ cathlamet ┆ fauntleroy   ┆ vashon       ┆ 2024-03-01   ┆ 2024-03-01  ┆ 2024-03-01  ┆ 2024-03-01  │\n",
       "│           ┆              ┆ island       ┆ 09:05:00 UTC ┆ 09:07:30    ┆ 09:22:30    ┆ 09:05:00    │\n",
       "│           ┆              ┆              ┆              ┆ UTC         ┆ UTC         ┆ UTC         │\n",
       "│ cathlamet ┆ vashon       ┆ southworth   ┆ 2024-03-01   ┆ 2024-03-01  ┆ 2024-03-01  ┆ 2024-03-01  │\n",
       "│           ┆ island       ┆              ┆ 09:30:00 UTC ┆ 09:30:30    ┆ 09:43:00    ┆ 09:30:00    │\n",
       "│           ┆              ┆              ┆              ┆ UTC         ┆ UTC         ┆ UTC         │\n",
       "│ cathlamet ┆ vashon       ┆ fauntleroy   ┆ 2024-03-01   ┆ 2024-03-01  ┆ 2024-03-01  ┆ 2024-03-01  │\n",
       "│           ┆ island       ┆              ┆ 12:05:00 UTC ┆ 12:06:35    ┆ 12:20:29    ┆ 12:05:00    │\n",
       "│           ┆              ┆              ┆              ┆ UTC         ┆ UTC         ┆ UTC         │\n",
       "└───────────┴──────────────┴──────────────┴──────────────┴─────────────┴─────────────┴─────────────┘"
      ]
     },
     "execution_count": 77,
     "metadata": {},
     "output_type": "execute_result"
    }
   ],
   "source": [
    "# Test that you can read the data\n",
    "pl.read_database_uri(\n",
    "    query=f\"SELECT * FROM {username}_vessel_history_clean LIMIT 5;\",\n",
    "    uri=uri,\n",
    "    engine=\"adbc\"\n",
    ")"
   ]
  },
  {
   "cell_type": "markdown",
   "metadata": {},
   "source": [
    "#### vessel_verbose"
   ]
  },
  {
   "cell_type": "code",
   "execution_count": 78,
   "metadata": {
    "tags": []
   },
   "outputs": [
    {
     "data": {
      "text/plain": [
       "21"
      ]
     },
     "execution_count": 78,
     "metadata": {},
     "output_type": "execute_result"
    }
   ],
   "source": [
    "# Write data to the database\n",
    "vessel_verbose_clean.write_database(\n",
    "    table_name=f\"{username}_vessel_verbose_clean\",\n",
    "    connection=uri,\n",
    "    engine=\"adbc\",\n",
    "    if_table_exists='replace'\n",
    ")"
   ]
  },
  {
   "cell_type": "code",
   "execution_count": 79,
   "metadata": {
    "tags": []
   },
   "outputs": [
    {
     "data": {
      "text/html": [
       "<div><style>\n",
       ".dataframe > thead > tr,\n",
       ".dataframe > tbody > tr {\n",
       "  text-align: right;\n",
       "  white-space: pre-wrap;\n",
       "}\n",
       "</style>\n",
       "<small>shape: (5, 44)</small><table border=\"1\" class=\"dataframe\"><thead><tr><th>VesselID</th><th>VesselSubjectID</th><th>VesselName</th><th>VesselAbbrev</th><th>ClassID</th><th>ClassSubjectID</th><th>ClassName</th><th>SortSeq</th><th>DrawingImg</th><th>SilhouetteImg</th><th>PublicDisplayName</th><th>Status</th><th>OwnedByWSF</th><th>CarDeckRestroom</th><th>CarDeckShelter</th><th>Elevator</th><th>ADAAccessible</th><th>MainCabinGalley</th><th>MainCabinRestroom</th><th>PublicWifi</th><th>ADAInfo</th><th>AdditionalInfo</th><th>VesselNameDesc</th><th>VesselHistory</th><th>CityBuilt</th><th>SpeedInKnots</th><th>EngineCount</th><th>Horsepower</th><th>MaxPassengerCount</th><th>PassengerOnly</th><th>FastFerry</th><th>PropulsionInfo</th><th>TallDeckClearance</th><th>RegDeckSpace</th><th>TallDeckSpace</th><th>Tonnage</th><th>Displacement</th><th>YearBuilt</th><th>YearRebuilt</th><th>SolasCertified</th><th>MaxPassengerCountForInternational</th><th>BeamInches</th><th>LengthInches</th><th>DraftInches</th></tr><tr><td>i64</td><td>i64</td><td>str</td><td>str</td><td>i64</td><td>i64</td><td>str</td><td>i64</td><td>str</td><td>str</td><td>str</td><td>i64</td><td>bool</td><td>bool</td><td>bool</td><td>bool</td><td>bool</td><td>bool</td><td>bool</td><td>bool</td><td>str</td><td>str</td><td>str</td><td>str</td><td>str</td><td>i64</td><td>i64</td><td>i64</td><td>i64</td><td>bool</td><td>bool</td><td>str</td><td>i64</td><td>i64</td><td>i64</td><td>i64</td><td>i64</td><td>date</td><td>date</td><td>bool</td><td>i64</td><td>i64</td><td>i64</td><td>i64</td></tr></thead><tbody><tr><td>1</td><td>1</td><td>&quot;cathlamet&quot;</td><td>&quot;cat&quot;</td><td>10</td><td>310</td><td>&quot;issaquah 130&quot;</td><td>40</td><td>&quot;https://www.wsdot.wa.gov/ferri…</td><td>&quot;https://www.wsdot.wa.gov/ferri…</td><td>&quot;Issaquah&quot;</td><td>1</td><td>true</td><td>true</td><td>false</td><td>true</td><td>true</td><td>true</td><td>true</td><td>false</td><td>&quot;The MV Cathlamet has elevator …</td><td>null</td><td>&quot;From the Kathlamet tribe, the …</td><td>null</td><td>&quot;seattle, wa&quot;</td><td>16</td><td>2</td><td>5000</td><td>1200</td><td>false</td><td>false</td><td>&quot;diesel&quot;</td><td>186</td><td>124</td><td>26</td><td>2477</td><td>3310</td><td>1981-01-01</td><td>1993-01-01</td><td>false</td><td>null</td><td>944</td><td>3936</td><td>198</td></tr><tr><td>2</td><td>2</td><td>&quot;chelan&quot;</td><td>&quot;che&quot;</td><td>10</td><td>310</td><td>&quot;issaquah 130&quot;</td><td>40</td><td>&quot;https://www.wsdot.wa.gov/ferri…</td><td>&quot;https://www.wsdot.wa.gov/ferri…</td><td>&quot;Issaquah&quot;</td><td>1</td><td>true</td><td>true</td><td>false</td><td>true</td><td>true</td><td>true</td><td>true</td><td>false</td><td>&quot;The MV Chelan has elevator acc…</td><td>null</td><td>&quot;From the Chelan  language: Tsi…</td><td>null</td><td>&quot;seattle, wa&quot;</td><td>16</td><td>2</td><td>5000</td><td>1200</td><td>false</td><td>false</td><td>&quot;diesel&quot;</td><td>188</td><td>124</td><td>30</td><td>2477</td><td>3405</td><td>1981-01-01</td><td>2005-01-01</td><td>true</td><td>1090</td><td>944</td><td>3936</td><td>201</td></tr><tr><td>65</td><td>428</td><td>&quot;chetzemoka&quot;</td><td>&quot;chz&quot;</td><td>162</td><td>427</td><td>&quot;kwa-di tabil&quot;</td><td>75</td><td>&quot;https://www.wsdot.wa.gov/ferri…</td><td>&quot;https://www.wsdot.wa.gov/ferri…</td><td>&quot;Kwa-di Tabil&quot;</td><td>1</td><td>true</td><td>false</td><td>false</td><td>true</td><td>true</td><td>true</td><td>true</td><td>false</td><td>&quot;MV Chetzemoka has elevator acc…</td><td>null</td><td>&quot;The name honors a friendly Nat…</td><td>null</td><td>&quot;seattle&quot;</td><td>15</td><td>2</td><td>6000</td><td>748</td><td>false</td><td>false</td><td>&quot;diesel&quot;</td><td>192</td><td>64</td><td>9</td><td>4623</td><td>2415</td><td>2010-01-01</td><td>null</td><td>false</td><td>null</td><td>768</td><td>3284</td><td>132</td></tr><tr><td>74</td><td>487</td><td>&quot;chimacum&quot;</td><td>&quot;chm&quot;</td><td>100</td><td>319</td><td>&quot;olympic&quot;</td><td>35</td><td>&quot;https://www.wsdot.wa.gov/ferri…</td><td>&quot;https://www.wsdot.wa.gov/ferri…</td><td>&quot;Olympic&quot;</td><td>1</td><td>true</td><td>true</td><td>true</td><td>true</td><td>true</td><td>true</td><td>true</td><td>false</td><td>&quot;The vessel has two ADA complia…</td><td>null</td><td>&quot;“The Chimacum People who spoke…</td><td>&quot;Chimacum is the third of the 1…</td><td>&quot;seattle, wa&quot;</td><td>17</td><td>2</td><td>6000</td><td>1500</td><td>false</td><td>false</td><td>&quot;diesel&quot;</td><td>192</td><td>144</td><td>34</td><td>3525</td><td>4384</td><td>2017-01-01</td><td>null</td><td>false</td><td>null</td><td>998</td><td>4347</td><td>216</td></tr><tr><td>15</td><td>15</td><td>&quot;issaquah&quot;</td><td>&quot;iss&quot;</td><td>10</td><td>310</td><td>&quot;issaquah 130&quot;</td><td>40</td><td>&quot;https://www.wsdot.wa.gov/ferri…</td><td>&quot;https://www.wsdot.wa.gov/ferri…</td><td>&quot;Issaquah&quot;</td><td>1</td><td>true</td><td>true</td><td>false</td><td>true</td><td>true</td><td>true</td><td>true</td><td>false</td><td>&quot;The MV Issaquah has elevator a…</td><td>null</td><td>&quot;&quot;Snake.&quot; Native Americans who …</td><td>null</td><td>&quot;seattle, wa&quot;</td><td>16</td><td>2</td><td>5000</td><td>1200</td><td>false</td><td>false</td><td>&quot;diesel&quot;</td><td>188</td><td>124</td><td>26</td><td>2475</td><td>3310</td><td>1979-01-01</td><td>1989-01-01</td><td>false</td><td>null</td><td>944</td><td>3936</td><td>198</td></tr></tbody></table></div>"
      ],
      "text/plain": [
       "shape: (5, 44)\n",
       "┌──────────┬───────────┬───────────┬───────────┬───┬───────────┬───────────┬───────────┬───────────┐\n",
       "│ VesselID ┆ VesselSub ┆ VesselNam ┆ VesselAbb ┆ … ┆ MaxPassen ┆ BeamInche ┆ LengthInc ┆ DraftInch │\n",
       "│ ---      ┆ jectID    ┆ e         ┆ rev       ┆   ┆ gerCountF ┆ s         ┆ hes       ┆ es        │\n",
       "│ i64      ┆ ---       ┆ ---       ┆ ---       ┆   ┆ orInterna ┆ ---       ┆ ---       ┆ ---       │\n",
       "│          ┆ i64       ┆ str       ┆ str       ┆   ┆ tio…      ┆ i64       ┆ i64       ┆ i64       │\n",
       "│          ┆           ┆           ┆           ┆   ┆ ---       ┆           ┆           ┆           │\n",
       "│          ┆           ┆           ┆           ┆   ┆ i64       ┆           ┆           ┆           │\n",
       "╞══════════╪═══════════╪═══════════╪═══════════╪═══╪═══════════╪═══════════╪═══════════╪═══════════╡\n",
       "│ 1        ┆ 1         ┆ cathlamet ┆ cat       ┆ … ┆ null      ┆ 944       ┆ 3936      ┆ 198       │\n",
       "│ 2        ┆ 2         ┆ chelan    ┆ che       ┆ … ┆ 1090      ┆ 944       ┆ 3936      ┆ 201       │\n",
       "│ 65       ┆ 428       ┆ chetzemok ┆ chz       ┆ … ┆ null      ┆ 768       ┆ 3284      ┆ 132       │\n",
       "│          ┆           ┆ a         ┆           ┆   ┆           ┆           ┆           ┆           │\n",
       "│ 74       ┆ 487       ┆ chimacum  ┆ chm       ┆ … ┆ null      ┆ 998       ┆ 4347      ┆ 216       │\n",
       "│ 15       ┆ 15        ┆ issaquah  ┆ iss       ┆ … ┆ null      ┆ 944       ┆ 3936      ┆ 198       │\n",
       "└──────────┴───────────┴───────────┴───────────┴───┴───────────┴───────────┴───────────┴───────────┘"
      ]
     },
     "execution_count": 79,
     "metadata": {},
     "output_type": "execute_result"
    }
   ],
   "source": [
    "# Test that you can read the data\n",
    "pl.read_database_uri(\n",
    "    query=f\"SELECT * FROM {username}_vessel_verbose_clean LIMIT 5;\",\n",
    "    uri=uri,\n",
    "    engine=\"adbc\"\n",
    ")"
   ]
  },
  {
   "cell_type": "markdown",
   "metadata": {},
   "source": [
    "#### terminal_locations"
   ]
  },
  {
   "cell_type": "code",
   "execution_count": 80,
   "metadata": {
    "tags": []
   },
   "outputs": [
    {
     "data": {
      "text/plain": [
       "20"
      ]
     },
     "execution_count": 80,
     "metadata": {},
     "output_type": "execute_result"
    }
   ],
   "source": [
    "# Write data to the database\n",
    "terminal_locations_clean.write_database(\n",
    "    table_name=f\"{username}_terminal_locations_clean\",\n",
    "    connection=uri,\n",
    "    engine=\"adbc\",\n",
    "    if_table_exists='replace'\n",
    ")"
   ]
  },
  {
   "cell_type": "code",
   "execution_count": 81,
   "metadata": {
    "tags": []
   },
   "outputs": [
    {
     "data": {
      "text/html": [
       "<div><style>\n",
       ".dataframe > thead > tr,\n",
       ".dataframe > tbody > tr {\n",
       "  text-align: right;\n",
       "  white-space: pre-wrap;\n",
       "}\n",
       "</style>\n",
       "<small>shape: (5, 4)</small><table border=\"1\" class=\"dataframe\"><thead><tr><th>TerminalName</th><th>TerminalAbbrev</th><th>Latitude</th><th>Longitude</th></tr><tr><td>str</td><td>str</td><td>f64</td><td>f64</td></tr></thead><tbody><tr><td>&quot;anacortes&quot;</td><td>&quot;ANA&quot;</td><td>48.507351</td><td>-122.677</td></tr><tr><td>&quot;bainbridge island&quot;</td><td>&quot;BBI&quot;</td><td>47.622339</td><td>-122.509617</td></tr><tr><td>&quot;bremerton&quot;</td><td>&quot;BRE&quot;</td><td>47.561847</td><td>-122.624089</td></tr><tr><td>&quot;clinton&quot;</td><td>&quot;CLI&quot;</td><td>47.9754</td><td>-122.349581</td></tr><tr><td>&quot;coupeville&quot;</td><td>&quot;COU&quot;</td><td>48.159008</td><td>-122.672603</td></tr></tbody></table></div>"
      ],
      "text/plain": [
       "shape: (5, 4)\n",
       "┌───────────────────┬────────────────┬───────────┬─────────────┐\n",
       "│ TerminalName      ┆ TerminalAbbrev ┆ Latitude  ┆ Longitude   │\n",
       "│ ---               ┆ ---            ┆ ---       ┆ ---         │\n",
       "│ str               ┆ str            ┆ f64       ┆ f64         │\n",
       "╞═══════════════════╪════════════════╪═══════════╪═════════════╡\n",
       "│ anacortes         ┆ ANA            ┆ 48.507351 ┆ -122.677    │\n",
       "│ bainbridge island ┆ BBI            ┆ 47.622339 ┆ -122.509617 │\n",
       "│ bremerton         ┆ BRE            ┆ 47.561847 ┆ -122.624089 │\n",
       "│ clinton           ┆ CLI            ┆ 47.9754   ┆ -122.349581 │\n",
       "│ coupeville        ┆ COU            ┆ 48.159008 ┆ -122.672603 │\n",
       "└───────────────────┴────────────────┴───────────┴─────────────┘"
      ]
     },
     "execution_count": 81,
     "metadata": {},
     "output_type": "execute_result"
    }
   ],
   "source": [
    "# Test that you can read the data\n",
    "pl.read_database_uri(\n",
    "    query=f\"SELECT * FROM {username}_terminal_locations_clean LIMIT 5;\",\n",
    "    uri=uri,\n",
    "    engine=\"adbc\"\n",
    ")"
   ]
  },
  {
   "cell_type": "markdown",
   "metadata": {},
   "source": [
    "#### terminal_weather"
   ]
  },
  {
   "cell_type": "code",
   "execution_count": 82,
   "metadata": {
    "tags": []
   },
   "outputs": [
    {
     "data": {
      "text/plain": [
       "75840"
      ]
     },
     "execution_count": 82,
     "metadata": {},
     "output_type": "execute_result"
    }
   ],
   "source": [
    "# Write data to the database\n",
    "terminal_weather_clean.write_database(\n",
    "    table_name=f\"{username}_terminal_weather_clean\",\n",
    "    connection=uri,\n",
    "    engine=\"adbc\",\n",
    "    if_table_exists='replace'\n",
    ")"
   ]
  },
  {
   "cell_type": "code",
   "execution_count": 83,
   "metadata": {
    "tags": []
   },
   "outputs": [
    {
     "data": {
      "text/html": [
       "<div><style>\n",
       ".dataframe > thead > tr,\n",
       ".dataframe > tbody > tr {\n",
       "  text-align: right;\n",
       "  white-space: pre-wrap;\n",
       "}\n",
       "</style>\n",
       "<small>shape: (5, 16)</small><table border=\"1\" class=\"dataframe\"><thead><tr><th>latitude</th><th>longitude</th><th>generationtime_ms</th><th>utc_offset_seconds</th><th>timezone</th><th>timezone_abbreviation</th><th>elevation</th><th>time</th><th>weather_code</th><th>temperature_2m</th><th>precipitation</th><th>cloud_cover</th><th>wind_speed_10m</th><th>wind_direction_10m</th><th>wind_gusts_10m</th><th>terminal_name</th></tr><tr><td>f64</td><td>f64</td><td>f64</td><td>i64</td><td>str</td><td>str</td><td>f64</td><td>datetime[μs, UTC]</td><td>i64</td><td>f64</td><td>f64</td><td>i64</td><td>f64</td><td>i64</td><td>f64</td><td>str</td></tr></thead><tbody><tr><td>48.541298</td><td>-122.727264</td><td>0.238061</td><td>0</td><td>&quot;gmt&quot;</td><td>&quot;gmt&quot;</td><td>0.0</td><td>2024-03-01 00:00:00 UTC</td><td>3</td><td>6.2</td><td>0.0</td><td>80</td><td>37.4</td><td>154</td><td>47.9</td><td>&quot;anacortes&quot;</td></tr><tr><td>48.541298</td><td>-122.727264</td><td>0.238061</td><td>0</td><td>&quot;gmt&quot;</td><td>&quot;gmt&quot;</td><td>0.0</td><td>2024-03-01 01:00:00 UTC</td><td>51</td><td>5.9</td><td>0.1</td><td>94</td><td>36.7</td><td>159</td><td>48.6</td><td>&quot;anacortes&quot;</td></tr><tr><td>48.541298</td><td>-122.727264</td><td>0.238061</td><td>0</td><td>&quot;gmt&quot;</td><td>&quot;gmt&quot;</td><td>0.0</td><td>2024-03-01 02:00:00 UTC</td><td>3</td><td>5.7</td><td>0.0</td><td>83</td><td>36.6</td><td>156</td><td>49.0</td><td>&quot;anacortes&quot;</td></tr><tr><td>48.541298</td><td>-122.727264</td><td>0.238061</td><td>0</td><td>&quot;gmt&quot;</td><td>&quot;gmt&quot;</td><td>0.0</td><td>2024-03-01 03:00:00 UTC</td><td>1</td><td>5.1</td><td>0.0</td><td>40</td><td>40.9</td><td>152</td><td>54.7</td><td>&quot;anacortes&quot;</td></tr><tr><td>48.541298</td><td>-122.727264</td><td>0.238061</td><td>0</td><td>&quot;gmt&quot;</td><td>&quot;gmt&quot;</td><td>0.0</td><td>2024-03-01 04:00:00 UTC</td><td>2</td><td>4.6</td><td>0.0</td><td>66</td><td>40.7</td><td>144</td><td>54.7</td><td>&quot;anacortes&quot;</td></tr></tbody></table></div>"
      ],
      "text/plain": [
       "shape: (5, 16)\n",
       "┌───────────┬───────────┬───────────┬───────────┬───┬───────────┬───────────┬───────────┬──────────┐\n",
       "│ latitude  ┆ longitude ┆ generatio ┆ utc_offse ┆ … ┆ wind_spee ┆ wind_dire ┆ wind_gust ┆ terminal │\n",
       "│ ---       ┆ ---       ┆ ntime_ms  ┆ t_seconds ┆   ┆ d_10m     ┆ ction_10m ┆ s_10m     ┆ _name    │\n",
       "│ f64       ┆ f64       ┆ ---       ┆ ---       ┆   ┆ ---       ┆ ---       ┆ ---       ┆ ---      │\n",
       "│           ┆           ┆ f64       ┆ i64       ┆   ┆ f64       ┆ i64       ┆ f64       ┆ str      │\n",
       "╞═══════════╪═══════════╪═══════════╪═══════════╪═══╪═══════════╪═══════════╪═══════════╪══════════╡\n",
       "│ 48.541298 ┆ -122.7272 ┆ 0.238061  ┆ 0         ┆ … ┆ 37.4      ┆ 154       ┆ 47.9      ┆ anacorte │\n",
       "│           ┆ 64        ┆           ┆           ┆   ┆           ┆           ┆           ┆ s        │\n",
       "│ 48.541298 ┆ -122.7272 ┆ 0.238061  ┆ 0         ┆ … ┆ 36.7      ┆ 159       ┆ 48.6      ┆ anacorte │\n",
       "│           ┆ 64        ┆           ┆           ┆   ┆           ┆           ┆           ┆ s        │\n",
       "│ 48.541298 ┆ -122.7272 ┆ 0.238061  ┆ 0         ┆ … ┆ 36.6      ┆ 156       ┆ 49.0      ┆ anacorte │\n",
       "│           ┆ 64        ┆           ┆           ┆   ┆           ┆           ┆           ┆ s        │\n",
       "│ 48.541298 ┆ -122.7272 ┆ 0.238061  ┆ 0         ┆ … ┆ 40.9      ┆ 152       ┆ 54.7      ┆ anacorte │\n",
       "│           ┆ 64        ┆           ┆           ┆   ┆           ┆           ┆           ┆ s        │\n",
       "│ 48.541298 ┆ -122.7272 ┆ 0.238061  ┆ 0         ┆ … ┆ 40.7      ┆ 144       ┆ 54.7      ┆ anacorte │\n",
       "│           ┆ 64        ┆           ┆           ┆   ┆           ┆           ┆           ┆ s        │\n",
       "└───────────┴───────────┴───────────┴───────────┴───┴───────────┴───────────┴───────────┴──────────┘"
      ]
     },
     "execution_count": 83,
     "metadata": {},
     "output_type": "execute_result"
    }
   ],
   "source": [
    "# Test that you can read the data\n",
    "pl.read_database_uri(\n",
    "    query=f\"SELECT * FROM {username}_terminal_weather_clean LIMIT 5;\",\n",
    "    uri=uri,\n",
    "    engine=\"adbc\"\n",
    ")"
   ]
  },
  {
   "cell_type": "markdown",
   "metadata": {},
   "source": [
    "## Task 6 - Set up email with Posit Connect and Quarto"
   ]
  },
  {
   "cell_type": "markdown",
   "metadata": {},
   "source": [
    "### 🔄 Task"
   ]
  },
  {
   "cell_type": "markdown",
   "metadata": {},
   "source": [
    "Posit Connect has support for sending emails with Quarto: https://docs.posit.co/connect/user/quarto/#email-customization.\n",
    "\n",
    "Generate an email to update all the email recipients on the status of the new data."
   ]
  },
  {
   "cell_type": "markdown",
   "metadata": {},
   "source": [
    "**Tips**\n",
    "\n",
    "Run the following in the terminal to preview the email:\n",
    "\n",
    "```bash\n",
    "quarto render notebook.ipynb --execute --output-dir tmp\n",
    "```\n",
    "\n",
    "The open `tmp/email-preview/index.html` to preview the email."
   ]
  },
  {
   "cell_type": "markdown",
   "metadata": {},
   "source": [
    "### 🧑‍💻 Code"
   ]
  },
  {
   "cell_type": "markdown",
   "metadata": {},
   "source": [
    "Define the variable data."
   ]
  },
  {
   "cell_type": "code",
   "execution_count": 84,
   "metadata": {},
   "outputs": [
    {
     "data": {
      "text/plain": [
       "'2024-08-12'"
      ]
     },
     "execution_count": 84,
     "metadata": {},
     "output_type": "execute_result"
    }
   ],
   "source": [
    "import datetime\n",
    "\n",
    "todays_date = datetime.datetime.now().strftime(\"%Y-%m-%d\")\n",
    "todays_date"
   ]
  },
  {
   "cell_type": "markdown",
   "metadata": {},
   "source": [
    "Create your email template."
   ]
  },
  {
   "cell_type": "raw",
   "metadata": {
    "vscode": {
     "languageId": "raw"
    }
   },
   "source": [
    "::: {.email}"
   ]
  },
  {
   "cell_type": "raw",
   "metadata": {},
   "source": [
    ":::::: {.subject}"
   ]
  },
  {
   "cell_type": "markdown",
   "metadata": {
    "user_expressions": [
     {
      "expression": "todays_date",
      "result": {
       "data": {
        "text/plain": "'2024-08-12'"
       },
       "metadata": {},
       "status": "ok"
      }
     }
    ]
   },
   "source": [
    "Seattle Ferry Data Validation Report for `{python} todays_date`"
   ]
  },
  {
   "cell_type": "raw",
   "metadata": {
    "vscode": {
     "languageId": "raw"
    }
   },
   "source": [
    "::::::"
   ]
  },
  {
   "cell_type": "markdown",
   "metadata": {
    "user_expressions": [
     {
      "expression": "f\"{username}_terminal_locations_clean\"",
      "result": {
       "data": {
        "text/plain": "'samedwardes_terminal_locations_clean'"
       },
       "metadata": {},
       "status": "ok"
      }
     },
     {
      "expression": "f\"{username}_vessel_verbose_clean\"",
      "result": {
       "data": {
        "text/plain": "'samedwardes_vessel_verbose_clean'"
       },
       "metadata": {},
       "status": "ok"
      }
     },
     {
      "expression": "f\"{username}_vessel_history_clean\"",
      "result": {
       "data": {
        "text/plain": "'samedwardes_vessel_history_clean'"
       },
       "metadata": {},
       "status": "ok"
      }
     }
    ],
    "vscode": {
     "languageId": "raw"
    }
   },
   "source": [
    "**Update**\n",
    "\n",
    "The Seattle Ferry data has been updated and validated. The following data sets are available for your use:\n",
    "\n",
    "- Terminal Locations: `{python} f\"{username}_terminal_locations_clean\"`\n",
    "- Vessel Verbose: `{python} f\"{username}_vessel_verbose_clean\"`\n",
    "- Vessel History: `{python} f\"{username}_vessel_history_clean\"`"
   ]
  },
  {
   "cell_type": "markdown",
   "metadata": {
    "user_expressions": [
     {
      "expression": "f\"{terminal_locations_clean.shape[0]:,}\"",
      "result": {
       "data": {
        "text/plain": "'20'"
       },
       "metadata": {},
       "status": "ok"
      }
     },
     {
      "expression": "f\"{terminal_locations_clean.shape[1]:,}\"",
      "result": {
       "data": {
        "text/plain": "'4'"
       },
       "metadata": {},
       "status": "ok"
      }
     },
     {
      "expression": "\", \".join(terminal_locations_clean['TerminalName'].unique())",
      "result": {
       "data": {
        "text/plain": "'point defiance, coupeville, lopez island, port townsend, southworth, vashon island, sidney b.c., tahlequah, bainbridge island, fauntleroy, edmonds, mukilteo, orcas island, bremerton, anacortes, kingston, seattle, shaw island, clinton, friday harbor'"
       },
       "metadata": {},
       "status": "ok"
      }
     }
    ]
   },
   "source": [
    "**Terminal Locations**\n",
    "\n",
    "- `{python} f\"{terminal_locations_clean.shape[0]:,}\"` rows\n",
    "- `{python} f\"{terminal_locations_clean.shape[1]:,}\"` columns\n",
    "- Terminals: `{python} \", \".join(terminal_locations_clean['TerminalName'].unique())`"
   ]
  },
  {
   "cell_type": "markdown",
   "metadata": {
    "user_expressions": [
     {
      "expression": "f\"{vessel_verbose_clean.shape[0]:,}\"",
      "result": {
       "data": {
        "text/plain": "'21'"
       },
       "metadata": {},
       "status": "ok"
      }
     },
     {
      "expression": "f\"{vessel_verbose_clean.shape[1]:,}\"",
      "result": {
       "data": {
        "text/plain": "'44'"
       },
       "metadata": {},
       "status": "ok"
      }
     },
     {
      "expression": "\", \".join(vessel_verbose_clean['VesselName'].unique())",
      "result": {
       "data": {
        "text/plain": "'puyallup, issaquah, kennewick, chelan, kitsap, samish, suquamish, walla walla, sealth, chetzemoka, salish, wenatchee, kittitas, yakima, chimacum, kaleetan, spokane, cathlamet, tacoma, tillikum, tokitae'"
       },
       "metadata": {},
       "status": "ok"
      }
     }
    ]
   },
   "source": [
    "**Vessel Verbose**\n",
    "\n",
    "- `{python} f\"{vessel_verbose_clean.shape[0]:,}\"` rows\n",
    "- `{python} f\"{vessel_verbose_clean.shape[1]:,}\"` columns\n",
    "- Vessels: `{python} \", \".join(vessel_verbose_clean['VesselName'].unique())`"
   ]
  },
  {
   "cell_type": "markdown",
   "metadata": {
    "user_expressions": [
     {
      "expression": "f\"{vessel_history_clean.shape[0]:,}\"",
      "result": {
       "data": {
        "text/plain": "'55,794'"
       },
       "metadata": {},
       "status": "ok"
      }
     },
     {
      "expression": "f\"{vessel_history_clean.shape[1]:,}\"",
      "result": {
       "data": {
        "text/plain": "'7'"
       },
       "metadata": {},
       "status": "ok"
      }
     }
    ]
   },
   "source": [
    "**Vessel History**\n",
    "\n",
    "- `{python} f\"{vessel_history_clean.shape[0]:,}\"` rows\n",
    "- `{python} f\"{vessel_history_clean.shape[1]:,}\"` columns"
   ]
  },
  {
   "cell_type": "code",
   "execution_count": 85,
   "metadata": {},
   "outputs": [
    {
     "data": {
      "image/png": "[encoded data removed]",
      "text/plain": [
       "<Figure size 640x480 with 1 Axes>"
      ]
     },
     "metadata": {},
     "output_type": "display_data"
    }
   ],
   "source": [
    "# | echo: false\n",
    "import matplotlib.pyplot as plt\n",
    "import matplotlib as mpl\n",
    "\n",
    "ax = (\n",
    "    vessel_history_clean.with_columns(\n",
    "        pl.col(\"Date\").dt.date().dt.month_start().alias(\"Month\"),\n",
    "    )\n",
    "    .group_by(\"Month\")\n",
    "    .agg(pl.col(\"Vessel\").count().alias(\"Trips\"))\n",
    "    .sort(\"Month\")\n",
    "    .to_pandas()\n",
    "    .plot(\n",
    "        x=\"Month\",\n",
    "        y=\"Trips\",\n",
    "        title=\"Trips by Month\",\n",
    "    )\n",
    ")\n",
    "\n",
    "ax.yaxis.set_major_formatter(mpl.ticker.StrMethodFormatter(\"{x:,.0f}\"))\n",
    "\n",
    "plt.show()"
   ]
  },
  {
   "cell_type": "raw",
   "metadata": {
    "vscode": {
     "languageId": "raw"
    }
   },
   "source": [
    ":::"
   ]
  },
  {
   "cell_type": "markdown",
   "metadata": {},
   "source": [
    "## Task 7 - publish notebook as Quarto document to Posit Connect"
   ]
  },
  {
   "cell_type": "markdown",
   "metadata": {},
   "source": [
    "### 🔄 Task"
   ]
  },
  {
   "cell_type": "markdown",
   "metadata": {},
   "source": [
    "Deploy the notebook to Posit Connect as a Quarto document."
   ]
  },
  {
   "cell_type": "markdown",
   "metadata": {},
   "source": [
    "### 🧑‍💻 Code"
   ]
  },
  {
   "cell_type": "markdown",
   "metadata": {},
   "source": [
    "**Posit Publisher**\n",
    "\n",
    "Deploy using the Posit Publisher VS Code extension. Check that you have the required environment variables:\n",
    "\n",
    "```bash\n",
    "source .env\n",
    "echo $CONNECT_SERVER\n",
    "echo $CONNECT_API_KEY\n",
    "```"
   ]
  },
  {
   "cell_type": "markdown",
   "metadata": {},
   "source": [
    "**rsconnect CLI**\n",
    "\n",
    "Run the following to deploy the notebook to Connect:\n",
    "\n",
    "```bash\n",
    "# Check that you have the required environment variables set\n",
    "source .env\n",
    "echo $CONNECT_SERVER\n",
    "echo $CONNECT_API_KEY\n",
    "echo $DATABASE_URI_PYTHON\n",
    "\n",
    "# Publish the notebook\n",
    "rsconnect deploy quarto --title \"Seattle Ferries #2 - Data exploration and validation\" -E DATABASE_URI_PYTHON notebook.ipynb\n",
    "```\n",
    "\n",
    "After the deployment is successful:\n",
    "\n",
    "- Share the notebook with the person beside you.\n",
    "- Schedule the notebook to run once every week."
   ]
  },
  {
   "cell_type": "code",
   "execution_count": 86,
   "metadata": {
    "tags": []
   },
   "outputs": [
    {
     "name": "stdout",
     "output_type": "stream",
     "text": [
      "Notebook complete ✅\n"
     ]
    }
   ],
   "source": [
    "print(\"Notebook complete ✅\")"
   ]
  },
  {
   "cell_type": "code",
   "execution_count": null,
   "metadata": {},
   "outputs": [],
   "source": []
  }
 ],
 "metadata": {
  "kernelspec": {
   "display_name": "Python 3 (ipykernel)",
   "language": "python",
   "name": "python3",
   "path": "/home/samedwardes/.local/share/jupyter/kernels/python3"
  },
  "language_info": {
   "codemirror_mode": {
    "name": "ipython",
    "version": 3
   },
   "file_extension": ".py",
   "mimetype": "text/x-python",
   "name": "python",
   "nbconvert_exporter": "python",
   "pygments_lexer": "ipython3",
   "version": "3.12.3"
  }
 },
 "nbformat": 4,
 "nbformat_minor": 4
}
