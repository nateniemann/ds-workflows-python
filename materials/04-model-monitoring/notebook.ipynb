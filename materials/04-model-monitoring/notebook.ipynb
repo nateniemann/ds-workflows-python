{
 "cells": [
  {
   "cell_type": "raw",
   "metadata": {},
   "source": [
    "---\n",
    "date: today\n",
    "execute:\n",
    "    enabled: true\n",
    "format:\n",
    "    email:\n",
    "        toc: true\n",
    "---"
   ]
  },
  {
   "cell_type": "markdown",
   "metadata": {},
   "source": [
    "# Monitoring Dashboard\n",
    "\n",
    "## Task 1 - Creating a template dashboard\n",
    "\n",
    "### 🔄 Task\n",
    "\n",
    "Create and deploy a dashboard to monitor model performance over time. A template can be created using [vetiver.templates.monitoring_dash](https://rstudio.github.io/vetiver-python/stable/reference/templates.monitoring_dashboard.html).\n",
    "\n",
    "### 🧑‍💻 Code\n",
    "\n",
    "See [monitoring_dashboard.qmd](monitoring_dashboard.qmd)."
   ]
  },
  {
   "cell_type": "code",
   "execution_count": 1,
   "metadata": {},
   "outputs": [],
   "source": [
    "import vetiver\n",
    "\n",
    "# vetiver.templates.monitoring_dashboard()"
   ]
  }
 ],
 "metadata": {
  "kernelspec": {
   "display_name": ".venv",
   "language": "python",
   "name": "python3"
  },
  "language_info": {
   "codemirror_mode": {
    "name": "ipython",
    "version": 3
   },
   "file_extension": ".py",
   "mimetype": "text/x-python",
   "name": "python",
   "nbconvert_exporter": "python",
   "pygments_lexer": "ipython3",
   "version": "3.12.3"
  }
 },
 "nbformat": 4,
 "nbformat_minor": 2
}
