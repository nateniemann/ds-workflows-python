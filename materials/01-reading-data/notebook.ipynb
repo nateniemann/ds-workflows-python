{
 "cells": [
  {
   "cell_type": "markdown",
   "metadata": {},
   "source": [
    "# Reading data\n",
    "\n",
    "In this exercise we will cover how to use httpx and polars to read data from external data sources.\n",
    "\n",
    "There are two primary data sources we will use:\n",
    "\n",
    "1. Ferry data: https://wsdot.wa.gov/ (API documentation: https://www.wsdot.wa.gov/Ferries/API/Vessels/rest/help)\n",
    "2. Weather data: https://open-meteo.com/\n",
    "\n",
    "Specifically, there are 4 data sets we will focus on:\n",
    "\n",
    "**Vessel History**: <https://www.wsdot.wa.gov/Ferries/API/Vessels/rest/help/operations/GetVesselHistory>\n",
    "\n",
    "```\n",
    "https://www.wsdot.wa.gov/Ferries/API/Vessels/rest/vesselhistory?apiaccesscode={APIACCESSCODE}\n",
    "```\n",
    "\n",
    "**Terminal Locations**: <https://www.wsdot.wa.gov/Ferries/API/terminals/rest/help/operations/GetAllTerminalLocations>\n",
    "\n",
    "```\n",
    "https://www.wsdot.wa.gov/Ferries/API/Terminals/rest/terminallocations?apiaccesscode={APIACCESSCODE}\n",
    "```\n",
    "\n",
    "**Vessel Verbose**: <https://www.wsdot.wa.gov/ferries/api/vessels/rest/help/operations/GetAllVesselVerboseDetails>\n",
    "\n",
    "```\n",
    "https://www.wsdot.wa.gov/Ferries/API/Vessels/rest/vesselverbose?apiaccesscode={APIACCESSCODE}\n",
    "```\n",
    "\n",
    "**Weather data**: <https://open-meteo.com/en/docs/historical-weather-api#start_date=2022-12-01&end_date=2022-12-31&hourly=temperature_2m,precipitation,weather_code,wind_speed_10m,wind_direction_10m,wind_gusts_10m&timezone=America%2FLos_Angeles>\n",
    "\n",
    "```\n",
    "https://archive-api.open-meteo.com/v1/archive?latitude=47.623651&longitude=122.360291&start_date=2022-12-01&end_date=2022-12-31&hourly=temperature_2m,precipitation,weather_code,wind_speed_10m,wind_direction_10m,wind_gusts_10m&timezone=America%2FLos_Angeles\n",
    "```"
   ]
  },
  {
   "cell_type": "markdown",
   "metadata": {},
   "source": [
    "## Task 0 - Virtual Environments"
   ]
  },
  {
   "cell_type": "markdown",
   "metadata": {},
   "source": [
    "### 🔄 Task"
   ]
  },
  {
   "cell_type": "markdown",
   "metadata": {},
   "source": [
    "Before starting on reading the data, lets first spend a few minutes undrstanding and setting up virtual environments."
   ]
  },
  {
   "cell_type": "markdown",
   "metadata": {},
   "source": [
    "### 🧑‍💻 Code"
   ]
  },
  {
   "cell_type": "markdown",
   "metadata": {},
   "source": [
    "See [../06-bonus-stuff/virtual-environments-and-uv/README.md](../06-bonus-stuff/virtual-environments-and-uv/README.md)"
   ]
  },
  {
   "cell_type": "markdown",
   "metadata": {},
   "source": [
    "## Task 1 - read the vessel verbose data"
   ]
  },
  {
   "cell_type": "markdown",
   "metadata": {},
   "source": [
    "### 🔄 Task"
   ]
  },
  {
   "cell_type": "markdown",
   "metadata": {},
   "source": [
    "- Download the **Vessel Verbose** data\n",
    "- Convert the data into a polars dataframe"
   ]
  },
  {
   "cell_type": "markdown",
   "metadata": {},
   "source": [
    "### 🧑‍💻 Code"
   ]
  },
  {
   "cell_type": "markdown",
   "metadata": {},
   "source": [
    "The State of Washington data portal makes data available over an API. The API has lots of features, you can read more about how to use it here: <https://wsdot.wa.gov/traffic/api/>.\n",
    "\n",
    "To download the data, many persons first instinct is to download via:\n",
    "\n",
    "- clicking through your web browser, or\n",
    "- the curl command in the terminal.\n",
    "\n",
    "```bash\n",
    "WSDOT_ACCESS_CODE='xxxx-xxxx-xxxx-xxxx-xxxx'\n",
    "curl \"https://www.wsdot.wa.gov/Ferries/API/Vessels/rest/vesselverbose?apiaccesscode=${WSDOT_ACCESS_CODE}\"\n",
    "```\n",
    "\n",
    "There is a better way though! Using httpx we can download the data as JSON and then convert it into a Python dictionary. Then we use polars to create a DataFrame directly from the dictionary. First, lets download the data using httpx."
   ]
  },
  {
   "cell_type": "code",
   "execution_count": 1,
   "metadata": {
    "tags": []
   },
   "outputs": [],
   "source": [
    "import os\n",
    "from pathlib import Path\n",
    "\n",
    "import httpx\n",
    "from dotenv import load_dotenv"
   ]
  },
  {
   "cell_type": "code",
   "execution_count": 5,
   "metadata": {
    "tags": []
   },
   "outputs": [
    {
     "name": "stdout",
     "output_type": "stream",
     "text": [
      "Loading .env\n"
     ]
    }
   ],
   "source": [
    "# Get the API key from an environment variable.\n",
    "if Path(\".env\").exists():\n",
    "    print(\"Loading .env\")\n",
    "    load_dotenv(override=True)\n",
    "\n",
    "ws_dot_access_code = os.environ[\"WSDOT_ACCESS_CODE\"]"
   ]
  },
  {
   "cell_type": "code",
   "execution_count": 6,
   "metadata": {
    "tags": []
   },
   "outputs": [
    {
     "data": {
      "text/plain": [
       "'https://www.wsdot.wa.gov/Ferries/API/Vessels/rest'"
      ]
     },
     "execution_count": 6,
     "metadata": {},
     "output_type": "execute_result"
    }
   ],
   "source": [
    "base_url = \"https://www.wsdot.wa.gov/Ferries/API/Vessels/rest\"\n",
    "base_url"
   ]
  },
  {
   "cell_type": "code",
   "execution_count": 7,
   "metadata": {},
   "outputs": [
    {
     "data": {
      "text/plain": [
       "'vesselverbose'"
      ]
     },
     "execution_count": 7,
     "metadata": {},
     "output_type": "execute_result"
    }
   ],
   "source": [
    "path = \"vesselverbose\"\n",
    "path"
   ]
  },
  {
   "cell_type": "code",
   "execution_count": 8,
   "metadata": {},
   "outputs": [
    {
     "data": {
      "text/plain": [
       "{'apiaccesscode': '7fc01121-6cdc-40a5-b344-5bd1d5f8038f'}"
      ]
     },
     "execution_count": 8,
     "metadata": {},
     "output_type": "execute_result"
    }
   ],
   "source": [
    "# Define our params in a dictionary.\n",
    "params = {\"apiaccesscode\": ws_dot_access_code}\n",
    "params"
   ]
  },
  {
   "cell_type": "code",
   "execution_count": 9,
   "metadata": {
    "tags": []
   },
   "outputs": [
    {
     "data": {
      "text/plain": [
       "<Response [200 OK]>"
      ]
     },
     "execution_count": 9,
     "metadata": {},
     "output_type": "execute_result"
    }
   ],
   "source": [
    "with httpx.Client(base_url=base_url, params=params) as client:\n",
    "    response = client.get(path)\n",
    "\n",
    "response"
   ]
  },
  {
   "cell_type": "markdown",
   "metadata": {},
   "source": [
    "The `Response` object from httpx has several methods and attributes we can use to get more info about the request, and the response."
   ]
  },
  {
   "cell_type": "code",
   "execution_count": 10,
   "metadata": {
    "tags": []
   },
   "outputs": [
    {
     "data": {
      "text/plain": [
       "URL('https://www.wsdot.wa.gov/Ferries/API/Vessels/rest/vesselverbose?apiaccesscode=7fc01121-6cdc-40a5-b344-5bd1d5f8038f')"
      ]
     },
     "execution_count": 10,
     "metadata": {},
     "output_type": "execute_result"
    }
   ],
   "source": [
    "# The URL that was used to make the request.\n",
    "response.url"
   ]
  },
  {
   "cell_type": "code",
   "execution_count": 11,
   "metadata": {
    "tags": []
   },
   "outputs": [
    {
     "data": {
      "text/plain": [
       "200"
      ]
     },
     "execution_count": 11,
     "metadata": {},
     "output_type": "execute_result"
    }
   ],
   "source": [
    "# The status of the response\n",
    "response.status_code"
   ]
  },
  {
   "cell_type": "code",
   "execution_count": 12,
   "metadata": {
    "tags": []
   },
   "outputs": [
    {
     "data": {
      "text/plain": [
       "[{'VesselID': 1,\n",
       "  'VesselSubjectID': 1,\n",
       "  'VesselName': 'Cathlamet',\n",
       "  'VesselAbbrev': 'CAT',\n",
       "  'Class': {'ClassID': 10,\n",
       "   'ClassSubjectID': 310,\n",
       "   'ClassName': 'Issaquah 130',\n",
       "   'SortSeq': 40,\n",
       "   'DrawingImg': 'https://www.wsdot.wa.gov/ferries/images/pages/boat_drawings/4-issaquah130.gif',\n",
       "   'SilhouetteImg': 'https://www.wsdot.wa.gov/ferries/images/pages/boat_drawings/4-issaquah130-sillouette_sml.gif',\n",
       "   'PublicDisplayName': 'Issaquah'},\n",
       "  'Status': 1,\n",
       "  'OwnedByWSF': True,\n",
       "  'CarDeckRestroom': True,\n",
       "  'CarDeckShelter': False,\n",
       "  'Elevator': True,\n",
       "  'ADAAccessible': True,\n",
       "  'MainCabinGalley': True,\n",
       "  'MainCabinRestroom': True,\n",
       "  'PublicWifi': False,\n",
       "  'ADAInfo': 'The MV Cathlamet has elevator access from the auto deck to the passenger deck. Notify a ticket seller if you are traveling by car and need to park near an elevator. The vessel has accessible restrooms located on both the main passenger deck and the auto deck. The main passenger deck also has vending and newspaper machines, and a galley. This vessel is equipped with our visual paging system. ',\n",
       "  'AdditionalInfo': ' ',\n",
       "  'VesselNameDesc': 'From the Kathlamet tribe, the Chinook  word calamet  meaning \"stone,\" was given to the tribe because its members lived along a rocky stretch of the Columbia River. A city also bears its name. \\r\\n\\r\\n',\n",
       "  'VesselHistory': ' ',\n",
       "  'Beam': '78\\' 8\"',\n",
       "  'CityBuilt': 'Seattle, WA',\n",
       "  'SpeedInKnots': 16,\n",
       "  'Draft': '16\\' 6\"',\n",
       "  'EngineCount': 2,\n",
       "  'Horsepower': 5000,\n",
       "  'Length': \"328'\",\n",
       "  'MaxPassengerCount': 1200,\n",
       "  'PassengerOnly': False,\n",
       "  'FastFerry': False,\n",
       "  'PropulsionInfo': 'DIESEL',\n",
       "  'TallDeckClearance': 186,\n",
       "  'RegDeckSpace': 124,\n",
       "  'TallDeckSpace': 26,\n",
       "  'Tonnage': 2477,\n",
       "  'Displacement': 3310,\n",
       "  'YearBuilt': 1981,\n",
       "  'YearRebuilt': 1993,\n",
       "  'VesselDrawingImg': None,\n",
       "  'SolasCertified': False,\n",
       "  'MaxPassengerCountForInternational': None},\n",
       " {'VesselID': 2,\n",
       "  'VesselSubjectID': 2,\n",
       "  'VesselName': 'Chelan',\n",
       "  'VesselAbbrev': 'CHE',\n",
       "  'Class': {'ClassID': 10,\n",
       "   'ClassSubjectID': 310,\n",
       "   'ClassName': 'Issaquah 130',\n",
       "   'SortSeq': 40,\n",
       "   'DrawingImg': 'https://www.wsdot.wa.gov/ferries/images/pages/boat_drawings/4-issaquah130.gif',\n",
       "   'SilhouetteImg': 'https://www.wsdot.wa.gov/ferries/images/pages/boat_drawings/4-issaquah130-sillouette_sml.gif',\n",
       "   'PublicDisplayName': 'Issaquah'},\n",
       "  'Status': 1,\n",
       "  'OwnedByWSF': True,\n",
       "  'CarDeckRestroom': True,\n",
       "  'CarDeckShelter': False,\n",
       "  'Elevator': True,\n",
       "  'ADAAccessible': True,\n",
       "  'MainCabinGalley': True,\n",
       "  'MainCabinRestroom': True,\n",
       "  'PublicWifi': False,\n",
       "  'ADAInfo': 'The MV Chelan has elevator access from the auto deck to the passenger deck. Notify a ticket seller if you are traveling by car and need to park near an elevator. The vessel has accessible restrooms located on both the main passenger deck and auto deck. The main passenger deck also has vending and newspaper machines and a galley. ',\n",
       "  'AdditionalInfo': ' ',\n",
       "  'VesselNameDesc': 'From the Chelan  language: Tsill-ane,  meaning \"deep water.\" The tribe lived along Lake Chelan, which is very deep. A city, county and river also bear the name. \\r\\n',\n",
       "  'VesselHistory': ' ',\n",
       "  'Beam': '78\\' 8\"',\n",
       "  'CityBuilt': 'Seattle, WA',\n",
       "  'SpeedInKnots': 16,\n",
       "  'Draft': '16\\' 9\"',\n",
       "  'EngineCount': 2,\n",
       "  'Horsepower': 5000,\n",
       "  'Length': \"328'\",\n",
       "  'MaxPassengerCount': 1200,\n",
       "  'PassengerOnly': False,\n",
       "  'FastFerry': False,\n",
       "  'PropulsionInfo': 'DIESEL',\n",
       "  'TallDeckClearance': 188,\n",
       "  'RegDeckSpace': 124,\n",
       "  'TallDeckSpace': 30,\n",
       "  'Tonnage': 2477,\n",
       "  'Displacement': 3405,\n",
       "  'YearBuilt': 1981,\n",
       "  'YearRebuilt': 2005,\n",
       "  'VesselDrawingImg': None,\n",
       "  'SolasCertified': True,\n",
       "  'MaxPassengerCountForInternational': 1090},\n",
       " {'VesselID': 65,\n",
       "  'VesselSubjectID': 428,\n",
       "  'VesselName': 'Chetzemoka',\n",
       "  'VesselAbbrev': 'CHZ',\n",
       "  'Class': {'ClassID': 162,\n",
       "   'ClassSubjectID': 427,\n",
       "   'ClassName': 'Kwa-di Tabil',\n",
       "   'SortSeq': 75,\n",
       "   'DrawingImg': 'https://www.wsdot.wa.gov/ferries/images/pages/boat_drawings/13-kwaditabil.gif',\n",
       "   'SilhouetteImg': 'https://www.wsdot.wa.gov/ferries/images/pages/boat_drawings/13-kwaditabil-silouette_sml.gif',\n",
       "   'PublicDisplayName': 'Kwa-di Tabil'},\n",
       "  'Status': 1,\n",
       "  'OwnedByWSF': True,\n",
       "  'CarDeckRestroom': False,\n",
       "  'CarDeckShelter': False,\n",
       "  'Elevator': True,\n",
       "  'ADAAccessible': True,\n",
       "  'MainCabinGalley': True,\n",
       "  'MainCabinRestroom': True,\n",
       "  'PublicWifi': False,\n",
       "  'ADAInfo': 'MV Chetzemoka has elevator access from the auto deck to all passenger deck levels. In the event of an elevator closure, a crew member can assist passengers with mobility disabilities to the passenger deck by way of a small freight elevator, though it is not ADA accessible. When you arrive at the terminal, notify the ticket seller if you need to park near the elevator. The main passenger deck has accessible restrooms, vending machines, and a galley.',\n",
       "  'AdditionalInfo': None,\n",
       "  'VesselNameDesc': \"The name honors a friendly Native American Chief of the S'Klallam Tribe near the Port Townsend area who died in 1888.\",\n",
       "  'VesselHistory': None,\n",
       "  'Beam': \"64'\",\n",
       "  'CityBuilt': 'Seattle',\n",
       "  'SpeedInKnots': 15,\n",
       "  'Draft': \"11'\",\n",
       "  'EngineCount': 2,\n",
       "  'Horsepower': 6000,\n",
       "  'Length': '273\\' 8\"',\n",
       "  'MaxPassengerCount': 748,\n",
       "  'PassengerOnly': False,\n",
       "  'FastFerry': False,\n",
       "  'PropulsionInfo': 'DIESEL',\n",
       "  'TallDeckClearance': 192,\n",
       "  'RegDeckSpace': 64,\n",
       "  'TallDeckSpace': 9,\n",
       "  'Tonnage': 4623,\n",
       "  'Displacement': 2415,\n",
       "  'YearBuilt': 2010,\n",
       "  'YearRebuilt': None,\n",
       "  'VesselDrawingImg': None,\n",
       "  'SolasCertified': False,\n",
       "  'MaxPassengerCountForInternational': None},\n",
       " {'VesselID': 74,\n",
       "  'VesselSubjectID': 487,\n",
       "  'VesselName': 'Chimacum',\n",
       "  'VesselAbbrev': 'CHM',\n",
       "  'Class': {'ClassID': 100,\n",
       "   'ClassSubjectID': 319,\n",
       "   'ClassName': 'Olympic',\n",
       "   'SortSeq': 35,\n",
       "   'DrawingImg': 'https://www.wsdot.wa.gov/ferries/images/pages/boat_drawings/8-olympic-2014.gif',\n",
       "   'SilhouetteImg': 'https://www.wsdot.wa.gov/ferries/images/pages/boat_drawings/3-issaquah-sillouette_sml.gif',\n",
       "   'PublicDisplayName': 'Olympic'},\n",
       "  'Status': 1,\n",
       "  'OwnedByWSF': True,\n",
       "  'CarDeckRestroom': True,\n",
       "  'CarDeckShelter': True,\n",
       "  'Elevator': True,\n",
       "  'ADAAccessible': True,\n",
       "  'MainCabinGalley': True,\n",
       "  'MainCabinRestroom': True,\n",
       "  'PublicWifi': False,\n",
       "  'ADAInfo': 'The vessel has two ADA compliant elevators and wide staircases that provide access from both car decks to both passenger decks. The main passenger deck and the sun deck have accessible restrooms and there are 12 wheelchair spaces available in the main passenger cabin. There is a galley, and vending and newspaper machines on the main passenger deck. This vessel is equipped with our visual paging system. Notify ticket seller if you are traveling by car and need to park near an elevator.',\n",
       "  'AdditionalInfo': None,\n",
       "  'VesselNameDesc': '“The Chimacum People who spoke the Chimaquan dialect, inhabited the area of the Quimper Peninsula, in Washington State, which includes Port Hadlock and Port Townsend. The modern area of Chimacum, Washington, is named after the Tribe.”',\n",
       "  'VesselHistory': 'Chimacum is the third of the 144-car, Olympic Class ferries scheduled to begin service in June 2017.',\n",
       "  'Beam': '83\\' 2\"',\n",
       "  'CityBuilt': 'Seattle, WA',\n",
       "  'SpeedInKnots': 17,\n",
       "  'Draft': \"18'\",\n",
       "  'EngineCount': 2,\n",
       "  'Horsepower': 6000,\n",
       "  'Length': '362\\' 3\"',\n",
       "  'MaxPassengerCount': 1500,\n",
       "  'PassengerOnly': False,\n",
       "  'FastFerry': False,\n",
       "  'PropulsionInfo': 'DIESEL',\n",
       "  'TallDeckClearance': 192,\n",
       "  'RegDeckSpace': 144,\n",
       "  'TallDeckSpace': 34,\n",
       "  'Tonnage': 3525,\n",
       "  'Displacement': 4384,\n",
       "  'YearBuilt': 2017,\n",
       "  'YearRebuilt': None,\n",
       "  'VesselDrawingImg': None,\n",
       "  'SolasCertified': False,\n",
       "  'MaxPassengerCountForInternational': None},\n",
       " {'VesselID': 15,\n",
       "  'VesselSubjectID': 15,\n",
       "  'VesselName': 'Issaquah',\n",
       "  'VesselAbbrev': 'ISS',\n",
       "  'Class': {'ClassID': 10,\n",
       "   'ClassSubjectID': 310,\n",
       "   'ClassName': 'Issaquah 130',\n",
       "   'SortSeq': 40,\n",
       "   'DrawingImg': 'https://www.wsdot.wa.gov/ferries/images/pages/boat_drawings/4-issaquah130.gif',\n",
       "   'SilhouetteImg': 'https://www.wsdot.wa.gov/ferries/images/pages/boat_drawings/4-issaquah130-sillouette_sml.gif',\n",
       "   'PublicDisplayName': 'Issaquah'},\n",
       "  'Status': 1,\n",
       "  'OwnedByWSF': True,\n",
       "  'CarDeckRestroom': True,\n",
       "  'CarDeckShelter': False,\n",
       "  'Elevator': True,\n",
       "  'ADAAccessible': True,\n",
       "  'MainCabinGalley': True,\n",
       "  'MainCabinRestroom': True,\n",
       "  'PublicWifi': False,\n",
       "  'ADAInfo': 'The MV Issaquah has elevator access from the auto deck to the passenger deck. Notify a ticket seller if you are traveling by car and need to park near an elevator. The vessel has accessible restrooms located on both the main passenger deck and the auto deck. The main passenger deck also has vending and newspaper machines. Dining areas have a minimum 32\" clearance, food service counters are 34\" from the floor and tables have specific wheelchair areas.',\n",
       "  'AdditionalInfo': ' ',\n",
       "  'VesselNameDesc': '\"Snake.\" Native Americans who traveled around the Issaquah region called it Sqwak because of the squawking sounds of the birds. The natives habitually said \"ish\" before words, forming the word \"isquowh,\" which when spelled by settlers became Issaquah. \\r\\n',\n",
       "  'VesselHistory': ' ',\n",
       "  'Beam': '78\\' 8\"',\n",
       "  'CityBuilt': 'Seattle, WA',\n",
       "  'SpeedInKnots': 16,\n",
       "  'Draft': '16\\' 6\"',\n",
       "  'EngineCount': 2,\n",
       "  'Horsepower': 5000,\n",
       "  'Length': \"328'\",\n",
       "  'MaxPassengerCount': 1200,\n",
       "  'PassengerOnly': False,\n",
       "  'FastFerry': False,\n",
       "  'PropulsionInfo': 'DIESEL',\n",
       "  'TallDeckClearance': 188,\n",
       "  'RegDeckSpace': 124,\n",
       "  'TallDeckSpace': 26,\n",
       "  'Tonnage': 2475,\n",
       "  'Displacement': 3310,\n",
       "  'YearBuilt': 1979,\n",
       "  'YearRebuilt': 1989,\n",
       "  'VesselDrawingImg': None,\n",
       "  'SolasCertified': False,\n",
       "  'MaxPassengerCountForInternational': None},\n",
       " {'VesselID': 17,\n",
       "  'VesselSubjectID': 17,\n",
       "  'VesselName': 'Kaleetan',\n",
       "  'VesselAbbrev': 'KAL',\n",
       "  'Class': {'ClassID': 50,\n",
       "   'ClassSubjectID': 314,\n",
       "   'ClassName': 'Super',\n",
       "   'SortSeq': 30,\n",
       "   'DrawingImg': 'https://www.wsdot.wa.gov/ferries/images/pages/boat_drawings/2-super.gif',\n",
       "   'SilhouetteImg': 'https://www.wsdot.wa.gov/ferries/images/pages/boat_drawings/2-super-sillouette_sml.gif',\n",
       "   'PublicDisplayName': 'Super'},\n",
       "  'Status': 1,\n",
       "  'OwnedByWSF': True,\n",
       "  'CarDeckRestroom': True,\n",
       "  'CarDeckShelter': True,\n",
       "  'Elevator': True,\n",
       "  'ADAAccessible': True,\n",
       "  'MainCabinGalley': True,\n",
       "  'MainCabinRestroom': True,\n",
       "  'PublicWifi': False,\n",
       "  'ADAInfo': 'The MV Kaleetan has an elevator from both auto deck levels to the main passenger cabin and the upper level passenger deck. Restrooms are accessible on both passenger decks and the lower auto deck. There are limited vending and newspaper machines on the main deck, and a galley on the upper passenger deck. When you arrive at the terminal, notify the ticket seller if you need to park near the elevator.  This vessel is equipped with our visual paging system.',\n",
       "  'AdditionalInfo': ' ',\n",
       "  'VesselNameDesc': 'Native American/Chinook: \"arrow.\" ',\n",
       "  'VesselHistory': ' ',\n",
       "  'Beam': '73\\' 2\"',\n",
       "  'CityBuilt': 'San Diego, CA',\n",
       "  'SpeedInKnots': 17,\n",
       "  'Draft': '18\\' 6\"',\n",
       "  'EngineCount': 4,\n",
       "  'Horsepower': 8000,\n",
       "  'Length': '382\\' 2\"',\n",
       "  'MaxPassengerCount': 1868,\n",
       "  'PassengerOnly': False,\n",
       "  'FastFerry': False,\n",
       "  'PropulsionInfo': 'DIESEL-ELECTRIC (DC)',\n",
       "  'TallDeckClearance': 173,\n",
       "  'RegDeckSpace': 144,\n",
       "  'TallDeckSpace': 30,\n",
       "  'Tonnage': 2704,\n",
       "  'Displacement': 3634,\n",
       "  'YearBuilt': 1967,\n",
       "  'YearRebuilt': 1999,\n",
       "  'VesselDrawingImg': None,\n",
       "  'SolasCertified': False,\n",
       "  'MaxPassengerCountForInternational': None},\n",
       " {'VesselID': 52,\n",
       "  'VesselSubjectID': 52,\n",
       "  'VesselName': 'Kennewick',\n",
       "  'VesselAbbrev': 'KEN',\n",
       "  'Class': {'ClassID': 162,\n",
       "   'ClassSubjectID': 427,\n",
       "   'ClassName': 'Kwa-di Tabil',\n",
       "   'SortSeq': 75,\n",
       "   'DrawingImg': 'https://www.wsdot.wa.gov/ferries/images/pages/boat_drawings/13-kwaditabil.gif',\n",
       "   'SilhouetteImg': 'https://www.wsdot.wa.gov/ferries/images/pages/boat_drawings/13-kwaditabil-silouette_sml.gif',\n",
       "   'PublicDisplayName': 'Kwa-di Tabil'},\n",
       "  'Status': 1,\n",
       "  'OwnedByWSF': True,\n",
       "  'CarDeckRestroom': False,\n",
       "  'CarDeckShelter': False,\n",
       "  'Elevator': True,\n",
       "  'ADAAccessible': True,\n",
       "  'MainCabinGalley': True,\n",
       "  'MainCabinRestroom': True,\n",
       "  'PublicWifi': False,\n",
       "  'ADAInfo': 'MV Kennewick has elevator access from the auto deck to all passenger deck levels. In the event of an elevator closure, a crew member can assist passengers with mobility disabilities to the passenger deck by way of a small freight elevator, though it is not ADA accessible. When you arrive at the terminal, notify the ticket seller if you need to park near the elevator. The main passenger deck has accessible restrooms, vending machines, and a galley.',\n",
       "  'AdditionalInfo': None,\n",
       "  'VesselNameDesc': 'Kennewick –Sah-ap-tin, Plains dialect: “winter paradise; winter haven; grassy place; grassy slope”',\n",
       "  'VesselHistory': None,\n",
       "  'Beam': \"64'\",\n",
       "  'CityBuilt': 'Seattle',\n",
       "  'SpeedInKnots': 15,\n",
       "  'Draft': \"11'\",\n",
       "  'EngineCount': 2,\n",
       "  'Horsepower': 6000,\n",
       "  'Length': '273\\' 8\"',\n",
       "  'MaxPassengerCount': 748,\n",
       "  'PassengerOnly': False,\n",
       "  'FastFerry': False,\n",
       "  'PropulsionInfo': 'DIESEL',\n",
       "  'TallDeckClearance': 192,\n",
       "  'RegDeckSpace': 64,\n",
       "  'TallDeckSpace': 9,\n",
       "  'Tonnage': 4623,\n",
       "  'Displacement': 2415,\n",
       "  'YearBuilt': 2011,\n",
       "  'YearRebuilt': None,\n",
       "  'VesselDrawingImg': None,\n",
       "  'SolasCertified': False,\n",
       "  'MaxPassengerCountForInternational': None},\n",
       " {'VesselID': 18,\n",
       "  'VesselSubjectID': 18,\n",
       "  'VesselName': 'Kitsap',\n",
       "  'VesselAbbrev': 'KIS',\n",
       "  'Class': {'ClassID': 10,\n",
       "   'ClassSubjectID': 310,\n",
       "   'ClassName': 'Issaquah 130',\n",
       "   'SortSeq': 40,\n",
       "   'DrawingImg': 'https://www.wsdot.wa.gov/ferries/images/pages/boat_drawings/4-issaquah130.gif',\n",
       "   'SilhouetteImg': 'https://www.wsdot.wa.gov/ferries/images/pages/boat_drawings/4-issaquah130-sillouette_sml.gif',\n",
       "   'PublicDisplayName': 'Issaquah'},\n",
       "  'Status': 1,\n",
       "  'OwnedByWSF': True,\n",
       "  'CarDeckRestroom': True,\n",
       "  'CarDeckShelter': False,\n",
       "  'Elevator': True,\n",
       "  'ADAAccessible': True,\n",
       "  'MainCabinGalley': True,\n",
       "  'MainCabinRestroom': True,\n",
       "  'PublicWifi': False,\n",
       "  'ADAInfo': 'The MV Kitsap has elevator access from the auto deck to the passenger deck. Notify a ticket seller if you are traveling by car and need to park near an elevator. The vessel has accessible restrooms located on both the main passenger deck and the auto deck. The main passenger deck also has vending and newspaper machines, and a galley. This vessel is equipped with our visual paging system.',\n",
       "  'AdditionalInfo': ' ',\n",
       "  'VesselNameDesc': \"A Suquamish tribal Chief in the 1800's. A county is also named after him. \\r\\n\",\n",
       "  'VesselHistory': ' ',\n",
       "  'Beam': '78\\' 8\"',\n",
       "  'CityBuilt': 'Seattle, WA',\n",
       "  'SpeedInKnots': 16,\n",
       "  'Draft': '16\\' 6\"',\n",
       "  'EngineCount': 2,\n",
       "  'Horsepower': 5000,\n",
       "  'Length': \"328'\",\n",
       "  'MaxPassengerCount': 1200,\n",
       "  'PassengerOnly': False,\n",
       "  'FastFerry': False,\n",
       "  'PropulsionInfo': 'DIESEL',\n",
       "  'TallDeckClearance': 186,\n",
       "  'RegDeckSpace': 124,\n",
       "  'TallDeckSpace': 26,\n",
       "  'Tonnage': 2475,\n",
       "  'Displacement': 3310,\n",
       "  'YearBuilt': 1980,\n",
       "  'YearRebuilt': 1992,\n",
       "  'VesselDrawingImg': None,\n",
       "  'SolasCertified': False,\n",
       "  'MaxPassengerCountForInternational': None},\n",
       " {'VesselID': 19,\n",
       "  'VesselSubjectID': 19,\n",
       "  'VesselName': 'Kittitas',\n",
       "  'VesselAbbrev': 'KIT',\n",
       "  'Class': {'ClassID': 10,\n",
       "   'ClassSubjectID': 310,\n",
       "   'ClassName': 'Issaquah 130',\n",
       "   'SortSeq': 40,\n",
       "   'DrawingImg': 'https://www.wsdot.wa.gov/ferries/images/pages/boat_drawings/4-issaquah130.gif',\n",
       "   'SilhouetteImg': 'https://www.wsdot.wa.gov/ferries/images/pages/boat_drawings/4-issaquah130-sillouette_sml.gif',\n",
       "   'PublicDisplayName': 'Issaquah'},\n",
       "  'Status': 1,\n",
       "  'OwnedByWSF': True,\n",
       "  'CarDeckRestroom': True,\n",
       "  'CarDeckShelter': False,\n",
       "  'Elevator': True,\n",
       "  'ADAAccessible': True,\n",
       "  'MainCabinGalley': True,\n",
       "  'MainCabinRestroom': True,\n",
       "  'PublicWifi': False,\n",
       "  'ADAInfo': 'The MV Kittitas has elevator access from the auto deck to the passenger deck. Notify a ticket seller if you are traveling by car and need to park near an elevator. The vessel has accessible restrooms located on both the main passenger deck and the auto deck. The main passenger deck also has vending and newspaper machines, and a galley. This vessel is equipped with our visual paging system. ',\n",
       "  'AdditionalInfo': ' ',\n",
       "  'VesselNameDesc': 'Tribe of \"shoal people\" who lived along the shallow portion of the Yakima River near Ellensburg. A county and town are also named after the tribe. \\r\\n',\n",
       "  'VesselHistory': ' ',\n",
       "  'Beam': '78\\' 8\"',\n",
       "  'CityBuilt': 'Seattle, WA',\n",
       "  'SpeedInKnots': 16,\n",
       "  'Draft': '16\\' 6\"',\n",
       "  'EngineCount': 2,\n",
       "  'Horsepower': 5000,\n",
       "  'Length': \"328'\",\n",
       "  'MaxPassengerCount': 1200,\n",
       "  'PassengerOnly': False,\n",
       "  'FastFerry': False,\n",
       "  'PropulsionInfo': 'DIESEL',\n",
       "  'TallDeckClearance': 190,\n",
       "  'RegDeckSpace': 124,\n",
       "  'TallDeckSpace': 26,\n",
       "  'Tonnage': 2475,\n",
       "  'Displacement': 3310,\n",
       "  'YearBuilt': 1980,\n",
       "  'YearRebuilt': 1990,\n",
       "  'VesselDrawingImg': None,\n",
       "  'SolasCertified': False,\n",
       "  'MaxPassengerCountForInternational': None},\n",
       " {'VesselID': 25,\n",
       "  'VesselSubjectID': 25,\n",
       "  'VesselName': 'Puyallup',\n",
       "  'VesselAbbrev': 'PUY',\n",
       "  'Class': {'ClassID': 90,\n",
       "   'ClassSubjectID': 318,\n",
       "   'ClassName': 'Jumbo Mark II',\n",
       "   'SortSeq': 10,\n",
       "   'DrawingImg': 'https://www.wsdot.wa.gov/ferries/images/pages/boat_drawings/0-mark2.gif',\n",
       "   'SilhouetteImg': 'https://www.wsdot.wa.gov/ferries/images/pages/boat_drawings/0-mark2-sillouette_sml.gif',\n",
       "   'PublicDisplayName': 'Jumbo Mark II'},\n",
       "  'Status': 1,\n",
       "  'OwnedByWSF': True,\n",
       "  'CarDeckRestroom': False,\n",
       "  'CarDeckShelter': False,\n",
       "  'Elevator': True,\n",
       "  'ADAAccessible': True,\n",
       "  'MainCabinGalley': True,\n",
       "  'MainCabinRestroom': True,\n",
       "  'PublicWifi': False,\n",
       "  'ADAInfo': 'The MV Puyallup has elevator access from both auto deck levels to all of the passenger cabin areas.  Accessible restrooms are on the main passenger deck and on the sun deck. If you are traveling by car and want to park near the elevator, be sure to let the ticket seller know. The main passenger deck also has vending and newspaper machines and a galley. This vessel is equipped with our visual paging system.',\n",
       "  'AdditionalInfo': '28 December 1998\\r\\nTodd Pacific Shipyards Corporation\\r\\n1801 16th Ave. SW\\r\\nSeattle, WA  98134\\r\\nRe:\\tContract No. 00-4464, Jumbo Mark II Construction\\r\\nAttn:\\tBruce Adams, Program Manager\\r\\nRef:\\tM/V PUYALLUP DELIVERY\\r\\nThis letter is to document Delivery of the M/V PUYALLUP from Todd Pacific Shipyards Corporation (Todd) to the Washington State Ferries (WSF) at 0900, on 28 December 1998, alongside Todd’s Pier 1, Berth B, establishing the Delivery Date and the Substantial Completion Date as 28 December 1998.\\r\\n',\n",
       "  'VesselNameDesc': 'From the Puyallup language: \"generous people.\" The Puyallup tribe had a reputation for generosity in dealing with traders and travelers. Early settler Ezra Meeker renamed his town from Franklin in 1877 looking for something unique. Besides the tribe and town, Puyallup is also used on a river and a Mt. Rainier glacier. \\r\\n',\n",
       "  'VesselHistory': 'Todd Shipyard Delivery Date: 23 December 1998\\r\\nKeel Laid Date: 29 August 1997\\r\\n\\r\\n',\n",
       "  'Beam': \"90'\",\n",
       "  'CityBuilt': 'Seattle, WA',\n",
       "  'SpeedInKnots': 18,\n",
       "  'Draft': '17\\' 3\"',\n",
       "  'EngineCount': 4,\n",
       "  'Horsepower': 16000,\n",
       "  'Length': '460\\' 2\"',\n",
       "  'MaxPassengerCount': 2499,\n",
       "  'PassengerOnly': False,\n",
       "  'FastFerry': False,\n",
       "  'PropulsionInfo': 'DIESEL-ELECTRIC (AC)',\n",
       "  'TallDeckClearance': 186,\n",
       "  'RegDeckSpace': 202,\n",
       "  'TallDeckSpace': 60,\n",
       "  'Tonnage': 4938,\n",
       "  'Displacement': 6184,\n",
       "  'YearBuilt': 1999,\n",
       "  'YearRebuilt': None,\n",
       "  'VesselDrawingImg': None,\n",
       "  'SolasCertified': False,\n",
       "  'MaxPassengerCountForInternational': None},\n",
       " {'VesselID': 66,\n",
       "  'VesselSubjectID': 429,\n",
       "  'VesselName': 'Salish',\n",
       "  'VesselAbbrev': 'SAL',\n",
       "  'Class': {'ClassID': 162,\n",
       "   'ClassSubjectID': 427,\n",
       "   'ClassName': 'Kwa-di Tabil',\n",
       "   'SortSeq': 75,\n",
       "   'DrawingImg': 'https://www.wsdot.wa.gov/ferries/images/pages/boat_drawings/13-kwaditabil.gif',\n",
       "   'SilhouetteImg': 'https://www.wsdot.wa.gov/ferries/images/pages/boat_drawings/13-kwaditabil-silouette_sml.gif',\n",
       "   'PublicDisplayName': 'Kwa-di Tabil'},\n",
       "  'Status': 1,\n",
       "  'OwnedByWSF': True,\n",
       "  'CarDeckRestroom': False,\n",
       "  'CarDeckShelter': False,\n",
       "  'Elevator': True,\n",
       "  'ADAAccessible': True,\n",
       "  'MainCabinGalley': True,\n",
       "  'MainCabinRestroom': True,\n",
       "  'PublicWifi': False,\n",
       "  'ADAInfo': 'MV Salish has elevator access from the auto deck to all passenger deck levels. In the event of an elevator closure, a crew member can assist passengers with mobility disabilities to the passenger deck by way of a small freight elevator, though it is not ADA accessible. When you arrive at the terminal, notify the ticket seller if you need to park near the elevator. The main passenger deck has accessible restrooms, vending machines, and a galley.',\n",
       "  'AdditionalInfo': None,\n",
       "  'VesselNameDesc': 'Salish – From Salishan/ a group of people in the Northwestern United States and Lower Mainland Canada who speak a common language.',\n",
       "  'VesselHistory': None,\n",
       "  'Beam': \"64'\",\n",
       "  'CityBuilt': 'Seattle',\n",
       "  'SpeedInKnots': 15,\n",
       "  'Draft': \"11'\",\n",
       "  'EngineCount': 2,\n",
       "  'Horsepower': 6000,\n",
       "  'Length': '273\\' 8\"',\n",
       "  'MaxPassengerCount': 748,\n",
       "  'PassengerOnly': False,\n",
       "  'FastFerry': False,\n",
       "  'PropulsionInfo': 'DIESEL',\n",
       "  'TallDeckClearance': 192,\n",
       "  'RegDeckSpace': 64,\n",
       "  'TallDeckSpace': 9,\n",
       "  'Tonnage': 4623,\n",
       "  'Displacement': 2415,\n",
       "  'YearBuilt': 2011,\n",
       "  'YearRebuilt': None,\n",
       "  'VesselDrawingImg': None,\n",
       "  'SolasCertified': False,\n",
       "  'MaxPassengerCountForInternational': None},\n",
       " {'VesselID': 69,\n",
       "  'VesselSubjectID': 463,\n",
       "  'VesselName': 'Samish',\n",
       "  'VesselAbbrev': 'SAM',\n",
       "  'Class': {'ClassID': 100,\n",
       "   'ClassSubjectID': 319,\n",
       "   'ClassName': 'Olympic',\n",
       "   'SortSeq': 35,\n",
       "   'DrawingImg': 'https://www.wsdot.wa.gov/ferries/images/pages/boat_drawings/8-olympic-2014.gif',\n",
       "   'SilhouetteImg': 'https://www.wsdot.wa.gov/ferries/images/pages/boat_drawings/3-issaquah-sillouette_sml.gif',\n",
       "   'PublicDisplayName': 'Olympic'},\n",
       "  'Status': 1,\n",
       "  'OwnedByWSF': True,\n",
       "  'CarDeckRestroom': True,\n",
       "  'CarDeckShelter': True,\n",
       "  'Elevator': True,\n",
       "  'ADAAccessible': True,\n",
       "  'MainCabinGalley': True,\n",
       "  'MainCabinRestroom': True,\n",
       "  'PublicWifi': False,\n",
       "  'ADAInfo': 'The vessel has two ADA compliant elevators and wide staircases that provide access from both car decks to both passenger decks. The main passenger deck and the sun deck have accessible restrooms and there are 12 wheelchair spaces available in the main passenger cabin. There is a galley and vending and newspaper machines on the main passenger deck. This vessel is equipped with our visual paging system. Notify ticket seller if you are traveling by car and need to park near an elevator.',\n",
       "  'AdditionalInfo': None,\n",
       "  'VesselNameDesc': 'From the Samish Nation, \"The Giving People\"',\n",
       "  'VesselHistory': 'Samish is the second of the 144-car, Olympic class ferries beginning service in June 2015. ',\n",
       "  'Beam': '83\\' 2\"',\n",
       "  'CityBuilt': 'Seattle, WA',\n",
       "  'SpeedInKnots': 17,\n",
       "  'Draft': \"18'\",\n",
       "  'EngineCount': 2,\n",
       "  'Horsepower': 6000,\n",
       "  'Length': '362\\' 3\"',\n",
       "  'MaxPassengerCount': 1500,\n",
       "  'PassengerOnly': False,\n",
       "  'FastFerry': False,\n",
       "  'PropulsionInfo': 'DIESEL',\n",
       "  'TallDeckClearance': 192,\n",
       "  'RegDeckSpace': 144,\n",
       "  'TallDeckSpace': 34,\n",
       "  'Tonnage': 3525,\n",
       "  'Displacement': 4384,\n",
       "  'YearBuilt': 2015,\n",
       "  'YearRebuilt': None,\n",
       "  'VesselDrawingImg': None,\n",
       "  'SolasCertified': False,\n",
       "  'MaxPassengerCountForInternational': None},\n",
       " {'VesselID': 28,\n",
       "  'VesselSubjectID': 28,\n",
       "  'VesselName': 'Sealth',\n",
       "  'VesselAbbrev': 'SEA',\n",
       "  'Class': {'ClassID': 60,\n",
       "   'ClassSubjectID': 315,\n",
       "   'ClassName': 'Issaquah',\n",
       "   'SortSeq': 50,\n",
       "   'DrawingImg': 'https://www.wsdot.wa.gov/ferries/images/pages/boat_drawings/3-issaquah.gif',\n",
       "   'SilhouetteImg': 'https://www.wsdot.wa.gov/ferries/images/pages/boat_drawings/3-issaquah-sillouette_sml.gif',\n",
       "   'PublicDisplayName': 'Issaquah'},\n",
       "  'Status': 1,\n",
       "  'OwnedByWSF': True,\n",
       "  'CarDeckRestroom': False,\n",
       "  'CarDeckShelter': False,\n",
       "  'Elevator': True,\n",
       "  'ADAAccessible': True,\n",
       "  'MainCabinGalley': False,\n",
       "  'MainCabinRestroom': True,\n",
       "  'PublicWifi': False,\n",
       "  'ADAInfo': 'The MV Sealth has elevator access from the auto deck to the passenger deck. Notify a ticket seller if you are traveling by car and need to park near an elevator. The vessel has accessible restrooms located on the main passenger deck. The main passenger deck also has vending and newspaper machines and a galley. ',\n",
       "  'AdditionalInfo': ' ',\n",
       "  'VesselNameDesc': \"The Chief of the Duwamish and Suquamish tribes who befriended early settlers in the 1850-60's and signed the Point Elliot Treaty of 1855. \\r\\n\",\n",
       "  'VesselHistory': ' ',\n",
       "  'Beam': '78\\' 8\"',\n",
       "  'CityBuilt': 'Seattle, WA',\n",
       "  'SpeedInKnots': 16,\n",
       "  'Draft': '16\\' 6\"',\n",
       "  'EngineCount': 2,\n",
       "  'Horsepower': 5000,\n",
       "  'Length': \"328'\",\n",
       "  'MaxPassengerCount': 1200,\n",
       "  'PassengerOnly': False,\n",
       "  'FastFerry': False,\n",
       "  'PropulsionInfo': 'DIESEL',\n",
       "  'TallDeckClearance': 182,\n",
       "  'RegDeckSpace': 90,\n",
       "  'TallDeckSpace': 30,\n",
       "  'Tonnage': 2477,\n",
       "  'Displacement': 3310,\n",
       "  'YearBuilt': 1982,\n",
       "  'YearRebuilt': None,\n",
       "  'VesselDrawingImg': None,\n",
       "  'SolasCertified': False,\n",
       "  'MaxPassengerCountForInternational': None},\n",
       " {'VesselID': 30,\n",
       "  'VesselSubjectID': 30,\n",
       "  'VesselName': 'Spokane',\n",
       "  'VesselAbbrev': 'SPO',\n",
       "  'Class': {'ClassID': 70,\n",
       "   'ClassSubjectID': 316,\n",
       "   'ClassName': 'Jumbo',\n",
       "   'SortSeq': 20,\n",
       "   'DrawingImg': 'https://www.wsdot.wa.gov/ferries/images/pages/boat_drawings/1-jumbo.gif',\n",
       "   'SilhouetteImg': 'https://www.wsdot.wa.gov/ferries/images/pages/boat_drawings/1-jumbo-sillouette_sml.gif',\n",
       "   'PublicDisplayName': 'Jumbo'},\n",
       "  'Status': 1,\n",
       "  'OwnedByWSF': True,\n",
       "  'CarDeckRestroom': False,\n",
       "  'CarDeckShelter': False,\n",
       "  'Elevator': True,\n",
       "  'ADAAccessible': True,\n",
       "  'MainCabinGalley': True,\n",
       "  'MainCabinRestroom': True,\n",
       "  'PublicWifi': False,\n",
       "  'ADAInfo': 'The MV Spokane has elevator access from both auto deck levels to all of the passenger cabin areas.  Restrooms are on both the auto deck and the main passenger deck, but the auto deck restroom is not ADA compliant. If you are traveling by car and want to park near the elevator, be sure to let the ticket seller know. The main passenger deck also has vending and newspaper machines and a galley. This vessel is equipped with our visual paging system.',\n",
       "  'AdditionalInfo': ' ',\n",
       "  'VesselNameDesc': 'Eastern Washington Native American tribe: \"children of the sun or sun people.\" A city, county and river are also named after the tribe. \\r\\n',\n",
       "  'VesselHistory': ' ',\n",
       "  'Beam': \"87'\",\n",
       "  'CityBuilt': 'Seattle, WA',\n",
       "  'SpeedInKnots': 18,\n",
       "  'Draft': \"18'\",\n",
       "  'EngineCount': 4,\n",
       "  'Horsepower': 11500,\n",
       "  'Length': \"440'\",\n",
       "  'MaxPassengerCount': 2000,\n",
       "  'PassengerOnly': False,\n",
       "  'FastFerry': False,\n",
       "  'PropulsionInfo': 'DIESEL-ELECTRIC (DC)',\n",
       "  'TallDeckClearance': 188,\n",
       "  'RegDeckSpace': 188,\n",
       "  'TallDeckSpace': 60,\n",
       "  'Tonnage': 3246,\n",
       "  'Displacement': 4859,\n",
       "  'YearBuilt': 1972,\n",
       "  'YearRebuilt': 2004,\n",
       "  'VesselDrawingImg': None,\n",
       "  'SolasCertified': False,\n",
       "  'MaxPassengerCountForInternational': None},\n",
       " {'VesselID': 75,\n",
       "  'VesselSubjectID': 488,\n",
       "  'VesselName': 'Suquamish',\n",
       "  'VesselAbbrev': 'SUQ',\n",
       "  'Class': {'ClassID': 100,\n",
       "   'ClassSubjectID': 319,\n",
       "   'ClassName': 'Olympic',\n",
       "   'SortSeq': 35,\n",
       "   'DrawingImg': 'https://www.wsdot.wa.gov/ferries/images/pages/boat_drawings/8-olympic-2014.gif',\n",
       "   'SilhouetteImg': 'https://www.wsdot.wa.gov/ferries/images/pages/boat_drawings/3-issaquah-sillouette_sml.gif',\n",
       "   'PublicDisplayName': 'Olympic'},\n",
       "  'Status': 2,\n",
       "  'OwnedByWSF': True,\n",
       "  'CarDeckRestroom': True,\n",
       "  'CarDeckShelter': True,\n",
       "  'Elevator': True,\n",
       "  'ADAAccessible': True,\n",
       "  'MainCabinGalley': True,\n",
       "  'MainCabinRestroom': True,\n",
       "  'PublicWifi': False,\n",
       "  'ADAInfo': 'The vessel has two ADA compliant elevators and wide staircases that provide access from both car decks to both passenger decks. The main passenger deck and the sun deck have accessible restrooms and there are 12 wheelchair spaces available in the main passenger cabin. There is a galley, and vending and newspaper machines on the main passenger deck. This vessel is equipped with our visual paging system. Notify ticket seller if you are traveling by car and need to park near an elevator. ',\n",
       "  'AdditionalInfo': None,\n",
       "  'VesselNameDesc': 'The Suquamish are known as the \"people of the clear salt water\" in the Southern Coast Salish Lushootseed language. Suquamish is also the name of the beach in front of where the \"Old Man House\" once stood on Agate Passage in Kitsap County.',\n",
       "  'VesselHistory': 'Suquamish is the fourth of the 144 car Olympic Class ferries scheduled to begin service in October 2018',\n",
       "  'Beam': '83\\' 2\"',\n",
       "  'CityBuilt': 'Seattle, EA',\n",
       "  'SpeedInKnots': 17,\n",
       "  'Draft': \"18'\",\n",
       "  'EngineCount': 2,\n",
       "  'Horsepower': 6000,\n",
       "  'Length': '362\\' 3\"',\n",
       "  'MaxPassengerCount': 1500,\n",
       "  'PassengerOnly': False,\n",
       "  'FastFerry': False,\n",
       "  'PropulsionInfo': 'DIESEL',\n",
       "  'TallDeckClearance': 192,\n",
       "  'RegDeckSpace': 144,\n",
       "  'TallDeckSpace': 34,\n",
       "  'Tonnage': 3525,\n",
       "  'Displacement': 4384,\n",
       "  'YearBuilt': 2018,\n",
       "  'YearRebuilt': None,\n",
       "  'VesselDrawingImg': None,\n",
       "  'SolasCertified': False,\n",
       "  'MaxPassengerCountForInternational': None},\n",
       " {'VesselID': 32,\n",
       "  'VesselSubjectID': 32,\n",
       "  'VesselName': 'Tacoma',\n",
       "  'VesselAbbrev': 'TAC',\n",
       "  'Class': {'ClassID': 90,\n",
       "   'ClassSubjectID': 318,\n",
       "   'ClassName': 'Jumbo Mark II',\n",
       "   'SortSeq': 10,\n",
       "   'DrawingImg': 'https://www.wsdot.wa.gov/ferries/images/pages/boat_drawings/0-mark2.gif',\n",
       "   'SilhouetteImg': 'https://www.wsdot.wa.gov/ferries/images/pages/boat_drawings/0-mark2-sillouette_sml.gif',\n",
       "   'PublicDisplayName': 'Jumbo Mark II'},\n",
       "  'Status': 1,\n",
       "  'OwnedByWSF': True,\n",
       "  'CarDeckRestroom': False,\n",
       "  'CarDeckShelter': False,\n",
       "  'Elevator': True,\n",
       "  'ADAAccessible': True,\n",
       "  'MainCabinGalley': True,\n",
       "  'MainCabinRestroom': True,\n",
       "  'PublicWifi': False,\n",
       "  'ADAInfo': 'The MV Tacoma has elevator access from both auto deck levels to all of the passenger cabin areas.  Accessible restrooms, vending and newspaper machines and a galley are on the main passenger deck. Accessible restrooms are also available on the sun deck. If you are traveling by car and want to park near the elevator, be sure to let the ticket seller know.  This vessel is equipped with our visual paging system.',\n",
       "  'AdditionalInfo': 'Follow us on Twitter: @WSFerries for service updates and general information. \\r\\n18 August 1997\\r\\nTodd Pacific Shipyards Corporation\\r\\n1801 16th Ave. SW\\r\\nSeattle, WA 98134\\r\\nRe:\\tContract No. 00-4464, Jumbo Mark II Construction\\r\\nAttn:\\tT. S. Moynihan, Project Manager\\r\\nSubj:\\tM/V TACOMA DELIVERY\\r\\nThis is to document Delivery of the M/V TACOMA from Todd Shipyards Corporation (Todd) to the Washington State Ferry System (WSFS) effective 4:00 p.m., 18 August 1997 alongside Todd’s Pier 1, Berth B, establishing the Delivery Date and the Substantial Completion Date as 18 August 1997.\\r\\n',\n",
       "  'VesselNameDesc': 'From the native word Tah-ho-mah (now Mt. Rainier), meaning \"snowy mountain.\" Tacoma  was first attributed to the mountain in an 1860s book, \"The Canoe and the Saddle\"  by Theodore Winthrop, a popular volume on the early Pacific Northwest. The city picked the name over Commencement City  when the railroad made its terminius there in the 1870s. \\r\\n',\n",
       "  'VesselHistory': 'Todd Shipyard Delivery Date: 15 August 1997\\r\\nKeel Laid Date: 16 October 1995',\n",
       "  'Beam': \"90'\",\n",
       "  'CityBuilt': 'Seattle, WA',\n",
       "  'SpeedInKnots': 18,\n",
       "  'Draft': '17\\' 3\"',\n",
       "  'EngineCount': 4,\n",
       "  'Horsepower': 16000,\n",
       "  'Length': '460\\' 2\"',\n",
       "  'MaxPassengerCount': 2499,\n",
       "  'PassengerOnly': False,\n",
       "  'FastFerry': False,\n",
       "  'PropulsionInfo': 'DIESEL-ELECTRIC (AC)',\n",
       "  'TallDeckClearance': 186,\n",
       "  'RegDeckSpace': 202,\n",
       "  'TallDeckSpace': 60,\n",
       "  'Tonnage': 4938,\n",
       "  'Displacement': 6184,\n",
       "  'YearBuilt': 1997,\n",
       "  'YearRebuilt': None,\n",
       "  'VesselDrawingImg': None,\n",
       "  'SolasCertified': False,\n",
       "  'MaxPassengerCountForInternational': None},\n",
       " {'VesselID': 33,\n",
       "  'VesselSubjectID': 33,\n",
       "  'VesselName': 'Tillikum',\n",
       "  'VesselAbbrev': 'TIL',\n",
       "  'Class': {'ClassID': 20,\n",
       "   'ClassSubjectID': 311,\n",
       "   'ClassName': 'Evergreen State',\n",
       "   'SortSeq': 60,\n",
       "   'DrawingImg': 'https://www.wsdot.wa.gov/ferries/images/pages/boat_drawings/5-evergreenstate.gif',\n",
       "   'SilhouetteImg': 'https://www.wsdot.wa.gov/ferries/images/pages/boat_drawings/4-issaquah130-sillouette_sml.gif',\n",
       "   'PublicDisplayName': 'Evergreen State'},\n",
       "  'Status': 1,\n",
       "  'OwnedByWSF': True,\n",
       "  'CarDeckRestroom': False,\n",
       "  'CarDeckShelter': False,\n",
       "  'Elevator': True,\n",
       "  'ADAAccessible': True,\n",
       "  'MainCabinGalley': True,\n",
       "  'MainCabinRestroom': True,\n",
       "  'PublicWifi': False,\n",
       "  'ADAInfo': 'The MV Tillikum has an elevator from the auto deck to the passenger deck. Accessible restrooms, vending and newspaper machines, and a galley are located on the main passenger deck.  When you arrive at the terminal, notify the ticket seller if you need to park near the elevator.',\n",
       "  'AdditionalInfo': ' ',\n",
       "  'VesselNameDesc': 'Chinook Jargon: \"friends; relatives.\" ',\n",
       "  'VesselHistory': ' ',\n",
       "  'Beam': '73\\' 2\"',\n",
       "  'CityBuilt': 'Seattle, WA',\n",
       "  'SpeedInKnots': 13,\n",
       "  'Draft': '15 6\"',\n",
       "  'EngineCount': 2,\n",
       "  'Horsepower': 2500,\n",
       "  'Length': '310\\' 2\"',\n",
       "  'MaxPassengerCount': 1061,\n",
       "  'PassengerOnly': False,\n",
       "  'FastFerry': False,\n",
       "  'PropulsionInfo': 'DIESEL-ELECTRIC (AC)',\n",
       "  'TallDeckClearance': 162,\n",
       "  'RegDeckSpace': 87,\n",
       "  'TallDeckSpace': 30,\n",
       "  'Tonnage': 2070,\n",
       "  'Displacement': 2413,\n",
       "  'YearBuilt': 1959,\n",
       "  'YearRebuilt': 1994,\n",
       "  'VesselDrawingImg': None,\n",
       "  'SolasCertified': False,\n",
       "  'MaxPassengerCountForInternational': None},\n",
       " {'VesselID': 68,\n",
       "  'VesselSubjectID': 462,\n",
       "  'VesselName': 'Tokitae',\n",
       "  'VesselAbbrev': 'TOK',\n",
       "  'Class': {'ClassID': 100,\n",
       "   'ClassSubjectID': 319,\n",
       "   'ClassName': 'Olympic',\n",
       "   'SortSeq': 35,\n",
       "   'DrawingImg': 'https://www.wsdot.wa.gov/ferries/images/pages/boat_drawings/8-olympic-2014.gif',\n",
       "   'SilhouetteImg': 'https://www.wsdot.wa.gov/ferries/images/pages/boat_drawings/3-issaquah-sillouette_sml.gif',\n",
       "   'PublicDisplayName': 'Olympic'},\n",
       "  'Status': 1,\n",
       "  'OwnedByWSF': True,\n",
       "  'CarDeckRestroom': False,\n",
       "  'CarDeckShelter': True,\n",
       "  'Elevator': True,\n",
       "  'ADAAccessible': True,\n",
       "  'MainCabinGalley': True,\n",
       "  'MainCabinRestroom': True,\n",
       "  'PublicWifi': False,\n",
       "  'ADAInfo': 'The vessel has two ADA compliant elevators and wide staircases that provide access from both car decks to both passenger decks. The main passenger deck and the sun deck have accessible restrooms and there are 12 wheelchair spaces available in the main passenger cabin. There is a galley and vending and newspaper machines on the main passenger deck. This vessel is equipped with our visual paging system. Notify ticket seller if you are traveling by car and need to park near an elevator.',\n",
       "  'AdditionalInfo': None,\n",
       "  'VesselNameDesc': 'Tokitae means \"nice day, pretty colors\" in Chinook jargon.',\n",
       "  'VesselHistory': 'Tokitae is the first of the 144-car, Olympic class ferries pressed into service in June of 2014. ',\n",
       "  'Beam': '83\\' 2\"',\n",
       "  'CityBuilt': 'Seattle, WA',\n",
       "  'SpeedInKnots': 17,\n",
       "  'Draft': \"18'\",\n",
       "  'EngineCount': 2,\n",
       "  'Horsepower': 6000,\n",
       "  'Length': '362\\' 3\"',\n",
       "  'MaxPassengerCount': 1500,\n",
       "  'PassengerOnly': False,\n",
       "  'FastFerry': False,\n",
       "  'PropulsionInfo': 'DIESEL',\n",
       "  'TallDeckClearance': 192,\n",
       "  'RegDeckSpace': 144,\n",
       "  'TallDeckSpace': 34,\n",
       "  'Tonnage': 3525,\n",
       "  'Displacement': 4384,\n",
       "  'YearBuilt': 2014,\n",
       "  'YearRebuilt': None,\n",
       "  'VesselDrawingImg': None,\n",
       "  'SolasCertified': False,\n",
       "  'MaxPassengerCountForInternational': None},\n",
       " {'VesselID': 36,\n",
       "  'VesselSubjectID': 36,\n",
       "  'VesselName': 'Walla Walla',\n",
       "  'VesselAbbrev': 'WAL',\n",
       "  'Class': {'ClassID': 70,\n",
       "   'ClassSubjectID': 316,\n",
       "   'ClassName': 'Jumbo',\n",
       "   'SortSeq': 20,\n",
       "   'DrawingImg': 'https://www.wsdot.wa.gov/ferries/images/pages/boat_drawings/1-jumbo.gif',\n",
       "   'SilhouetteImg': 'https://www.wsdot.wa.gov/ferries/images/pages/boat_drawings/1-jumbo-sillouette_sml.gif',\n",
       "   'PublicDisplayName': 'Jumbo'},\n",
       "  'Status': 1,\n",
       "  'OwnedByWSF': True,\n",
       "  'CarDeckRestroom': False,\n",
       "  'CarDeckShelter': False,\n",
       "  'Elevator': True,\n",
       "  'ADAAccessible': True,\n",
       "  'MainCabinGalley': True,\n",
       "  'MainCabinRestroom': True,\n",
       "  'PublicWifi': False,\n",
       "  'ADAInfo': 'The MV Walla Walla has elevator access from both auto deck levels to all of the passenger cabin areas. Restrooms are on both the auto deck and the main passenger deck, but the auto deck restroom is not ADA compliant. If you are traveling by car and want to park near the elevator, be sure to let the ticket seller know. The main passenger deck also has vending and newspaper machines and a galley. This vessel is equipped with our visual paging system.\\r\\n',\n",
       "  'AdditionalInfo': ' ',\n",
       "  'VesselNameDesc': 'Nez Perce for \"place of many waters.\" The Walla Walla are a Southeastern Washington tribe. A city, county, and river are also named after the tribe. \\r\\n',\n",
       "  'VesselHistory': ' ',\n",
       "  'Beam': \"87'\",\n",
       "  'CityBuilt': 'Seattle',\n",
       "  'SpeedInKnots': 18,\n",
       "  'Draft': \"18'\",\n",
       "  'EngineCount': 4,\n",
       "  'Horsepower': 11500,\n",
       "  'Length': \"440'\",\n",
       "  'MaxPassengerCount': 2000,\n",
       "  'PassengerOnly': False,\n",
       "  'FastFerry': False,\n",
       "  'PropulsionInfo': 'DIESEL-ELECTRIC (DC)',\n",
       "  'TallDeckClearance': 186,\n",
       "  'RegDeckSpace': 188,\n",
       "  'TallDeckSpace': 60,\n",
       "  'Tonnage': 3246,\n",
       "  'Displacement': 4860,\n",
       "  'YearBuilt': 1973,\n",
       "  'YearRebuilt': 2003,\n",
       "  'VesselDrawingImg': None,\n",
       "  'SolasCertified': False,\n",
       "  'MaxPassengerCountForInternational': None},\n",
       " {'VesselID': 37,\n",
       "  'VesselSubjectID': 37,\n",
       "  'VesselName': 'Wenatchee',\n",
       "  'VesselAbbrev': 'WEN',\n",
       "  'Class': {'ClassID': 90,\n",
       "   'ClassSubjectID': 318,\n",
       "   'ClassName': 'Jumbo Mark II',\n",
       "   'SortSeq': 10,\n",
       "   'DrawingImg': 'https://www.wsdot.wa.gov/ferries/images/pages/boat_drawings/0-mark2.gif',\n",
       "   'SilhouetteImg': 'https://www.wsdot.wa.gov/ferries/images/pages/boat_drawings/0-mark2-sillouette_sml.gif',\n",
       "   'PublicDisplayName': 'Jumbo Mark II'},\n",
       "  'Status': 1,\n",
       "  'OwnedByWSF': True,\n",
       "  'CarDeckRestroom': False,\n",
       "  'CarDeckShelter': False,\n",
       "  'Elevator': True,\n",
       "  'ADAAccessible': True,\n",
       "  'MainCabinGalley': True,\n",
       "  'MainCabinRestroom': True,\n",
       "  'PublicWifi': False,\n",
       "  'ADAInfo': 'The MV Wenatchee has elevator access from both auto deck levels to all of the passenger cabin areas.  Accessible restrooms, vending and newspaper machines and a galley are located on the main passenger deck. Accessible restrooms are also on the sun deck. If you are traveling by car and want to park near the elevator, be sure to let the ticket seller know.  This vessel is equipped with our visual paging system.',\n",
       "  'AdditionalInfo': '27 May 1998\\r\\nTodd Pacific Shipyards Corporation\\r\\n1801 16th Ave. SW\\r\\nSeattle, WA  98134\\r\\nRe:\\tContract No. 00-4464, Jumbo Mark II Construction\\r\\nAttn:\\tT. S. Moynihan, Project Manager\\r\\nRef:\\tM/V WENATCHEE DELIVERY\\r\\nThis letter is to document Delivery of the M/V WENATCHEE from Todd Pacific Shipyards Corporation (Todd) to the Washington State Ferry System (WSFS) effective 1:00 p.m., 27 May 1998, alongside Todd’s Pier 1, Berth B, establishing the Delivery Date and the Substantial Completion Date as 27 May 1998.\\r\\n',\n",
       "  'VesselNameDesc': 'From the Yakama language comes the word wenatchi  for \"river flowing from canyon.\" When Lewis and Clark traveled through the Columbia River valley in 1803-1805, they mentioned the word Wenatchee  in their journal, hearing of the river and the tribe living along its banks. A city, lake, river, and national forest are also named after the tribe. \\r\\n',\n",
       "  'VesselHistory': 'Todd Shipyard Delivery Date: 27 May 1998\\r\\nKeel Laid Date: 24 September 1996',\n",
       "  'Beam': \"90'\",\n",
       "  'CityBuilt': 'Seattle, WA',\n",
       "  'SpeedInKnots': 18,\n",
       "  'Draft': '17\\' 3\"',\n",
       "  'EngineCount': 4,\n",
       "  'Horsepower': 16000,\n",
       "  'Length': '460\\' 2\"',\n",
       "  'MaxPassengerCount': 2499,\n",
       "  'PassengerOnly': False,\n",
       "  'FastFerry': False,\n",
       "  'PropulsionInfo': 'DIESEL-ELECTRIC (AC)',\n",
       "  'TallDeckClearance': 184,\n",
       "  'RegDeckSpace': 202,\n",
       "  'TallDeckSpace': 60,\n",
       "  'Tonnage': 4938,\n",
       "  'Displacement': 6184,\n",
       "  'YearBuilt': 1998,\n",
       "  'YearRebuilt': None,\n",
       "  'VesselDrawingImg': None,\n",
       "  'SolasCertified': False,\n",
       "  'MaxPassengerCountForInternational': None},\n",
       " {'VesselID': 38,\n",
       "  'VesselSubjectID': 38,\n",
       "  'VesselName': 'Yakima',\n",
       "  'VesselAbbrev': 'YAK',\n",
       "  'Class': {'ClassID': 50,\n",
       "   'ClassSubjectID': 314,\n",
       "   'ClassName': 'Super',\n",
       "   'SortSeq': 30,\n",
       "   'DrawingImg': 'https://www.wsdot.wa.gov/ferries/images/pages/boat_drawings/2-super.gif',\n",
       "   'SilhouetteImg': 'https://www.wsdot.wa.gov/ferries/images/pages/boat_drawings/2-super-sillouette_sml.gif',\n",
       "   'PublicDisplayName': 'Super'},\n",
       "  'Status': 1,\n",
       "  'OwnedByWSF': True,\n",
       "  'CarDeckRestroom': True,\n",
       "  'CarDeckShelter': True,\n",
       "  'Elevator': True,\n",
       "  'ADAAccessible': True,\n",
       "  'MainCabinGalley': False,\n",
       "  'MainCabinRestroom': True,\n",
       "  'PublicWifi': False,\n",
       "  'ADAInfo': 'The MV Yakima has elevator access from both auto decks to both passenger decks. There is an accessible shelter and an accessible restroom on the car deck.  When you arrive at the terminal, notify the ticket seller if you need to park near the elevator. There are limited vending and newspaper machines on the lower passenger deck, a galley on the upper passenger deck, and accessible restrooms on both passenger decks.',\n",
       "  'AdditionalInfo': ' ',\n",
       "  'VesselNameDesc': 'From the Yakama language, \"Yakima\" has many meanings: \"to become peopled; black bears; runaway; and/or  people of the narrow river.\" A city, county and river are also named after the English spelling of the tribe, Yakima. \\r\\n',\n",
       "  'VesselHistory': ' ',\n",
       "  'Beam': '73\\' 2\"',\n",
       "  'CityBuilt': 'San Diego, CA',\n",
       "  'SpeedInKnots': 17,\n",
       "  'Draft': '18\\' 6\"',\n",
       "  'EngineCount': 4,\n",
       "  'Horsepower': 8000,\n",
       "  'Length': '382\\' 2\"',\n",
       "  'MaxPassengerCount': 2000,\n",
       "  'PassengerOnly': False,\n",
       "  'FastFerry': False,\n",
       "  'PropulsionInfo': 'DIESEL-ELECTRIC (DC)',\n",
       "  'TallDeckClearance': 186,\n",
       "  'RegDeckSpace': 144,\n",
       "  'TallDeckSpace': 30,\n",
       "  'Tonnage': 2704,\n",
       "  'Displacement': 3634,\n",
       "  'YearBuilt': 1967,\n",
       "  'YearRebuilt': 2000,\n",
       "  'VesselDrawingImg': None,\n",
       "  'SolasCertified': False,\n",
       "  'MaxPassengerCountForInternational': None}]"
      ]
     },
     "execution_count": 12,
     "metadata": {},
     "output_type": "execute_result"
    }
   ],
   "source": [
    "# Convert the response from JSON to a dictionary.\n",
    "response.json()"
   ]
  },
  {
   "cell_type": "code",
   "execution_count": 13,
   "metadata": {
    "tags": []
   },
   "outputs": [
    {
     "data": {
      "text/plain": [
       "21"
      ]
     },
     "execution_count": 13,
     "metadata": {},
     "output_type": "execute_result"
    }
   ],
   "source": [
    "# Check how many records are in the response.\n",
    "len(response.json())"
   ]
  },
  {
   "cell_type": "code",
   "execution_count": 14,
   "metadata": {
    "tags": []
   },
   "outputs": [],
   "source": [
    "# Use the pprint function from rich for nicer formatting of the dictionary data.\n",
    "from rich.pretty import pprint"
   ]
  },
  {
   "cell_type": "code",
   "execution_count": 15,
   "metadata": {
    "tags": []
   },
   "outputs": [
    {
     "data": {
      "text/html": [
       "<pre style=\"white-space:pre;overflow-x:auto;line-height:normal;font-family:Menlo,'DejaVu Sans Mono',consolas,'Courier New',monospace\"><span style=\"font-weight: bold\">{</span>\n",
       "<span style=\"color: #7fbf7f; text-decoration-color: #7fbf7f\">│   </span><span style=\"color: #008000; text-decoration-color: #008000\">'VesselID'</span>: <span style=\"color: #008080; text-decoration-color: #008080; font-weight: bold\">1</span>,\n",
       "<span style=\"color: #7fbf7f; text-decoration-color: #7fbf7f\">│   </span><span style=\"color: #008000; text-decoration-color: #008000\">'VesselSubjectID'</span>: <span style=\"color: #008080; text-decoration-color: #008080; font-weight: bold\">1</span>,\n",
       "<span style=\"color: #7fbf7f; text-decoration-color: #7fbf7f\">│   </span><span style=\"color: #008000; text-decoration-color: #008000\">'VesselName'</span>: <span style=\"color: #008000; text-decoration-color: #008000\">'Cathlamet'</span>,\n",
       "<span style=\"color: #7fbf7f; text-decoration-color: #7fbf7f\">│   </span><span style=\"color: #008000; text-decoration-color: #008000\">'VesselAbbrev'</span>: <span style=\"color: #008000; text-decoration-color: #008000\">'CAT'</span>,\n",
       "<span style=\"color: #7fbf7f; text-decoration-color: #7fbf7f\">│   </span><span style=\"color: #008000; text-decoration-color: #008000\">'Class'</span>: <span style=\"font-weight: bold\">{</span>\n",
       "<span style=\"color: #7fbf7f; text-decoration-color: #7fbf7f\">│   │   </span><span style=\"color: #008000; text-decoration-color: #008000\">'ClassID'</span>: <span style=\"color: #008080; text-decoration-color: #008080; font-weight: bold\">10</span>,\n",
       "<span style=\"color: #7fbf7f; text-decoration-color: #7fbf7f\">│   │   </span><span style=\"color: #008000; text-decoration-color: #008000\">'ClassSubjectID'</span>: <span style=\"color: #008080; text-decoration-color: #008080; font-weight: bold\">310</span>,\n",
       "<span style=\"color: #7fbf7f; text-decoration-color: #7fbf7f\">│   │   </span><span style=\"color: #008000; text-decoration-color: #008000\">'ClassName'</span>: <span style=\"color: #008000; text-decoration-color: #008000\">'Issaquah 130'</span>,\n",
       "<span style=\"color: #7fbf7f; text-decoration-color: #7fbf7f\">│   │   </span><span style=\"color: #008000; text-decoration-color: #008000\">'SortSeq'</span>: <span style=\"color: #008080; text-decoration-color: #008080; font-weight: bold\">40</span>,\n",
       "<span style=\"color: #7fbf7f; text-decoration-color: #7fbf7f\">│   │   </span><span style=\"color: #008000; text-decoration-color: #008000\">'DrawingImg'</span>: <span style=\"color: #008000; text-decoration-color: #008000\">'https://www.wsdot.wa.gov/ferries/images/pages/boat_drawings/4-issaquah130.gif'</span>,\n",
       "<span style=\"color: #7fbf7f; text-decoration-color: #7fbf7f\">│   │   </span><span style=\"color: #008000; text-decoration-color: #008000\">'SilhouetteImg'</span>: <span style=\"color: #008000; text-decoration-color: #008000\">'https://www.wsdot.wa.gov/ferries/images/pages/boat_drawings/4-issaquah130-sillouette_sml.gif'</span>,\n",
       "<span style=\"color: #7fbf7f; text-decoration-color: #7fbf7f\">│   │   </span><span style=\"color: #008000; text-decoration-color: #008000\">'PublicDisplayName'</span>: <span style=\"color: #008000; text-decoration-color: #008000\">'Issaquah'</span>\n",
       "<span style=\"color: #7fbf7f; text-decoration-color: #7fbf7f\">│   </span><span style=\"font-weight: bold\">}</span>,\n",
       "<span style=\"color: #7fbf7f; text-decoration-color: #7fbf7f\">│   </span><span style=\"color: #008000; text-decoration-color: #008000\">'Status'</span>: <span style=\"color: #008080; text-decoration-color: #008080; font-weight: bold\">1</span>,\n",
       "<span style=\"color: #7fbf7f; text-decoration-color: #7fbf7f\">│   </span><span style=\"color: #008000; text-decoration-color: #008000\">'OwnedByWSF'</span>: <span style=\"color: #00ff00; text-decoration-color: #00ff00; font-style: italic\">True</span>,\n",
       "<span style=\"color: #7fbf7f; text-decoration-color: #7fbf7f\">│   </span><span style=\"color: #008000; text-decoration-color: #008000\">'CarDeckRestroom'</span>: <span style=\"color: #00ff00; text-decoration-color: #00ff00; font-style: italic\">True</span>,\n",
       "<span style=\"color: #7fbf7f; text-decoration-color: #7fbf7f\">│   </span><span style=\"color: #008000; text-decoration-color: #008000\">'CarDeckShelter'</span>: <span style=\"color: #ff0000; text-decoration-color: #ff0000; font-style: italic\">False</span>,\n",
       "<span style=\"color: #7fbf7f; text-decoration-color: #7fbf7f\">│   </span><span style=\"color: #008000; text-decoration-color: #008000\">'Elevator'</span>: <span style=\"color: #00ff00; text-decoration-color: #00ff00; font-style: italic\">True</span>,\n",
       "<span style=\"color: #7fbf7f; text-decoration-color: #7fbf7f\">│   </span><span style=\"color: #008000; text-decoration-color: #008000\">'ADAAccessible'</span>: <span style=\"color: #00ff00; text-decoration-color: #00ff00; font-style: italic\">True</span>,\n",
       "<span style=\"color: #7fbf7f; text-decoration-color: #7fbf7f\">│   </span><span style=\"color: #008000; text-decoration-color: #008000\">'MainCabinGalley'</span>: <span style=\"color: #00ff00; text-decoration-color: #00ff00; font-style: italic\">True</span>,\n",
       "<span style=\"color: #7fbf7f; text-decoration-color: #7fbf7f\">│   </span><span style=\"color: #008000; text-decoration-color: #008000\">'MainCabinRestroom'</span>: <span style=\"color: #00ff00; text-decoration-color: #00ff00; font-style: italic\">True</span>,\n",
       "<span style=\"color: #7fbf7f; text-decoration-color: #7fbf7f\">│   </span><span style=\"color: #008000; text-decoration-color: #008000\">'PublicWifi'</span>: <span style=\"color: #ff0000; text-decoration-color: #ff0000; font-style: italic\">False</span>,\n",
       "<span style=\"color: #7fbf7f; text-decoration-color: #7fbf7f\">│   </span><span style=\"color: #008000; text-decoration-color: #008000\">'ADAInfo'</span>: <span style=\"color: #008000; text-decoration-color: #008000\">'The MV Cathlamet has elevator access from the auto deck to the passenger deck. Notify a ticket seller if you are traveling by car and need to park near an elevator. The vessel has accessible restrooms located on both the main passenger deck and the auto deck. The main passenger deck also has vending and newspaper machines, and a galley. This vessel is equipped with our visual paging system. '</span>,\n",
       "<span style=\"color: #7fbf7f; text-decoration-color: #7fbf7f\">│   </span><span style=\"color: #008000; text-decoration-color: #008000\">'AdditionalInfo'</span>: <span style=\"color: #008000; text-decoration-color: #008000\">' '</span>,\n",
       "<span style=\"color: #7fbf7f; text-decoration-color: #7fbf7f\">│   </span><span style=\"color: #008000; text-decoration-color: #008000\">'VesselNameDesc'</span>: <span style=\"color: #008000; text-decoration-color: #008000\">'From the Kathlamet tribe, the Chinook  word calamet  meaning \"stone,\" was given to the tribe because its members lived along a rocky stretch of the Columbia River. A city also bears its name. \\r\\n\\r\\n'</span>,\n",
       "<span style=\"color: #7fbf7f; text-decoration-color: #7fbf7f\">│   </span><span style=\"color: #008000; text-decoration-color: #008000\">'VesselHistory'</span>: <span style=\"color: #008000; text-decoration-color: #008000\">' '</span>,\n",
       "<span style=\"color: #7fbf7f; text-decoration-color: #7fbf7f\">│   </span><span style=\"color: #008000; text-decoration-color: #008000\">'Beam'</span>: <span style=\"color: #008000; text-decoration-color: #008000\">'78\\' 8\"'</span>,\n",
       "<span style=\"color: #7fbf7f; text-decoration-color: #7fbf7f\">│   </span><span style=\"color: #008000; text-decoration-color: #008000\">'CityBuilt'</span>: <span style=\"color: #008000; text-decoration-color: #008000\">'Seattle, WA'</span>,\n",
       "<span style=\"color: #7fbf7f; text-decoration-color: #7fbf7f\">│   </span><span style=\"color: #008000; text-decoration-color: #008000\">'SpeedInKnots'</span>: <span style=\"color: #008080; text-decoration-color: #008080; font-weight: bold\">16</span>,\n",
       "<span style=\"color: #7fbf7f; text-decoration-color: #7fbf7f\">│   </span><span style=\"color: #008000; text-decoration-color: #008000\">'Draft'</span>: <span style=\"color: #008000; text-decoration-color: #008000\">'16\\' 6\"'</span>,\n",
       "<span style=\"color: #7fbf7f; text-decoration-color: #7fbf7f\">│   </span><span style=\"color: #008000; text-decoration-color: #008000\">'EngineCount'</span>: <span style=\"color: #008080; text-decoration-color: #008080; font-weight: bold\">2</span>,\n",
       "<span style=\"color: #7fbf7f; text-decoration-color: #7fbf7f\">│   </span><span style=\"color: #008000; text-decoration-color: #008000\">'Horsepower'</span>: <span style=\"color: #008080; text-decoration-color: #008080; font-weight: bold\">5000</span>,\n",
       "<span style=\"color: #7fbf7f; text-decoration-color: #7fbf7f\">│   </span><span style=\"color: #008000; text-decoration-color: #008000\">'Length'</span>: <span style=\"color: #008000; text-decoration-color: #008000\">\"328'\"</span>,\n",
       "<span style=\"color: #7fbf7f; text-decoration-color: #7fbf7f\">│   </span><span style=\"color: #008000; text-decoration-color: #008000\">'MaxPassengerCount'</span>: <span style=\"color: #008080; text-decoration-color: #008080; font-weight: bold\">1200</span>,\n",
       "<span style=\"color: #7fbf7f; text-decoration-color: #7fbf7f\">│   </span><span style=\"color: #008000; text-decoration-color: #008000\">'PassengerOnly'</span>: <span style=\"color: #ff0000; text-decoration-color: #ff0000; font-style: italic\">False</span>,\n",
       "<span style=\"color: #7fbf7f; text-decoration-color: #7fbf7f\">│   </span><span style=\"color: #008000; text-decoration-color: #008000\">'FastFerry'</span>: <span style=\"color: #ff0000; text-decoration-color: #ff0000; font-style: italic\">False</span>,\n",
       "<span style=\"color: #7fbf7f; text-decoration-color: #7fbf7f\">│   </span><span style=\"color: #008000; text-decoration-color: #008000\">'PropulsionInfo'</span>: <span style=\"color: #008000; text-decoration-color: #008000\">'DIESEL'</span>,\n",
       "<span style=\"color: #7fbf7f; text-decoration-color: #7fbf7f\">│   </span><span style=\"color: #008000; text-decoration-color: #008000\">'TallDeckClearance'</span>: <span style=\"color: #008080; text-decoration-color: #008080; font-weight: bold\">186</span>,\n",
       "<span style=\"color: #7fbf7f; text-decoration-color: #7fbf7f\">│   </span><span style=\"color: #008000; text-decoration-color: #008000\">'RegDeckSpace'</span>: <span style=\"color: #008080; text-decoration-color: #008080; font-weight: bold\">124</span>,\n",
       "<span style=\"color: #7fbf7f; text-decoration-color: #7fbf7f\">│   </span><span style=\"color: #008000; text-decoration-color: #008000\">'TallDeckSpace'</span>: <span style=\"color: #008080; text-decoration-color: #008080; font-weight: bold\">26</span>,\n",
       "<span style=\"color: #7fbf7f; text-decoration-color: #7fbf7f\">│   </span><span style=\"color: #008000; text-decoration-color: #008000\">'Tonnage'</span>: <span style=\"color: #008080; text-decoration-color: #008080; font-weight: bold\">2477</span>,\n",
       "<span style=\"color: #7fbf7f; text-decoration-color: #7fbf7f\">│   </span><span style=\"color: #008000; text-decoration-color: #008000\">'Displacement'</span>: <span style=\"color: #008080; text-decoration-color: #008080; font-weight: bold\">3310</span>,\n",
       "<span style=\"color: #7fbf7f; text-decoration-color: #7fbf7f\">│   </span><span style=\"color: #008000; text-decoration-color: #008000\">'YearBuilt'</span>: <span style=\"color: #008080; text-decoration-color: #008080; font-weight: bold\">1981</span>,\n",
       "<span style=\"color: #7fbf7f; text-decoration-color: #7fbf7f\">│   </span><span style=\"color: #008000; text-decoration-color: #008000\">'YearRebuilt'</span>: <span style=\"color: #008080; text-decoration-color: #008080; font-weight: bold\">1993</span>,\n",
       "<span style=\"color: #7fbf7f; text-decoration-color: #7fbf7f\">│   </span><span style=\"color: #008000; text-decoration-color: #008000\">'VesselDrawingImg'</span>: <span style=\"color: #800080; text-decoration-color: #800080; font-style: italic\">None</span>,\n",
       "<span style=\"color: #7fbf7f; text-decoration-color: #7fbf7f\">│   </span><span style=\"color: #008000; text-decoration-color: #008000\">'SolasCertified'</span>: <span style=\"color: #ff0000; text-decoration-color: #ff0000; font-style: italic\">False</span>,\n",
       "<span style=\"color: #7fbf7f; text-decoration-color: #7fbf7f\">│   </span><span style=\"color: #008000; text-decoration-color: #008000\">'MaxPassengerCountForInternational'</span>: <span style=\"color: #800080; text-decoration-color: #800080; font-style: italic\">None</span>\n",
       "<span style=\"font-weight: bold\">}</span>\n",
       "</pre>\n"
      ],
      "text/plain": [
       "\u001b[1m{\u001b[0m\n",
       "\u001b[2;32m│   \u001b[0m\u001b[32m'VesselID'\u001b[0m: \u001b[1;36m1\u001b[0m,\n",
       "\u001b[2;32m│   \u001b[0m\u001b[32m'VesselSubjectID'\u001b[0m: \u001b[1;36m1\u001b[0m,\n",
       "\u001b[2;32m│   \u001b[0m\u001b[32m'VesselName'\u001b[0m: \u001b[32m'Cathlamet'\u001b[0m,\n",
       "\u001b[2;32m│   \u001b[0m\u001b[32m'VesselAbbrev'\u001b[0m: \u001b[32m'CAT'\u001b[0m,\n",
       "\u001b[2;32m│   \u001b[0m\u001b[32m'Class'\u001b[0m: \u001b[1m{\u001b[0m\n",
       "\u001b[2;32m│   │   \u001b[0m\u001b[32m'ClassID'\u001b[0m: \u001b[1;36m10\u001b[0m,\n",
       "\u001b[2;32m│   │   \u001b[0m\u001b[32m'ClassSubjectID'\u001b[0m: \u001b[1;36m310\u001b[0m,\n",
       "\u001b[2;32m│   │   \u001b[0m\u001b[32m'ClassName'\u001b[0m: \u001b[32m'Issaquah 130'\u001b[0m,\n",
       "\u001b[2;32m│   │   \u001b[0m\u001b[32m'SortSeq'\u001b[0m: \u001b[1;36m40\u001b[0m,\n",
       "\u001b[2;32m│   │   \u001b[0m\u001b[32m'DrawingImg'\u001b[0m: \u001b[32m'https://www.wsdot.wa.gov/ferries/images/pages/boat_drawings/4-issaquah130.gif'\u001b[0m,\n",
       "\u001b[2;32m│   │   \u001b[0m\u001b[32m'SilhouetteImg'\u001b[0m: \u001b[32m'https://www.wsdot.wa.gov/ferries/images/pages/boat_drawings/4-issaquah130-sillouette_sml.gif'\u001b[0m,\n",
       "\u001b[2;32m│   │   \u001b[0m\u001b[32m'PublicDisplayName'\u001b[0m: \u001b[32m'Issaquah'\u001b[0m\n",
       "\u001b[2;32m│   \u001b[0m\u001b[1m}\u001b[0m,\n",
       "\u001b[2;32m│   \u001b[0m\u001b[32m'Status'\u001b[0m: \u001b[1;36m1\u001b[0m,\n",
       "\u001b[2;32m│   \u001b[0m\u001b[32m'OwnedByWSF'\u001b[0m: \u001b[3;92mTrue\u001b[0m,\n",
       "\u001b[2;32m│   \u001b[0m\u001b[32m'CarDeckRestroom'\u001b[0m: \u001b[3;92mTrue\u001b[0m,\n",
       "\u001b[2;32m│   \u001b[0m\u001b[32m'CarDeckShelter'\u001b[0m: \u001b[3;91mFalse\u001b[0m,\n",
       "\u001b[2;32m│   \u001b[0m\u001b[32m'Elevator'\u001b[0m: \u001b[3;92mTrue\u001b[0m,\n",
       "\u001b[2;32m│   \u001b[0m\u001b[32m'ADAAccessible'\u001b[0m: \u001b[3;92mTrue\u001b[0m,\n",
       "\u001b[2;32m│   \u001b[0m\u001b[32m'MainCabinGalley'\u001b[0m: \u001b[3;92mTrue\u001b[0m,\n",
       "\u001b[2;32m│   \u001b[0m\u001b[32m'MainCabinRestroom'\u001b[0m: \u001b[3;92mTrue\u001b[0m,\n",
       "\u001b[2;32m│   \u001b[0m\u001b[32m'PublicWifi'\u001b[0m: \u001b[3;91mFalse\u001b[0m,\n",
       "\u001b[2;32m│   \u001b[0m\u001b[32m'ADAInfo'\u001b[0m: \u001b[32m'The MV Cathlamet has elevator access from the auto deck to the passenger deck. Notify a ticket seller if you are traveling by car and need to park near an elevator. The vessel has accessible restrooms located on both the main passenger deck and the auto deck. The main passenger deck also has vending and newspaper machines, and a galley. This vessel is equipped with our visual paging system. '\u001b[0m,\n",
       "\u001b[2;32m│   \u001b[0m\u001b[32m'AdditionalInfo'\u001b[0m: \u001b[32m' '\u001b[0m,\n",
       "\u001b[2;32m│   \u001b[0m\u001b[32m'VesselNameDesc'\u001b[0m: \u001b[32m'From the Kathlamet tribe, the Chinook  word calamet  meaning \"stone,\" was given to the tribe because its members lived along a rocky stretch of the Columbia River. A city also bears its name. \\r\\n\\r\\n'\u001b[0m,\n",
       "\u001b[2;32m│   \u001b[0m\u001b[32m'VesselHistory'\u001b[0m: \u001b[32m' '\u001b[0m,\n",
       "\u001b[2;32m│   \u001b[0m\u001b[32m'Beam'\u001b[0m: \u001b[32m'78\\' 8\"'\u001b[0m,\n",
       "\u001b[2;32m│   \u001b[0m\u001b[32m'CityBuilt'\u001b[0m: \u001b[32m'Seattle, WA'\u001b[0m,\n",
       "\u001b[2;32m│   \u001b[0m\u001b[32m'SpeedInKnots'\u001b[0m: \u001b[1;36m16\u001b[0m,\n",
       "\u001b[2;32m│   \u001b[0m\u001b[32m'Draft'\u001b[0m: \u001b[32m'16\\' 6\"'\u001b[0m,\n",
       "\u001b[2;32m│   \u001b[0m\u001b[32m'EngineCount'\u001b[0m: \u001b[1;36m2\u001b[0m,\n",
       "\u001b[2;32m│   \u001b[0m\u001b[32m'Horsepower'\u001b[0m: \u001b[1;36m5000\u001b[0m,\n",
       "\u001b[2;32m│   \u001b[0m\u001b[32m'Length'\u001b[0m: \u001b[32m\"328'\"\u001b[0m,\n",
       "\u001b[2;32m│   \u001b[0m\u001b[32m'MaxPassengerCount'\u001b[0m: \u001b[1;36m1200\u001b[0m,\n",
       "\u001b[2;32m│   \u001b[0m\u001b[32m'PassengerOnly'\u001b[0m: \u001b[3;91mFalse\u001b[0m,\n",
       "\u001b[2;32m│   \u001b[0m\u001b[32m'FastFerry'\u001b[0m: \u001b[3;91mFalse\u001b[0m,\n",
       "\u001b[2;32m│   \u001b[0m\u001b[32m'PropulsionInfo'\u001b[0m: \u001b[32m'DIESEL'\u001b[0m,\n",
       "\u001b[2;32m│   \u001b[0m\u001b[32m'TallDeckClearance'\u001b[0m: \u001b[1;36m186\u001b[0m,\n",
       "\u001b[2;32m│   \u001b[0m\u001b[32m'RegDeckSpace'\u001b[0m: \u001b[1;36m124\u001b[0m,\n",
       "\u001b[2;32m│   \u001b[0m\u001b[32m'TallDeckSpace'\u001b[0m: \u001b[1;36m26\u001b[0m,\n",
       "\u001b[2;32m│   \u001b[0m\u001b[32m'Tonnage'\u001b[0m: \u001b[1;36m2477\u001b[0m,\n",
       "\u001b[2;32m│   \u001b[0m\u001b[32m'Displacement'\u001b[0m: \u001b[1;36m3310\u001b[0m,\n",
       "\u001b[2;32m│   \u001b[0m\u001b[32m'YearBuilt'\u001b[0m: \u001b[1;36m1981\u001b[0m,\n",
       "\u001b[2;32m│   \u001b[0m\u001b[32m'YearRebuilt'\u001b[0m: \u001b[1;36m1993\u001b[0m,\n",
       "\u001b[2;32m│   \u001b[0m\u001b[32m'VesselDrawingImg'\u001b[0m: \u001b[3;35mNone\u001b[0m,\n",
       "\u001b[2;32m│   \u001b[0m\u001b[32m'SolasCertified'\u001b[0m: \u001b[3;91mFalse\u001b[0m,\n",
       "\u001b[2;32m│   \u001b[0m\u001b[32m'MaxPassengerCountForInternational'\u001b[0m: \u001b[3;35mNone\u001b[0m\n",
       "\u001b[1m}\u001b[0m\n"
      ]
     },
     "metadata": {},
     "output_type": "display_data"
    }
   ],
   "source": [
    "pprint(response.json()[0])"
   ]
  },
  {
   "cell_type": "markdown",
   "metadata": {},
   "source": [
    "Lastly, we can use polars to convert the dictionary into a DataFrame.\n"
   ]
  },
  {
   "cell_type": "code",
   "execution_count": 16,
   "metadata": {
    "tags": []
   },
   "outputs": [],
   "source": [
    "import polars as pl"
   ]
  },
  {
   "cell_type": "code",
   "execution_count": 17,
   "metadata": {
    "tags": []
   },
   "outputs": [
    {
     "data": {
      "text/html": [
       "<div><style>\n",
       ".dataframe > thead > tr,\n",
       ".dataframe > tbody > tr {\n",
       "  text-align: right;\n",
       "  white-space: pre-wrap;\n",
       "}\n",
       "</style>\n",
       "<small>shape: (21, 39)</small><table border=\"1\" class=\"dataframe\"><thead><tr><th>VesselID</th><th>VesselSubjectID</th><th>VesselName</th><th>VesselAbbrev</th><th>Class</th><th>Status</th><th>OwnedByWSF</th><th>CarDeckRestroom</th><th>CarDeckShelter</th><th>Elevator</th><th>ADAAccessible</th><th>MainCabinGalley</th><th>MainCabinRestroom</th><th>PublicWifi</th><th>ADAInfo</th><th>AdditionalInfo</th><th>VesselNameDesc</th><th>VesselHistory</th><th>Beam</th><th>CityBuilt</th><th>SpeedInKnots</th><th>Draft</th><th>EngineCount</th><th>Horsepower</th><th>Length</th><th>MaxPassengerCount</th><th>PassengerOnly</th><th>FastFerry</th><th>PropulsionInfo</th><th>TallDeckClearance</th><th>RegDeckSpace</th><th>TallDeckSpace</th><th>Tonnage</th><th>Displacement</th><th>YearBuilt</th><th>YearRebuilt</th><th>VesselDrawingImg</th><th>SolasCertified</th><th>MaxPassengerCountForInternational</th></tr><tr><td>i64</td><td>i64</td><td>str</td><td>str</td><td>struct[7]</td><td>i64</td><td>bool</td><td>bool</td><td>bool</td><td>bool</td><td>bool</td><td>bool</td><td>bool</td><td>bool</td><td>str</td><td>str</td><td>str</td><td>str</td><td>str</td><td>str</td><td>i64</td><td>str</td><td>i64</td><td>i64</td><td>str</td><td>i64</td><td>bool</td><td>bool</td><td>str</td><td>i64</td><td>i64</td><td>i64</td><td>i64</td><td>i64</td><td>i64</td><td>i64</td><td>null</td><td>bool</td><td>i64</td></tr></thead><tbody><tr><td>1</td><td>1</td><td>&quot;Cathlamet&quot;</td><td>&quot;CAT&quot;</td><td>{10,310,&quot;Issaquah 130&quot;,40,&quot;https://www.wsdot.wa.gov/ferries/images/pages/boat_drawings/4-issaquah130.gif&quot;,&quot;https://www.wsdot.wa.gov/ferries/images/pages/boat_drawings/4-issaquah130-sillouette_sml.gif&quot;,&quot;Issaquah&quot;}</td><td>1</td><td>true</td><td>true</td><td>false</td><td>true</td><td>true</td><td>true</td><td>true</td><td>false</td><td>&quot;The MV Cathlamet has elevator …</td><td>&quot; &quot;</td><td>&quot;From the Kathlamet tribe, the …</td><td>&quot; &quot;</td><td>&quot;78&#x27; 8&quot;&quot;</td><td>&quot;Seattle, WA&quot;</td><td>16</td><td>&quot;16&#x27; 6&quot;&quot;</td><td>2</td><td>5000</td><td>&quot;328&#x27;&quot;</td><td>1200</td><td>false</td><td>false</td><td>&quot;DIESEL&quot;</td><td>186</td><td>124</td><td>26</td><td>2477</td><td>3310</td><td>1981</td><td>1993</td><td>null</td><td>false</td><td>null</td></tr><tr><td>2</td><td>2</td><td>&quot;Chelan&quot;</td><td>&quot;CHE&quot;</td><td>{10,310,&quot;Issaquah 130&quot;,40,&quot;https://www.wsdot.wa.gov/ferries/images/pages/boat_drawings/4-issaquah130.gif&quot;,&quot;https://www.wsdot.wa.gov/ferries/images/pages/boat_drawings/4-issaquah130-sillouette_sml.gif&quot;,&quot;Issaquah&quot;}</td><td>1</td><td>true</td><td>true</td><td>false</td><td>true</td><td>true</td><td>true</td><td>true</td><td>false</td><td>&quot;The MV Chelan has elevator acc…</td><td>&quot; &quot;</td><td>&quot;From the Chelan  language: Tsi…</td><td>&quot; &quot;</td><td>&quot;78&#x27; 8&quot;&quot;</td><td>&quot;Seattle, WA&quot;</td><td>16</td><td>&quot;16&#x27; 9&quot;&quot;</td><td>2</td><td>5000</td><td>&quot;328&#x27;&quot;</td><td>1200</td><td>false</td><td>false</td><td>&quot;DIESEL&quot;</td><td>188</td><td>124</td><td>30</td><td>2477</td><td>3405</td><td>1981</td><td>2005</td><td>null</td><td>true</td><td>1090</td></tr><tr><td>65</td><td>428</td><td>&quot;Chetzemoka&quot;</td><td>&quot;CHZ&quot;</td><td>{162,427,&quot;Kwa-di Tabil&quot;,75,&quot;https://www.wsdot.wa.gov/ferries/images/pages/boat_drawings/13-kwaditabil.gif&quot;,&quot;https://www.wsdot.wa.gov/ferries/images/pages/boat_drawings/13-kwaditabil-silouette_sml.gif&quot;,&quot;Kwa-di Tabil&quot;}</td><td>1</td><td>true</td><td>false</td><td>false</td><td>true</td><td>true</td><td>true</td><td>true</td><td>false</td><td>&quot;MV Chetzemoka has elevator acc…</td><td>null</td><td>&quot;The name honors a friendly Nat…</td><td>null</td><td>&quot;64&#x27;&quot;</td><td>&quot;Seattle&quot;</td><td>15</td><td>&quot;11&#x27;&quot;</td><td>2</td><td>6000</td><td>&quot;273&#x27; 8&quot;&quot;</td><td>748</td><td>false</td><td>false</td><td>&quot;DIESEL&quot;</td><td>192</td><td>64</td><td>9</td><td>4623</td><td>2415</td><td>2010</td><td>null</td><td>null</td><td>false</td><td>null</td></tr><tr><td>74</td><td>487</td><td>&quot;Chimacum&quot;</td><td>&quot;CHM&quot;</td><td>{100,319,&quot;Olympic&quot;,35,&quot;https://www.wsdot.wa.gov/ferries/images/pages/boat_drawings/8-olympic-2014.gif&quot;,&quot;https://www.wsdot.wa.gov/ferries/images/pages/boat_drawings/3-issaquah-sillouette_sml.gif&quot;,&quot;Olympic&quot;}</td><td>1</td><td>true</td><td>true</td><td>true</td><td>true</td><td>true</td><td>true</td><td>true</td><td>false</td><td>&quot;The vessel has two ADA complia…</td><td>null</td><td>&quot;“The Chimacum People who spoke…</td><td>&quot;Chimacum is the third of the 1…</td><td>&quot;83&#x27; 2&quot;&quot;</td><td>&quot;Seattle, WA&quot;</td><td>17</td><td>&quot;18&#x27;&quot;</td><td>2</td><td>6000</td><td>&quot;362&#x27; 3&quot;&quot;</td><td>1500</td><td>false</td><td>false</td><td>&quot;DIESEL&quot;</td><td>192</td><td>144</td><td>34</td><td>3525</td><td>4384</td><td>2017</td><td>null</td><td>null</td><td>false</td><td>null</td></tr><tr><td>15</td><td>15</td><td>&quot;Issaquah&quot;</td><td>&quot;ISS&quot;</td><td>{10,310,&quot;Issaquah 130&quot;,40,&quot;https://www.wsdot.wa.gov/ferries/images/pages/boat_drawings/4-issaquah130.gif&quot;,&quot;https://www.wsdot.wa.gov/ferries/images/pages/boat_drawings/4-issaquah130-sillouette_sml.gif&quot;,&quot;Issaquah&quot;}</td><td>1</td><td>true</td><td>true</td><td>false</td><td>true</td><td>true</td><td>true</td><td>true</td><td>false</td><td>&quot;The MV Issaquah has elevator a…</td><td>&quot; &quot;</td><td>&quot;&quot;Snake.&quot; Native Americans who …</td><td>&quot; &quot;</td><td>&quot;78&#x27; 8&quot;&quot;</td><td>&quot;Seattle, WA&quot;</td><td>16</td><td>&quot;16&#x27; 6&quot;&quot;</td><td>2</td><td>5000</td><td>&quot;328&#x27;&quot;</td><td>1200</td><td>false</td><td>false</td><td>&quot;DIESEL&quot;</td><td>188</td><td>124</td><td>26</td><td>2475</td><td>3310</td><td>1979</td><td>1989</td><td>null</td><td>false</td><td>null</td></tr><tr><td>&hellip;</td><td>&hellip;</td><td>&hellip;</td><td>&hellip;</td><td>&hellip;</td><td>&hellip;</td><td>&hellip;</td><td>&hellip;</td><td>&hellip;</td><td>&hellip;</td><td>&hellip;</td><td>&hellip;</td><td>&hellip;</td><td>&hellip;</td><td>&hellip;</td><td>&hellip;</td><td>&hellip;</td><td>&hellip;</td><td>&hellip;</td><td>&hellip;</td><td>&hellip;</td><td>&hellip;</td><td>&hellip;</td><td>&hellip;</td><td>&hellip;</td><td>&hellip;</td><td>&hellip;</td><td>&hellip;</td><td>&hellip;</td><td>&hellip;</td><td>&hellip;</td><td>&hellip;</td><td>&hellip;</td><td>&hellip;</td><td>&hellip;</td><td>&hellip;</td><td>&hellip;</td><td>&hellip;</td><td>&hellip;</td></tr><tr><td>33</td><td>33</td><td>&quot;Tillikum&quot;</td><td>&quot;TIL&quot;</td><td>{20,311,&quot;Evergreen State&quot;,60,&quot;https://www.wsdot.wa.gov/ferries/images/pages/boat_drawings/5-evergreenstate.gif&quot;,&quot;https://www.wsdot.wa.gov/ferries/images/pages/boat_drawings/4-issaquah130-sillouette_sml.gif&quot;,&quot;Evergreen State&quot;}</td><td>1</td><td>true</td><td>false</td><td>false</td><td>true</td><td>true</td><td>true</td><td>true</td><td>false</td><td>&quot;The MV Tillikum has an elevato…</td><td>&quot; &quot;</td><td>&quot;Chinook Jargon: &quot;friends; rela…</td><td>&quot; &quot;</td><td>&quot;73&#x27; 2&quot;&quot;</td><td>&quot;Seattle, WA&quot;</td><td>13</td><td>&quot;15 6&quot;&quot;</td><td>2</td><td>2500</td><td>&quot;310&#x27; 2&quot;&quot;</td><td>1061</td><td>false</td><td>false</td><td>&quot;DIESEL-ELECTRIC (AC)&quot;</td><td>162</td><td>87</td><td>30</td><td>2070</td><td>2413</td><td>1959</td><td>1994</td><td>null</td><td>false</td><td>null</td></tr><tr><td>68</td><td>462</td><td>&quot;Tokitae&quot;</td><td>&quot;TOK&quot;</td><td>{100,319,&quot;Olympic&quot;,35,&quot;https://www.wsdot.wa.gov/ferries/images/pages/boat_drawings/8-olympic-2014.gif&quot;,&quot;https://www.wsdot.wa.gov/ferries/images/pages/boat_drawings/3-issaquah-sillouette_sml.gif&quot;,&quot;Olympic&quot;}</td><td>1</td><td>true</td><td>false</td><td>true</td><td>true</td><td>true</td><td>true</td><td>true</td><td>false</td><td>&quot;The vessel has two ADA complia…</td><td>null</td><td>&quot;Tokitae means &quot;nice day, prett…</td><td>&quot;Tokitae is the first of the 14…</td><td>&quot;83&#x27; 2&quot;&quot;</td><td>&quot;Seattle, WA&quot;</td><td>17</td><td>&quot;18&#x27;&quot;</td><td>2</td><td>6000</td><td>&quot;362&#x27; 3&quot;&quot;</td><td>1500</td><td>false</td><td>false</td><td>&quot;DIESEL&quot;</td><td>192</td><td>144</td><td>34</td><td>3525</td><td>4384</td><td>2014</td><td>null</td><td>null</td><td>false</td><td>null</td></tr><tr><td>36</td><td>36</td><td>&quot;Walla Walla&quot;</td><td>&quot;WAL&quot;</td><td>{70,316,&quot;Jumbo&quot;,20,&quot;https://www.wsdot.wa.gov/ferries/images/pages/boat_drawings/1-jumbo.gif&quot;,&quot;https://www.wsdot.wa.gov/ferries/images/pages/boat_drawings/1-jumbo-sillouette_sml.gif&quot;,&quot;Jumbo&quot;}</td><td>1</td><td>true</td><td>false</td><td>false</td><td>true</td><td>true</td><td>true</td><td>true</td><td>false</td><td>&quot;The MV Walla Walla has elevato…</td><td>&quot; &quot;</td><td>&quot;Nez Perce for &quot;place of many w…</td><td>&quot; &quot;</td><td>&quot;87&#x27;&quot;</td><td>&quot;Seattle&quot;</td><td>18</td><td>&quot;18&#x27;&quot;</td><td>4</td><td>11500</td><td>&quot;440&#x27;&quot;</td><td>2000</td><td>false</td><td>false</td><td>&quot;DIESEL-ELECTRIC (DC)&quot;</td><td>186</td><td>188</td><td>60</td><td>3246</td><td>4860</td><td>1973</td><td>2003</td><td>null</td><td>false</td><td>null</td></tr><tr><td>37</td><td>37</td><td>&quot;Wenatchee&quot;</td><td>&quot;WEN&quot;</td><td>{90,318,&quot;Jumbo Mark II&quot;,10,&quot;https://www.wsdot.wa.gov/ferries/images/pages/boat_drawings/0-mark2.gif&quot;,&quot;https://www.wsdot.wa.gov/ferries/images/pages/boat_drawings/0-mark2-sillouette_sml.gif&quot;,&quot;Jumbo Mark II&quot;}</td><td>1</td><td>true</td><td>false</td><td>false</td><td>true</td><td>true</td><td>true</td><td>true</td><td>false</td><td>&quot;The MV Wenatchee has elevator …</td><td>&quot;27 May 1998\r\n",
       "Todd Pacific Ship…</td><td>&quot;From the Yakama language comes…</td><td>&quot;Todd Shipyard Delivery Date: 2…</td><td>&quot;90&#x27;&quot;</td><td>&quot;Seattle, WA&quot;</td><td>18</td><td>&quot;17&#x27; 3&quot;&quot;</td><td>4</td><td>16000</td><td>&quot;460&#x27; 2&quot;&quot;</td><td>2499</td><td>false</td><td>false</td><td>&quot;DIESEL-ELECTRIC (AC)&quot;</td><td>184</td><td>202</td><td>60</td><td>4938</td><td>6184</td><td>1998</td><td>null</td><td>null</td><td>false</td><td>null</td></tr><tr><td>38</td><td>38</td><td>&quot;Yakima&quot;</td><td>&quot;YAK&quot;</td><td>{50,314,&quot;Super&quot;,30,&quot;https://www.wsdot.wa.gov/ferries/images/pages/boat_drawings/2-super.gif&quot;,&quot;https://www.wsdot.wa.gov/ferries/images/pages/boat_drawings/2-super-sillouette_sml.gif&quot;,&quot;Super&quot;}</td><td>1</td><td>true</td><td>true</td><td>true</td><td>true</td><td>true</td><td>false</td><td>true</td><td>false</td><td>&quot;The MV Yakima has elevator acc…</td><td>&quot; &quot;</td><td>&quot;From the Yakama language, &quot;Yak…</td><td>&quot; &quot;</td><td>&quot;73&#x27; 2&quot;&quot;</td><td>&quot;San Diego, CA&quot;</td><td>17</td><td>&quot;18&#x27; 6&quot;&quot;</td><td>4</td><td>8000</td><td>&quot;382&#x27; 2&quot;&quot;</td><td>2000</td><td>false</td><td>false</td><td>&quot;DIESEL-ELECTRIC (DC)&quot;</td><td>186</td><td>144</td><td>30</td><td>2704</td><td>3634</td><td>1967</td><td>2000</td><td>null</td><td>false</td><td>null</td></tr></tbody></table></div>"
      ],
      "text/plain": [
       "shape: (21, 39)\n",
       "┌──────────┬───────────┬───────────┬───────────┬───┬───────────┬───────────┬───────────┬───────────┐\n",
       "│ VesselID ┆ VesselSub ┆ VesselNam ┆ VesselAbb ┆ … ┆ YearRebui ┆ VesselDra ┆ SolasCert ┆ MaxPassen │\n",
       "│ ---      ┆ jectID    ┆ e         ┆ rev       ┆   ┆ lt        ┆ wingImg   ┆ ified     ┆ gerCountF │\n",
       "│ i64      ┆ ---       ┆ ---       ┆ ---       ┆   ┆ ---       ┆ ---       ┆ ---       ┆ orInterna │\n",
       "│          ┆ i64       ┆ str       ┆ str       ┆   ┆ i64       ┆ null      ┆ bool      ┆ tio…      │\n",
       "│          ┆           ┆           ┆           ┆   ┆           ┆           ┆           ┆ ---       │\n",
       "│          ┆           ┆           ┆           ┆   ┆           ┆           ┆           ┆ i64       │\n",
       "╞══════════╪═══════════╪═══════════╪═══════════╪═══╪═══════════╪═══════════╪═══════════╪═══════════╡\n",
       "│ 1        ┆ 1         ┆ Cathlamet ┆ CAT       ┆ … ┆ 1993      ┆ null      ┆ false     ┆ null      │\n",
       "│ 2        ┆ 2         ┆ Chelan    ┆ CHE       ┆ … ┆ 2005      ┆ null      ┆ true      ┆ 1090      │\n",
       "│ 65       ┆ 428       ┆ Chetzemok ┆ CHZ       ┆ … ┆ null      ┆ null      ┆ false     ┆ null      │\n",
       "│          ┆           ┆ a         ┆           ┆   ┆           ┆           ┆           ┆           │\n",
       "│ 74       ┆ 487       ┆ Chimacum  ┆ CHM       ┆ … ┆ null      ┆ null      ┆ false     ┆ null      │\n",
       "│ 15       ┆ 15        ┆ Issaquah  ┆ ISS       ┆ … ┆ 1989      ┆ null      ┆ false     ┆ null      │\n",
       "│ …        ┆ …         ┆ …         ┆ …         ┆ … ┆ …         ┆ …         ┆ …         ┆ …         │\n",
       "│ 33       ┆ 33        ┆ Tillikum  ┆ TIL       ┆ … ┆ 1994      ┆ null      ┆ false     ┆ null      │\n",
       "│ 68       ┆ 462       ┆ Tokitae   ┆ TOK       ┆ … ┆ null      ┆ null      ┆ false     ┆ null      │\n",
       "│ 36       ┆ 36        ┆ Walla     ┆ WAL       ┆ … ┆ 2003      ┆ null      ┆ false     ┆ null      │\n",
       "│          ┆           ┆ Walla     ┆           ┆   ┆           ┆           ┆           ┆           │\n",
       "│ 37       ┆ 37        ┆ Wenatchee ┆ WEN       ┆ … ┆ null      ┆ null      ┆ false     ┆ null      │\n",
       "│ 38       ┆ 38        ┆ Yakima    ┆ YAK       ┆ … ┆ 2000      ┆ null      ┆ false     ┆ null      │\n",
       "└──────────┴───────────┴───────────┴───────────┴───┴───────────┴───────────┴───────────┴───────────┘"
      ]
     },
     "execution_count": 17,
     "metadata": {},
     "output_type": "execute_result"
    }
   ],
   "source": [
    "vessel_verbose_raw = pl.DataFrame(response.json())\n",
    "vessel_verbose_raw"
   ]
  },
  {
   "cell_type": "markdown",
   "metadata": {},
   "source": [
    "## Task 2 - write data to database"
   ]
  },
  {
   "cell_type": "markdown",
   "metadata": {},
   "source": [
    "### 🔄 Task"
   ]
  },
  {
   "cell_type": "markdown",
   "metadata": {},
   "source": [
    "- Save `vessel_verbose_raw` to the database.\n",
    "- Ideally we want to do most of our data tidying in \"Step 2\", but this dataset has a struct that won't save to the database. So we will need to do some tidying at this phase.\n",
    "- This way, we do not need to hit the API every time we need to interact with the raw data."
   ]
  },
  {
   "cell_type": "markdown",
   "metadata": {},
   "source": [
    "### 🧑‍💻 Code"
   ]
  },
  {
   "cell_type": "markdown",
   "metadata": {},
   "source": [
    "The column `Class` is a struct. Each row contains a dictionary object of key value pairs."
   ]
  },
  {
   "cell_type": "code",
   "execution_count": 18,
   "metadata": {
    "tags": []
   },
   "outputs": [
    {
     "data": {
      "text/html": [
       "<div><style>\n",
       ".dataframe > thead > tr,\n",
       ".dataframe > tbody > tr {\n",
       "  text-align: right;\n",
       "  white-space: pre-wrap;\n",
       "}\n",
       "</style>\n",
       "<small>shape: (21,)</small><table border=\"1\" class=\"dataframe\"><thead><tr><th>Class</th></tr><tr><td>struct[7]</td></tr></thead><tbody><tr><td>{10,310,&quot;Issaquah 130&quot;,40,&quot;https://www.wsdot.wa.gov/ferries/images/pages/boat_drawings/4-issaquah130.gif&quot;,&quot;https://www.wsdot.wa.gov/ferries/images/pages/boat_drawings/4-issaquah130-sillouette_sml.gif&quot;,&quot;Issaquah&quot;}</td></tr><tr><td>{10,310,&quot;Issaquah 130&quot;,40,&quot;https://www.wsdot.wa.gov/ferries/images/pages/boat_drawings/4-issaquah130.gif&quot;,&quot;https://www.wsdot.wa.gov/ferries/images/pages/boat_drawings/4-issaquah130-sillouette_sml.gif&quot;,&quot;Issaquah&quot;}</td></tr><tr><td>{162,427,&quot;Kwa-di Tabil&quot;,75,&quot;https://www.wsdot.wa.gov/ferries/images/pages/boat_drawings/13-kwaditabil.gif&quot;,&quot;https://www.wsdot.wa.gov/ferries/images/pages/boat_drawings/13-kwaditabil-silouette_sml.gif&quot;,&quot;Kwa-di Tabil&quot;}</td></tr><tr><td>{100,319,&quot;Olympic&quot;,35,&quot;https://www.wsdot.wa.gov/ferries/images/pages/boat_drawings/8-olympic-2014.gif&quot;,&quot;https://www.wsdot.wa.gov/ferries/images/pages/boat_drawings/3-issaquah-sillouette_sml.gif&quot;,&quot;Olympic&quot;}</td></tr><tr><td>{10,310,&quot;Issaquah 130&quot;,40,&quot;https://www.wsdot.wa.gov/ferries/images/pages/boat_drawings/4-issaquah130.gif&quot;,&quot;https://www.wsdot.wa.gov/ferries/images/pages/boat_drawings/4-issaquah130-sillouette_sml.gif&quot;,&quot;Issaquah&quot;}</td></tr><tr><td>&hellip;</td></tr><tr><td>{20,311,&quot;Evergreen State&quot;,60,&quot;https://www.wsdot.wa.gov/ferries/images/pages/boat_drawings/5-evergreenstate.gif&quot;,&quot;https://www.wsdot.wa.gov/ferries/images/pages/boat_drawings/4-issaquah130-sillouette_sml.gif&quot;,&quot;Evergreen State&quot;}</td></tr><tr><td>{100,319,&quot;Olympic&quot;,35,&quot;https://www.wsdot.wa.gov/ferries/images/pages/boat_drawings/8-olympic-2014.gif&quot;,&quot;https://www.wsdot.wa.gov/ferries/images/pages/boat_drawings/3-issaquah-sillouette_sml.gif&quot;,&quot;Olympic&quot;}</td></tr><tr><td>{70,316,&quot;Jumbo&quot;,20,&quot;https://www.wsdot.wa.gov/ferries/images/pages/boat_drawings/1-jumbo.gif&quot;,&quot;https://www.wsdot.wa.gov/ferries/images/pages/boat_drawings/1-jumbo-sillouette_sml.gif&quot;,&quot;Jumbo&quot;}</td></tr><tr><td>{90,318,&quot;Jumbo Mark II&quot;,10,&quot;https://www.wsdot.wa.gov/ferries/images/pages/boat_drawings/0-mark2.gif&quot;,&quot;https://www.wsdot.wa.gov/ferries/images/pages/boat_drawings/0-mark2-sillouette_sml.gif&quot;,&quot;Jumbo Mark II&quot;}</td></tr><tr><td>{50,314,&quot;Super&quot;,30,&quot;https://www.wsdot.wa.gov/ferries/images/pages/boat_drawings/2-super.gif&quot;,&quot;https://www.wsdot.wa.gov/ferries/images/pages/boat_drawings/2-super-sillouette_sml.gif&quot;,&quot;Super&quot;}</td></tr></tbody></table></div>"
      ],
      "text/plain": [
       "shape: (21,)\n",
       "Series: 'Class' [struct[7]]\n",
       "[\n",
       "\t{10,310,\"Issaquah 130\",40,\"https://www.wsdot.wa.gov/ferries/images/pages/boat_drawings/4-issaquah130.gif\",\"https://www.wsdot.wa.gov/ferries/images/pages/boat_drawings/4-issaquah130-sillouette_sml.gif\",\"Issaquah\"}\n",
       "\t{10,310,\"Issaquah 130\",40,\"https://www.wsdot.wa.gov/ferries/images/pages/boat_drawings/4-issaquah130.gif\",\"https://www.wsdot.wa.gov/ferries/images/pages/boat_drawings/4-issaquah130-sillouette_sml.gif\",\"Issaquah\"}\n",
       "\t{162,427,\"Kwa-di Tabil\",75,\"https://www.wsdot.wa.gov/ferries/images/pages/boat_drawings/13-kwaditabil.gif\",\"https://www.wsdot.wa.gov/ferries/images/pages/boat_drawings/13-kwaditabil-silouette_sml.gif\",\"Kwa-di Tabil\"}\n",
       "\t{100,319,\"Olympic\",35,\"https://www.wsdot.wa.gov/ferries/images/pages/boat_drawings/8-olympic-2014.gif\",\"https://www.wsdot.wa.gov/ferries/images/pages/boat_drawings/3-issaquah-sillouette_sml.gif\",\"Olympic\"}\n",
       "\t{10,310,\"Issaquah 130\",40,\"https://www.wsdot.wa.gov/ferries/images/pages/boat_drawings/4-issaquah130.gif\",\"https://www.wsdot.wa.gov/ferries/images/pages/boat_drawings/4-issaquah130-sillouette_sml.gif\",\"Issaquah\"}\n",
       "\t…\n",
       "\t{20,311,\"Evergreen State\",60,\"https://www.wsdot.wa.gov/ferries/images/pages/boat_drawings/5-evergreenstate.gif\",\"https://www.wsdot.wa.gov/ferries/images/pages/boat_drawings/4-issaquah130-sillouette_sml.gif\",\"Evergreen State\"}\n",
       "\t{100,319,\"Olympic\",35,\"https://www.wsdot.wa.gov/ferries/images/pages/boat_drawings/8-olympic-2014.gif\",\"https://www.wsdot.wa.gov/ferries/images/pages/boat_drawings/3-issaquah-sillouette_sml.gif\",\"Olympic\"}\n",
       "\t{70,316,\"Jumbo\",20,\"https://www.wsdot.wa.gov/ferries/images/pages/boat_drawings/1-jumbo.gif\",\"https://www.wsdot.wa.gov/ferries/images/pages/boat_drawings/1-jumbo-sillouette_sml.gif\",\"Jumbo\"}\n",
       "\t{90,318,\"Jumbo Mark II\",10,\"https://www.wsdot.wa.gov/ferries/images/pages/boat_drawings/0-mark2.gif\",\"https://www.wsdot.wa.gov/ferries/images/pages/boat_drawings/0-mark2-sillouette_sml.gif\",\"Jumbo Mark II\"}\n",
       "\t{50,314,\"Super\",30,\"https://www.wsdot.wa.gov/ferries/images/pages/boat_drawings/2-super.gif\",\"https://www.wsdot.wa.gov/ferries/images/pages/boat_drawings/2-super-sillouette_sml.gif\",\"Super\"}\n",
       "]"
      ]
     },
     "execution_count": 18,
     "metadata": {},
     "output_type": "execute_result"
    }
   ],
   "source": [
    "vessel_verbose_raw.get_column(\"Class\")"
   ]
  },
  {
   "cell_type": "code",
   "execution_count": 19,
   "metadata": {
    "tags": []
   },
   "outputs": [
    {
     "data": {
      "text/plain": [
       "{'ClassID': 10,\n",
       " 'ClassSubjectID': 310,\n",
       " 'ClassName': 'Issaquah 130',\n",
       " 'SortSeq': 40,\n",
       " 'DrawingImg': 'https://www.wsdot.wa.gov/ferries/images/pages/boat_drawings/4-issaquah130.gif',\n",
       " 'SilhouetteImg': 'https://www.wsdot.wa.gov/ferries/images/pages/boat_drawings/4-issaquah130-sillouette_sml.gif',\n",
       " 'PublicDisplayName': 'Issaquah'}"
      ]
     },
     "execution_count": 19,
     "metadata": {},
     "output_type": "execute_result"
    }
   ],
   "source": [
    "vessel_verbose_raw.get_column(\"Class\").to_list()[0]"
   ]
  },
  {
   "cell_type": "markdown",
   "metadata": {},
   "source": [
    "This data would be easier to work with if it was in a tabular format, and not a nested dictionary. To do this, unnest the `Class` struct so that each data point is in its own column."
   ]
  },
  {
   "cell_type": "code",
   "execution_count": 20,
   "metadata": {},
   "outputs": [
    {
     "data": {
      "text/html": [
       "<div><style>\n",
       ".dataframe > thead > tr,\n",
       ".dataframe > tbody > tr {\n",
       "  text-align: right;\n",
       "  white-space: pre-wrap;\n",
       "}\n",
       "</style>\n",
       "<small>shape: (2, 2)</small><table border=\"1\" class=\"dataframe\"><thead><tr><th>VesselName</th><th>Class</th></tr><tr><td>str</td><td>struct[7]</td></tr></thead><tbody><tr><td>&quot;Cathlamet&quot;</td><td>{10,310,&quot;Issaquah 130&quot;,40,&quot;https://www.wsdot.wa.gov/ferries/images/pages/boat_drawings/4-issaquah130.gif&quot;,&quot;https://www.wsdot.wa.gov/ferries/images/pages/boat_drawings/4-issaquah130-sillouette_sml.gif&quot;,&quot;Issaquah&quot;}</td></tr><tr><td>&quot;Chelan&quot;</td><td>{10,310,&quot;Issaquah 130&quot;,40,&quot;https://www.wsdot.wa.gov/ferries/images/pages/boat_drawings/4-issaquah130.gif&quot;,&quot;https://www.wsdot.wa.gov/ferries/images/pages/boat_drawings/4-issaquah130-sillouette_sml.gif&quot;,&quot;Issaquah&quot;}</td></tr></tbody></table></div>"
      ],
      "text/plain": [
       "shape: (2, 2)\n",
       "┌────────────┬─────────────────────────────────┐\n",
       "│ VesselName ┆ Class                           │\n",
       "│ ---        ┆ ---                             │\n",
       "│ str        ┆ struct[7]                       │\n",
       "╞════════════╪═════════════════════════════════╡\n",
       "│ Cathlamet  ┆ {10,310,\"Issaquah 130\",40,\"htt… │\n",
       "│ Chelan     ┆ {10,310,\"Issaquah 130\",40,\"htt… │\n",
       "└────────────┴─────────────────────────────────┘"
      ]
     },
     "execution_count": 20,
     "metadata": {},
     "output_type": "execute_result"
    }
   ],
   "source": [
    "vessel_verbose_raw.select(\"VesselName\", \"Class\").head(2)"
   ]
  },
  {
   "cell_type": "code",
   "execution_count": 21,
   "metadata": {
    "tags": []
   },
   "outputs": [],
   "source": [
    "vessel_verbose_raw = vessel_verbose_raw.unnest(\"Class\")"
   ]
  },
  {
   "cell_type": "code",
   "execution_count": 22,
   "metadata": {
    "tags": []
   },
   "outputs": [
    {
     "data": {
      "text/html": [
       "<div><style>\n",
       ".dataframe > thead > tr,\n",
       ".dataframe > tbody > tr {\n",
       "  text-align: right;\n",
       "  white-space: pre-wrap;\n",
       "}\n",
       "</style>\n",
       "<small>shape: (2, 3)</small><table border=\"1\" class=\"dataframe\"><thead><tr><th>VesselName</th><th>DrawingImg</th><th>PublicDisplayName</th></tr><tr><td>str</td><td>str</td><td>str</td></tr></thead><tbody><tr><td>&quot;Cathlamet&quot;</td><td>&quot;https://www.wsdot.wa.gov/ferri…</td><td>&quot;Issaquah&quot;</td></tr><tr><td>&quot;Chelan&quot;</td><td>&quot;https://www.wsdot.wa.gov/ferri…</td><td>&quot;Issaquah&quot;</td></tr></tbody></table></div>"
      ],
      "text/plain": [
       "shape: (2, 3)\n",
       "┌────────────┬─────────────────────────────────┬───────────────────┐\n",
       "│ VesselName ┆ DrawingImg                      ┆ PublicDisplayName │\n",
       "│ ---        ┆ ---                             ┆ ---               │\n",
       "│ str        ┆ str                             ┆ str               │\n",
       "╞════════════╪═════════════════════════════════╪═══════════════════╡\n",
       "│ Cathlamet  ┆ https://www.wsdot.wa.gov/ferri… ┆ Issaquah          │\n",
       "│ Chelan     ┆ https://www.wsdot.wa.gov/ferri… ┆ Issaquah          │\n",
       "└────────────┴─────────────────────────────────┴───────────────────┘"
      ]
     },
     "execution_count": 22,
     "metadata": {},
     "output_type": "execute_result"
    }
   ],
   "source": [
    "vessel_verbose_raw.select(\"VesselName\", \"DrawingImg\", \"PublicDisplayName\").head(2)"
   ]
  },
  {
   "cell_type": "markdown",
   "metadata": {
    "tags": []
   },
   "source": [
    "VesselDrawingImg only as null values, so we should drop it."
   ]
  },
  {
   "cell_type": "code",
   "execution_count": 23,
   "metadata": {
    "tags": []
   },
   "outputs": [
    {
     "data": {
      "text/html": [
       "<div><style>\n",
       ".dataframe > thead > tr,\n",
       ".dataframe > tbody > tr {\n",
       "  text-align: right;\n",
       "  white-space: pre-wrap;\n",
       "}\n",
       "</style>\n",
       "<small>shape: (1, 2)</small><table border=\"1\" class=\"dataframe\"><thead><tr><th>VesselDrawingImg</th><th>count</th></tr><tr><td>null</td><td>u32</td></tr></thead><tbody><tr><td>null</td><td>21</td></tr></tbody></table></div>"
      ],
      "text/plain": [
       "shape: (1, 2)\n",
       "┌──────────────────┬───────┐\n",
       "│ VesselDrawingImg ┆ count │\n",
       "│ ---              ┆ ---   │\n",
       "│ null             ┆ u32   │\n",
       "╞══════════════════╪═══════╡\n",
       "│ null             ┆ 21    │\n",
       "└──────────────────┴───────┘"
      ]
     },
     "execution_count": 23,
     "metadata": {},
     "output_type": "execute_result"
    }
   ],
   "source": [
    "vessel_verbose_raw.get_column(\"VesselDrawingImg\").value_counts()"
   ]
  },
  {
   "cell_type": "code",
   "execution_count": 24,
   "metadata": {
    "tags": []
   },
   "outputs": [],
   "source": [
    "vessel_verbose_raw = vessel_verbose_raw.drop(\"VesselDrawingImg\")"
   ]
  },
  {
   "cell_type": "markdown",
   "metadata": {},
   "source": [
    "Now we can write the data to the database."
   ]
  },
  {
   "cell_type": "code",
   "execution_count": 28,
   "metadata": {
    "tags": []
   },
   "outputs": [
    {
     "name": "stdout",
     "output_type": "stream",
     "text": [
      "Loading .env\n"
     ]
    }
   ],
   "source": [
    "# Get the database credentials\n",
    "if Path(\".env\").exists():\n",
    "    print(\"Loading .env\")\n",
    "    load_dotenv(override=True)\n",
    "\n",
    "uri = os.environ[\"DATABASE_URI_PYTHON\"]"
   ]
  },
  {
   "cell_type": "code",
   "execution_count": 34,
   "metadata": {},
   "outputs": [],
   "source": [
    "# Get your username\n",
    "from posit.connect import Client\n",
    "\n",
    "with Client() as client:\n",
    "    username = client.me.username\n",
    "\n",
    "username = \"nateniemann\""
   ]
  },
  {
   "cell_type": "code",
   "execution_count": 35,
   "metadata": {
    "tags": []
   },
   "outputs": [
    {
     "data": {
      "text/plain": [
       "21"
      ]
     },
     "execution_count": 35,
     "metadata": {},
     "output_type": "execute_result"
    }
   ],
   "source": [
    "# Write to the database\n",
    "vessel_verbose_raw.write_database(\n",
    "    table_name=f\"{username}_vessel_verbose_raw\",\n",
    "    connection=uri,\n",
    "    engine=\"adbc\",\n",
    "    if_table_exists='replace'\n",
    ")"
   ]
  },
  {
   "cell_type": "markdown",
   "metadata": {},
   "source": [
    "To reuse this data in future code we can use `pl.read_database_uri`."
   ]
  },
  {
   "cell_type": "code",
   "execution_count": 37,
   "metadata": {
    "tags": []
   },
   "outputs": [
    {
     "data": {
      "text/html": [
       "<div><style>\n",
       ".dataframe > thead > tr,\n",
       ".dataframe > tbody > tr {\n",
       "  text-align: right;\n",
       "  white-space: pre-wrap;\n",
       "}\n",
       "</style>\n",
       "<small>shape: (5, 44)</small><table border=\"1\" class=\"dataframe\"><thead><tr><th>VesselID</th><th>VesselSubjectID</th><th>VesselName</th><th>VesselAbbrev</th><th>ClassID</th><th>ClassSubjectID</th><th>ClassName</th><th>SortSeq</th><th>DrawingImg</th><th>SilhouetteImg</th><th>PublicDisplayName</th><th>Status</th><th>OwnedByWSF</th><th>CarDeckRestroom</th><th>CarDeckShelter</th><th>Elevator</th><th>ADAAccessible</th><th>MainCabinGalley</th><th>MainCabinRestroom</th><th>PublicWifi</th><th>ADAInfo</th><th>AdditionalInfo</th><th>VesselNameDesc</th><th>VesselHistory</th><th>Beam</th><th>CityBuilt</th><th>SpeedInKnots</th><th>Draft</th><th>EngineCount</th><th>Horsepower</th><th>Length</th><th>MaxPassengerCount</th><th>PassengerOnly</th><th>FastFerry</th><th>PropulsionInfo</th><th>TallDeckClearance</th><th>RegDeckSpace</th><th>TallDeckSpace</th><th>Tonnage</th><th>Displacement</th><th>YearBuilt</th><th>YearRebuilt</th><th>SolasCertified</th><th>MaxPassengerCountForInternational</th></tr><tr><td>i64</td><td>i64</td><td>str</td><td>str</td><td>i64</td><td>i64</td><td>str</td><td>i64</td><td>str</td><td>str</td><td>str</td><td>i64</td><td>bool</td><td>bool</td><td>bool</td><td>bool</td><td>bool</td><td>bool</td><td>bool</td><td>bool</td><td>str</td><td>str</td><td>str</td><td>str</td><td>str</td><td>str</td><td>i64</td><td>str</td><td>i64</td><td>i64</td><td>str</td><td>i64</td><td>bool</td><td>bool</td><td>str</td><td>i64</td><td>i64</td><td>i64</td><td>i64</td><td>i64</td><td>i64</td><td>i64</td><td>bool</td><td>i64</td></tr></thead><tbody><tr><td>1</td><td>1</td><td>&quot;Cathlamet&quot;</td><td>&quot;CAT&quot;</td><td>10</td><td>310</td><td>&quot;Issaquah 130&quot;</td><td>40</td><td>&quot;https://www.wsdot.wa.gov/ferri…</td><td>&quot;https://www.wsdot.wa.gov/ferri…</td><td>&quot;Issaquah&quot;</td><td>1</td><td>true</td><td>true</td><td>false</td><td>true</td><td>true</td><td>true</td><td>true</td><td>false</td><td>&quot;The MV Cathlamet has elevator …</td><td>&quot; &quot;</td><td>&quot;From the Kathlamet tribe, the …</td><td>&quot; &quot;</td><td>&quot;78&#x27; 8&quot;&quot;</td><td>&quot;Seattle, WA&quot;</td><td>16</td><td>&quot;16&#x27; 6&quot;&quot;</td><td>2</td><td>5000</td><td>&quot;328&#x27;&quot;</td><td>1200</td><td>false</td><td>false</td><td>&quot;DIESEL&quot;</td><td>186</td><td>124</td><td>26</td><td>2477</td><td>3310</td><td>1981</td><td>1993</td><td>false</td><td>null</td></tr><tr><td>2</td><td>2</td><td>&quot;Chelan&quot;</td><td>&quot;CHE&quot;</td><td>10</td><td>310</td><td>&quot;Issaquah 130&quot;</td><td>40</td><td>&quot;https://www.wsdot.wa.gov/ferri…</td><td>&quot;https://www.wsdot.wa.gov/ferri…</td><td>&quot;Issaquah&quot;</td><td>1</td><td>true</td><td>true</td><td>false</td><td>true</td><td>true</td><td>true</td><td>true</td><td>false</td><td>&quot;The MV Chelan has elevator acc…</td><td>&quot; &quot;</td><td>&quot;From the Chelan  language: Tsi…</td><td>&quot; &quot;</td><td>&quot;78&#x27; 8&quot;&quot;</td><td>&quot;Seattle, WA&quot;</td><td>16</td><td>&quot;16&#x27; 9&quot;&quot;</td><td>2</td><td>5000</td><td>&quot;328&#x27;&quot;</td><td>1200</td><td>false</td><td>false</td><td>&quot;DIESEL&quot;</td><td>188</td><td>124</td><td>30</td><td>2477</td><td>3405</td><td>1981</td><td>2005</td><td>true</td><td>1090</td></tr><tr><td>65</td><td>428</td><td>&quot;Chetzemoka&quot;</td><td>&quot;CHZ&quot;</td><td>162</td><td>427</td><td>&quot;Kwa-di Tabil&quot;</td><td>75</td><td>&quot;https://www.wsdot.wa.gov/ferri…</td><td>&quot;https://www.wsdot.wa.gov/ferri…</td><td>&quot;Kwa-di Tabil&quot;</td><td>1</td><td>true</td><td>false</td><td>false</td><td>true</td><td>true</td><td>true</td><td>true</td><td>false</td><td>&quot;MV Chetzemoka has elevator acc…</td><td>null</td><td>&quot;The name honors a friendly Nat…</td><td>null</td><td>&quot;64&#x27;&quot;</td><td>&quot;Seattle&quot;</td><td>15</td><td>&quot;11&#x27;&quot;</td><td>2</td><td>6000</td><td>&quot;273&#x27; 8&quot;&quot;</td><td>748</td><td>false</td><td>false</td><td>&quot;DIESEL&quot;</td><td>192</td><td>64</td><td>9</td><td>4623</td><td>2415</td><td>2010</td><td>null</td><td>false</td><td>null</td></tr><tr><td>74</td><td>487</td><td>&quot;Chimacum&quot;</td><td>&quot;CHM&quot;</td><td>100</td><td>319</td><td>&quot;Olympic&quot;</td><td>35</td><td>&quot;https://www.wsdot.wa.gov/ferri…</td><td>&quot;https://www.wsdot.wa.gov/ferri…</td><td>&quot;Olympic&quot;</td><td>1</td><td>true</td><td>true</td><td>true</td><td>true</td><td>true</td><td>true</td><td>true</td><td>false</td><td>&quot;The vessel has two ADA complia…</td><td>null</td><td>&quot;“The Chimacum People who spoke…</td><td>&quot;Chimacum is the third of the 1…</td><td>&quot;83&#x27; 2&quot;&quot;</td><td>&quot;Seattle, WA&quot;</td><td>17</td><td>&quot;18&#x27;&quot;</td><td>2</td><td>6000</td><td>&quot;362&#x27; 3&quot;&quot;</td><td>1500</td><td>false</td><td>false</td><td>&quot;DIESEL&quot;</td><td>192</td><td>144</td><td>34</td><td>3525</td><td>4384</td><td>2017</td><td>null</td><td>false</td><td>null</td></tr><tr><td>15</td><td>15</td><td>&quot;Issaquah&quot;</td><td>&quot;ISS&quot;</td><td>10</td><td>310</td><td>&quot;Issaquah 130&quot;</td><td>40</td><td>&quot;https://www.wsdot.wa.gov/ferri…</td><td>&quot;https://www.wsdot.wa.gov/ferri…</td><td>&quot;Issaquah&quot;</td><td>1</td><td>true</td><td>true</td><td>false</td><td>true</td><td>true</td><td>true</td><td>true</td><td>false</td><td>&quot;The MV Issaquah has elevator a…</td><td>&quot; &quot;</td><td>&quot;&quot;Snake.&quot; Native Americans who …</td><td>&quot; &quot;</td><td>&quot;78&#x27; 8&quot;&quot;</td><td>&quot;Seattle, WA&quot;</td><td>16</td><td>&quot;16&#x27; 6&quot;&quot;</td><td>2</td><td>5000</td><td>&quot;328&#x27;&quot;</td><td>1200</td><td>false</td><td>false</td><td>&quot;DIESEL&quot;</td><td>188</td><td>124</td><td>26</td><td>2475</td><td>3310</td><td>1979</td><td>1989</td><td>false</td><td>null</td></tr></tbody></table></div>"
      ],
      "text/plain": [
       "shape: (5, 44)\n",
       "┌──────────┬───────────┬───────────┬───────────┬───┬───────────┬───────────┬───────────┬───────────┐\n",
       "│ VesselID ┆ VesselSub ┆ VesselNam ┆ VesselAbb ┆ … ┆ YearBuilt ┆ YearRebui ┆ SolasCert ┆ MaxPassen │\n",
       "│ ---      ┆ jectID    ┆ e         ┆ rev       ┆   ┆ ---       ┆ lt        ┆ ified     ┆ gerCountF │\n",
       "│ i64      ┆ ---       ┆ ---       ┆ ---       ┆   ┆ i64       ┆ ---       ┆ ---       ┆ orInterna │\n",
       "│          ┆ i64       ┆ str       ┆ str       ┆   ┆           ┆ i64       ┆ bool      ┆ tio…      │\n",
       "│          ┆           ┆           ┆           ┆   ┆           ┆           ┆           ┆ ---       │\n",
       "│          ┆           ┆           ┆           ┆   ┆           ┆           ┆           ┆ i64       │\n",
       "╞══════════╪═══════════╪═══════════╪═══════════╪═══╪═══════════╪═══════════╪═══════════╪═══════════╡\n",
       "│ 1        ┆ 1         ┆ Cathlamet ┆ CAT       ┆ … ┆ 1981      ┆ 1993      ┆ false     ┆ null      │\n",
       "│ 2        ┆ 2         ┆ Chelan    ┆ CHE       ┆ … ┆ 1981      ┆ 2005      ┆ true      ┆ 1090      │\n",
       "│ 65       ┆ 428       ┆ Chetzemok ┆ CHZ       ┆ … ┆ 2010      ┆ null      ┆ false     ┆ null      │\n",
       "│          ┆           ┆ a         ┆           ┆   ┆           ┆           ┆           ┆           │\n",
       "│ 74       ┆ 487       ┆ Chimacum  ┆ CHM       ┆ … ┆ 2017      ┆ null      ┆ false     ┆ null      │\n",
       "│ 15       ┆ 15        ┆ Issaquah  ┆ ISS       ┆ … ┆ 1979      ┆ 1989      ┆ false     ┆ null      │\n",
       "└──────────┴───────────┴───────────┴───────────┴───┴───────────┴───────────┴───────────┴───────────┘"
      ]
     },
     "execution_count": 37,
     "metadata": {},
     "output_type": "execute_result"
    }
   ],
   "source": [
    "# Test that you can read the data\n",
    "pl.read_database_uri(\n",
    "    query=f\"SELECT * FROM {username}_vessel_verbose_raw LIMIT 5;\",\n",
    "    uri=uri,\n",
    "    engine=\"adbc\"\n",
    ")"
   ]
  },
  {
   "cell_type": "markdown",
   "metadata": {},
   "source": [
    "## Task 3 - Get Other Data Sets"
   ]
  },
  {
   "cell_type": "markdown",
   "metadata": {},
   "source": [
    "### 🔄 Task"
   ]
  },
  {
   "cell_type": "markdown",
   "metadata": {},
   "source": [
    "Get the following additional data sets:\n",
    "\n",
    "- **Vessel History**: the `https://www.wsdot.wa.gov/Ferries/API/Vessels/rest/vesselhistory` endpoint contains historical data about sailings.\n",
    "- **Terminal locations**: the `https://www.wsdot.wa.gov/Ferries/API/terminals/rest/terminallocations` endpoint contains information about ferry terminals locations.\n",
    "- **Weather data**: the historical weather API from <https://open-meteo.com/en/docs/historical-weather-api> can be used to get weather data for all of the terminal locations."
   ]
  },
  {
   "cell_type": "markdown",
   "metadata": {},
   "source": [
    "### 🧑‍💻 Code"
   ]
  },
  {
   "cell_type": "markdown",
   "metadata": {},
   "source": [
    "#### Vessel History"
   ]
  },
  {
   "cell_type": "code",
   "execution_count": 38,
   "metadata": {
    "tags": []
   },
   "outputs": [
    {
     "data": {
      "text/plain": [
       "['Cathlamet',\n",
       " 'Chelan',\n",
       " 'Chetzemoka',\n",
       " 'Chimacum',\n",
       " 'Issaquah',\n",
       " 'Kaleetan',\n",
       " 'Kennewick',\n",
       " 'Kitsap',\n",
       " 'Kittitas',\n",
       " 'Puyallup',\n",
       " 'Salish',\n",
       " 'Samish',\n",
       " 'Sealth',\n",
       " 'Spokane',\n",
       " 'Suquamish',\n",
       " 'Tacoma',\n",
       " 'Tillikum',\n",
       " 'Tokitae',\n",
       " 'Walla Walla',\n",
       " 'Wenatchee',\n",
       " 'Yakima']"
      ]
     },
     "execution_count": 38,
     "metadata": {},
     "output_type": "execute_result"
    }
   ],
   "source": [
    "# Get all of the vessel names\n",
    "base_url = \"https://www.wsdot.wa.gov/Ferries/API/Vessels/rest\"\n",
    "params = {\"apiaccesscode\": os.environ[\"WSDOT_ACCESS_CODE\"]}\n",
    "\n",
    "with httpx.Client(base_url=base_url, params=params) as client:\n",
    "    response = client.get(\"/vesselverbose\")\n",
    "\n",
    "vessel_names = [i[\"VesselName\"] for i in response.json()]\n",
    "vessel_names"
   ]
  },
  {
   "cell_type": "code",
   "execution_count": 39,
   "metadata": {
    "tags": []
   },
   "outputs": [],
   "source": [
    "# For each vessel, get all of the history from the desired date range. Define\n",
    "# the start date and end date.\n",
    "import datetime"
   ]
  },
  {
   "cell_type": "code",
   "execution_count": 40,
   "metadata": {
    "tags": []
   },
   "outputs": [
    {
     "data": {
      "text/plain": [
       "datetime.date(2024, 3, 1)"
      ]
     },
     "execution_count": 40,
     "metadata": {},
     "output_type": "execute_result"
    }
   ],
   "source": [
    "# To speed things up, we will only download a subset of the data.\n",
    "start_date = datetime.date(2024, 3, 1)\n",
    "start_date"
   ]
  },
  {
   "cell_type": "code",
   "execution_count": 41,
   "metadata": {
    "tags": []
   },
   "outputs": [
    {
     "data": {
      "text/plain": [
       "datetime.date(2024, 8, 5)"
      ]
     },
     "execution_count": 41,
     "metadata": {},
     "output_type": "execute_result"
    }
   ],
   "source": [
    "# Subtract 1 week from today, the Weather API has a 5 day delay.\n",
    "end_date = datetime.date.today() - datetime.timedelta(weeks=1)\n",
    "end_date"
   ]
  },
  {
   "cell_type": "markdown",
   "metadata": {},
   "source": [
    "The vessel history data set is large. Instead of httpx, we will use hishel, which has built in easy caching. This is really useful when you are developing, and will prevent you from hitting the API too many times."
   ]
  },
  {
   "cell_type": "code",
   "execution_count": 42,
   "metadata": {
    "tags": []
   },
   "outputs": [],
   "source": [
    "import hishel\n",
    "\n",
    "storage = hishel.FileStorage(ttl=60 * 60 * 8)\n",
    "controller = hishel.Controller(allow_heuristics=True)\n",
    "\n",
    "cache_transport = hishel.CacheTransport(\n",
    "    transport=httpx.HTTPTransport(),\n",
    "    controller=controller,\n",
    "    storage=storage\n",
    ")"
   ]
  },
  {
   "cell_type": "code",
   "execution_count": 44,
   "metadata": {
    "tags": []
   },
   "outputs": [
    {
     "name": "stdout",
     "output_type": "stream",
     "text": [
      "Getting vessel history for Cathlamet...\n",
      "\t3,437 records retrieved for Cathlamet.\n",
      "\tCache used: True\n",
      "Getting vessel history for Chelan...\n",
      "\t1,807 records retrieved for Chelan.\n",
      "\tCache used: True\n",
      "Getting vessel history for Chetzemoka...\n",
      "\t5,099 records retrieved for Chetzemoka.\n",
      "\tCache used: True\n",
      "Getting vessel history for Chimacum...\n",
      "\t3,336 records retrieved for Chimacum.\n",
      "\tCache used: True\n",
      "Getting vessel history for Issaquah...\n",
      "\t2,201 records retrieved for Issaquah.\n",
      "\tCache used: True\n",
      "Getting vessel history for Kaleetan...\n",
      "\t2,181 records retrieved for Kaleetan.\n",
      "\tCache used: True\n",
      "Getting vessel history for Kennewick...\n",
      "\t3,078 records retrieved for Kennewick.\n",
      "\tCache used: True\n",
      "Getting vessel history for Kitsap...\n",
      "\t3,426 records retrieved for Kitsap.\n",
      "\tCache used: True\n",
      "Getting vessel history for Kittitas...\n",
      "\t6,368 records retrieved for Kittitas.\n",
      "\tCache used: True\n",
      "Getting vessel history for Puyallup...\n",
      "\t1,883 records retrieved for Puyallup.\n",
      "\tCache used: True\n",
      "Getting vessel history for Salish...\n",
      "\t894 records retrieved for Salish.\n",
      "\tCache used: True\n",
      "Getting vessel history for Samish...\n",
      "\t2,151 records retrieved for Samish.\n",
      "\tCache used: True\n",
      "Getting vessel history for Sealth...\n",
      "\t3,053 records retrieved for Sealth.\n",
      "\tCache used: True\n",
      "Getting vessel history for Spokane...\n",
      "\t2,902 records retrieved for Spokane.\n",
      "\tCache used: True\n",
      "Getting vessel history for Suquamish...\n",
      "\t3,010 records retrieved for Suquamish.\n",
      "\tCache used: True\n",
      "Getting vessel history for Tacoma...\n",
      "\t3,049 records retrieved for Tacoma.\n",
      "\tCache used: True\n",
      "Getting vessel history for Tillikum...\n",
      "\t3,420 records retrieved for Tillikum.\n",
      "\tCache used: True\n",
      "Getting vessel history for Tokitae...\n",
      "\t4,225 records retrieved for Tokitae.\n",
      "\tCache used: True\n",
      "Getting vessel history for Walla Walla...\n",
      "\t0 records retrieved for Walla Walla.\n",
      "\tCache used: True\n",
      "Getting vessel history for Wenatchee...\n",
      "\t0 records retrieved for Wenatchee.\n",
      "\tCache used: True\n",
      "Getting vessel history for Yakima...\n",
      "\t2,041 records retrieved for Yakima.\n",
      "\tCache used: True\n",
      "CPU times: user 358 ms, sys: 59.3 ms, total: 417 ms\n",
      "Wall time: 785 ms\n"
     ]
    }
   ],
   "source": [
    "%%time\n",
    "# Get the vessel history for each vessel.\n",
    "vessel_history_json = []\n",
    "\n",
    "for vessel_name in vessel_names:\n",
    "\n",
    "    print(f\"Getting vessel history for {vessel_name}...\")\n",
    "\n",
    "    with httpx.Client(base_url=base_url, params=params, transport=cache_transport) as client:\n",
    "\n",
    "        response = client.get(\n",
    "            f\"/vesselhistory/{vessel_name}/{start_date}/{end_date}\",\n",
    "            timeout=30,\n",
    "            extensions={\"force_cache\": True}\n",
    "        )\n",
    "\n",
    "        print(f\"\\t{len(response.json()):,} records retrieved for {vessel_name}.\")\n",
    "        print(f\"\\tCache used: {response.extensions['from_cache']}\")\n",
    "\n",
    "    vessel_history_json += response.json()"
   ]
  },
  {
   "cell_type": "markdown",
   "metadata": {},
   "source": [
    "Try running the above code again. The second time you run the cell block it will be much faster because all of the results are cached!"
   ]
  },
  {
   "cell_type": "code",
   "execution_count": 45,
   "metadata": {
    "tags": []
   },
   "outputs": [
    {
     "data": {
      "text/plain": [
       "'57,561'"
      ]
     },
     "execution_count": 45,
     "metadata": {},
     "output_type": "execute_result"
    }
   ],
   "source": [
    "# Check how many records were returned.\n",
    "f\"{len(vessel_history_json):,}\""
   ]
  },
  {
   "cell_type": "code",
   "execution_count": 46,
   "metadata": {
    "tags": []
   },
   "outputs": [
    {
     "data": {
      "text/plain": [
       "[{'VesselId': 31,\n",
       "  'Vessel': 'Cathlamet',\n",
       "  'Departing': 'Vashon',\n",
       "  'Arriving': 'Southworth',\n",
       "  'ScheduledDepart': '/Date(1709280900000-0800)/',\n",
       "  'ActualDepart': '/Date(1709280969000-0800)/',\n",
       "  'EstArrival': '/Date(1709281999000-0800)/',\n",
       "  'Date': '/Date(1709280900000-0800)/'},\n",
       " {'VesselId': 31,\n",
       "  'Vessel': 'Cathlamet',\n",
       "  'Departing': 'Southworth',\n",
       "  'Arriving': 'Fauntleroy',\n",
       "  'ScheduledDepart': '/Date(1709282100000-0800)/',\n",
       "  'ActualDepart': '/Date(1709282171000-0800)/',\n",
       "  'EstArrival': '/Date(1709283349000-0800)/',\n",
       "  'Date': '/Date(1709282100000-0800)/'}]"
      ]
     },
     "execution_count": 46,
     "metadata": {},
     "output_type": "execute_result"
    }
   ],
   "source": [
    "# Preview the first two records.\n",
    "vessel_history_json[0:2]"
   ]
  },
  {
   "cell_type": "code",
   "execution_count": 47,
   "metadata": {
    "tags": []
   },
   "outputs": [
    {
     "data": {
      "text/html": [
       "<div><style>\n",
       ".dataframe > thead > tr,\n",
       ".dataframe > tbody > tr {\n",
       "  text-align: right;\n",
       "  white-space: pre-wrap;\n",
       "}\n",
       "</style>\n",
       "<small>shape: (57_561, 8)</small><table border=\"1\" class=\"dataframe\"><thead><tr><th>VesselId</th><th>Vessel</th><th>Departing</th><th>Arriving</th><th>ScheduledDepart</th><th>ActualDepart</th><th>EstArrival</th><th>Date</th></tr><tr><td>i64</td><td>str</td><td>str</td><td>str</td><td>str</td><td>str</td><td>str</td><td>str</td></tr></thead><tbody><tr><td>31</td><td>&quot;Cathlamet&quot;</td><td>&quot;Vashon&quot;</td><td>&quot;Southworth&quot;</td><td>&quot;/Date(1709280900000-0800)/&quot;</td><td>&quot;/Date(1709280969000-0800)/&quot;</td><td>&quot;/Date(1709281999000-0800)/&quot;</td><td>&quot;/Date(1709280900000-0800)/&quot;</td></tr><tr><td>31</td><td>&quot;Cathlamet&quot;</td><td>&quot;Southworth&quot;</td><td>&quot;Fauntleroy&quot;</td><td>&quot;/Date(1709282100000-0800)/&quot;</td><td>&quot;/Date(1709282171000-0800)/&quot;</td><td>&quot;/Date(1709283349000-0800)/&quot;</td><td>&quot;/Date(1709282100000-0800)/&quot;</td></tr><tr><td>31</td><td>&quot;Cathlamet&quot;</td><td>&quot;Fauntleroy&quot;</td><td>&quot;Vashon&quot;</td><td>&quot;/Date(1709283900000-0800)/&quot;</td><td>&quot;/Date(1709284050000-0800)/&quot;</td><td>&quot;/Date(1709284950000-0800)/&quot;</td><td>&quot;/Date(1709283900000-0800)/&quot;</td></tr><tr><td>31</td><td>&quot;Cathlamet&quot;</td><td>&quot;Vashon&quot;</td><td>&quot;Southworth&quot;</td><td>&quot;/Date(1709285400000-0800)/&quot;</td><td>&quot;/Date(1709285430000-0800)/&quot;</td><td>&quot;/Date(1709286180000-0800)/&quot;</td><td>&quot;/Date(1709285400000-0800)/&quot;</td></tr><tr><td>32</td><td>&quot;Cathlamet&quot;</td><td>&quot;Vashon&quot;</td><td>&quot;Fauntleroy&quot;</td><td>&quot;/Date(1709294700000-0800)/&quot;</td><td>&quot;/Date(1709294795000-0800)/&quot;</td><td>&quot;/Date(1709295629000-0800)/&quot;</td><td>&quot;/Date(1709294700000-0800)/&quot;</td></tr><tr><td>&hellip;</td><td>&hellip;</td><td>&hellip;</td><td>&hellip;</td><td>&hellip;</td><td>&hellip;</td><td>&hellip;</td><td>&hellip;</td></tr><tr><td>25</td><td>&quot;Yakima&quot;</td><td>&quot;Lopez&quot;</td><td>&quot;Anacortes&quot;</td><td>&quot;/Date(1722907200000-0700)/&quot;</td><td>&quot;/Date(1722913410000-0700)/&quot;</td><td>&quot;/Date(1722916143000-0700)/&quot;</td><td>&quot;/Date(1722907200000-0700)/&quot;</td></tr><tr><td>27</td><td>&quot;Yakima&quot;</td><td>&quot;Anacortes&quot;</td><td>&quot;Lopez&quot;</td><td>&quot;/Date(1722908700000-0700)/&quot;</td><td>&quot;/Date(1722909353000-0700)/&quot;</td><td>&quot;/Date(1722911966000-0700)/&quot;</td><td>&quot;/Date(1722908700000-0700)/&quot;</td></tr><tr><td>25</td><td>&quot;Yakima&quot;</td><td>&quot;Anacortes&quot;</td><td>&quot;Shaw&quot;</td><td>&quot;/Date(1722911100000-0700)/&quot;</td><td>&quot;/Date(1722916920000-0700)/&quot;</td><td>&quot;/Date(1722919911000-0700)/&quot;</td><td>&quot;/Date(1722911100000-0700)/&quot;</td></tr><tr><td>25</td><td>&quot;Yakima&quot;</td><td>&quot;Shaw&quot;</td><td>&quot;Orcas&quot;</td><td>&quot;/Date(1722914400000-0700)/&quot;</td><td>&quot;/Date(1722920125000-0700)/&quot;</td><td>&quot;/Date(1722920695000-0700)/&quot;</td><td>&quot;/Date(1722914400000-0700)/&quot;</td></tr><tr><td>25</td><td>&quot;Yakima&quot;</td><td>&quot;Orcas&quot;</td><td>&quot;Anacortes&quot;</td><td>&quot;/Date(1722916200000-0700)/&quot;</td><td>&quot;/Date(1722921283000-0700)/&quot;</td><td>&quot;/Date(1722924625000-0700)/&quot;</td><td>&quot;/Date(1722916200000-0700)/&quot;</td></tr></tbody></table></div>"
      ],
      "text/plain": [
       "shape: (57_561, 8)\n",
       "┌──────────┬───────────┬────────────┬────────────┬────────────┬────────────┬───────────┬───────────┐\n",
       "│ VesselId ┆ Vessel    ┆ Departing  ┆ Arriving   ┆ ScheduledD ┆ ActualDepa ┆ EstArriva ┆ Date      │\n",
       "│ ---      ┆ ---       ┆ ---        ┆ ---        ┆ epart      ┆ rt         ┆ l         ┆ ---       │\n",
       "│ i64      ┆ str       ┆ str        ┆ str        ┆ ---        ┆ ---        ┆ ---       ┆ str       │\n",
       "│          ┆           ┆            ┆            ┆ str        ┆ str        ┆ str       ┆           │\n",
       "╞══════════╪═══════════╪════════════╪════════════╪════════════╪════════════╪═══════════╪═══════════╡\n",
       "│ 31       ┆ Cathlamet ┆ Vashon     ┆ Southworth ┆ /Date(1709 ┆ /Date(1709 ┆ /Date(170 ┆ /Date(170 │\n",
       "│          ┆           ┆            ┆            ┆ 280900000- ┆ 280969000- ┆ 928199900 ┆ 928090000 │\n",
       "│          ┆           ┆            ┆            ┆ 0800)/     ┆ 0800)/     ┆ 0-0800)/  ┆ 0-0800)/  │\n",
       "│ 31       ┆ Cathlamet ┆ Southworth ┆ Fauntleroy ┆ /Date(1709 ┆ /Date(1709 ┆ /Date(170 ┆ /Date(170 │\n",
       "│          ┆           ┆            ┆            ┆ 282100000- ┆ 282171000- ┆ 928334900 ┆ 928210000 │\n",
       "│          ┆           ┆            ┆            ┆ 0800)/     ┆ 0800)/     ┆ 0-0800)/  ┆ 0-0800)/  │\n",
       "│ 31       ┆ Cathlamet ┆ Fauntleroy ┆ Vashon     ┆ /Date(1709 ┆ /Date(1709 ┆ /Date(170 ┆ /Date(170 │\n",
       "│          ┆           ┆            ┆            ┆ 283900000- ┆ 284050000- ┆ 928495000 ┆ 928390000 │\n",
       "│          ┆           ┆            ┆            ┆ 0800)/     ┆ 0800)/     ┆ 0-0800)/  ┆ 0-0800)/  │\n",
       "│ 31       ┆ Cathlamet ┆ Vashon     ┆ Southworth ┆ /Date(1709 ┆ /Date(1709 ┆ /Date(170 ┆ /Date(170 │\n",
       "│          ┆           ┆            ┆            ┆ 285400000- ┆ 285430000- ┆ 928618000 ┆ 928540000 │\n",
       "│          ┆           ┆            ┆            ┆ 0800)/     ┆ 0800)/     ┆ 0-0800)/  ┆ 0-0800)/  │\n",
       "│ 32       ┆ Cathlamet ┆ Vashon     ┆ Fauntleroy ┆ /Date(1709 ┆ /Date(1709 ┆ /Date(170 ┆ /Date(170 │\n",
       "│          ┆           ┆            ┆            ┆ 294700000- ┆ 294795000- ┆ 929562900 ┆ 929470000 │\n",
       "│          ┆           ┆            ┆            ┆ 0800)/     ┆ 0800)/     ┆ 0-0800)/  ┆ 0-0800)/  │\n",
       "│ …        ┆ …         ┆ …          ┆ …          ┆ …          ┆ …          ┆ …         ┆ …         │\n",
       "│ 25       ┆ Yakima    ┆ Lopez      ┆ Anacortes  ┆ /Date(1722 ┆ /Date(1722 ┆ /Date(172 ┆ /Date(172 │\n",
       "│          ┆           ┆            ┆            ┆ 907200000- ┆ 913410000- ┆ 291614300 ┆ 290720000 │\n",
       "│          ┆           ┆            ┆            ┆ 0700)/     ┆ 0700)/     ┆ 0-0700)/  ┆ 0-0700)/  │\n",
       "│ 27       ┆ Yakima    ┆ Anacortes  ┆ Lopez      ┆ /Date(1722 ┆ /Date(1722 ┆ /Date(172 ┆ /Date(172 │\n",
       "│          ┆           ┆            ┆            ┆ 908700000- ┆ 909353000- ┆ 291196600 ┆ 290870000 │\n",
       "│          ┆           ┆            ┆            ┆ 0700)/     ┆ 0700)/     ┆ 0-0700)/  ┆ 0-0700)/  │\n",
       "│ 25       ┆ Yakima    ┆ Anacortes  ┆ Shaw       ┆ /Date(1722 ┆ /Date(1722 ┆ /Date(172 ┆ /Date(172 │\n",
       "│          ┆           ┆            ┆            ┆ 911100000- ┆ 916920000- ┆ 291991100 ┆ 291110000 │\n",
       "│          ┆           ┆            ┆            ┆ 0700)/     ┆ 0700)/     ┆ 0-0700)/  ┆ 0-0700)/  │\n",
       "│ 25       ┆ Yakima    ┆ Shaw       ┆ Orcas      ┆ /Date(1722 ┆ /Date(1722 ┆ /Date(172 ┆ /Date(172 │\n",
       "│          ┆           ┆            ┆            ┆ 914400000- ┆ 920125000- ┆ 292069500 ┆ 291440000 │\n",
       "│          ┆           ┆            ┆            ┆ 0700)/     ┆ 0700)/     ┆ 0-0700)/  ┆ 0-0700)/  │\n",
       "│ 25       ┆ Yakima    ┆ Orcas      ┆ Anacortes  ┆ /Date(1722 ┆ /Date(1722 ┆ /Date(172 ┆ /Date(172 │\n",
       "│          ┆           ┆            ┆            ┆ 916200000- ┆ 921283000- ┆ 292462500 ┆ 291620000 │\n",
       "│          ┆           ┆            ┆            ┆ 0700)/     ┆ 0700)/     ┆ 0-0700)/  ┆ 0-0700)/  │\n",
       "└──────────┴───────────┴────────────┴────────────┴────────────┴────────────┴───────────┴───────────┘"
      ]
     },
     "execution_count": 47,
     "metadata": {},
     "output_type": "execute_result"
    }
   ],
   "source": [
    "# Convert the data from JSON to a polars DataFrame\n",
    "vessel_history_raw = pl.DataFrame(vessel_history_json)\n",
    "vessel_history_raw"
   ]
  },
  {
   "cell_type": "code",
   "execution_count": 48,
   "metadata": {
    "tags": []
   },
   "outputs": [
    {
     "data": {
      "text/plain": [
       "57561"
      ]
     },
     "execution_count": 48,
     "metadata": {},
     "output_type": "execute_result"
    }
   ],
   "source": [
    "# Write to the database\n",
    "vessel_history_raw.write_database(\n",
    "    table_name=f\"{username}_vessel_history_raw\",\n",
    "    connection=uri,\n",
    "    engine=\"adbc\",\n",
    "    if_table_exists='replace'\n",
    ")"
   ]
  },
  {
   "cell_type": "markdown",
   "metadata": {},
   "source": [
    "#### Terminal Locations"
   ]
  },
  {
   "cell_type": "code",
   "execution_count": 49,
   "metadata": {
    "tags": []
   },
   "outputs": [],
   "source": [
    "# Get all of the terminal location data\n",
    "base_url = \"https://www.wsdot.wa.gov/Ferries/API/terminals/rest\"\n",
    "params = {\"apiaccesscode\": os.environ[\"WSDOT_ACCESS_CODE\"]}\n",
    "\n",
    "with httpx.Client(base_url=base_url, params=params) as client:\n",
    "    response = client.get(\"/terminallocations\")"
   ]
  },
  {
   "cell_type": "code",
   "execution_count": 50,
   "metadata": {
    "tags": []
   },
   "outputs": [
    {
     "data": {
      "text/plain": [
       "'20'"
      ]
     },
     "execution_count": 50,
     "metadata": {},
     "output_type": "execute_result"
    }
   ],
   "source": [
    "# Check how many records were returned.\n",
    "f\"{len(response.json()):,}\""
   ]
  },
  {
   "cell_type": "code",
   "execution_count": 51,
   "metadata": {
    "tags": []
   },
   "outputs": [
    {
     "data": {
      "text/plain": [
       "[{'TerminalID': 1,\n",
       "  'TerminalSubjectID': 111,\n",
       "  'RegionID': 1,\n",
       "  'TerminalName': 'Anacortes',\n",
       "  'TerminalAbbrev': 'ANA',\n",
       "  'SortSeq': 10,\n",
       "  'Latitude': 48.507351,\n",
       "  'Longitude': -122.677,\n",
       "  'AddressLineOne': '2100 Ferry Terminal Road',\n",
       "  'AddressLineTwo': None,\n",
       "  'City': 'Anacortes',\n",
       "  'State': 'WA',\n",
       "  'ZipCode': '98221',\n",
       "  'Country': 'USA',\n",
       "  'MapLink': 'https://www.google.com/maps/place/Anacortes+Ferry+Terminal,+Anacortes,+WA+98221/@48.5060112,-122.6776819,15z/data=!4m2!3m1!1s0x5485790ea2748ed5:0x5c9a071494b5411f</p>',\n",
       "  'Directions': 'From Interstate 5 take exit 230 and follow SR 20 westbound to Anacortes. After arriving in Anacortes continue north on Commercial Ave. Turn left on 12th St, which becomes Oakes Ave, and then continue to the ferry terminal.<p>\\r\\n<b>Dropping off or picking up?</b><p>\\r\\nWhen approaching the ferry terminal to pick up or drop off and not disabled, follow Ferry Terminal Road to the left of the auto toll booths to the parking lot near the terminal. There should be parking near the sidewalk where the buses turn around for a quick pick up/drop off.</p>',\n",
       "  'DispGISZoomLoc': [{'ZoomLevel': 0,\n",
       "    'Latitude': 48.507351,\n",
       "    'Longitude': -122.677},\n",
       "   {'ZoomLevel': 1, 'Latitude': 48.507351, 'Longitude': -122.677},\n",
       "   {'ZoomLevel': 2, 'Latitude': 48.507351, 'Longitude': -122.677},\n",
       "   {'ZoomLevel': 3, 'Latitude': 48.507351, 'Longitude': -122.677},\n",
       "   {'ZoomLevel': 4, 'Latitude': 48.507351, 'Longitude': -122.677},\n",
       "   {'ZoomLevel': 5, 'Latitude': 48.507351, 'Longitude': -122.677},\n",
       "   {'ZoomLevel': 6, 'Latitude': 48.507351, 'Longitude': -122.677},\n",
       "   {'ZoomLevel': 7, 'Latitude': 48.507351, 'Longitude': -122.677},\n",
       "   {'ZoomLevel': 8, 'Latitude': 48.507351, 'Longitude': -122.677},\n",
       "   {'ZoomLevel': 9, 'Latitude': 48.507351, 'Longitude': -122.677},\n",
       "   {'ZoomLevel': 10, 'Latitude': 48.499482, 'Longitude': -122.664992},\n",
       "   {'ZoomLevel': 11, 'Latitude': 48.501302, 'Longitude': -122.668425},\n",
       "   {'ZoomLevel': 12, 'Latitude': 48.500619, 'Longitude': -122.678038},\n",
       "   {'ZoomLevel': 13, 'Latitude': 48.504032, 'Longitude': -122.679068},\n",
       "   {'ZoomLevel': 14, 'Latitude': 48.506022, 'Longitude': -122.678725},\n",
       "   {'ZoomLevel': 15, 'Latitude': 48.506591, 'Longitude': -122.678124},\n",
       "   {'ZoomLevel': 16, 'Latitude': 48.506591, 'Longitude': -122.677995},\n",
       "   {'ZoomLevel': 17, 'Latitude': 48.506612, 'Longitude': -122.678006}]},\n",
       " {'TerminalID': 3,\n",
       "  'TerminalSubjectID': 103,\n",
       "  'RegionID': 4,\n",
       "  'TerminalName': 'Bainbridge Island',\n",
       "  'TerminalAbbrev': 'BBI',\n",
       "  'SortSeq': 40,\n",
       "  'Latitude': 47.622339,\n",
       "  'Longitude': -122.509617,\n",
       "  'AddressLineOne': '270 Olympic Drive SE',\n",
       "  'AddressLineTwo': None,\n",
       "  'City': 'Bainbridge Island',\n",
       "  'State': 'WA',\n",
       "  'ZipCode': '98110',\n",
       "  'Country': 'USA',\n",
       "  'MapLink': 'http://maps.google.com/maps?f=d&saddr=47.622339,-122.509617&daddr=&hl=en&geocode=FcOo1gIdz6ay-A%3B&mra=ls&sll=47.622339,-122.509617&sspn=0.010529,0.019226&ie=UTF8&z=16',\n",
       "  'Directions': 'Northbound on Highway 3: Take the \"Poulsbo, Bainbridge Island\" exit. You must turn right off the exit ramp. Continue to follow this road for approximately 13 miles; it will take you straight to the ferry dock.<p> \\r\\nSouthbound from the Hood Canal Bridge: Make a right turn coming off the bridge. After driving approximately 6 miles, you will come to the \"Poulsbo, Bainbridge Island\" exit. Exit at that point and follow the road for aproximately 13 miles.<p> \\r\\nSouthbound from the Kingston area: Follow the road from Kingston for about 5 miles until you come to a stoplight. (Valley Nursery and a Kitsap Transit bus parking lot will be off to the left.) Turn left and follow the road for about 12.5 miles to the ferry terminal.<p>\\r\\n<b>Dropping off or picking up?</b>\\r\\nThe pick up or drop off spot is located up front by the terminal building. ',\n",
       "  'DispGISZoomLoc': [{'ZoomLevel': 0,\n",
       "    'Latitude': 47.622339,\n",
       "    'Longitude': -122.509617},\n",
       "   {'ZoomLevel': 1, 'Latitude': 47.622339, 'Longitude': -122.509617},\n",
       "   {'ZoomLevel': 2, 'Latitude': 47.622339, 'Longitude': -122.509617},\n",
       "   {'ZoomLevel': 3, 'Latitude': 47.622339, 'Longitude': -122.509617},\n",
       "   {'ZoomLevel': 4, 'Latitude': 47.622339, 'Longitude': -122.509617},\n",
       "   {'ZoomLevel': 5, 'Latitude': 47.622339, 'Longitude': -122.509617},\n",
       "   {'ZoomLevel': 6, 'Latitude': 47.622339, 'Longitude': -122.509617},\n",
       "   {'ZoomLevel': 7, 'Latitude': 47.622339, 'Longitude': -122.509617},\n",
       "   {'ZoomLevel': 8, 'Latitude': 47.622339, 'Longitude': -122.509617},\n",
       "   {'ZoomLevel': 9, 'Latitude': 47.622339, 'Longitude': -122.509617},\n",
       "   {'ZoomLevel': 10, 'Latitude': 47.622339, 'Longitude': -122.509617},\n",
       "   {'ZoomLevel': 11, 'Latitude': 47.625784, 'Longitude': -122.516214},\n",
       "   {'ZoomLevel': 12, 'Latitude': 47.624396, 'Longitude': -122.512437},\n",
       "   {'ZoomLevel': 13, 'Latitude': 47.623586, 'Longitude': -122.511407},\n",
       "   {'ZoomLevel': 14, 'Latitude': 47.623065, 'Longitude': -122.511063},\n",
       "   {'ZoomLevel': 15, 'Latitude': 47.622892, 'Longitude': -122.510634},\n",
       "   {'ZoomLevel': 16, 'Latitude': 47.622747, 'Longitude': -122.510463},\n",
       "   {'ZoomLevel': 17, 'Latitude': 47.622682, 'Longitude': -122.510387}]}]"
      ]
     },
     "execution_count": 51,
     "metadata": {},
     "output_type": "execute_result"
    }
   ],
   "source": [
    "# Preview the first two records.\n",
    "response.json()[0:2]"
   ]
  },
  {
   "cell_type": "code",
   "execution_count": 52,
   "metadata": {
    "tags": []
   },
   "outputs": [
    {
     "data": {
      "text/plain": [
       "{'Anacortes': 'ANA',\n",
       " 'Bainbridge Island': 'BBI',\n",
       " 'Bremerton': 'BRE',\n",
       " 'Clinton': 'CLI',\n",
       " 'Coupeville ': 'COU',\n",
       " 'Edmonds': 'EDM',\n",
       " 'Fauntleroy': 'FAU',\n",
       " 'Friday Harbor': 'FRH',\n",
       " 'Kingston': 'KIN',\n",
       " 'Lopez Island': 'LOP',\n",
       " 'Mukilteo': 'MUK',\n",
       " 'Orcas Island': 'ORI',\n",
       " 'Point Defiance': 'PTD',\n",
       " 'Port Townsend': 'POT',\n",
       " 'Seattle': 'P52',\n",
       " 'Shaw Island': 'SHI',\n",
       " 'Sidney B.C.': 'SID',\n",
       " 'Southworth': 'SOU',\n",
       " 'Tahlequah': 'TAH',\n",
       " 'Vashon Island': 'VAI'}"
      ]
     },
     "execution_count": 52,
     "metadata": {},
     "output_type": "execute_result"
    }
   ],
   "source": [
    "# List all of the terminal names\n",
    "{terminal[\"TerminalName\"]: terminal[\"TerminalAbbrev\"] for terminal in response.json()}"
   ]
  },
  {
   "cell_type": "code",
   "execution_count": 53,
   "metadata": {
    "tags": []
   },
   "outputs": [
    {
     "data": {
      "text/html": [
       "<div><style>\n",
       ".dataframe > thead > tr,\n",
       ".dataframe > tbody > tr {\n",
       "  text-align: right;\n",
       "  white-space: pre-wrap;\n",
       "}\n",
       "</style>\n",
       "<small>shape: (20, 17)</small><table border=\"1\" class=\"dataframe\"><thead><tr><th>TerminalID</th><th>TerminalSubjectID</th><th>RegionID</th><th>TerminalName</th><th>TerminalAbbrev</th><th>SortSeq</th><th>Latitude</th><th>Longitude</th><th>AddressLineOne</th><th>AddressLineTwo</th><th>City</th><th>State</th><th>ZipCode</th><th>Country</th><th>MapLink</th><th>Directions</th><th>DispGISZoomLoc</th></tr><tr><td>i64</td><td>i64</td><td>i64</td><td>str</td><td>str</td><td>i64</td><td>f64</td><td>f64</td><td>str</td><td>str</td><td>str</td><td>str</td><td>str</td><td>str</td><td>str</td><td>str</td><td>list[struct[3]]</td></tr></thead><tbody><tr><td>1</td><td>111</td><td>1</td><td>&quot;Anacortes&quot;</td><td>&quot;ANA&quot;</td><td>10</td><td>48.507351</td><td>-122.677</td><td>&quot;2100 Ferry Terminal Road&quot;</td><td>null</td><td>&quot;Anacortes&quot;</td><td>&quot;WA&quot;</td><td>&quot;98221&quot;</td><td>&quot;USA&quot;</td><td>&quot;https://www.google.com/maps/pl…</td><td>&quot;From Interstate 5 take exit 23…</td><td>[{0,48.507351,-122.677}, {1,48.507351,-122.677}, … {17,48.506612,-122.678006}]</td></tr><tr><td>3</td><td>103</td><td>4</td><td>&quot;Bainbridge Island&quot;</td><td>&quot;BBI&quot;</td><td>40</td><td>47.622339</td><td>-122.509617</td><td>&quot;270 Olympic Drive SE&quot;</td><td>null</td><td>&quot;Bainbridge Island&quot;</td><td>&quot;WA&quot;</td><td>&quot;98110&quot;</td><td>&quot;USA&quot;</td><td>&quot;http://maps.google.com/maps?f=…</td><td>&quot;Northbound on Highway 3: Take …</td><td>[{0,47.622339,-122.509617}, {1,47.622339,-122.509617}, … {17,47.622682,-122.510387}]</td></tr><tr><td>4</td><td>102</td><td>4</td><td>&quot;Bremerton&quot;</td><td>&quot;BRE&quot;</td><td>30</td><td>47.561847</td><td>-122.624089</td><td>&quot;211 1st Street&quot;</td><td>null</td><td>&quot;Bremerton&quot;</td><td>&quot;WA&quot;</td><td>&quot;98337&quot;</td><td>&quot;USA&quot;</td><td>&quot;https://www.google.com/maps/pl…</td><td>&quot;Northbound on Highway 3:  Exit…</td><td>[{0,47.561847,-122.624089}, {1,47.561847,-122.624089}, … {17,47.562207,-122.624843}]</td></tr><tr><td>5</td><td>112</td><td>2</td><td>&quot;Clinton&quot;</td><td>&quot;CLI&quot;</td><td>20</td><td>47.9754</td><td>-122.349581</td><td>&quot;64 South Ferrydock Road&quot;</td><td>null</td><td>&quot;Clinton&quot;</td><td>&quot;WA&quot;</td><td>&quot;98236&quot;</td><td>&quot;USA&quot;</td><td>&quot;http://maps.yahoo.com/#mvt=m&amp;l…</td><td>&quot;Highway 20 on Whidbey Island t…</td><td>[{0,47.9754,-122.349581}, {1,47.9754,-122.349581}, … {17,47.975027,-122.351335}]</td></tr><tr><td>11</td><td>116</td><td>2</td><td>&quot;Coupeville &quot;</td><td>&quot;COU&quot;</td><td>40</td><td>48.159008</td><td>-122.672603</td><td>&quot;1400 South State Route 20&quot;</td><td>null</td><td>&quot;Coupeville&quot;</td><td>&quot;WA&quot;</td><td>&quot;98239&quot;</td><td>&quot;USA&quot;</td><td>&quot;https://maps.google.com/maps?q…</td><td>&quot;Northbound/from Clinton ferry …</td><td>[{0,48.159008,-122.672603}, {1,48.159008,-122.672603}, … {17,48.159206,-122.672671}]</td></tr><tr><td>&hellip;</td><td>&hellip;</td><td>&hellip;</td><td>&hellip;</td><td>&hellip;</td><td>&hellip;</td><td>&hellip;</td><td>&hellip;</td><td>&hellip;</td><td>&hellip;</td><td>&hellip;</td><td>&hellip;</td><td>&hellip;</td><td>&hellip;</td><td>&hellip;</td><td>&hellip;</td><td>&hellip;</td></tr><tr><td>18</td><td>118</td><td>1</td><td>&quot;Shaw Island&quot;</td><td>&quot;SHI&quot;</td><td>30</td><td>48.584792</td><td>-122.92965</td><td>&quot;PO Box 455 (Mailing)&quot;</td><td>&quot;12 Blind Bay Rd.&quot;</td><td>&quot;Shaw Island&quot;</td><td>&quot;WA&quot;</td><td>&quot;98286&quot;</td><td>&quot;USA&quot;</td><td>&quot;http://maps.yahoo.com/py/maps.…</td><td>&quot;From Shaw Island County Park o…</td><td>[{0,48.584792,-122.92965}, {1,48.584792,-122.92965}, … {17,48.58448,-122.929844}]</td></tr><tr><td>19</td><td>120</td><td>1</td><td>&quot;Sidney B.C.&quot;</td><td>&quot;SID&quot;</td><td>60</td><td>48.643114</td><td>-123.396739</td><td>&quot;PO Box 2248 Mailing&quot;</td><td>&quot;2499 Ocean Avenue (Physical)&quot;</td><td>&quot;Sidney&quot;</td><td>&quot;BC&quot;</td><td>&quot;V8L1T3&quot;</td><td>&quot;Canada&quot;</td><td>&quot;\r\n",
       "http://maps.google.com/maps?…</td><td>&quot;&lt;b&gt;Sidney/Anacortes ferry Term…</td><td>[{0,48.643114,-123.396739}, {1,48.643114,-123.396739}, … {17,48.643608,-123.397385}]</td></tr><tr><td>20</td><td>105</td><td>5</td><td>&quot;Southworth&quot;</td><td>&quot;SOU&quot;</td><td>35</td><td>47.513064</td><td>-122.495742</td><td>&quot;11700 SE SEDGWICK RD&quot;</td><td>null</td><td>&quot;Southworth&quot;</td><td>&quot;WA&quot;</td><td>&quot;98386&quot;</td><td>&quot;USA&quot;</td><td>&quot;http://maps.google.com/maps?q=…</td><td>&quot;From I-5: Take exit 132 and pr…</td><td>[{0,47.513064,-122.495742}, {1,47.513064,-122.495742}, … {17,47.512954,-122.495893}]</td></tr><tr><td>21</td><td>121</td><td>5</td><td>&quot;Tahlequah&quot;</td><td>&quot;TAH&quot;</td><td>55</td><td>47.331961</td><td>-122.507786</td><td>&quot;Vashon Hwy SW and SW Tahlequah…</td><td>null</td><td>&quot;Vashon&quot;</td><td>&quot;WA&quot;</td><td>&quot;98070&quot;</td><td>&quot;USA&quot;</td><td>&quot;http://maps.google.com/maps?q=…</td><td>&quot;The Tahlequah terminal is loca…</td><td>[{0,47.331961,-122.507786}, {1,47.331961,-122.507786}, … {17,47.332705,-122.507328}]</td></tr><tr><td>22</td><td>106</td><td>5</td><td>&quot;Vashon Island&quot;</td><td>&quot;VAI&quot;</td><td>20</td><td>47.51095</td><td>-122.463639</td><td>&quot;10800 North Vashon Highway&quot;</td><td>null</td><td>&quot;Vashon&quot;</td><td>&quot;WA&quot;</td><td>&quot;98070&quot;</td><td>&quot;USA&quot;</td><td>&quot;http://maps.google.com/maps?q=…</td><td>&quot;Head north on Vashon Highway S…</td><td>[{0,47.51095,-122.463639}, {1,47.51095,-122.463639}, … {17,47.51095,-122.463639}]</td></tr></tbody></table></div>"
      ],
      "text/plain": [
       "shape: (20, 17)\n",
       "┌────────────┬────────────┬──────────┬───────────┬───┬─────────┬───────────┬───────────┬───────────┐\n",
       "│ TerminalID ┆ TerminalSu ┆ RegionID ┆ TerminalN ┆ … ┆ Country ┆ MapLink   ┆ Direction ┆ DispGISZo │\n",
       "│ ---        ┆ bjectID    ┆ ---      ┆ ame       ┆   ┆ ---     ┆ ---       ┆ s         ┆ omLoc     │\n",
       "│ i64        ┆ ---        ┆ i64      ┆ ---       ┆   ┆ str     ┆ str       ┆ ---       ┆ ---       │\n",
       "│            ┆ i64        ┆          ┆ str       ┆   ┆         ┆           ┆ str       ┆ list[stru │\n",
       "│            ┆            ┆          ┆           ┆   ┆         ┆           ┆           ┆ ct[3]]    │\n",
       "╞════════════╪════════════╪══════════╪═══════════╪═══╪═════════╪═══════════╪═══════════╪═══════════╡\n",
       "│ 1          ┆ 111        ┆ 1        ┆ Anacortes ┆ … ┆ USA     ┆ https://w ┆ From Inte ┆ [{0,48.50 │\n",
       "│            ┆            ┆          ┆           ┆   ┆         ┆ ww.google ┆ rstate 5  ┆ 7351,-122 │\n",
       "│            ┆            ┆          ┆           ┆   ┆         ┆ .com/maps ┆ take exit ┆ .677},    │\n",
       "│            ┆            ┆          ┆           ┆   ┆         ┆ /pl…      ┆ 23…       ┆ {1,48…    │\n",
       "│ 3          ┆ 103        ┆ 4        ┆ Bainbridg ┆ … ┆ USA     ┆ http://ma ┆ Northboun ┆ [{0,47.62 │\n",
       "│            ┆            ┆          ┆ e Island  ┆   ┆         ┆ ps.google ┆ d on      ┆ 2339,-122 │\n",
       "│            ┆            ┆          ┆           ┆   ┆         ┆ .com/maps ┆ Highway   ┆ .509617}, │\n",
       "│            ┆            ┆          ┆           ┆   ┆         ┆ ?f=…      ┆ 3: Take … ┆ {1…       │\n",
       "│ 4          ┆ 102        ┆ 4        ┆ Bremerton ┆ … ┆ USA     ┆ https://w ┆ Northboun ┆ [{0,47.56 │\n",
       "│            ┆            ┆          ┆           ┆   ┆         ┆ ww.google ┆ d on      ┆ 1847,-122 │\n",
       "│            ┆            ┆          ┆           ┆   ┆         ┆ .com/maps ┆ Highway   ┆ .624089}, │\n",
       "│            ┆            ┆          ┆           ┆   ┆         ┆ /pl…      ┆ 3:  Exit… ┆ {1…       │\n",
       "│ 5          ┆ 112        ┆ 2        ┆ Clinton   ┆ … ┆ USA     ┆ http://ma ┆ Highway   ┆ [{0,47.97 │\n",
       "│            ┆            ┆          ┆           ┆   ┆         ┆ ps.yahoo. ┆ 20 on     ┆ 54,-122.3 │\n",
       "│            ┆            ┆          ┆           ┆   ┆         ┆ com/#mvt= ┆ Whidbey   ┆ 49581},   │\n",
       "│            ┆            ┆          ┆           ┆   ┆         ┆ m&l…      ┆ Island t… ┆ {1,4…     │\n",
       "│ 11         ┆ 116        ┆ 2        ┆ Coupevill ┆ … ┆ USA     ┆ https://m ┆ Northboun ┆ [{0,48.15 │\n",
       "│            ┆            ┆          ┆ e         ┆   ┆         ┆ aps.googl ┆ d/from    ┆ 9008,-122 │\n",
       "│            ┆            ┆          ┆           ┆   ┆         ┆ e.com/map ┆ Clinton   ┆ .672603}, │\n",
       "│            ┆            ┆          ┆           ┆   ┆         ┆ s?q…      ┆ ferry …   ┆ {1…       │\n",
       "│ …          ┆ …          ┆ …        ┆ …         ┆ … ┆ …       ┆ …         ┆ …         ┆ …         │\n",
       "│ 18         ┆ 118        ┆ 1        ┆ Shaw      ┆ … ┆ USA     ┆ http://ma ┆ From Shaw ┆ [{0,48.58 │\n",
       "│            ┆            ┆          ┆ Island    ┆   ┆         ┆ ps.yahoo. ┆ Island    ┆ 4792,-122 │\n",
       "│            ┆            ┆          ┆           ┆   ┆         ┆ com/py/ma ┆ County    ┆ .92965},  │\n",
       "│            ┆            ┆          ┆           ┆   ┆         ┆ ps.…      ┆ Park o…   ┆ {1,…      │\n",
       "│ 19         ┆ 120        ┆ 1        ┆ Sidney    ┆ … ┆ Canada  ┆ \n",
       "         ┆ <b>Sidney ┆ [{0,48.64 │\n",
       "│            ┆            ┆          ┆ B.C.      ┆   ┆         ┆ http://ma ┆ /Anacorte ┆ 3114,-123 │\n",
       "│            ┆            ┆          ┆           ┆   ┆         ┆ ps.google ┆ s ferry   ┆ .396739}, │\n",
       "│            ┆            ┆          ┆           ┆   ┆         ┆ .com/maps ┆ Term…     ┆ {1…       │\n",
       "│            ┆            ┆          ┆           ┆   ┆         ┆ ?…        ┆           ┆           │\n",
       "│ 20         ┆ 105        ┆ 5        ┆ Southwort ┆ … ┆ USA     ┆ http://ma ┆ From I-5: ┆ [{0,47.51 │\n",
       "│            ┆            ┆          ┆ h         ┆   ┆         ┆ ps.google ┆ Take exit ┆ 3064,-122 │\n",
       "│            ┆            ┆          ┆           ┆   ┆         ┆ .com/maps ┆ 132 and   ┆ .495742}, │\n",
       "│            ┆            ┆          ┆           ┆   ┆         ┆ ?q=…      ┆ pr…       ┆ {1…       │\n",
       "│ 21         ┆ 121        ┆ 5        ┆ Tahlequah ┆ … ┆ USA     ┆ http://ma ┆ The       ┆ [{0,47.33 │\n",
       "│            ┆            ┆          ┆           ┆   ┆         ┆ ps.google ┆ Tahlequah ┆ 1961,-122 │\n",
       "│            ┆            ┆          ┆           ┆   ┆         ┆ .com/maps ┆ terminal  ┆ .507786}, │\n",
       "│            ┆            ┆          ┆           ┆   ┆         ┆ ?q=…      ┆ is loca…  ┆ {1…       │\n",
       "│ 22         ┆ 106        ┆ 5        ┆ Vashon    ┆ … ┆ USA     ┆ http://ma ┆ Head      ┆ [{0,47.51 │\n",
       "│            ┆            ┆          ┆ Island    ┆   ┆         ┆ ps.google ┆ north on  ┆ 095,-122. │\n",
       "│            ┆            ┆          ┆           ┆   ┆         ┆ .com/maps ┆ Vashon    ┆ 463639},  │\n",
       "│            ┆            ┆          ┆           ┆   ┆         ┆ ?q=…      ┆ Highway   ┆ {1,…      │\n",
       "│            ┆            ┆          ┆           ┆   ┆         ┆           ┆ S…        ┆           │\n",
       "└────────────┴────────────┴──────────┴───────────┴───┴─────────┴───────────┴───────────┴───────────┘"
      ]
     },
     "execution_count": 53,
     "metadata": {},
     "output_type": "execute_result"
    }
   ],
   "source": [
    "terminal_locations_raw = pl.DataFrame(response.json())\n",
    "terminal_locations_raw"
   ]
  },
  {
   "cell_type": "markdown",
   "metadata": {},
   "source": [
    "Before saving to the database drop the `DispGISZoomLoc` column which we will not need and is not in a format supported by the database."
   ]
  },
  {
   "cell_type": "code",
   "execution_count": 54,
   "metadata": {
    "tags": []
   },
   "outputs": [
    {
     "data": {
      "text/plain": [
       "20"
      ]
     },
     "execution_count": 54,
     "metadata": {},
     "output_type": "execute_result"
    }
   ],
   "source": [
    "# Write to the database\n",
    "terminal_locations_raw.drop(\"DispGISZoomLoc\").write_database(\n",
    "    table_name=f\"{username}_terminal_locations_raw\",\n",
    "    connection=uri,\n",
    "    engine=\"adbc\",\n",
    "    if_table_exists='replace'\n",
    ")"
   ]
  },
  {
   "cell_type": "markdown",
   "metadata": {},
   "source": [
    "#### Terminal Weather\n",
    "\n",
    "Get the weather data from <https://open-meteo.com/en/docs>. Here is an example URL:\n",
    "\n",
    "`https://api.open-meteo.com/v1/forecast?latitude=52.52&longitude=13.41&hourly=temperature_2m,precipitation,cloud_cover,visibility,wind_speed_10m`"
   ]
  },
  {
   "cell_type": "markdown",
   "metadata": {},
   "source": [
    "First, generate a list of date ranges. If we should provide the entire date range the API call will take a really long time and is more likely to time out. So instead we should break up the API call into many smaller chunks."
   ]
  },
  {
   "cell_type": "code",
   "execution_count": 55,
   "metadata": {
    "tags": []
   },
   "outputs": [
    {
     "data": {
      "text/plain": [
       "[(datetime.date(2024, 3, 1), datetime.date(2024, 3, 29)),\n",
       " (datetime.date(2024, 3, 30), datetime.date(2024, 4, 27)),\n",
       " (datetime.date(2024, 4, 28), datetime.date(2024, 5, 26)),\n",
       " (datetime.date(2024, 5, 27), datetime.date(2024, 6, 24)),\n",
       " (datetime.date(2024, 6, 25), datetime.date(2024, 7, 23)),\n",
       " (datetime.date(2024, 7, 24), datetime.date(2024, 8, 5))]"
      ]
     },
     "execution_count": 55,
     "metadata": {},
     "output_type": "execute_result"
    }
   ],
   "source": [
    "# Get a list of of date ranges, starting from start_date.\n",
    "_start_date = start_date\n",
    "_end_date = _start_date + datetime.timedelta(weeks=4)\n",
    "date_ranges = [(start_date, _end_date)]\n",
    "\n",
    "while True:\n",
    "    _start_date = _end_date + datetime.timedelta(days=1)\n",
    "    _end_date = min(_start_date + datetime.timedelta(weeks=4), end_date)\n",
    "    date_ranges.append((_start_date, _end_date))\n",
    "\n",
    "    if _end_date == end_date:\n",
    "        break\n",
    "\n",
    "date_ranges"
   ]
  },
  {
   "cell_type": "markdown",
   "metadata": {},
   "source": [
    "Iterate over each date range, and each terminal location, saving the weather data. All of the data will be saved to the `json_data` variable."
   ]
  },
  {
   "cell_type": "code",
   "execution_count": 57,
   "metadata": {
    "tags": []
   },
   "outputs": [
    {
     "name": "stdout",
     "output_type": "stream",
     "text": [
      "Getting records for: Anacortes <> 48.51, -122.68 <> 2024-03-01 to 2024-03-29...\n",
      "\t<Response [200 OK]>\n",
      "\tfound 9 records\n",
      "\tFrom cache: True\n",
      "Getting records for: Anacortes <> 48.51, -122.68 <> 2024-03-30 to 2024-04-27...\n",
      "\t<Response [200 OK]>\n",
      "\tfound 9 records\n",
      "\tFrom cache: True\n",
      "Getting records for: Anacortes <> 48.51, -122.68 <> 2024-04-28 to 2024-05-26...\n",
      "\t<Response [200 OK]>\n",
      "\tfound 9 records\n",
      "\tFrom cache: True\n",
      "Getting records for: Anacortes <> 48.51, -122.68 <> 2024-05-27 to 2024-06-24...\n",
      "\t<Response [200 OK]>\n",
      "\tfound 9 records\n",
      "\tFrom cache: True\n",
      "Getting records for: Anacortes <> 48.51, -122.68 <> 2024-06-25 to 2024-07-23...\n",
      "\t<Response [200 OK]>\n",
      "\tfound 9 records\n",
      "\tFrom cache: True\n",
      "Getting records for: Anacortes <> 48.51, -122.68 <> 2024-07-24 to 2024-08-05...\n",
      "\t<Response [200 OK]>\n",
      "\tfound 9 records\n",
      "\tFrom cache: True\n",
      "Getting records for: Bainbridge Island <> 47.62, -122.51 <> 2024-03-01 to 2024-03-29...\n",
      "\t<Response [200 OK]>\n",
      "\tfound 9 records\n",
      "\tFrom cache: True\n",
      "Getting records for: Bainbridge Island <> 47.62, -122.51 <> 2024-03-30 to 2024-04-27...\n",
      "\t<Response [200 OK]>\n",
      "\tfound 9 records\n",
      "\tFrom cache: True\n",
      "Getting records for: Bainbridge Island <> 47.62, -122.51 <> 2024-04-28 to 2024-05-26...\n",
      "\t<Response [200 OK]>\n",
      "\tfound 9 records\n",
      "\tFrom cache: True\n",
      "Getting records for: Bainbridge Island <> 47.62, -122.51 <> 2024-05-27 to 2024-06-24...\n",
      "\t<Response [200 OK]>\n",
      "\tfound 9 records\n",
      "\tFrom cache: True\n",
      "Getting records for: Bainbridge Island <> 47.62, -122.51 <> 2024-06-25 to 2024-07-23...\n",
      "\t<Response [200 OK]>\n",
      "\tfound 9 records\n",
      "\tFrom cache: True\n",
      "Getting records for: Bainbridge Island <> 47.62, -122.51 <> 2024-07-24 to 2024-08-05...\n",
      "\t<Response [200 OK]>\n",
      "\tfound 9 records\n",
      "\tFrom cache: True\n",
      "Getting records for: Bremerton <> 47.56, -122.62 <> 2024-03-01 to 2024-03-29...\n",
      "\t<Response [200 OK]>\n",
      "\tfound 9 records\n",
      "\tFrom cache: True\n",
      "Getting records for: Bremerton <> 47.56, -122.62 <> 2024-03-30 to 2024-04-27...\n",
      "\t<Response [200 OK]>\n",
      "\tfound 9 records\n",
      "\tFrom cache: True\n",
      "Getting records for: Bremerton <> 47.56, -122.62 <> 2024-04-28 to 2024-05-26...\n",
      "\t<Response [200 OK]>\n",
      "\tfound 9 records\n",
      "\tFrom cache: True\n",
      "Getting records for: Bremerton <> 47.56, -122.62 <> 2024-05-27 to 2024-06-24...\n",
      "\t<Response [200 OK]>\n",
      "\tfound 9 records\n",
      "\tFrom cache: True\n",
      "Getting records for: Bremerton <> 47.56, -122.62 <> 2024-06-25 to 2024-07-23...\n",
      "\t<Response [200 OK]>\n",
      "\tfound 9 records\n",
      "\tFrom cache: True\n",
      "Getting records for: Bremerton <> 47.56, -122.62 <> 2024-07-24 to 2024-08-05...\n",
      "\t<Response [200 OK]>\n",
      "\tfound 9 records\n",
      "\tFrom cache: True\n",
      "Getting records for: Clinton <> 47.98, -122.35 <> 2024-03-01 to 2024-03-29...\n",
      "\t<Response [200 OK]>\n",
      "\tfound 9 records\n",
      "\tFrom cache: True\n",
      "Getting records for: Clinton <> 47.98, -122.35 <> 2024-03-30 to 2024-04-27...\n",
      "\t<Response [200 OK]>\n",
      "\tfound 9 records\n",
      "\tFrom cache: True\n",
      "Getting records for: Clinton <> 47.98, -122.35 <> 2024-04-28 to 2024-05-26...\n",
      "\t<Response [200 OK]>\n",
      "\tfound 9 records\n",
      "\tFrom cache: True\n",
      "Getting records for: Clinton <> 47.98, -122.35 <> 2024-05-27 to 2024-06-24...\n",
      "\t<Response [200 OK]>\n",
      "\tfound 9 records\n",
      "\tFrom cache: True\n",
      "Getting records for: Clinton <> 47.98, -122.35 <> 2024-06-25 to 2024-07-23...\n",
      "\t<Response [200 OK]>\n",
      "\tfound 9 records\n",
      "\tFrom cache: True\n",
      "Getting records for: Clinton <> 47.98, -122.35 <> 2024-07-24 to 2024-08-05...\n",
      "\t<Response [200 OK]>\n",
      "\tfound 9 records\n",
      "\tFrom cache: True\n",
      "Getting records for: Coupeville  <> 48.16, -122.67 <> 2024-03-01 to 2024-03-29...\n",
      "\t<Response [200 OK]>\n",
      "\tfound 9 records\n",
      "\tFrom cache: True\n",
      "Getting records for: Coupeville  <> 48.16, -122.67 <> 2024-03-30 to 2024-04-27...\n",
      "\t<Response [200 OK]>\n",
      "\tfound 9 records\n",
      "\tFrom cache: True\n",
      "Getting records for: Coupeville  <> 48.16, -122.67 <> 2024-04-28 to 2024-05-26...\n",
      "\t<Response [200 OK]>\n",
      "\tfound 9 records\n",
      "\tFrom cache: True\n",
      "Getting records for: Coupeville  <> 48.16, -122.67 <> 2024-05-27 to 2024-06-24...\n",
      "\t<Response [200 OK]>\n",
      "\tfound 9 records\n",
      "\tFrom cache: True\n",
      "Getting records for: Coupeville  <> 48.16, -122.67 <> 2024-06-25 to 2024-07-23...\n",
      "\t<Response [200 OK]>\n",
      "\tfound 9 records\n",
      "\tFrom cache: True\n",
      "Getting records for: Coupeville  <> 48.16, -122.67 <> 2024-07-24 to 2024-08-05...\n",
      "\t<Response [200 OK]>\n",
      "\tfound 9 records\n",
      "\tFrom cache: True\n",
      "Getting records for: Edmonds <> 47.81, -122.39 <> 2024-03-01 to 2024-03-29...\n",
      "\t<Response [200 OK]>\n",
      "\tfound 9 records\n",
      "\tFrom cache: True\n",
      "Getting records for: Edmonds <> 47.81, -122.39 <> 2024-03-30 to 2024-04-27...\n",
      "\t<Response [200 OK]>\n",
      "\tfound 9 records\n",
      "\tFrom cache: True\n",
      "Getting records for: Edmonds <> 47.81, -122.39 <> 2024-04-28 to 2024-05-26...\n",
      "\t<Response [200 OK]>\n",
      "\tfound 9 records\n",
      "\tFrom cache: True\n",
      "Getting records for: Edmonds <> 47.81, -122.39 <> 2024-05-27 to 2024-06-24...\n",
      "\t<Response [200 OK]>\n",
      "\tfound 9 records\n",
      "\tFrom cache: True\n",
      "Getting records for: Edmonds <> 47.81, -122.39 <> 2024-06-25 to 2024-07-23...\n",
      "\t<Response [200 OK]>\n",
      "\tfound 9 records\n",
      "\tFrom cache: True\n",
      "Getting records for: Edmonds <> 47.81, -122.39 <> 2024-07-24 to 2024-08-05...\n",
      "\t<Response [200 OK]>\n",
      "\tfound 9 records\n",
      "\tFrom cache: True\n",
      "Getting records for: Fauntleroy <> 47.52, -122.4 <> 2024-03-01 to 2024-03-29...\n",
      "\t<Response [200 OK]>\n",
      "\tfound 9 records\n",
      "\tFrom cache: True\n",
      "Getting records for: Fauntleroy <> 47.52, -122.4 <> 2024-03-30 to 2024-04-27...\n",
      "\t<Response [200 OK]>\n",
      "\tfound 9 records\n",
      "\tFrom cache: True\n",
      "Getting records for: Fauntleroy <> 47.52, -122.4 <> 2024-04-28 to 2024-05-26...\n",
      "\t<Response [200 OK]>\n",
      "\tfound 9 records\n",
      "\tFrom cache: True\n",
      "Getting records for: Fauntleroy <> 47.52, -122.4 <> 2024-05-27 to 2024-06-24...\n",
      "\t<Response [200 OK]>\n",
      "\tfound 9 records\n",
      "\tFrom cache: True\n",
      "Getting records for: Fauntleroy <> 47.52, -122.4 <> 2024-06-25 to 2024-07-23...\n",
      "\t<Response [200 OK]>\n",
      "\tfound 9 records\n",
      "\tFrom cache: True\n",
      "Getting records for: Fauntleroy <> 47.52, -122.4 <> 2024-07-24 to 2024-08-05...\n",
      "\t<Response [200 OK]>\n",
      "\tfound 9 records\n",
      "\tFrom cache: True\n",
      "Getting records for: Friday Harbor <> 48.54, -123.01 <> 2024-03-01 to 2024-03-29...\n",
      "\t<Response [200 OK]>\n",
      "\tfound 9 records\n",
      "\tFrom cache: True\n",
      "Getting records for: Friday Harbor <> 48.54, -123.01 <> 2024-03-30 to 2024-04-27...\n",
      "\t<Response [200 OK]>\n",
      "\tfound 9 records\n",
      "\tFrom cache: True\n",
      "Getting records for: Friday Harbor <> 48.54, -123.01 <> 2024-04-28 to 2024-05-26...\n",
      "\t<Response [200 OK]>\n",
      "\tfound 9 records\n",
      "\tFrom cache: True\n",
      "Getting records for: Friday Harbor <> 48.54, -123.01 <> 2024-05-27 to 2024-06-24...\n",
      "\t<Response [200 OK]>\n",
      "\tfound 9 records\n",
      "\tFrom cache: True\n",
      "Getting records for: Friday Harbor <> 48.54, -123.01 <> 2024-06-25 to 2024-07-23...\n",
      "\t<Response [200 OK]>\n",
      "\tfound 9 records\n",
      "\tFrom cache: True\n",
      "Getting records for: Friday Harbor <> 48.54, -123.01 <> 2024-07-24 to 2024-08-05...\n",
      "\t<Response [200 OK]>\n",
      "\tfound 9 records\n",
      "\tFrom cache: True\n",
      "Getting records for: Kingston <> 47.79, -122.49 <> 2024-03-01 to 2024-03-29...\n",
      "\t<Response [200 OK]>\n",
      "\tfound 9 records\n",
      "\tFrom cache: True\n",
      "Getting records for: Kingston <> 47.79, -122.49 <> 2024-03-30 to 2024-04-27...\n",
      "\t<Response [200 OK]>\n",
      "\tfound 9 records\n",
      "\tFrom cache: True\n",
      "Getting records for: Kingston <> 47.79, -122.49 <> 2024-04-28 to 2024-05-26...\n",
      "\t<Response [200 OK]>\n",
      "\tfound 9 records\n",
      "\tFrom cache: True\n",
      "Getting records for: Kingston <> 47.79, -122.49 <> 2024-05-27 to 2024-06-24...\n",
      "\t<Response [200 OK]>\n",
      "\tfound 9 records\n",
      "\tFrom cache: True\n",
      "Getting records for: Kingston <> 47.79, -122.49 <> 2024-06-25 to 2024-07-23...\n",
      "\t<Response [200 OK]>\n",
      "\tfound 9 records\n",
      "\tFrom cache: True\n",
      "Getting records for: Kingston <> 47.79, -122.49 <> 2024-07-24 to 2024-08-05...\n",
      "\t<Response [200 OK]>\n",
      "\tfound 9 records\n",
      "\tFrom cache: True\n",
      "Getting records for: Lopez Island <> 48.57, -122.88 <> 2024-03-01 to 2024-03-29...\n",
      "\t<Response [200 OK]>\n",
      "\tfound 9 records\n",
      "\tFrom cache: True\n",
      "Getting records for: Lopez Island <> 48.57, -122.88 <> 2024-03-30 to 2024-04-27...\n",
      "\t<Response [200 OK]>\n",
      "\tfound 9 records\n",
      "\tFrom cache: True\n",
      "Getting records for: Lopez Island <> 48.57, -122.88 <> 2024-04-28 to 2024-05-26...\n",
      "\t<Response [200 OK]>\n",
      "\tfound 9 records\n",
      "\tFrom cache: True\n",
      "Getting records for: Lopez Island <> 48.57, -122.88 <> 2024-05-27 to 2024-06-24...\n",
      "\t<Response [200 OK]>\n",
      "\tfound 9 records\n",
      "\tFrom cache: True\n",
      "Getting records for: Lopez Island <> 48.57, -122.88 <> 2024-06-25 to 2024-07-23...\n",
      "\t<Response [200 OK]>\n",
      "\tfound 9 records\n",
      "\tFrom cache: True\n",
      "Getting records for: Lopez Island <> 48.57, -122.88 <> 2024-07-24 to 2024-08-05...\n",
      "\t<Response [200 OK]>\n",
      "\tfound 9 records\n",
      "\tFrom cache: True\n",
      "Getting records for: Mukilteo <> 47.95, -122.3 <> 2024-03-01 to 2024-03-29...\n",
      "\t<Response [200 OK]>\n",
      "\tfound 9 records\n",
      "\tFrom cache: True\n",
      "Getting records for: Mukilteo <> 47.95, -122.3 <> 2024-03-30 to 2024-04-27...\n",
      "\t<Response [200 OK]>\n",
      "\tfound 9 records\n",
      "\tFrom cache: True\n",
      "Getting records for: Mukilteo <> 47.95, -122.3 <> 2024-04-28 to 2024-05-26...\n",
      "\t<Response [200 OK]>\n",
      "\tfound 9 records\n",
      "\tFrom cache: True\n",
      "Getting records for: Mukilteo <> 47.95, -122.3 <> 2024-05-27 to 2024-06-24...\n",
      "\t<Response [200 OK]>\n",
      "\tfound 9 records\n",
      "\tFrom cache: True\n",
      "Getting records for: Mukilteo <> 47.95, -122.3 <> 2024-06-25 to 2024-07-23...\n",
      "\t<Response [200 OK]>\n",
      "\tfound 9 records\n",
      "\tFrom cache: True\n",
      "Getting records for: Mukilteo <> 47.95, -122.3 <> 2024-07-24 to 2024-08-05...\n",
      "\t<Response [200 OK]>\n",
      "\tfound 9 records\n",
      "\tFrom cache: True\n",
      "Getting records for: Orcas Island <> 48.6, -122.94 <> 2024-03-01 to 2024-03-29...\n",
      "\t<Response [200 OK]>\n",
      "\tfound 9 records\n",
      "\tFrom cache: True\n",
      "Getting records for: Orcas Island <> 48.6, -122.94 <> 2024-03-30 to 2024-04-27...\n",
      "\t<Response [200 OK]>\n",
      "\tfound 9 records\n",
      "\tFrom cache: True\n",
      "Getting records for: Orcas Island <> 48.6, -122.94 <> 2024-04-28 to 2024-05-26...\n",
      "\t<Response [200 OK]>\n",
      "\tfound 9 records\n",
      "\tFrom cache: True\n",
      "Getting records for: Orcas Island <> 48.6, -122.94 <> 2024-05-27 to 2024-06-24...\n",
      "\t<Response [200 OK]>\n",
      "\tfound 9 records\n",
      "\tFrom cache: True\n",
      "Getting records for: Orcas Island <> 48.6, -122.94 <> 2024-06-25 to 2024-07-23...\n",
      "\t<Response [200 OK]>\n",
      "\tfound 9 records\n",
      "\tFrom cache: True\n",
      "Getting records for: Orcas Island <> 48.6, -122.94 <> 2024-07-24 to 2024-08-05...\n",
      "\t<Response [200 OK]>\n",
      "\tfound 9 records\n",
      "\tFrom cache: True\n",
      "Getting records for: Point Defiance <> 47.31, -122.51 <> 2024-03-01 to 2024-03-29...\n",
      "\t<Response [200 OK]>\n",
      "\tfound 9 records\n",
      "\tFrom cache: True\n",
      "Getting records for: Point Defiance <> 47.31, -122.51 <> 2024-03-30 to 2024-04-27...\n",
      "\t<Response [200 OK]>\n",
      "\tfound 9 records\n",
      "\tFrom cache: True\n",
      "Getting records for: Point Defiance <> 47.31, -122.51 <> 2024-04-28 to 2024-05-26...\n",
      "\t<Response [200 OK]>\n",
      "\tfound 9 records\n",
      "\tFrom cache: True\n",
      "Getting records for: Point Defiance <> 47.31, -122.51 <> 2024-05-27 to 2024-06-24...\n",
      "\t<Response [200 OK]>\n",
      "\tfound 9 records\n",
      "\tFrom cache: True\n",
      "Getting records for: Point Defiance <> 47.31, -122.51 <> 2024-06-25 to 2024-07-23...\n",
      "\t<Response [200 OK]>\n",
      "\tfound 9 records\n",
      "\tFrom cache: True\n",
      "Getting records for: Point Defiance <> 47.31, -122.51 <> 2024-07-24 to 2024-08-05...\n",
      "\t<Response [200 OK]>\n",
      "\tfound 9 records\n",
      "\tFrom cache: True\n",
      "Getting records for: Port Townsend <> 48.11, -122.76 <> 2024-03-01 to 2024-03-29...\n",
      "\t<Response [200 OK]>\n",
      "\tfound 9 records\n",
      "\tFrom cache: True\n",
      "Getting records for: Port Townsend <> 48.11, -122.76 <> 2024-03-30 to 2024-04-27...\n",
      "\t<Response [200 OK]>\n",
      "\tfound 9 records\n",
      "\tFrom cache: True\n",
      "Getting records for: Port Townsend <> 48.11, -122.76 <> 2024-04-28 to 2024-05-26...\n",
      "\t<Response [200 OK]>\n",
      "\tfound 9 records\n",
      "\tFrom cache: True\n",
      "Getting records for: Port Townsend <> 48.11, -122.76 <> 2024-05-27 to 2024-06-24...\n",
      "\t<Response [200 OK]>\n",
      "\tfound 9 records\n",
      "\tFrom cache: True\n",
      "Getting records for: Port Townsend <> 48.11, -122.76 <> 2024-06-25 to 2024-07-23...\n",
      "\t<Response [200 OK]>\n",
      "\tfound 9 records\n",
      "\tFrom cache: True\n",
      "Getting records for: Port Townsend <> 48.11, -122.76 <> 2024-07-24 to 2024-08-05...\n",
      "\t<Response [200 OK]>\n",
      "\tfound 9 records\n",
      "\tFrom cache: True\n",
      "Getting records for: Seattle <> 47.6, -122.34 <> 2024-03-01 to 2024-03-29...\n",
      "\t<Response [200 OK]>\n",
      "\tfound 9 records\n",
      "\tFrom cache: True\n",
      "Getting records for: Seattle <> 47.6, -122.34 <> 2024-03-30 to 2024-04-27...\n",
      "\t<Response [200 OK]>\n",
      "\tfound 9 records\n",
      "\tFrom cache: True\n",
      "Getting records for: Seattle <> 47.6, -122.34 <> 2024-04-28 to 2024-05-26...\n",
      "\t<Response [200 OK]>\n",
      "\tfound 9 records\n",
      "\tFrom cache: True\n",
      "Getting records for: Seattle <> 47.6, -122.34 <> 2024-05-27 to 2024-06-24...\n",
      "\t<Response [200 OK]>\n",
      "\tfound 9 records\n",
      "\tFrom cache: True\n",
      "Getting records for: Seattle <> 47.6, -122.34 <> 2024-06-25 to 2024-07-23...\n",
      "\t<Response [200 OK]>\n",
      "\tfound 9 records\n",
      "\tFrom cache: True\n",
      "Getting records for: Seattle <> 47.6, -122.34 <> 2024-07-24 to 2024-08-05...\n",
      "\t<Response [200 OK]>\n",
      "\tfound 9 records\n",
      "\tFrom cache: True\n",
      "Getting records for: Shaw Island <> 48.58, -122.93 <> 2024-03-01 to 2024-03-29...\n",
      "\t<Response [200 OK]>\n",
      "\tfound 9 records\n",
      "\tFrom cache: True\n",
      "Getting records for: Shaw Island <> 48.58, -122.93 <> 2024-03-30 to 2024-04-27...\n",
      "\t<Response [200 OK]>\n",
      "\tfound 9 records\n",
      "\tFrom cache: True\n",
      "Getting records for: Shaw Island <> 48.58, -122.93 <> 2024-04-28 to 2024-05-26...\n",
      "\t<Response [200 OK]>\n",
      "\tfound 9 records\n",
      "\tFrom cache: True\n",
      "Getting records for: Shaw Island <> 48.58, -122.93 <> 2024-05-27 to 2024-06-24...\n",
      "\t<Response [200 OK]>\n",
      "\tfound 9 records\n",
      "\tFrom cache: True\n",
      "Getting records for: Shaw Island <> 48.58, -122.93 <> 2024-06-25 to 2024-07-23...\n",
      "\t<Response [200 OK]>\n",
      "\tfound 9 records\n",
      "\tFrom cache: True\n",
      "Getting records for: Shaw Island <> 48.58, -122.93 <> 2024-07-24 to 2024-08-05...\n",
      "\t<Response [200 OK]>\n",
      "\tfound 9 records\n",
      "\tFrom cache: True\n",
      "Getting records for: Sidney B.C. <> 48.64, -123.4 <> 2024-03-01 to 2024-03-29...\n",
      "\t<Response [200 OK]>\n",
      "\tfound 9 records\n",
      "\tFrom cache: True\n",
      "Getting records for: Sidney B.C. <> 48.64, -123.4 <> 2024-03-30 to 2024-04-27...\n",
      "\t<Response [200 OK]>\n",
      "\tfound 9 records\n",
      "\tFrom cache: True\n",
      "Getting records for: Sidney B.C. <> 48.64, -123.4 <> 2024-04-28 to 2024-05-26...\n",
      "\t<Response [200 OK]>\n",
      "\tfound 9 records\n",
      "\tFrom cache: True\n",
      "Getting records for: Sidney B.C. <> 48.64, -123.4 <> 2024-05-27 to 2024-06-24...\n",
      "\t<Response [200 OK]>\n",
      "\tfound 9 records\n",
      "\tFrom cache: True\n",
      "Getting records for: Sidney B.C. <> 48.64, -123.4 <> 2024-06-25 to 2024-07-23...\n",
      "\t<Response [200 OK]>\n",
      "\tfound 9 records\n",
      "\tFrom cache: True\n",
      "Getting records for: Sidney B.C. <> 48.64, -123.4 <> 2024-07-24 to 2024-08-05...\n",
      "\t<Response [200 OK]>\n",
      "\tfound 9 records\n",
      "\tFrom cache: True\n",
      "Getting records for: Southworth <> 47.51, -122.5 <> 2024-03-01 to 2024-03-29...\n",
      "\t<Response [200 OK]>\n",
      "\tfound 9 records\n",
      "\tFrom cache: True\n",
      "Getting records for: Southworth <> 47.51, -122.5 <> 2024-03-30 to 2024-04-27...\n",
      "\t<Response [200 OK]>\n",
      "\tfound 9 records\n",
      "\tFrom cache: True\n",
      "Getting records for: Southworth <> 47.51, -122.5 <> 2024-04-28 to 2024-05-26...\n",
      "\t<Response [200 OK]>\n",
      "\tfound 9 records\n",
      "\tFrom cache: True\n",
      "Getting records for: Southworth <> 47.51, -122.5 <> 2024-05-27 to 2024-06-24...\n",
      "\t<Response [200 OK]>\n",
      "\tfound 9 records\n",
      "\tFrom cache: True\n",
      "Getting records for: Southworth <> 47.51, -122.5 <> 2024-06-25 to 2024-07-23...\n",
      "\t<Response [200 OK]>\n",
      "\tfound 9 records\n",
      "\tFrom cache: True\n",
      "Getting records for: Southworth <> 47.51, -122.5 <> 2024-07-24 to 2024-08-05...\n",
      "\t<Response [200 OK]>\n",
      "\tfound 9 records\n",
      "\tFrom cache: True\n",
      "Getting records for: Tahlequah <> 47.33, -122.51 <> 2024-03-01 to 2024-03-29...\n",
      "\t<Response [200 OK]>\n",
      "\tfound 9 records\n",
      "\tFrom cache: True\n",
      "Getting records for: Tahlequah <> 47.33, -122.51 <> 2024-03-30 to 2024-04-27...\n",
      "\t<Response [200 OK]>\n",
      "\tfound 9 records\n",
      "\tFrom cache: True\n",
      "Getting records for: Tahlequah <> 47.33, -122.51 <> 2024-04-28 to 2024-05-26...\n",
      "\t<Response [200 OK]>\n",
      "\tfound 9 records\n",
      "\tFrom cache: True\n",
      "Getting records for: Tahlequah <> 47.33, -122.51 <> 2024-05-27 to 2024-06-24...\n",
      "\t<Response [200 OK]>\n",
      "\tfound 9 records\n",
      "\tFrom cache: True\n",
      "Getting records for: Tahlequah <> 47.33, -122.51 <> 2024-06-25 to 2024-07-23...\n",
      "\t<Response [200 OK]>\n",
      "\tfound 9 records\n",
      "\tFrom cache: True\n",
      "Getting records for: Tahlequah <> 47.33, -122.51 <> 2024-07-24 to 2024-08-05...\n",
      "\t<Response [200 OK]>\n",
      "\tfound 9 records\n",
      "\tFrom cache: True\n",
      "Getting records for: Vashon Island <> 47.51, -122.46 <> 2024-03-01 to 2024-03-29...\n",
      "\t<Response [200 OK]>\n",
      "\tfound 9 records\n",
      "\tFrom cache: True\n",
      "Getting records for: Vashon Island <> 47.51, -122.46 <> 2024-03-30 to 2024-04-27...\n",
      "\t<Response [200 OK]>\n",
      "\tfound 9 records\n",
      "\tFrom cache: True\n",
      "Getting records for: Vashon Island <> 47.51, -122.46 <> 2024-04-28 to 2024-05-26...\n",
      "\t<Response [200 OK]>\n",
      "\tfound 9 records\n",
      "\tFrom cache: True\n",
      "Getting records for: Vashon Island <> 47.51, -122.46 <> 2024-05-27 to 2024-06-24...\n",
      "\t<Response [200 OK]>\n",
      "\tfound 9 records\n",
      "\tFrom cache: True\n",
      "Getting records for: Vashon Island <> 47.51, -122.46 <> 2024-06-25 to 2024-07-23...\n",
      "\t<Response [200 OK]>\n",
      "\tfound 9 records\n",
      "\tFrom cache: True\n",
      "Getting records for: Vashon Island <> 47.51, -122.46 <> 2024-07-24 to 2024-08-05...\n",
      "\t<Response [200 OK]>\n",
      "\tfound 9 records\n",
      "\tFrom cache: True\n",
      "CPU times: user 271 ms, sys: 46.3 ms, total: 317 ms\n",
      "Wall time: 1.7 s\n"
     ]
    }
   ],
   "source": [
    "%%time\n",
    "\n",
    "import time\n",
    "from typing import TypedDict\n",
    "from itertools import product\n",
    "\n",
    "base_url = \"https://archive-api.open-meteo.com/v1/\"\n",
    "\n",
    "\n",
    "class WeatherParams(TypedDict):\n",
    "    hourly: list[str]\n",
    "    latitude: float\n",
    "    longitude: float\n",
    "    start_date: datetime.date\n",
    "    end_date: datetime.date\n",
    "\n",
    "\n",
    "json_data = []\n",
    "\n",
    "with httpx.Client(base_url=base_url, transport=cache_transport) as client:\n",
    "\n",
    "    for terminal, date_range in product(\n",
    "        terminal_locations_raw.select(\"Latitude\", \"Longitude\", \"TerminalName\").to_dicts(),\n",
    "        date_ranges\n",
    "    ):\n",
    "\n",
    "        params: WeatherParams = {\n",
    "            \"hourly\": [\n",
    "                \"weather_code\",\n",
    "                \"temperature_2m\",\n",
    "                \"precipitation\",\n",
    "                \"cloud_cover\",\n",
    "                \"wind_speed_10m\",\n",
    "                \"wind_direction_10m\",\n",
    "                \"wind_gusts_10m\",\n",
    "            ],\n",
    "            \"start_date\": date_range[0],\n",
    "            \"end_date\": date_range[1],\n",
    "            \"latitude\": round(terminal[\"Latitude\"], 2),\n",
    "            \"longitude\": round(terminal[\"Longitude\"], 2),\n",
    "        }\n",
    "\n",
    "        print(\" \".join([\n",
    "            f'Getting records for: {terminal[\"TerminalName\"]} <>',\n",
    "            f'{params[\"latitude\"]}, {params[\"longitude\"]} <>',\n",
    "            f'{params[\"start_date\"]} to {params[\"end_date\"]}...'\n",
    "        ]))\n",
    "\n",
    "        response = client.get(\"/archive\", params=params, extensions={\"force_cache\": True})\n",
    "\n",
    "        try:\n",
    "            print(f\"\\t{response}\")\n",
    "            print(f\"\\tfound {len(response.json()):,} records\")\n",
    "            print(f\"\\tFrom cache: {response.extensions['from_cache']}\")\n",
    "            response.raise_for_status()\n",
    "            _json_data = response.json()\n",
    "            _json_data[\"terminal_name\"] = terminal[\"TerminalName\"]\n",
    "            json_data.append(_json_data)\n",
    "\n",
    "        except httpx.HTTPStatusError as exc:\n",
    "            if response.status_code == 429:\n",
    "                print(\"\\tRate limit exceeded. Waiting 60 seconds...\")\n",
    "                time.sleep(60)\n",
    "                response = client.get(\"/forecast\", params=params)\n",
    "                print(f\"\\t{response}\")\n",
    "                print(f\"\\tfound {len(response.json()):,} records\")\n",
    "                print(f\"\\tFrom cache: {response.extensions['from_cache']}\")\n",
    "                response.raise_for_status()\n",
    "                _json_data = response.json()\n",
    "                _json_data[\"terminal_name\"] = terminal[\"TerminalName\"]\n",
    "                json_data.append(_json_data)\n",
    "            else:\n",
    "                raise exc"
   ]
  },
  {
   "cell_type": "markdown",
   "metadata": {},
   "source": [
    "Hishel was used for caching again. Re-run the above code chunk and note how much faster it executes. Then, convert the JSON data into a polars DataFrame."
   ]
  },
  {
   "cell_type": "code",
   "execution_count": 58,
   "metadata": {
    "tags": []
   },
   "outputs": [
    {
     "data": {
      "text/html": [
       "<div><style>\n",
       ".dataframe > thead > tr,\n",
       ".dataframe > tbody > tr {\n",
       "  text-align: right;\n",
       "  white-space: pre-wrap;\n",
       "}\n",
       "</style>\n",
       "<small>shape: (2, 10)</small><table border=\"1\" class=\"dataframe\"><thead><tr><th>latitude</th><th>longitude</th><th>generationtime_ms</th><th>utc_offset_seconds</th><th>timezone</th><th>timezone_abbreviation</th><th>elevation</th><th>hourly_units</th><th>hourly</th><th>terminal_name</th></tr><tr><td>f64</td><td>f64</td><td>f64</td><td>i64</td><td>str</td><td>str</td><td>f64</td><td>struct[8]</td><td>struct[8]</td><td>str</td></tr></thead><tbody><tr><td>48.541298</td><td>-122.727264</td><td>0.223994</td><td>0</td><td>&quot;GMT&quot;</td><td>&quot;GMT&quot;</td><td>0.0</td><td>{&quot;iso8601&quot;,&quot;wmo code&quot;,&quot;°C&quot;,&quot;mm&quot;,&quot;%&quot;,&quot;km/h&quot;,&quot;°&quot;,&quot;km/h&quot;}</td><td>{[&quot;2024-03-01T00:00&quot;, &quot;2024-03-01T01:00&quot;, … &quot;2024-03-29T23:00&quot;],[3, 51, … 0],[6.2, 5.9, … 9.4],[0.0, 0.1, … 0.0],[80, 94, … 5],[37.4, 36.7, … 7.0],[154, 159, … 12],[47.9, 48.6, … 10.1]}</td><td>&quot;Anacortes&quot;</td></tr><tr><td>48.541298</td><td>-122.727264</td><td>0.215054</td><td>0</td><td>&quot;GMT&quot;</td><td>&quot;GMT&quot;</td><td>0.0</td><td>{&quot;iso8601&quot;,&quot;wmo code&quot;,&quot;°C&quot;,&quot;mm&quot;,&quot;%&quot;,&quot;km/h&quot;,&quot;°&quot;,&quot;km/h&quot;}</td><td>{[&quot;2024-03-30T00:00&quot;, &quot;2024-03-30T01:00&quot;, … &quot;2024-04-27T23:00&quot;],[0, 0, … 51],[9.9, 9.8, … 9.6],[0.0, 0.0, … 0.1],[9, 3, … 100],[16.1, 19.4, … 33.1],[336, 342, … 147],[17.3, 23.0, … 42.8]}</td><td>&quot;Anacortes&quot;</td></tr></tbody></table></div>"
      ],
      "text/plain": [
       "shape: (2, 10)\n",
       "┌───────────┬───────────┬───────────┬───────────┬───┬───────────┬───────────┬───────────┬──────────┐\n",
       "│ latitude  ┆ longitude ┆ generatio ┆ utc_offse ┆ … ┆ elevation ┆ hourly_un ┆ hourly    ┆ terminal │\n",
       "│ ---       ┆ ---       ┆ ntime_ms  ┆ t_seconds ┆   ┆ ---       ┆ its       ┆ ---       ┆ _name    │\n",
       "│ f64       ┆ f64       ┆ ---       ┆ ---       ┆   ┆ f64       ┆ ---       ┆ struct[8] ┆ ---      │\n",
       "│           ┆           ┆ f64       ┆ i64       ┆   ┆           ┆ struct[8] ┆           ┆ str      │\n",
       "╞═══════════╪═══════════╪═══════════╪═══════════╪═══╪═══════════╪═══════════╪═══════════╪══════════╡\n",
       "│ 48.541298 ┆ -122.7272 ┆ 0.223994  ┆ 0         ┆ … ┆ 0.0       ┆ {\"iso8601 ┆ {[\"2024-0 ┆ Anacorte │\n",
       "│           ┆ 64        ┆           ┆           ┆   ┆           ┆ \",\"wmo    ┆ 3-01T00:0 ┆ s        │\n",
       "│           ┆           ┆           ┆           ┆   ┆           ┆ code\",\"°C ┆ 0\",       ┆          │\n",
       "│           ┆           ┆           ┆           ┆   ┆           ┆ \",\"mm…    ┆ \"2024-03… ┆          │\n",
       "│ 48.541298 ┆ -122.7272 ┆ 0.215054  ┆ 0         ┆ … ┆ 0.0       ┆ {\"iso8601 ┆ {[\"2024-0 ┆ Anacorte │\n",
       "│           ┆ 64        ┆           ┆           ┆   ┆           ┆ \",\"wmo    ┆ 3-30T00:0 ┆ s        │\n",
       "│           ┆           ┆           ┆           ┆   ┆           ┆ code\",\"°C ┆ 0\",       ┆          │\n",
       "│           ┆           ┆           ┆           ┆   ┆           ┆ \",\"mm…    ┆ \"2024-03… ┆          │\n",
       "└───────────┴───────────┴───────────┴───────────┴───┴───────────┴───────────┴───────────┴──────────┘"
      ]
     },
     "execution_count": 58,
     "metadata": {},
     "output_type": "execute_result"
    }
   ],
   "source": [
    "pl.DataFrame(json_data).head(2)"
   ]
  },
  {
   "cell_type": "code",
   "execution_count": 59,
   "metadata": {
    "tags": []
   },
   "outputs": [
    {
     "data": {
      "text/html": [
       "<div><style>\n",
       ".dataframe > thead > tr,\n",
       ".dataframe > tbody > tr {\n",
       "  text-align: right;\n",
       "  white-space: pre-wrap;\n",
       "}\n",
       "</style>\n",
       "<small>shape: (5, 17)</small><table border=\"1\" class=\"dataframe\"><thead><tr><th>latitude</th><th>longitude</th><th>generationtime_ms</th><th>utc_offset_seconds</th><th>timezone</th><th>timezone_abbreviation</th><th>elevation</th><th>hourly_units</th><th>time</th><th>weather_code</th><th>temperature_2m</th><th>precipitation</th><th>cloud_cover</th><th>wind_speed_10m</th><th>wind_direction_10m</th><th>wind_gusts_10m</th><th>terminal_name</th></tr><tr><td>f64</td><td>f64</td><td>f64</td><td>i64</td><td>str</td><td>str</td><td>f64</td><td>struct[8]</td><td>list[str]</td><td>list[i64]</td><td>list[f64]</td><td>list[f64]</td><td>list[i64]</td><td>list[f64]</td><td>list[i64]</td><td>list[f64]</td><td>str</td></tr></thead><tbody><tr><td>48.541298</td><td>-122.727264</td><td>0.223994</td><td>0</td><td>&quot;GMT&quot;</td><td>&quot;GMT&quot;</td><td>0.0</td><td>{&quot;iso8601&quot;,&quot;wmo code&quot;,&quot;°C&quot;,&quot;mm&quot;,&quot;%&quot;,&quot;km/h&quot;,&quot;°&quot;,&quot;km/h&quot;}</td><td>[&quot;2024-03-01T00:00&quot;, &quot;2024-03-01T01:00&quot;, … &quot;2024-03-29T23:00&quot;]</td><td>[3, 51, … 0]</td><td>[6.2, 5.9, … 9.4]</td><td>[0.0, 0.1, … 0.0]</td><td>[80, 94, … 5]</td><td>[37.4, 36.7, … 7.0]</td><td>[154, 159, … 12]</td><td>[47.9, 48.6, … 10.1]</td><td>&quot;Anacortes&quot;</td></tr><tr><td>48.541298</td><td>-122.727264</td><td>0.215054</td><td>0</td><td>&quot;GMT&quot;</td><td>&quot;GMT&quot;</td><td>0.0</td><td>{&quot;iso8601&quot;,&quot;wmo code&quot;,&quot;°C&quot;,&quot;mm&quot;,&quot;%&quot;,&quot;km/h&quot;,&quot;°&quot;,&quot;km/h&quot;}</td><td>[&quot;2024-03-30T00:00&quot;, &quot;2024-03-30T01:00&quot;, … &quot;2024-04-27T23:00&quot;]</td><td>[0, 0, … 51]</td><td>[9.9, 9.8, … 9.6]</td><td>[0.0, 0.0, … 0.1]</td><td>[9, 3, … 100]</td><td>[16.1, 19.4, … 33.1]</td><td>[336, 342, … 147]</td><td>[17.3, 23.0, … 42.8]</td><td>&quot;Anacortes&quot;</td></tr><tr><td>48.541298</td><td>-122.727264</td><td>0.30005</td><td>0</td><td>&quot;GMT&quot;</td><td>&quot;GMT&quot;</td><td>0.0</td><td>{&quot;iso8601&quot;,&quot;wmo code&quot;,&quot;°C&quot;,&quot;mm&quot;,&quot;%&quot;,&quot;km/h&quot;,&quot;°&quot;,&quot;km/h&quot;}</td><td>[&quot;2024-04-28T00:00&quot;, &quot;2024-04-28T01:00&quot;, … &quot;2024-05-26T23:00&quot;]</td><td>[3, 3, … 3]</td><td>[9.9, 9.9, … 11.6]</td><td>[0.0, 0.0, … 0.0]</td><td>[100, 100, … 100]</td><td>[32.9, 35.2, … 18.2]</td><td>[146, 146, … 120]</td><td>[42.8, 45.7, … 21.6]</td><td>&quot;Anacortes&quot;</td></tr><tr><td>48.541298</td><td>-122.727264</td><td>0.210047</td><td>0</td><td>&quot;GMT&quot;</td><td>&quot;GMT&quot;</td><td>0.0</td><td>{&quot;iso8601&quot;,&quot;wmo code&quot;,&quot;°C&quot;,&quot;mm&quot;,&quot;%&quot;,&quot;km/h&quot;,&quot;°&quot;,&quot;km/h&quot;}</td><td>[&quot;2024-05-27T00:00&quot;, &quot;2024-05-27T01:00&quot;, … &quot;2024-06-24T23:00&quot;]</td><td>[51, 3, … 0]</td><td>[11.6, 11.9, … 12.6]</td><td>[0.1, 0.0, … 0.0]</td><td>[100, 100, … 5]</td><td>[17.9, 16.6, … 16.3]</td><td>[118, 129, … 229]</td><td>[22.0, 20.9, … 21.2]</td><td>&quot;Anacortes&quot;</td></tr><tr><td>48.541298</td><td>-122.727264</td><td>0.205994</td><td>0</td><td>&quot;GMT&quot;</td><td>&quot;GMT&quot;</td><td>0.0</td><td>{&quot;iso8601&quot;,&quot;wmo code&quot;,&quot;°C&quot;,&quot;mm&quot;,&quot;%&quot;,&quot;km/h&quot;,&quot;°&quot;,&quot;km/h&quot;}</td><td>[&quot;2024-06-25T00:00&quot;, &quot;2024-06-25T01:00&quot;, … &quot;2024-07-23T23:00&quot;]</td><td>[0, 0, … 0]</td><td>[13.1, 12.7, … 13.2]</td><td>[0.0, 0.0, … 0.0]</td><td>[7, 4, … 0]</td><td>[16.5, 17.7, … 14.8]</td><td>[234, 241, … 225]</td><td>[19.4, 22.0, … 16.2]</td><td>&quot;Anacortes&quot;</td></tr></tbody></table></div>"
      ],
      "text/plain": [
       "shape: (5, 17)\n",
       "┌───────────┬───────────┬───────────┬───────────┬───┬───────────┬───────────┬───────────┬──────────┐\n",
       "│ latitude  ┆ longitude ┆ generatio ┆ utc_offse ┆ … ┆ wind_spee ┆ wind_dire ┆ wind_gust ┆ terminal │\n",
       "│ ---       ┆ ---       ┆ ntime_ms  ┆ t_seconds ┆   ┆ d_10m     ┆ ction_10m ┆ s_10m     ┆ _name    │\n",
       "│ f64       ┆ f64       ┆ ---       ┆ ---       ┆   ┆ ---       ┆ ---       ┆ ---       ┆ ---      │\n",
       "│           ┆           ┆ f64       ┆ i64       ┆   ┆ list[f64] ┆ list[i64] ┆ list[f64] ┆ str      │\n",
       "╞═══════════╪═══════════╪═══════════╪═══════════╪═══╪═══════════╪═══════════╪═══════════╪══════════╡\n",
       "│ 48.541298 ┆ -122.7272 ┆ 0.223994  ┆ 0         ┆ … ┆ [37.4,    ┆ [154,     ┆ [47.9,    ┆ Anacorte │\n",
       "│           ┆ 64        ┆           ┆           ┆   ┆ 36.7, …   ┆ 159, …    ┆ 48.6, …   ┆ s        │\n",
       "│           ┆           ┆           ┆           ┆   ┆ 7.0]      ┆ 12]       ┆ 10.1]     ┆          │\n",
       "│ 48.541298 ┆ -122.7272 ┆ 0.215054  ┆ 0         ┆ … ┆ [16.1,    ┆ [336,     ┆ [17.3,    ┆ Anacorte │\n",
       "│           ┆ 64        ┆           ┆           ┆   ┆ 19.4, …   ┆ 342, …    ┆ 23.0, …   ┆ s        │\n",
       "│           ┆           ┆           ┆           ┆   ┆ 33.1]     ┆ 147]      ┆ 42.8]     ┆          │\n",
       "│ 48.541298 ┆ -122.7272 ┆ 0.30005   ┆ 0         ┆ … ┆ [32.9,    ┆ [146,     ┆ [42.8,    ┆ Anacorte │\n",
       "│           ┆ 64        ┆           ┆           ┆   ┆ 35.2, …   ┆ 146, …    ┆ 45.7, …   ┆ s        │\n",
       "│           ┆           ┆           ┆           ┆   ┆ 18.2]     ┆ 120]      ┆ 21.6]     ┆          │\n",
       "│ 48.541298 ┆ -122.7272 ┆ 0.210047  ┆ 0         ┆ … ┆ [17.9,    ┆ [118,     ┆ [22.0,    ┆ Anacorte │\n",
       "│           ┆ 64        ┆           ┆           ┆   ┆ 16.6, …   ┆ 129, …    ┆ 20.9, …   ┆ s        │\n",
       "│           ┆           ┆           ┆           ┆   ┆ 16.3]     ┆ 229]      ┆ 21.2]     ┆          │\n",
       "│ 48.541298 ┆ -122.7272 ┆ 0.205994  ┆ 0         ┆ … ┆ [16.5,    ┆ [234,     ┆ [19.4,    ┆ Anacorte │\n",
       "│           ┆ 64        ┆           ┆           ┆   ┆ 17.7, …   ┆ 241, …    ┆ 22.0, …   ┆ s        │\n",
       "│           ┆           ┆           ┆           ┆   ┆ 14.8]     ┆ 225]      ┆ 16.2]     ┆          │\n",
       "└───────────┴───────────┴───────────┴───────────┴───┴───────────┴───────────┴───────────┴──────────┘"
      ]
     },
     "execution_count": 59,
     "metadata": {},
     "output_type": "execute_result"
    }
   ],
   "source": [
    "terminal_weather = (\n",
    "    pl.DataFrame(json_data)\n",
    "    .unnest(\"hourly\")\n",
    ")\n",
    "\n",
    "terminal_weather.head()"
   ]
  },
  {
   "cell_type": "code",
   "execution_count": 60,
   "metadata": {},
   "outputs": [
    {
     "data": {
      "text/html": [
       "<div><style>\n",
       ".dataframe > thead > tr,\n",
       ".dataframe > tbody > tr {\n",
       "  text-align: right;\n",
       "  white-space: pre-wrap;\n",
       "}\n",
       "</style>\n",
       "<small>shape: (75_840, 17)</small><table border=\"1\" class=\"dataframe\"><thead><tr><th>latitude</th><th>longitude</th><th>generationtime_ms</th><th>utc_offset_seconds</th><th>timezone</th><th>timezone_abbreviation</th><th>elevation</th><th>hourly_units</th><th>time</th><th>weather_code</th><th>temperature_2m</th><th>precipitation</th><th>cloud_cover</th><th>wind_speed_10m</th><th>wind_direction_10m</th><th>wind_gusts_10m</th><th>terminal_name</th></tr><tr><td>f64</td><td>f64</td><td>f64</td><td>i64</td><td>str</td><td>str</td><td>f64</td><td>struct[8]</td><td>str</td><td>i64</td><td>f64</td><td>f64</td><td>i64</td><td>f64</td><td>i64</td><td>f64</td><td>str</td></tr></thead><tbody><tr><td>48.541298</td><td>-122.727264</td><td>0.223994</td><td>0</td><td>&quot;GMT&quot;</td><td>&quot;GMT&quot;</td><td>0.0</td><td>{&quot;iso8601&quot;,&quot;wmo code&quot;,&quot;°C&quot;,&quot;mm&quot;,&quot;%&quot;,&quot;km/h&quot;,&quot;°&quot;,&quot;km/h&quot;}</td><td>&quot;2024-03-01T00:00&quot;</td><td>3</td><td>6.2</td><td>0.0</td><td>80</td><td>37.4</td><td>154</td><td>47.9</td><td>&quot;Anacortes&quot;</td></tr><tr><td>48.541298</td><td>-122.727264</td><td>0.223994</td><td>0</td><td>&quot;GMT&quot;</td><td>&quot;GMT&quot;</td><td>0.0</td><td>{&quot;iso8601&quot;,&quot;wmo code&quot;,&quot;°C&quot;,&quot;mm&quot;,&quot;%&quot;,&quot;km/h&quot;,&quot;°&quot;,&quot;km/h&quot;}</td><td>&quot;2024-03-01T01:00&quot;</td><td>51</td><td>5.9</td><td>0.1</td><td>94</td><td>36.7</td><td>159</td><td>48.6</td><td>&quot;Anacortes&quot;</td></tr><tr><td>48.541298</td><td>-122.727264</td><td>0.223994</td><td>0</td><td>&quot;GMT&quot;</td><td>&quot;GMT&quot;</td><td>0.0</td><td>{&quot;iso8601&quot;,&quot;wmo code&quot;,&quot;°C&quot;,&quot;mm&quot;,&quot;%&quot;,&quot;km/h&quot;,&quot;°&quot;,&quot;km/h&quot;}</td><td>&quot;2024-03-01T02:00&quot;</td><td>3</td><td>5.7</td><td>0.0</td><td>83</td><td>36.6</td><td>156</td><td>49.0</td><td>&quot;Anacortes&quot;</td></tr><tr><td>48.541298</td><td>-122.727264</td><td>0.223994</td><td>0</td><td>&quot;GMT&quot;</td><td>&quot;GMT&quot;</td><td>0.0</td><td>{&quot;iso8601&quot;,&quot;wmo code&quot;,&quot;°C&quot;,&quot;mm&quot;,&quot;%&quot;,&quot;km/h&quot;,&quot;°&quot;,&quot;km/h&quot;}</td><td>&quot;2024-03-01T03:00&quot;</td><td>1</td><td>5.1</td><td>0.0</td><td>40</td><td>40.9</td><td>152</td><td>54.7</td><td>&quot;Anacortes&quot;</td></tr><tr><td>48.541298</td><td>-122.727264</td><td>0.223994</td><td>0</td><td>&quot;GMT&quot;</td><td>&quot;GMT&quot;</td><td>0.0</td><td>{&quot;iso8601&quot;,&quot;wmo code&quot;,&quot;°C&quot;,&quot;mm&quot;,&quot;%&quot;,&quot;km/h&quot;,&quot;°&quot;,&quot;km/h&quot;}</td><td>&quot;2024-03-01T04:00&quot;</td><td>2</td><td>4.6</td><td>0.0</td><td>66</td><td>40.7</td><td>144</td><td>54.7</td><td>&quot;Anacortes&quot;</td></tr><tr><td>&hellip;</td><td>&hellip;</td><td>&hellip;</td><td>&hellip;</td><td>&hellip;</td><td>&hellip;</td><td>&hellip;</td><td>&hellip;</td><td>&hellip;</td><td>&hellip;</td><td>&hellip;</td><td>&hellip;</td><td>&hellip;</td><td>&hellip;</td><td>&hellip;</td><td>&hellip;</td><td>&hellip;</td></tr><tr><td>47.486816</td><td>-122.512314</td><td>0.174046</td><td>0</td><td>&quot;GMT&quot;</td><td>&quot;GMT&quot;</td><td>0.0</td><td>{&quot;iso8601&quot;,&quot;wmo code&quot;,&quot;°C&quot;,&quot;mm&quot;,&quot;%&quot;,&quot;km/h&quot;,&quot;°&quot;,&quot;km/h&quot;}</td><td>&quot;2024-08-05T19:00&quot;</td><td>0</td><td>24.5</td><td>0.0</td><td>0</td><td>8.0</td><td>190</td><td>25.9</td><td>&quot;Vashon Island&quot;</td></tr><tr><td>47.486816</td><td>-122.512314</td><td>0.174046</td><td>0</td><td>&quot;GMT&quot;</td><td>&quot;GMT&quot;</td><td>0.0</td><td>{&quot;iso8601&quot;,&quot;wmo code&quot;,&quot;°C&quot;,&quot;mm&quot;,&quot;%&quot;,&quot;km/h&quot;,&quot;°&quot;,&quot;km/h&quot;}</td><td>&quot;2024-08-05T20:00&quot;</td><td>0</td><td>26.7</td><td>0.0</td><td>0</td><td>7.2</td><td>198</td><td>25.9</td><td>&quot;Vashon Island&quot;</td></tr><tr><td>47.486816</td><td>-122.512314</td><td>0.174046</td><td>0</td><td>&quot;GMT&quot;</td><td>&quot;GMT&quot;</td><td>0.0</td><td>{&quot;iso8601&quot;,&quot;wmo code&quot;,&quot;°C&quot;,&quot;mm&quot;,&quot;%&quot;,&quot;km/h&quot;,&quot;°&quot;,&quot;km/h&quot;}</td><td>&quot;2024-08-05T21:00&quot;</td><td>0</td><td>28.6</td><td>0.0</td><td>0</td><td>6.6</td><td>193</td><td>25.2</td><td>&quot;Vashon Island&quot;</td></tr><tr><td>47.486816</td><td>-122.512314</td><td>0.174046</td><td>0</td><td>&quot;GMT&quot;</td><td>&quot;GMT&quot;</td><td>0.0</td><td>{&quot;iso8601&quot;,&quot;wmo code&quot;,&quot;°C&quot;,&quot;mm&quot;,&quot;%&quot;,&quot;km/h&quot;,&quot;°&quot;,&quot;km/h&quot;}</td><td>&quot;2024-08-05T22:00&quot;</td><td>0</td><td>29.7</td><td>0.0</td><td>0</td><td>5.4</td><td>188</td><td>24.5</td><td>&quot;Vashon Island&quot;</td></tr><tr><td>47.486816</td><td>-122.512314</td><td>0.174046</td><td>0</td><td>&quot;GMT&quot;</td><td>&quot;GMT&quot;</td><td>0.0</td><td>{&quot;iso8601&quot;,&quot;wmo code&quot;,&quot;°C&quot;,&quot;mm&quot;,&quot;%&quot;,&quot;km/h&quot;,&quot;°&quot;,&quot;km/h&quot;}</td><td>&quot;2024-08-05T23:00&quot;</td><td>0</td><td>30.1</td><td>0.0</td><td>0</td><td>5.9</td><td>191</td><td>22.0</td><td>&quot;Vashon Island&quot;</td></tr></tbody></table></div>"
      ],
      "text/plain": [
       "shape: (75_840, 17)\n",
       "┌───────────┬───────────┬───────────┬───────────┬───┬───────────┬───────────┬───────────┬──────────┐\n",
       "│ latitude  ┆ longitude ┆ generatio ┆ utc_offse ┆ … ┆ wind_spee ┆ wind_dire ┆ wind_gust ┆ terminal │\n",
       "│ ---       ┆ ---       ┆ ntime_ms  ┆ t_seconds ┆   ┆ d_10m     ┆ ction_10m ┆ s_10m     ┆ _name    │\n",
       "│ f64       ┆ f64       ┆ ---       ┆ ---       ┆   ┆ ---       ┆ ---       ┆ ---       ┆ ---      │\n",
       "│           ┆           ┆ f64       ┆ i64       ┆   ┆ f64       ┆ i64       ┆ f64       ┆ str      │\n",
       "╞═══════════╪═══════════╪═══════════╪═══════════╪═══╪═══════════╪═══════════╪═══════════╪══════════╡\n",
       "│ 48.541298 ┆ -122.7272 ┆ 0.223994  ┆ 0         ┆ … ┆ 37.4      ┆ 154       ┆ 47.9      ┆ Anacorte │\n",
       "│           ┆ 64        ┆           ┆           ┆   ┆           ┆           ┆           ┆ s        │\n",
       "│ 48.541298 ┆ -122.7272 ┆ 0.223994  ┆ 0         ┆ … ┆ 36.7      ┆ 159       ┆ 48.6      ┆ Anacorte │\n",
       "│           ┆ 64        ┆           ┆           ┆   ┆           ┆           ┆           ┆ s        │\n",
       "│ 48.541298 ┆ -122.7272 ┆ 0.223994  ┆ 0         ┆ … ┆ 36.6      ┆ 156       ┆ 49.0      ┆ Anacorte │\n",
       "│           ┆ 64        ┆           ┆           ┆   ┆           ┆           ┆           ┆ s        │\n",
       "│ 48.541298 ┆ -122.7272 ┆ 0.223994  ┆ 0         ┆ … ┆ 40.9      ┆ 152       ┆ 54.7      ┆ Anacorte │\n",
       "│           ┆ 64        ┆           ┆           ┆   ┆           ┆           ┆           ┆ s        │\n",
       "│ 48.541298 ┆ -122.7272 ┆ 0.223994  ┆ 0         ┆ … ┆ 40.7      ┆ 144       ┆ 54.7      ┆ Anacorte │\n",
       "│           ┆ 64        ┆           ┆           ┆   ┆           ┆           ┆           ┆ s        │\n",
       "│ …         ┆ …         ┆ …         ┆ …         ┆ … ┆ …         ┆ …         ┆ …         ┆ …        │\n",
       "│ 47.486816 ┆ -122.5123 ┆ 0.174046  ┆ 0         ┆ … ┆ 8.0       ┆ 190       ┆ 25.9      ┆ Vashon   │\n",
       "│           ┆ 14        ┆           ┆           ┆   ┆           ┆           ┆           ┆ Island   │\n",
       "│ 47.486816 ┆ -122.5123 ┆ 0.174046  ┆ 0         ┆ … ┆ 7.2       ┆ 198       ┆ 25.9      ┆ Vashon   │\n",
       "│           ┆ 14        ┆           ┆           ┆   ┆           ┆           ┆           ┆ Island   │\n",
       "│ 47.486816 ┆ -122.5123 ┆ 0.174046  ┆ 0         ┆ … ┆ 6.6       ┆ 193       ┆ 25.2      ┆ Vashon   │\n",
       "│           ┆ 14        ┆           ┆           ┆   ┆           ┆           ┆           ┆ Island   │\n",
       "│ 47.486816 ┆ -122.5123 ┆ 0.174046  ┆ 0         ┆ … ┆ 5.4       ┆ 188       ┆ 24.5      ┆ Vashon   │\n",
       "│           ┆ 14        ┆           ┆           ┆   ┆           ┆           ┆           ┆ Island   │\n",
       "│ 47.486816 ┆ -122.5123 ┆ 0.174046  ┆ 0         ┆ … ┆ 5.9       ┆ 191       ┆ 22.0      ┆ Vashon   │\n",
       "│           ┆ 14        ┆           ┆           ┆   ┆           ┆           ┆           ┆ Island   │\n",
       "└───────────┴───────────┴───────────┴───────────┴───┴───────────┴───────────┴───────────┴──────────┘"
      ]
     },
     "execution_count": 60,
     "metadata": {},
     "output_type": "execute_result"
    }
   ],
   "source": [
    "terminal_weather = (\n",
    "    terminal_weather\n",
    "    .explode(\n",
    "        \"time\",\n",
    "        \"weather_code\",\n",
    "        \"temperature_2m\",\n",
    "        \"precipitation\",\n",
    "        \"cloud_cover\",\n",
    "        \"wind_speed_10m\",\n",
    "        \"wind_direction_10m\",\n",
    "        \"wind_gusts_10m\",\n",
    "    )\n",
    ")\n",
    "\n",
    "terminal_weather"
   ]
  },
  {
   "cell_type": "markdown",
   "metadata": {},
   "source": [
    "Drop the hourly_units field, they may not write to the database correctly and we do not need it."
   ]
  },
  {
   "cell_type": "code",
   "execution_count": 61,
   "metadata": {
    "tags": []
   },
   "outputs": [
    {
     "data": {
      "text/html": [
       "<div><style>\n",
       ".dataframe > thead > tr,\n",
       ".dataframe > tbody > tr {\n",
       "  text-align: right;\n",
       "  white-space: pre-wrap;\n",
       "}\n",
       "</style>\n",
       "<small>shape: (5, 16)</small><table border=\"1\" class=\"dataframe\"><thead><tr><th>latitude</th><th>longitude</th><th>generationtime_ms</th><th>utc_offset_seconds</th><th>timezone</th><th>timezone_abbreviation</th><th>elevation</th><th>time</th><th>weather_code</th><th>temperature_2m</th><th>precipitation</th><th>cloud_cover</th><th>wind_speed_10m</th><th>wind_direction_10m</th><th>wind_gusts_10m</th><th>terminal_name</th></tr><tr><td>f64</td><td>f64</td><td>f64</td><td>i64</td><td>str</td><td>str</td><td>f64</td><td>str</td><td>i64</td><td>f64</td><td>f64</td><td>i64</td><td>f64</td><td>i64</td><td>f64</td><td>str</td></tr></thead><tbody><tr><td>48.541298</td><td>-122.727264</td><td>0.223994</td><td>0</td><td>&quot;GMT&quot;</td><td>&quot;GMT&quot;</td><td>0.0</td><td>&quot;2024-03-01T00:00&quot;</td><td>3</td><td>6.2</td><td>0.0</td><td>80</td><td>37.4</td><td>154</td><td>47.9</td><td>&quot;Anacortes&quot;</td></tr><tr><td>48.541298</td><td>-122.727264</td><td>0.223994</td><td>0</td><td>&quot;GMT&quot;</td><td>&quot;GMT&quot;</td><td>0.0</td><td>&quot;2024-03-01T01:00&quot;</td><td>51</td><td>5.9</td><td>0.1</td><td>94</td><td>36.7</td><td>159</td><td>48.6</td><td>&quot;Anacortes&quot;</td></tr><tr><td>48.541298</td><td>-122.727264</td><td>0.223994</td><td>0</td><td>&quot;GMT&quot;</td><td>&quot;GMT&quot;</td><td>0.0</td><td>&quot;2024-03-01T02:00&quot;</td><td>3</td><td>5.7</td><td>0.0</td><td>83</td><td>36.6</td><td>156</td><td>49.0</td><td>&quot;Anacortes&quot;</td></tr><tr><td>48.541298</td><td>-122.727264</td><td>0.223994</td><td>0</td><td>&quot;GMT&quot;</td><td>&quot;GMT&quot;</td><td>0.0</td><td>&quot;2024-03-01T03:00&quot;</td><td>1</td><td>5.1</td><td>0.0</td><td>40</td><td>40.9</td><td>152</td><td>54.7</td><td>&quot;Anacortes&quot;</td></tr><tr><td>48.541298</td><td>-122.727264</td><td>0.223994</td><td>0</td><td>&quot;GMT&quot;</td><td>&quot;GMT&quot;</td><td>0.0</td><td>&quot;2024-03-01T04:00&quot;</td><td>2</td><td>4.6</td><td>0.0</td><td>66</td><td>40.7</td><td>144</td><td>54.7</td><td>&quot;Anacortes&quot;</td></tr></tbody></table></div>"
      ],
      "text/plain": [
       "shape: (5, 16)\n",
       "┌───────────┬───────────┬───────────┬───────────┬───┬───────────┬───────────┬───────────┬──────────┐\n",
       "│ latitude  ┆ longitude ┆ generatio ┆ utc_offse ┆ … ┆ wind_spee ┆ wind_dire ┆ wind_gust ┆ terminal │\n",
       "│ ---       ┆ ---       ┆ ntime_ms  ┆ t_seconds ┆   ┆ d_10m     ┆ ction_10m ┆ s_10m     ┆ _name    │\n",
       "│ f64       ┆ f64       ┆ ---       ┆ ---       ┆   ┆ ---       ┆ ---       ┆ ---       ┆ ---      │\n",
       "│           ┆           ┆ f64       ┆ i64       ┆   ┆ f64       ┆ i64       ┆ f64       ┆ str      │\n",
       "╞═══════════╪═══════════╪═══════════╪═══════════╪═══╪═══════════╪═══════════╪═══════════╪══════════╡\n",
       "│ 48.541298 ┆ -122.7272 ┆ 0.223994  ┆ 0         ┆ … ┆ 37.4      ┆ 154       ┆ 47.9      ┆ Anacorte │\n",
       "│           ┆ 64        ┆           ┆           ┆   ┆           ┆           ┆           ┆ s        │\n",
       "│ 48.541298 ┆ -122.7272 ┆ 0.223994  ┆ 0         ┆ … ┆ 36.7      ┆ 159       ┆ 48.6      ┆ Anacorte │\n",
       "│           ┆ 64        ┆           ┆           ┆   ┆           ┆           ┆           ┆ s        │\n",
       "│ 48.541298 ┆ -122.7272 ┆ 0.223994  ┆ 0         ┆ … ┆ 36.6      ┆ 156       ┆ 49.0      ┆ Anacorte │\n",
       "│           ┆ 64        ┆           ┆           ┆   ┆           ┆           ┆           ┆ s        │\n",
       "│ 48.541298 ┆ -122.7272 ┆ 0.223994  ┆ 0         ┆ … ┆ 40.9      ┆ 152       ┆ 54.7      ┆ Anacorte │\n",
       "│           ┆ 64        ┆           ┆           ┆   ┆           ┆           ┆           ┆ s        │\n",
       "│ 48.541298 ┆ -122.7272 ┆ 0.223994  ┆ 0         ┆ … ┆ 40.7      ┆ 144       ┆ 54.7      ┆ Anacorte │\n",
       "│           ┆ 64        ┆           ┆           ┆   ┆           ┆           ┆           ┆ s        │\n",
       "└───────────┴───────────┴───────────┴───────────┴───┴───────────┴───────────┴───────────┴──────────┘"
      ]
     },
     "execution_count": 61,
     "metadata": {},
     "output_type": "execute_result"
    }
   ],
   "source": [
    "terminal_weather = terminal_weather.select(\n",
    "    pl.col(\"*\").exclude(\"hourly_units\")\n",
    ")\n",
    "\n",
    "terminal_weather.head()"
   ]
  },
  {
   "cell_type": "code",
   "execution_count": 62,
   "metadata": {
    "tags": []
   },
   "outputs": [
    {
     "data": {
      "text/plain": [
       "75840"
      ]
     },
     "execution_count": 62,
     "metadata": {},
     "output_type": "execute_result"
    }
   ],
   "source": [
    "# Write to the database\n",
    "terminal_weather.write_database(\n",
    "    table_name=f\"{username}_terminal_weather_raw\",\n",
    "    connection=uri,\n",
    "    engine=\"adbc\",\n",
    "    if_table_exists='replace'\n",
    ")"
   ]
  },
  {
   "cell_type": "markdown",
   "metadata": {},
   "source": [
    "## Task 4 - Publish the solution notebook to Connect"
   ]
  },
  {
   "cell_type": "markdown",
   "metadata": {},
   "source": [
    "### 🔄 Task"
   ]
  },
  {
   "cell_type": "markdown",
   "metadata": {},
   "source": [
    "- Publish the solution notebook to Posit Connect.\n",
    "- Share the notebook with the rest of the workshop.\n",
    "- Schedule the notebook to run once every week."
   ]
  },
  {
   "cell_type": "markdown",
   "metadata": {},
   "source": [
    "### 🧑‍💻 Code"
   ]
  },
  {
   "cell_type": "markdown",
   "metadata": {},
   "source": [
    "Run the following to deploy the notebook to Connect:\n",
    "\n",
    "```bash\n",
    "source .env\n",
    "\n",
    "# Check if your Connect environment variables are set\n",
    "echo $CONNECT_SERVER\n",
    "echo $CONNECT_API_KEY\n",
    "\n",
    "# Check that you have the required environment variables set\n",
    "echo $DATABASE_URI_PYTHON \n",
    "echo $WSDOT_ACCESS_CODE\n",
    "\n",
    "# Publish the notebook\n",
    "rsconnect deploy notebook --title \"Seattle Ferries #1 - Raw data\" -E WSDOT_ACCESS_CODE notebook.ipynb\n",
    "```\n",
    "\n",
    "After the deployment is successful:\n",
    "\n",
    "- Share the notebook with the person beside you.\n",
    "- Schedule the notebook to run once every week."
   ]
  },
  {
   "cell_type": "code",
   "execution_count": 63,
   "metadata": {
    "tags": []
   },
   "outputs": [
    {
     "name": "stdout",
     "output_type": "stream",
     "text": [
      "Notebook complete ✅\n"
     ]
    }
   ],
   "source": [
    "print(\"Notebook complete ✅\")"
   ]
  },
  {
   "cell_type": "code",
   "execution_count": null,
   "metadata": {},
   "outputs": [],
   "source": []
  }
 ],
 "metadata": {
  "kernelspec": {
   "display_name": ".venv",
   "language": "python",
   "name": "python3"
  },
  "language_info": {
   "codemirror_mode": {
    "name": "ipython",
    "version": 3
   },
   "file_extension": ".py",
   "mimetype": "text/x-python",
   "name": "python",
   "nbconvert_exporter": "python",
   "pygments_lexer": "ipython3",
   "version": "3.12.3"
  }
 },
 "nbformat": 4,
 "nbformat_minor": 4
}
